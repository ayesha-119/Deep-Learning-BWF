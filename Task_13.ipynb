{
  "nbformat": 4,
  "nbformat_minor": 0,
  "metadata": {
    "colab": {
      "provenance": [],
      "authorship_tag": "ABX9TyO3pBQyVhNa7bBPyBMeYiPA",
      "include_colab_link": true
    },
    "kernelspec": {
      "name": "python3",
      "display_name": "Python 3"
    },
    "language_info": {
      "name": "python"
    }
  },
  "cells": [
    {
      "cell_type": "markdown",
      "metadata": {
        "id": "view-in-github",
        "colab_type": "text"
      },
      "source": [
        "<a href=\"https://colab.research.google.com/github/ayesha-119/Deep-Learning-BWF/blob/master/Task_13.ipynb\" target=\"_parent\"><img src=\"https://colab.research.google.com/assets/colab-badge.svg\" alt=\"Open In Colab\"/></a>"
      ]
    },
    {
      "cell_type": "markdown",
      "source": [
        "# **🔴 Task 13**\n",
        "\n",
        "**Topics: Starting with Pandas, Series and DataFrame**\n",
        "\n",
        "Resource: https://drive.google.com/file/d/1ILp88f3u_KgJ_nlhTSsAVGdmZlICGhhd/view?usp=share_link"
      ],
      "metadata": {
        "id": "4k1LzS9ZbsNU"
      }
    },
    {
      "cell_type": "markdown",
      "source": [
        "**Creating a Pandas Series**\n",
        "\n",
        "To create a Pandas Series, we can pass a list of data and an optional list of index labels to the pd.Series() function. Here's an example:"
      ],
      "metadata": {
        "id": "naN-jMCsJZug"
      }
    },
    {
      "cell_type": "code",
      "execution_count": 9,
      "metadata": {
        "id": "6SyFV8czbqx6",
        "colab": {
          "base_uri": "https://localhost:8080/"
        },
        "outputId": "7d5347ec-c3c4-4ac0-f6ef-693973823c43"
      },
      "outputs": [
        {
          "output_type": "stream",
          "name": "stdout",
          "text": [
            "a    1\n",
            "b    2\n",
            "c    3\n",
            "d    4\n",
            "e    5\n",
            "dtype: int64\n",
            "[1 2 3 4 5]\n",
            "Index(['a', 'b', 'c', 'd', 'e'], dtype='object')\n"
          ]
        }
      ],
      "source": [
        "import pandas as pd\n",
        "data = [1,2,3,4,5]\n",
        "index = ['a', 'b', 'c', 'd', 'e']\n",
        "s = pd.Series(data, index=index)\n",
        "print(s)\n",
        "print(s.values)\n",
        "print(s.index)\n"
      ]
    },
    {
      "cell_type": "markdown",
      "source": [
        "**creating a Series from the dictionary**"
      ],
      "metadata": {
        "id": "ix5mH4UBQQwo"
      }
    },
    {
      "cell_type": "code",
      "source": [
        "# create a Series from a dictionary\n",
        "dict = {'apple':5,\n",
        "        'peach' : 9,\n",
        "        'banana' : 10,\n",
        "        'mango':1}\n",
        "s1 = pd.Series(dict) # keys of the dictionary are used as the index labels and the values of the dictionary are used as the values in the Series"
      ],
      "metadata": {
        "id": "5WAP6S7AQP3C"
      },
      "execution_count": 22,
      "outputs": []
    },
    {
      "cell_type": "markdown",
      "source": [
        "**Altering series index**"
      ],
      "metadata": {
        "id": "Afj0XhA-SikO"
      }
    },
    {
      "cell_type": "code",
      "source": [
        "# Create a series\n",
        "s = pd.Series([10,20,30,40,50], index=['a','b','c','d','e'])\n",
        "\n",
        "# Print the series\n",
        "print(s)\n",
        "\n",
        "# Alter the series index in-place\n",
        "s.index = [1,2,3,4,5]\n",
        "\n",
        "# Print the series\n",
        "print(\"Series  with modified Index: \")\n",
        "print(s)\n"
      ],
      "metadata": {
        "colab": {
          "base_uri": "https://localhost:8080/"
        },
        "id": "o1oreWL4Smgl",
        "outputId": "1e89d12f-9bb6-4cff-ef10-fec8eed64255"
      },
      "execution_count": 25,
      "outputs": [
        {
          "output_type": "stream",
          "name": "stdout",
          "text": [
            "a    10\n",
            "b    20\n",
            "c    30\n",
            "d    40\n",
            "e    50\n",
            "dtype: int64\n",
            "Series  with modified Index: \n",
            "1    10\n",
            "2    20\n",
            "3    30\n",
            "4    40\n",
            "5    50\n",
            "dtype: int64\n"
          ]
        }
      ]
    },
    {
      "cell_type": "markdown",
      "source": [
        "**Accessing elements in a Pandas Series**\n",
        "\n",
        " We can access elements in a Pandas Series using their index labels or positions. To access an element by label, we can use the ***loc*** attribute. To access an element by position, we can use the ***iloc*** attribute."
      ],
      "metadata": {
        "id": "H2NaA3ceLQUf"
      }
    },
    {
      "cell_type": "code",
      "source": [
        "# access element by label\n",
        "print(s.loc['a'])  \n",
        "\n",
        "# access element by position\n",
        "print(s.iloc[0])  "
      ],
      "metadata": {
        "colab": {
          "base_uri": "https://localhost:8080/"
        },
        "id": "Heh9qjaNLmho",
        "outputId": "f9eb8ff1-037b-4a3b-a754-c6e6cc436c5b"
      },
      "execution_count": 13,
      "outputs": [
        {
          "output_type": "stream",
          "name": "stdout",
          "text": [
            "1\n",
            "1\n"
          ]
        }
      ]
    },
    {
      "cell_type": "markdown",
      "source": [
        "**Basic Operations with Pandas Series**"
      ],
      "metadata": {
        "id": "Tzci4Sr3MZiI"
      }
    },
    {
      "cell_type": "code",
      "source": [
        "s1 = pd.Series([5,4,3,2,1])\n",
        "s2 = pd.Series([1,2,3,4,5])\n",
        "\n",
        "# addition\n",
        "print(s1 + s2)\n",
        "# substraction\n",
        "print(s2 - s1)\n",
        "# multiplication\n",
        "print (s2 * s1)"
      ],
      "metadata": {
        "colab": {
          "base_uri": "https://localhost:8080/"
        },
        "id": "mNRftvLXMgKp",
        "outputId": "436a5147-ed55-4aa7-9cc1-376cedbedd95"
      },
      "execution_count": 17,
      "outputs": [
        {
          "output_type": "stream",
          "name": "stdout",
          "text": [
            "0    6\n",
            "1    6\n",
            "2    6\n",
            "3    6\n",
            "4    6\n",
            "dtype: int64\n",
            "0   -4\n",
            "1   -2\n",
            "2    0\n",
            "3    2\n",
            "4    4\n",
            "dtype: int64\n",
            "0    5\n",
            "1    8\n",
            "2    9\n",
            "3    8\n",
            "4    5\n",
            "dtype: int64\n"
          ]
        }
      ]
    },
    {
      "cell_type": "markdown",
      "source": [
        "**Slicing a Pandas Series**\n",
        "\n",
        "We can slice a Pandas Series to select a subset of data. To slice a Series, we can use the [] operator."
      ],
      "metadata": {
        "id": "VP_5MhArPVXd"
      }
    },
    {
      "cell_type": "code",
      "source": [
        "# slice the Series using index labels\n",
        "print (s['b' : 'd'])\n",
        "\n",
        "# slice the Series using positions\n",
        "print(s[2:])"
      ],
      "metadata": {
        "colab": {
          "base_uri": "https://localhost:8080/"
        },
        "id": "lkzyKvgSPiTZ",
        "outputId": "044bec7d-3376-4207-c9f2-8e6f3d63813d"
      },
      "execution_count": 20,
      "outputs": [
        {
          "output_type": "stream",
          "name": "stdout",
          "text": [
            "b    2\n",
            "c    3\n",
            "d    4\n",
            "dtype: int64\n",
            "c    3\n",
            "d    4\n",
            "e    5\n",
            "dtype: int64\n"
          ]
        }
      ]
    },
    {
      "cell_type": "markdown",
      "source": [
        "**Automatic Alignment of Series by Index Labels in Pandas**"
      ],
      "metadata": {
        "id": "VxxSQemxT4Op"
      }
    },
    {
      "cell_type": "code",
      "source": [
        "# Create two series with different index labels\n",
        "s1 = pd.Series([65,55,45,35,25], index= ['a', 'b' ,'c', 'd', 'e'])\n",
        "s2 = pd.Series([10,20,30], index = ['b', 'c', 'd'])\n",
        "\n",
        "# Add the two series together\n",
        "s3 = s1 + s2\n",
        "\n",
        "# Print the resulting series\n",
        "print(s3)"
      ],
      "metadata": {
        "colab": {
          "base_uri": "https://localhost:8080/"
        },
        "id": "DYyK4n_9T3YS",
        "outputId": "c30cc842-ce27-4ec4-cc29-2f0c2e1dc991"
      },
      "execution_count": 27,
      "outputs": [
        {
          "output_type": "stream",
          "name": "stdout",
          "text": [
            "a     NaN\n",
            "b    65.0\n",
            "c    65.0\n",
            "d    65.0\n",
            "e     NaN\n",
            "dtype: float64\n"
          ]
        }
      ]
    },
    {
      "cell_type": "markdown",
      "source": [
        "# **DataFrame in Pandas**"
      ],
      "metadata": {
        "id": "BcYvVDWcU3-I"
      }
    },
    {
      "cell_type": "markdown",
      "source": [
        "**Creating a DataFrame**"
      ],
      "metadata": {
        "id": "ET2YCZZRXudN"
      }
    },
    {
      "cell_type": "markdown",
      "source": [
        "**1- From a dictionary of lists**"
      ],
      "metadata": {
        "id": "awvoyHueX1R7"
      }
    },
    {
      "cell_type": "code",
      "source": [
        "import pandas as pd\n",
        "\n",
        "dict = {'name':['John', 'Jane', 'Bob'],\n",
        "    'age' : [30, 25, 40],\n",
        "    'city' : ['New York', 'San Francisco', 'Chicago']}\n",
        "\n",
        "# Create a DataFrame from the dictionary\n",
        "frame = pd.DataFrame(dict)\n",
        "\n",
        "# Print the DataFrame\n",
        "print(frame)"
      ],
      "metadata": {
        "colab": {
          "base_uri": "https://localhost:8080/"
        },
        "id": "PR5NH9HHX7xI",
        "outputId": "abc09af3-09b9-4523-b519-62e8260ada1d"
      },
      "execution_count": 31,
      "outputs": [
        {
          "output_type": "stream",
          "name": "stdout",
          "text": [
            "   name  age           city\n",
            "0  John   30       New York\n",
            "1  Jane   25  San Francisco\n",
            "2   Bob   40        Chicago\n"
          ]
        }
      ]
    },
    {
      "cell_type": "markdown",
      "source": [
        "**2- From a list of dictionaries**"
      ],
      "metadata": {
        "id": "QdzwjBNiZSEa"
      }
    },
    {
      "cell_type": "code",
      "source": [
        "# Create a list of dictionaries\n",
        "list = [{'name' : 'adam', 'age' : 25, 'city' : 'sans fransisco'},\n",
        "        {'name' : 'adam', 'age' : 25, 'city' : 'chicage'},\n",
        "        {'name' : 'adam', 'age' : 25, 'city' : 'new york'}]\n",
        "\n",
        "# Create a DataFrame from the list\n",
        "frame = pd.DataFrame(list)\n",
        "\n",
        "# Print the DataFrame\n",
        "print(frame)"
      ],
      "metadata": {
        "colab": {
          "base_uri": "https://localhost:8080/"
        },
        "id": "87oMq4zIZWE9",
        "outputId": "350c0384-8d8a-440d-fabb-d7fd02074ded"
      },
      "execution_count": 36,
      "outputs": [
        {
          "output_type": "stream",
          "name": "stdout",
          "text": [
            "   name  age            city\n",
            "0  adam   25  sans fransisco\n",
            "1  adam   25         chicage\n",
            "2  adam   25        new york\n"
          ]
        }
      ]
    },
    {
      "cell_type": "markdown",
      "source": [
        "**From a CSV file**"
      ],
      "metadata": {
        "id": "WFY2dbQxaa9I"
      }
    },
    {
      "cell_type": "code",
      "source": [
        "# Load a CSV file into a DataFrame\n",
        "frame = pd.read_csv(\"/content/sample_data/california_housing_test.csv\")\n",
        "\n",
        "# Print the DataFrame\n",
        "print(frame)"
      ],
      "metadata": {
        "colab": {
          "base_uri": "https://localhost:8080/"
        },
        "id": "ngI0fu06adh8",
        "outputId": "5dc5a421-761d-45e9-92a4-98c2721cbd03"
      },
      "execution_count": 38,
      "outputs": [
        {
          "output_type": "stream",
          "name": "stdout",
          "text": [
            "      longitude  latitude  housing_median_age  total_rooms  total_bedrooms  \\\n",
            "0       -122.05     37.37                27.0       3885.0           661.0   \n",
            "1       -118.30     34.26                43.0       1510.0           310.0   \n",
            "2       -117.81     33.78                27.0       3589.0           507.0   \n",
            "3       -118.36     33.82                28.0         67.0            15.0   \n",
            "4       -119.67     36.33                19.0       1241.0           244.0   \n",
            "...         ...       ...                 ...          ...             ...   \n",
            "2995    -119.86     34.42                23.0       1450.0           642.0   \n",
            "2996    -118.14     34.06                27.0       5257.0          1082.0   \n",
            "2997    -119.70     36.30                10.0        956.0           201.0   \n",
            "2998    -117.12     34.10                40.0         96.0            14.0   \n",
            "2999    -119.63     34.42                42.0       1765.0           263.0   \n",
            "\n",
            "      population  households  median_income  median_house_value  \n",
            "0         1537.0       606.0         6.6085            344700.0  \n",
            "1          809.0       277.0         3.5990            176500.0  \n",
            "2         1484.0       495.0         5.7934            270500.0  \n",
            "3           49.0        11.0         6.1359            330000.0  \n",
            "4          850.0       237.0         2.9375             81700.0  \n",
            "...          ...         ...            ...                 ...  \n",
            "2995      1258.0       607.0         1.1790            225000.0  \n",
            "2996      3496.0      1036.0         3.3906            237200.0  \n",
            "2997       693.0       220.0         2.2895             62000.0  \n",
            "2998        46.0        14.0         3.2708            162500.0  \n",
            "2999       753.0       260.0         8.5608            500001.0  \n",
            "\n",
            "[3000 rows x 9 columns]\n"
          ]
        }
      ]
    },
    {
      "cell_type": "markdown",
      "source": [
        "# **Accessing Data in a DataFrame**"
      ],
      "metadata": {
        "id": "g06F4FAAa2Jz"
      }
    },
    {
      "cell_type": "markdown",
      "source": [
        "**Accessing columns**"
      ],
      "metadata": {
        "id": "sVfjDdEYa-GT"
      }
    },
    {
      "cell_type": "code",
      "source": [
        "# Create a DataFrame\n",
        "data = {'name':['John', 'Jane', 'Bob'],\n",
        "    'age' : [30, 25, 40],\n",
        "    'city' : ['New York', 'San Francisco', 'Chicago']}\n",
        "\n",
        "df = pd.DataFrame(data)\n",
        "# Access a column by name\n",
        "print(df['name'])"
      ],
      "metadata": {
        "colab": {
          "base_uri": "https://localhost:8080/"
        },
        "id": "A8ARmyZea_nj",
        "outputId": "b2138698-8f3d-43c7-f379-582d2e6342ee"
      },
      "execution_count": 39,
      "outputs": [
        {
          "output_type": "stream",
          "name": "stdout",
          "text": [
            "0    John\n",
            "1    Jane\n",
            "2     Bob\n",
            "Name: name, dtype: object\n"
          ]
        }
      ]
    },
    {
      "cell_type": "markdown",
      "source": [
        "**Accessing rows**"
      ],
      "metadata": {
        "id": "2fvwwutzblqD"
      }
    },
    {
      "cell_type": "code",
      "source": [
        "# Create a DataFrame\n",
        "data = {'name': ['John', 'Jane', 'Bob'],\n",
        "        'age': [30, 25, 40],\n",
        "        'city': ['New York', 'San Francisco', 'Chicago']}\n",
        "df = pd.DataFrame(data)\n",
        "\n",
        "# Access a row by index\n",
        "print(df.loc[2])"
      ],
      "metadata": {
        "colab": {
          "base_uri": "https://localhost:8080/"
        },
        "id": "zW1uZoQrbnJy",
        "outputId": "25c5dec1-29ae-4720-ab9d-4d28c1f910d6"
      },
      "execution_count": 40,
      "outputs": [
        {
          "output_type": "stream",
          "name": "stdout",
          "text": [
            "name        Bob\n",
            "age          40\n",
            "city    Chicago\n",
            "Name: 2, dtype: object\n"
          ]
        }
      ]
    },
    {
      "cell_type": "markdown",
      "source": [
        "**Accessing cells**"
      ],
      "metadata": {
        "id": "axDidHaBb23S"
      }
    },
    {
      "cell_type": "code",
      "source": [
        "# Create a DataFrame\n",
        "data = {'name': ['John', 'Jane', 'Bob'],\n",
        "        'age': [30, 25, 40],\n",
        "        'city': ['New York', 'San Francisco', 'Chicago']}\n",
        "df = pd.DataFrame(data)\n",
        "\n",
        "# Access a cell by row and column\n",
        "print(df.loc[1, 'name'])"
      ],
      "metadata": {
        "colab": {
          "base_uri": "https://localhost:8080/"
        },
        "id": "cMRGH1QPb8kD",
        "outputId": "a666dff8-f1a9-4484-a87f-837211aaf95c"
      },
      "execution_count": 42,
      "outputs": [
        {
          "output_type": "stream",
          "name": "stdout",
          "text": [
            "Jane\n"
          ]
        }
      ]
    },
    {
      "cell_type": "markdown",
      "source": [
        "# **Modifying Data in a DataFrame**"
      ],
      "metadata": {
        "id": "6QthgS5_cQRe"
      }
    },
    {
      "cell_type": "markdown",
      "source": [
        "**Adding a column**"
      ],
      "metadata": {
        "id": "rC_aEnczcUzp"
      }
    },
    {
      "cell_type": "code",
      "source": [
        "import pandas as pd\n",
        "\n",
        "# Create a DataFrame\n",
        "data = {'name': ['John', 'Jane', 'Bob'],\n",
        "        'age': [30, 25, 40],\n",
        "        'city': ['New York', 'San Francisco', 'Chicago']}\n",
        "df = pd.DataFrame(data)\n",
        "\n",
        "# Add a new column\n",
        "df['state'] = ['NY', 'CA', 'IL']\n",
        "\n",
        "# print a DataFrame\n",
        "print(df)"
      ],
      "metadata": {
        "colab": {
          "base_uri": "https://localhost:8080/"
        },
        "id": "OQrlvg7RcZjL",
        "outputId": "9378e93d-6036-4119-a52d-a6ecacd3edb9"
      },
      "execution_count": 43,
      "outputs": [
        {
          "output_type": "stream",
          "name": "stdout",
          "text": [
            "   name  age           city state\n",
            "0  John   30       New York    NY\n",
            "1  Jane   25  San Francisco    CA\n",
            "2   Bob   40        Chicago    IL\n"
          ]
        }
      ]
    },
    {
      "cell_type": "markdown",
      "source": [
        "**Updating a column**"
      ],
      "metadata": {
        "id": "npr1s7T7c4kj"
      }
    },
    {
      "cell_type": "code",
      "source": [
        "# Create a DataFrame\n",
        "data = {'name': ['John', 'Jane', 'Bob'],\n",
        "        'age': [30, 25, 40],\n",
        "        'city': ['New York', 'San Francisco', 'Chicago']}\n",
        "df = pd.DataFrame(data)\n",
        "\n",
        "# Update a column\n",
        "df['name'] = ['Adam', 'Alice', 'Sophia']\n",
        "\n",
        "# print a DataFrame\n",
        "print(df)"
      ],
      "metadata": {
        "colab": {
          "base_uri": "https://localhost:8080/"
        },
        "id": "rycVqo1Sc9Gc",
        "outputId": "69ae7bf8-b533-4491-9721-c8275872d08e"
      },
      "execution_count": 45,
      "outputs": [
        {
          "output_type": "stream",
          "name": "stdout",
          "text": [
            "     name  age           city\n",
            "0    Adam   30       New York\n",
            "1   Alice   25  San Francisco\n",
            "2  Sophia   40        Chicago\n"
          ]
        }
      ]
    },
    {
      "cell_type": "markdown",
      "source": [
        "**Removing a column**"
      ],
      "metadata": {
        "id": "130-IAlSdXsr"
      }
    },
    {
      "cell_type": "code",
      "source": [
        "import pandas as pd\n",
        "\n",
        "# Create a DataFrame\n",
        "data = {'name': ['John', 'Jane', 'Bob'],\n",
        "        'age': [30, 25, 40],\n",
        "        'city': ['New York', 'San Francisco', 'Chicago']}\n",
        "df = pd.DataFrame(data)\n",
        "\n",
        "# Remove a column\n",
        "df = df.drop('age', axis= 1)\n",
        "\n",
        "# print the DataFrame\n",
        "print(df)"
      ],
      "metadata": {
        "colab": {
          "base_uri": "https://localhost:8080/"
        },
        "id": "pVXadX0Qdc4X",
        "outputId": "393f0897-cc8a-4c42-f841-c5f28114a6dc"
      },
      "execution_count": 47,
      "outputs": [
        {
          "output_type": "stream",
          "name": "stdout",
          "text": [
            "   name           city\n",
            "0  John       New York\n",
            "1  Jane  San Francisco\n",
            "2   Bob        Chicago\n"
          ]
        }
      ]
    },
    {
      "cell_type": "markdown",
      "source": [
        "# **Filtering rows based on conditions**"
      ],
      "metadata": {
        "id": "9PWLH_QOeBMx"
      }
    },
    {
      "cell_type": "code",
      "source": [
        "# Create a DataFrame\n",
        "data = {'name': ['John', 'Jane', 'Bob'],\n",
        "        'age': [30, 25, 40],\n",
        "        'city': ['New York', 'San Francisco', 'Chicago']}\n",
        "df = pd.DataFrame(data)\n",
        "\n",
        "# Filter rows by age greater than or equal to 30\n",
        "df_filtered = df[df['age']>30]\n",
        "\n",
        "# Print the filtered DataFrame\n",
        "print(df_filtered)"
      ],
      "metadata": {
        "colab": {
          "base_uri": "https://localhost:8080/"
        },
        "id": "rQEooc8geGWC",
        "outputId": "593db136-972b-41c9-a455-d60f4a6d996a"
      },
      "execution_count": 51,
      "outputs": [
        {
          "output_type": "stream",
          "name": "stdout",
          "text": [
            "  name  age     city\n",
            "2  Bob   40  Chicago\n"
          ]
        }
      ]
    },
    {
      "cell_type": "markdown",
      "source": [
        "# **Sorting and ordering rows and columns**"
      ],
      "metadata": {
        "id": "APAsI23xelER"
      }
    },
    {
      "cell_type": "code",
      "source": [
        "# Create a DataFrame\n",
        "data = {'name': ['John', 'Jane', 'Bob'],\n",
        "        'age': [30, 25, 40],\n",
        "        'city': ['New York', 'San Francisco', 'Chicago']}\n",
        "df = pd.DataFrame(data)\n",
        "\n",
        "# Sort rows by age in descending order\n",
        "df_sorted = df.sort_values('age', ascending = False)\n",
        "\n",
        "# Print the sorted DataFrame\n",
        "print(df_sorted)"
      ],
      "metadata": {
        "colab": {
          "base_uri": "https://localhost:8080/"
        },
        "id": "R5aXbjXceuwn",
        "outputId": "b22ec5c4-c104-4e8c-f730-d23c588afd9c"
      },
      "execution_count": 53,
      "outputs": [
        {
          "output_type": "stream",
          "name": "stdout",
          "text": [
            "   name  age           city\n",
            "2   Bob   40        Chicago\n",
            "0  John   30       New York\n",
            "1  Jane   25  San Francisco\n"
          ]
        }
      ]
    }
  ]
}