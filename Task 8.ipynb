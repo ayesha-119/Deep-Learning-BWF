{
  "nbformat": 4,
  "nbformat_minor": 0,
  "metadata": {
    "colab": {
      "provenance": [],
      "authorship_tag": "ABX9TyNYs2wm+KYltpV8MhWKfIqw",
      "include_colab_link": true
    },
    "kernelspec": {
      "name": "python3",
      "display_name": "Python 3"
    },
    "language_info": {
      "name": "python"
    }
  },
  "cells": [
    {
      "cell_type": "markdown",
      "metadata": {
        "id": "view-in-github",
        "colab_type": "text"
      },
      "source": [
        "<a href=\"https://colab.research.google.com/github/ayesha-119/Deep-Learning-BWF/blob/master/Task8.ipynb\" target=\"_parent\"><img src=\"https://colab.research.google.com/assets/colab-badge.svg\" alt=\"Open In Colab\"/></a>"
      ]
    },
    {
      "cell_type": "markdown",
      "source": [
        "Topics: Classes in Python, Inheritance in Classes\n",
        "\n",
        "Resource: https://drive.google.com/file/d/12HEIuGU0NRgJutUQkMUhGKo-Nr_YWYdq/view?usp=share_link"
      ],
      "metadata": {
        "id": "gjMUkYShbxHd"
      }
    },
    {
      "cell_type": "markdown",
      "source": [
        "# **Creating and Using a Class**"
      ],
      "metadata": {
        "id": "f_cQMRohn4XB"
      }
    },
    {
      "cell_type": "markdown",
      "source": [
        "**Restaurant:** Make a class called Restaurant. The __init__() method for\n",
        "Restaurant should store two attributes: a restaurant_name and a cuisine_type.\n",
        "Make a method called describe_restaurant() that prints these two pieces of\n",
        "\n",
        "information, and a method called open_restaurant() that prints a message indi-\n",
        "cating that the restaurant is open.\n",
        "\n",
        "Make an instance called restaurant from your class. Print the two attri-\n",
        "butes individually, and then call both methods."
      ],
      "metadata": {
        "id": "4rccTyz_oYw3"
      }
    },
    {
      "cell_type": "code",
      "execution_count": 15,
      "metadata": {
        "id": "GONYF_iCbolt"
      },
      "outputs": [],
      "source": [
        "class Restaurant():\n",
        "  def __init__(self, restaurant_name, cuisine_type):\n",
        "    \"\"\"Initialize name and cuisine type\"\"\"\n",
        "    self.restaurant_name = restaurant_name\n",
        "    self.cuisine_type = cuisine_type\n",
        "  def describe_restaurant(self):\n",
        "    print(\"The retaurant name is \" + self.restaurant_name)\n",
        "    print(\"The cuisine type  is \" + self.cuisine_type)\n",
        "  def open_restaurant(self):\n",
        "    print(f\"{self.restaurant_name} is open\")\n"
      ]
    },
    {
      "cell_type": "code",
      "source": [
        "my_resturant =  Restaurant(\"Chops and Hops\",\"contnental\")\n",
        "print(my_resturant.restaurant_name)\n",
        "print(my_resturant.cuisine_type)\n",
        "my_resturant.describe_restaurant() \n",
        "my_resturant.open_restaurant()"
      ],
      "metadata": {
        "colab": {
          "base_uri": "https://localhost:8080/"
        },
        "id": "E1UMkMOQp9bT",
        "outputId": "ed84e7c1-8f2b-4749-868a-cc96b1fbbf37"
      },
      "execution_count": 12,
      "outputs": [
        {
          "output_type": "stream",
          "name": "stdout",
          "text": [
            "Chops and Hops\n",
            "contnental\n",
            "The retaurant name is Chops and Hops\n",
            "The cuisine type  is contnental\n",
            "Chops and Hops is open\n"
          ]
        }
      ]
    },
    {
      "cell_type": "markdown",
      "source": [
        "**Three Restaurants:** Start with your class from Exercise 9-1. Create three\n",
        "different instances from the class, and call describe_restaurant() for each\n",
        "instance."
      ],
      "metadata": {
        "id": "_QY_PCfCsJIu"
      }
    },
    {
      "cell_type": "code",
      "source": [
        "restaurant_1 = Restaurant(\"Wicked Wok\",\"French cuisine.\")\n",
        "restaurant_2 = Restaurant(\"Backyard Bowls\",\"Greek Cuisine\")\n",
        "restaurant_3 = Restaurant(\"Slice of Spice\",\"Spanish Cuisine\")\n",
        "restaurant_1.describe_restaurant()\n",
        "restaurant_2.describe_restaurant()\n",
        "restaurant_3.describe_restaurant()"
      ],
      "metadata": {
        "colab": {
          "base_uri": "https://localhost:8080/"
        },
        "id": "3YVjrGchsLsZ",
        "outputId": "0d2910c5-332c-482e-9811-922508e1b756"
      },
      "execution_count": 19,
      "outputs": [
        {
          "output_type": "stream",
          "name": "stdout",
          "text": [
            "The retaurant name is Wicked Wok\n",
            "The cuisine type  is French cuisine.\n",
            "The retaurant name is Backyard Bowls\n",
            "The cuisine type  is Greek Cuisine\n",
            "The retaurant name is Slice of Spice\n",
            "The cuisine type  is Spanish Cuisine\n"
          ]
        }
      ]
    },
    {
      "cell_type": "markdown",
      "source": [
        "**Users:** Make a class called User. Create two attributes called first_name\n",
        "and last_name, and then create several other attributes that are typically stored\n",
        "in a user profile. Make a method called describe_user() that prints a summary\n",
        "of the user’s information. Make another method called greet_user() that prints\n",
        "a personalized greeting to the user.\n",
        "\n",
        "\n",
        "Create several instances representing different users, and call both methods\n",
        "for each user."
      ],
      "metadata": {
        "id": "r8g_3VuwvCXR"
      }
    },
    {
      "cell_type": "code",
      "source": [
        "class User():\n",
        "  def __init__(self, first_name, last_name,username, email, age):\n",
        "    self.first_name = first_name\n",
        "    self.last_name = last_name\n",
        "    self.username = username\n",
        "    self.email = email\n",
        "    self.age = age\n",
        "  def describe_user(self):\n",
        "    \"\"\"summary of user's information\"\"\"\n",
        "    print(\"User details are as follows:\")\n",
        "    print(f\"Name: {self.first_name.title()} {self.last_name.title()} \")\n",
        "    print(f\"Username: {self.username.title()}\")\n",
        "    print(f\"Email: {self.email}\")\n",
        "    print(f\"Age: {self.age}\" )\n",
        "  def greet_user(self):\n",
        "    print(f\"Hello {self.first_name} {self.last_name}! How are you doing today?\")\n"
      ],
      "metadata": {
        "id": "VS43oCbeYEO3"
      },
      "execution_count": 6,
      "outputs": []
    },
    {
      "cell_type": "code",
      "source": [
        "user_1 = User(\"Johnson\",\"alice\",\"Johnson19\", \"Johnson19@gmail.com\" ,22)\n",
        "user_1.describe_user()\n",
        "user_1.greet_user()\n",
        "\n",
        "user_2 = User(\"Ayesha\", \"younas\",\"em_ashay\",\"aisha@gmail.com\",24)\n",
        "user_2.describe_user()\n",
        "user_2.greet_user()"
      ],
      "metadata": {
        "colab": {
          "base_uri": "https://localhost:8080/"
        },
        "id": "sYMc6CUrdYNi",
        "outputId": "abc2b932-71cf-445d-8e1d-8c9d85ddcaee"
      },
      "execution_count": 9,
      "outputs": [
        {
          "output_type": "stream",
          "name": "stdout",
          "text": [
            "User details are as follows:\n",
            "Name: Johnson Alice \n",
            "Username: Johnson19\n",
            "Email: Johnson19@gmail.com\n",
            "Age: 22\n",
            "Hello Johnson alice! How are you doing today?\n",
            "User details are as follows:\n",
            "Name: Ayesha Younas \n",
            "Username: Em_Ashay\n",
            "Email: aisha@gmail.com\n",
            "Age: 24\n",
            "Hello Ayesha younas! How are you doing today?\n"
          ]
        }
      ]
    },
    {
      "cell_type": "markdown",
      "source": [
        "# **Working with Classes and Instances**"
      ],
      "metadata": {
        "id": "YiL1lFsMnxbw"
      }
    },
    {
      "cell_type": "markdown",
      "source": [
        "**Number Served:** Start with your program from Exercise 9-1 (page 166).\n",
        "Add an attribute called number_served with a default value of 0. Create an\n",
        "instance called restaurant from this class. Print the number of customers the\n",
        "restaurant has served, and then change this value and print it again.\n",
        "Add a method called set_number_served() that lets you set the number\n",
        "of customers that have been served. Call this method with a new number and\n",
        "print the value again.\n",
        "Add a method called increment_number_served() that lets you increment\n",
        "\n",
        "the number of customers who’ve been served. Call this method with any num-\n",
        "ber you like that could represent how many customers were served in, say, a\n",
        "\n",
        "day of business."
      ],
      "metadata": {
        "id": "e5OgTHXgoA2q"
      }
    },
    {
      "cell_type": "code",
      "source": [
        "class Restaurant():\n",
        "  def __init__(self, restaurant_name, cuisine_type):\n",
        "    \"\"\"Initialize name and cuisine type\"\"\"\n",
        "    self.restaurant_name = restaurant_name\n",
        "    self.cuisine_type = cuisine_type\n",
        "    self.number_served = 0\n",
        "  def describe_restaurant(self):\n",
        "    print(\"The retaurant name is \" + self.restaurant_name)\n",
        "    print(\"The cuisine type  is \" + self.cuisine_type)\n",
        "  def open_restaurant(self):\n",
        "    print(f\"{self.restaurant_name} is open\")\n",
        "  def set_number_served(self,number):\n",
        "    self.number_served= number\n",
        "  def increment_number_served(self,number):\n",
        "    self.number_served += number\n",
        "\n"
      ],
      "metadata": {
        "id": "fl4XomVIoC-L"
      },
      "execution_count": 15,
      "outputs": []
    },
    {
      "cell_type": "code",
      "source": [
        "restaurant = Restaurant(\"Chops and Hops\",\"contnental\")\n",
        "# Printing the initial number of customers served\n",
        "print(\"the number of customers the restaurant has served is \" + str(restaurant.number_served))\n",
        "# Changing the value of number_served and printing it again\n",
        "restaurant.number_served = 10\n",
        "print(\"the number of customers the restaurant has served is \" + str(restaurant.number_served) + \" now.\")\n",
        "\n",
        "# Using the set_number_served method to set the number of customers served\n",
        "restaurant.set_number_served(20)\n",
        "print(f\"Number of customers served: {restaurant.number_served}\")\n",
        "\n",
        "# Using the increment_number_served method to add 30 to the number of customers served\n",
        "restaurant.increment_number_served(30)\n",
        "print(f\"Number of customers served: {restaurant.number_served}\")"
      ],
      "metadata": {
        "colab": {
          "base_uri": "https://localhost:8080/"
        },
        "id": "va1nKd1_oX6V",
        "outputId": "eccc272d-ee12-434d-f05d-556cb72fa2f9"
      },
      "execution_count": 18,
      "outputs": [
        {
          "output_type": "stream",
          "name": "stdout",
          "text": [
            "the number of customers the restaurant has served is 0\n",
            "the number of customers the restaurant has served is 10 now.\n",
            "Number of customers served: 20\n",
            "Number of customers served: 50\n"
          ]
        }
      ]
    },
    {
      "cell_type": "markdown",
      "source": [
        "**Login Attempts:** Add an attribute called login_attempts to your User\n",
        "class from Exercise 9-3 (page 166).\n",
        "\n",
        " Write a method called increment_login_attempts() that increments the value of login_attempts by 1. \n",
        "\n",
        "Write another method called reset_login_attempts() that resets the value of login_attempts to 0.\n",
        "\n",
        "Make an instance of the User class and call increment_login_attempts()\n",
        "several times. Print the value of login_attempts to make sure it was incremented\n",
        "properly, and then call reset_login_attempts(). Print login_attempts again to\n",
        "make sure it was reset to 0."
      ],
      "metadata": {
        "id": "hr6rucSWrOTQ"
      }
    },
    {
      "cell_type": "code",
      "source": [
        "class User():\n",
        "  def __init__(self, first_name, last_name,username, email, age):\n",
        "    self.first_name = first_name\n",
        "    self.last_name = last_name\n",
        "    self.username = username\n",
        "    self.email = email\n",
        "    self.age = age\n",
        "    self.login_attemp = 0\n",
        "  def describe_user(self):\n",
        "    \"\"\"summary of user's information\"\"\"\n",
        "    print(\"User details are as follows:\")\n",
        "    print(f\"Name: {self.first_name.title()} {self.last_name.title()} \")\n",
        "    print(f\"Username: {self.username.title()}\")\n",
        "    print(f\"Email: {self.email}\")\n",
        "    print(f\"Age: {self.age}\" )\n",
        "  def greet_user(self):\n",
        "    print(f\"Hello {self.first_name} {self.last_name}! How are you doing today?\")\n",
        "  def increment_login_attemp(self):\n",
        "    self.login_attemp += 1\n",
        "  def reset_login_attemp(self):\n",
        "    self.login_attemp = 0\n",
        "    "
      ],
      "metadata": {
        "id": "MoFV8Vauretb"
      },
      "execution_count": 19,
      "outputs": []
    },
    {
      "cell_type": "code",
      "source": [
        "user  = User(\"alice\",\"bob\",\"lice\",\"lice11@gmail.com\",16)\n",
        "# Incrementing login_attempts a few times\n",
        "user.increment_login_attemp()\n",
        "user.increment_login_attemp()\n",
        "user.increment_login_attemp()\n",
        "\n",
        "# Printing the value of login_attempts\n",
        "print(f\"Number of login attempts: {user.login_attemp}\")\n",
        "\n",
        "# Resetting login_attempts and printing it again\n",
        "user.reset_login_attemp()\n",
        "print(f\"Number of login attempts after reset: {user.login_attemp}\")"
      ],
      "metadata": {
        "colab": {
          "base_uri": "https://localhost:8080/"
        },
        "id": "zTvkbXMFsE5D",
        "outputId": "ffbe5d6d-21ed-43b3-db6f-b37bdc503dca"
      },
      "execution_count": 28,
      "outputs": [
        {
          "output_type": "stream",
          "name": "stdout",
          "text": [
            "Number of login attempts: 3\n",
            "Number of login attempts after reset: 0\n"
          ]
        }
      ]
    },
    {
      "cell_type": "markdown",
      "source": [
        "# **Inheritance:**"
      ],
      "metadata": {
        "id": "oDdYkIWoy4Hn"
      }
    },
    {
      "cell_type": "markdown",
      "source": [
        "**Ice Cream Stand:** An ice cream stand is a specific kind of restaurant. Write\n",
        "a class called IceCreamStand that inherits from the Restaurant class you wrote\n",
        "in Exercise 9-1 (page 166) or Exercise 9-4 (page 171). Either version of\n",
        "the class will work; just pick the one you like better. Add an attribute called\n",
        "flavors that stores a list of ice cream flavors. Write a method that displays\n",
        "these flavors. Create an instance of IceCreamStand, and call this method."
      ],
      "metadata": {
        "id": "IAOQdGgtypX9"
      }
    },
    {
      "cell_type": "code",
      "source": [
        "class Restaurant():\n",
        "  def __init__(self, restaurant_name, cuisine_type):\n",
        "    \"\"\"Initialize name and cuisine type\"\"\"\n",
        "    self.restaurant_name = restaurant_name\n",
        "    self.cuisine_type = cuisine_type\n",
        "    self.number_served = 0\n",
        "  def describe_restaurant(self):\n",
        "    print(\"The retaurant name is \" + self.restaurant_name)\n",
        "    print(\"The cuisine type  is \" + self.cuisine_type)\n",
        "  def open_restaurant(self):\n",
        "    print(f\"{self.restaurant_name} is open\")\n",
        "  def set_number_served(self,number):\n",
        "    self.number_served= number\n",
        "  def increment_number_served(self,number):\n",
        "    self.number_served += number"
      ],
      "metadata": {
        "id": "odZaaIya0Suy"
      },
      "execution_count": 32,
      "outputs": []
    },
    {
      "cell_type": "code",
      "source": [
        "class IceCreamStand(Restaurant):\n",
        "  def __init__(self, restaurant_name, cuisine_type):\n",
        "    super().__init__(restaurant_name, cuisine_type)\n",
        "    self.flavors = []\n",
        "  def add_flavors(self,flavor):\n",
        "    self.flavors.append(flavor)\n",
        "  def display_flavors(self):\n",
        "    print(\"Available Flavors\")\n",
        "    for flavor in self.flavors:\n",
        "      print(flavor)"
      ],
      "metadata": {
        "id": "WXtISuRNy8RV"
      },
      "execution_count": 39,
      "outputs": []
    },
    {
      "cell_type": "code",
      "source": [
        "icecream_stand = IceCreamStand(\"fine and dine\", \"french\")\n",
        "icecream_stand.add_flavors(\"vanilla\")\n",
        "icecream_stand.add_flavors(\"choclate\")\n",
        "icecream_stand.display_flavors()"
      ],
      "metadata": {
        "colab": {
          "base_uri": "https://localhost:8080/"
        },
        "id": "QsEW4E-J1KZb",
        "outputId": "70fb7d9e-5e29-4cdb-e004-5c9d244aec7c"
      },
      "execution_count": 41,
      "outputs": [
        {
          "output_type": "stream",
          "name": "stdout",
          "text": [
            "Available Flavors\n",
            "vanilla\n",
            "choclate\n"
          ]
        }
      ]
    },
    {
      "cell_type": "markdown",
      "source": [
        "**Admin:** An administrator is a special kind of user. Write a class called\n",
        "Admin that inherits from the User class you wrote in Exercise 9-3 (page 166)\n",
        "or Exercise 9-5 (page 171). Add an attribute, privileges, that stores a list\n",
        "of strings like \"can add post\", \"can delete post\", \"can ban user\", and so on.\n",
        "Write a method called show_privileges() that lists the administrator’s set of\n",
        "privileges. Create an instance of Admin, and call your method."
      ],
      "metadata": {
        "id": "xyYNmyNA2eck"
      }
    },
    {
      "cell_type": "code",
      "source": [
        "class User():\n",
        "  def __init__(self, first_name, last_name,username, email, age):\n",
        "    self.first_name = first_name\n",
        "    self.last_name = last_name\n",
        "    self.username = username\n",
        "    self.email = email\n",
        "    self.age = age\n",
        "    self.login_attemp = 0\n",
        "  def describe_user(self):\n",
        "    \"\"\"summary of user's information\"\"\"\n",
        "    print(\"User details are as follows:\")\n",
        "    print(f\"Name: {self.first_name.title()} {self.last_name.title()} \")\n",
        "    print(f\"Username: {self.username.title()}\")\n",
        "    print(f\"Email: {self.email}\")\n",
        "    print(f\"Age: {self.age}\" )\n",
        "  def greet_user(self):\n",
        "    print(f\"Hello {self.first_name} {self.last_name}! How are you doing today?\")\n",
        "  def increment_login_attemp(self):\n",
        "    self.login_attemp += 1\n",
        "  def reset_login_attemp(self):\n",
        "    self.login_attemp = 0"
      ],
      "metadata": {
        "id": "p5suEJUf2wnA"
      },
      "execution_count": 43,
      "outputs": []
    },
    {
      "cell_type": "code",
      "source": [
        "class Admin(User):\n",
        "  def __init__(self, first_name, last_name,username, email, age):\n",
        "    super().__init__(first_name, last_name,username, email, age)\n",
        "    self.privileges = [\"can add post\", \"can delete post\", \"can ban user\"]\n",
        "  def show_privileges(self):\n",
        "    print(\"The Admin privileges are:\")\n",
        "    for privileges in self.privileges:\n",
        "      print(privileges)"
      ],
      "metadata": {
        "id": "aRA4gCsN2gqe"
      },
      "execution_count": 45,
      "outputs": []
    },
    {
      "cell_type": "code",
      "source": [
        "admin = Admin (\"adam\",\"smith\",\"adam_smith\",\"adamsmith@gmail.com\",45)\n",
        "admin.describe_user()\n",
        "admin.show_privileges()"
      ],
      "metadata": {
        "colab": {
          "base_uri": "https://localhost:8080/"
        },
        "id": "PkLFgxFl3_nD",
        "outputId": "6443bb02-298a-459f-adfb-02cbbe54e6c6"
      },
      "execution_count": 47,
      "outputs": [
        {
          "output_type": "stream",
          "name": "stdout",
          "text": [
            "User details are as follows:\n",
            "Name: Adam Smith \n",
            "Username: Adam_Smith\n",
            "Email: adamsmith@gmail.com\n",
            "Age: 45\n",
            "The Admin privileges are:\n",
            "can add post\n",
            "can delete post\n",
            "can ban user\n"
          ]
        }
      ]
    },
    {
      "cell_type": "markdown",
      "source": [
        "**Privileges:** Write a separate Privileges class. The class should have one\n",
        "attribute, privileges, that stores a list of strings as described in Exercise 9-7.\n",
        "Move the show_privileges() method to this class. Make a Privileges instance\n",
        "as an attribute in the Admin class. Create a new instance of Admin and use your\n",
        "method to show its privileges."
      ],
      "metadata": {
        "id": "TnICyEbN5FW0"
      }
    },
    {
      "cell_type": "code",
      "source": [
        "class User():\n",
        "  def __init__(self, first_name, last_name,username, email, age):\n",
        "    self.first_name = first_name\n",
        "    self.last_name = last_name\n",
        "    self.username = username\n",
        "    self.email = email\n",
        "    self.age = age\n",
        "    self.login_attemp = 0\n",
        "  def describe_user(self):\n",
        "    \"\"\"summary of user's information\"\"\"\n",
        "    print(\"User details are as follows:\")\n",
        "    print(f\"Name: {self.first_name.title()} {self.last_name.title()} \")\n",
        "    print(f\"Username: {self.username.title()}\")\n",
        "    print(f\"Email: {self.email}\")\n",
        "    print(f\"Age: {self.age}\" )\n",
        "  def greet_user(self):\n",
        "    print(f\"Hello {self.first_name} {self.last_name}! How are you doing today?\")\n",
        "  def increment_login_attemp(self):\n",
        "    self.login_attemp += 1\n",
        "  def reset_login_attemp(self):\n",
        "    self.login_attemp = 0"
      ],
      "metadata": {
        "id": "8Ay8Kg3C5sQz"
      },
      "execution_count": 49,
      "outputs": []
    },
    {
      "cell_type": "code",
      "source": [
        "class Privileges():\n",
        "  def __init__(self):\n",
        "    self.privileges = [\"can add post\", \"can delete post\", \"can ban user\"]\n",
        "  def show_privileges(self):\n",
        "    print(\"The Admin privileges are:\")\n",
        "    for privileges in self.privileges:\n",
        "      print(privileges)"
      ],
      "metadata": {
        "id": "46bQm_Un5Hd7"
      },
      "execution_count": 52,
      "outputs": []
    },
    {
      "cell_type": "code",
      "source": [
        "class Admin(User):\n",
        "    def __init__(self, first_name, last_name, username, email, age):\n",
        "        super().__init__(first_name, last_name, username, email, age)\n",
        "        self.privileges = Privileges()"
      ],
      "metadata": {
        "id": "Z8A6FFXm5uqd"
      },
      "execution_count": 53,
      "outputs": []
    },
    {
      "cell_type": "code",
      "source": [
        "admin = Admin (\"adam\",\"smith\",\"adam_smith\",\"adamsmith@gmail.com\", 45)\n",
        "admin.describe_user()\n",
        "admin.privileges.show_privileges()"
      ],
      "metadata": {
        "colab": {
          "base_uri": "https://localhost:8080/"
        },
        "id": "QmPqXG7G6m-2",
        "outputId": "ca1af4b7-06d3-472a-97cf-052b7d10463b"
      },
      "execution_count": 54,
      "outputs": [
        {
          "output_type": "stream",
          "name": "stdout",
          "text": [
            "User details are as follows:\n",
            "Name: Adam Smith \n",
            "Username: Adam_Smith\n",
            "Email: adamsmith@gmail.com\n",
            "Age: 45\n",
            "The Admin privileges are:\n",
            "can add post\n",
            "can delete post\n",
            "can ban user\n"
          ]
        }
      ]
    },
    {
      "cell_type": "markdown",
      "source": [
        "**Battery Upgrade:** Use the final version of electric_car.py from this section.\n",
        "Add a method to the Battery class called upgrade_battery(). This method\n",
        "should check the battery size and set the capacity to 85 if it isn’t already.\n",
        "Make an electric car with a default battery size, call get_range() once, and\n",
        "then call get_range() a second time after upgrading the battery. You should\n",
        "see an increase in the car’s range."
      ],
      "metadata": {
        "id": "J-a0XWOd9GYO"
      }
    },
    {
      "cell_type": "code",
      "source": [
        "class Car:\n",
        "    def __init__(self, make, model, year):\n",
        "        self.make = make\n",
        "        self.model = model\n",
        "        self.year = year\n",
        "        self.odometer_reading = 0\n",
        "\n",
        "    def get_descriptive_name(self):\n",
        "        long_name = f\"{self.year} {self.make} {self.model}\"\n",
        "        return long_name.title()\n",
        "\n",
        "    def read_odometer(self):\n",
        "        print(f\"This car has {self.odometer_reading} miles on it.\")\n",
        "\n",
        "    def update_odometer(self, mileage):\n",
        "        if mileage >= self.odometer_reading:\n",
        "            self.odometer_reading = mileage\n",
        "        else:\n",
        "            print(\"You can't roll back an odometer!\")\n",
        "\n",
        "    def increment_odometer(self, miles):\n",
        "        self.odometer_reading += miles"
      ],
      "metadata": {
        "id": "AXgvLuYB9Ix1"
      },
      "execution_count": 55,
      "outputs": []
    },
    {
      "cell_type": "code",
      "source": [
        "class Battery:\n",
        "    def __init__(self, battery_size=75):\n",
        "        self.battery_size = battery_size\n",
        "\n",
        "    def describe_battery(self):\n",
        "        print(f\"This car has a {self.battery_size}-kWh battery.\")\n",
        "\n",
        "    def get_range(self):\n",
        "        if self.battery_size == 75:\n",
        "            range = 260\n",
        "        elif self.battery_size == 85:\n",
        "            range = 315\n",
        "\n",
        "        print(f\"This car can go about {range} miles on a full charge.\")\n",
        "\n",
        "    def upgrade_battery(self):\n",
        "        if self.battery_size < 85:\n",
        "            self.battery_size = 85"
      ],
      "metadata": {
        "id": "QQSIrNR39vAX"
      },
      "execution_count": 56,
      "outputs": []
    },
    {
      "cell_type": "code",
      "source": [
        "class ElectricCar(Car):\n",
        "    def __init__(self, make, model, year):\n",
        "        super().__init__(make, model, year)\n",
        "        self.battery = Battery()"
      ],
      "metadata": {
        "id": "Hc66PPYr9zQ-"
      },
      "execution_count": 57,
      "outputs": []
    },
    {
      "cell_type": "code",
      "source": [
        "my_car = ElectricCar(\"Tesla\", \"Model S\", 2022)\n",
        "my_car.battery.get_range()\n",
        "my_car.battery.upgrade_battery()\n",
        "my_car.battery.get_range()"
      ],
      "metadata": {
        "colab": {
          "base_uri": "https://localhost:8080/"
        },
        "id": "j_ZrxFwy-BZu",
        "outputId": "52104684-ca8a-4e55-e826-9ec67bd738ce"
      },
      "execution_count": 58,
      "outputs": [
        {
          "output_type": "stream",
          "name": "stdout",
          "text": [
            "This car can go about 260 miles on a full charge.\n",
            "This car can go about 315 miles on a full charge.\n"
          ]
        }
      ]
    },
    {
      "cell_type": "markdown",
      "source": [
        "# **Importing Classes**"
      ],
      "metadata": {
        "id": "wykgDhlL-Jjs"
      }
    },
    {
      "cell_type": "markdown",
      "source": [
        "**Imported Restaurant:** Using your latest Restaurant class, store it in a mod-\n",
        "ule. Make a separate file that imports Restaurant. Make a Restaurant instance,\n",
        "\n",
        "and call one of Restaurant’s methods to show that the import statement is work-\n",
        "ing properly."
      ],
      "metadata": {
        "id": "0QJ-_WNp-MXK"
      }
    },
    {
      "cell_type": "code",
      "source": [
        "%%writefile restaurant.py\n",
        "class Restaurant:\n",
        "    \"\"\"A simple class representing a restaurant.\"\"\"\n",
        "\n",
        "    def __init__(self, name, cuisine_type):\n",
        "        \"\"\"Initialize restaurant name and cuisine type attributes.\"\"\"\n",
        "        self.name = name\n",
        "        self.cuisine_type = cuisine_type\n",
        "\n",
        "    def describe_restaurant(self):\n",
        "        \"\"\"Print a description of the restaurant.\"\"\"\n",
        "        print(f\"{self.name} serves {self.cuisine_type} cuisine.\")\n",
        "\n",
        "    def open_restaurant(self):\n",
        "        \"\"\"Print a message indicating that the restaurant is open.\"\"\"\n",
        "        print(f\"{self.name} is now open!\")"
      ],
      "metadata": {
        "colab": {
          "base_uri": "https://localhost:8080/"
        },
        "id": "yLyOdg3IIJly",
        "outputId": "1316d58d-b4ba-4bbc-8df3-b41e7598085c"
      },
      "execution_count": 60,
      "outputs": [
        {
          "output_type": "stream",
          "name": "stdout",
          "text": [
            "Writing restaurant.py\n"
          ]
        }
      ]
    },
    {
      "cell_type": "code",
      "source": [
        "from restaurant import Restaurant\n",
        "\n",
        "my_restaurant = Restaurant(\"Chez Marie\", \"French\")\n",
        "my_restaurant.describe_restaurant()"
      ],
      "metadata": {
        "colab": {
          "base_uri": "https://localhost:8080/"
        },
        "id": "Ca-pguDBHaH5",
        "outputId": "a209ce8d-f318-47d4-cae7-6f1b4ba8e4b0"
      },
      "execution_count": 61,
      "outputs": [
        {
          "output_type": "stream",
          "name": "stdout",
          "text": [
            "Chez Marie serves French cuisine.\n"
          ]
        }
      ]
    },
    {
      "cell_type": "markdown",
      "source": [
        "**Imported Admin:** Start with your work from Exercise 9-8 (page 178).\n",
        "\n",
        "Store the classes User, Privileges, and Admin in one module. Create a sepa-\n",
        "rate file, make an Admin instance, and call show_privileges() to show that\n",
        "\n",
        "everything is working correctly."
      ],
      "metadata": {
        "id": "wOzO8jflIqcq"
      }
    },
    {
      "cell_type": "code",
      "source": [
        "%%writefile user.py\n",
        "class User:\n",
        "    \"\"\"A simple class representing a user.\"\"\"\n",
        "\n",
        "    def __init__(self, first_name, last_name, username, email, location):\n",
        "        \"\"\"Initialize user attributes.\"\"\"\n",
        "        self.first_name = first_name\n",
        "        self.last_name = last_name\n",
        "        self.username = username\n",
        "        self.email = email\n",
        "        self.location = location\n",
        "\n",
        "    def describe_user(self):\n",
        "        \"\"\"Print a summary of the user's information.\"\"\"\n",
        "        print(f\"{self.first_name} {self.last_name} ({self.username})\")\n",
        "        print(f\"Email: {self.email}\")\n",
        "        print(f\"Location: {self.location}\")\n",
        "\n",
        "    def greet_user(self):\n",
        "        \"\"\"Print a personalized greeting to the user.\"\"\"\n",
        "        print(f\"Hello, {self.first_name}!\")\n",
        "\n",
        "\n",
        "class Privileges:\n",
        "    \"\"\"A simple class representing a set of privileges.\"\"\"\n",
        "\n",
        "    def __init__(self):\n",
        "        \"\"\"Initialize privileges attribute.\"\"\"\n",
        "        self.privileges = [\n",
        "            \"can add post\",\n",
        "            \"can delete post\",\n",
        "            \"can ban user\",\n",
        "        ]\n",
        "\n",
        "    def show_privileges(self):\n",
        "        \"\"\"Print a list of privileges.\"\"\"\n",
        "        print(\"Privileges:\")\n",
        "        for privilege in self.privileges:\n",
        "            print(f\"- {privilege}\")\n",
        "\n",
        "\n",
        "class Admin(User):\n",
        "    \"\"\"A simple class representing an admin user.\"\"\"\n",
        "\n",
        "    def __init__(self, first_name, last_name, username, email, location):\n",
        "        \"\"\"Initialize admin user and privileges attributes.\"\"\"\n",
        "        super().__init__(first_name, last_name, username, email, location)\n",
        "        self.privileges = Privileges()"
      ],
      "metadata": {
        "colab": {
          "base_uri": "https://localhost:8080/"
        },
        "id": "Y-ipG6zAIlig",
        "outputId": "075a9700-5782-480a-fbc5-682fd4a57698"
      },
      "execution_count": 63,
      "outputs": [
        {
          "output_type": "stream",
          "name": "stdout",
          "text": [
            "Writing user.py\n"
          ]
        }
      ]
    },
    {
      "cell_type": "code",
      "source": [
        "from user import Admin\n",
        "\n",
        "my_admin = Admin(\"John\", \"Doe\", \"jdoe\", \"jdoe@example.com\", \"New York\")\n",
        "my_admin.privileges.show_privileges()"
      ],
      "metadata": {
        "colab": {
          "base_uri": "https://localhost:8080/"
        },
        "id": "0eviigxSI8XT",
        "outputId": "51a826cf-95bc-4783-c9db-4984eea545b9"
      },
      "execution_count": 64,
      "outputs": [
        {
          "output_type": "stream",
          "name": "stdout",
          "text": [
            "Privileges:\n",
            "- can add post\n",
            "- can delete post\n",
            "- can ban user\n"
          ]
        }
      ]
    },
    {
      "cell_type": "markdown",
      "source": [
        "**Multiple Modules:** Store the User class in one module, and store the\n",
        "Privileges and Admin classes in a separate module. In a separate file, create\n",
        "an Admin instance and call show_privileges() to show that everything is still\n",
        "working correctly."
      ],
      "metadata": {
        "id": "iVk4ComIJUaB"
      }
    },
    {
      "cell_type": "code",
      "source": [
        "%%writefile user.py\n",
        "class User:\n",
        "    \"\"\"A simple class representing a user.\"\"\"\n",
        "\n",
        "    def __init__(self, first_name, last_name, username, email, location):\n",
        "        \"\"\"Initialize user attributes.\"\"\"\n",
        "        self.first_name = first_name\n",
        "        self.last_name = last_name\n",
        "        self.username = username\n",
        "        self.email = email\n",
        "        self.location = location\n",
        "\n",
        "    def describe_user(self):\n",
        "        \"\"\"Print a summary of the user's information.\"\"\"\n",
        "        print(f\"{self.first_name} {self.last_name} ({self.username})\")\n",
        "        print(f\"Email: {self.email}\")\n",
        "        print(f\"Location: {self.location}\")\n",
        "\n",
        "    def greet_user(self):\n",
        "        \"\"\"Print a personalized greeting to the user.\"\"\"\n",
        "        print(f\"Hello, {self.first_name}!\")"
      ],
      "metadata": {
        "colab": {
          "base_uri": "https://localhost:8080/"
        },
        "id": "sWFgHn0gJW5r",
        "outputId": "ec178d39-fca8-488e-cd90-ad6a8a71d0d6"
      },
      "execution_count": 65,
      "outputs": [
        {
          "output_type": "stream",
          "name": "stdout",
          "text": [
            "Overwriting user.py\n"
          ]
        }
      ]
    },
    {
      "cell_type": "code",
      "source": [
        "%%writefile privileges.py\n",
        "class Privileges:\n",
        "    \"\"\"A simple class representing a set of privileges.\"\"\"\n",
        "\n",
        "    def __init__(self):\n",
        "        \"\"\"Initialize privileges attribute.\"\"\"\n",
        "        self.privileges = [\n",
        "            \"can add post\",\n",
        "            \"can delete post\",\n",
        "            \"can ban user\",\n",
        "        ]\n",
        "\n",
        "    def show_privileges(self):\n",
        "        \"\"\"Print a list of privileges.\"\"\"\n",
        "        print(\"Privileges:\")\n",
        "        for privilege in self.privileges:\n",
        "            print(f\"- {privilege}\")"
      ],
      "metadata": {
        "colab": {
          "base_uri": "https://localhost:8080/"
        },
        "id": "h1_lu3CDJvTl",
        "outputId": "c0716c36-d7be-4fbc-a29d-055f1468294c"
      },
      "execution_count": 66,
      "outputs": [
        {
          "output_type": "stream",
          "name": "stdout",
          "text": [
            "Writing privileges.py\n"
          ]
        }
      ]
    },
    {
      "cell_type": "code",
      "source": [
        "%%writefile admin.py\n",
        "from user import User\n",
        "from privileges import Privileges\n",
        "\n",
        "\n",
        "class Admin(User):\n",
        "    \"\"\"A simple class representing an admin user.\"\"\"\n",
        "\n",
        "    def __init__(self, first_name, last_name, username, email, location):\n",
        "        \"\"\"Initialize admin user and privileges attributes.\"\"\"\n",
        "        super().__init__(first_name, last_name, username, email, location)\n",
        "        self.privileges = Privileges()"
      ],
      "metadata": {
        "colab": {
          "base_uri": "https://localhost:8080/"
        },
        "id": "EOdmsCAQJ5zK",
        "outputId": "4621b1f7-0198-4ba4-9990-921198e2cb48"
      },
      "execution_count": 67,
      "outputs": [
        {
          "output_type": "stream",
          "name": "stdout",
          "text": [
            "Writing admin.py\n"
          ]
        }
      ]
    },
    {
      "cell_type": "code",
      "source": [
        "from admin import Admin\n",
        "\n",
        "my_admin = Admin(\"John\", \"Doe\", \"jdoe\", \"jdoe@example.com\", \"New York\")\n",
        "my_admin.privileges.show_privileges()"
      ],
      "metadata": {
        "colab": {
          "base_uri": "https://localhost:8080/"
        },
        "id": "-YbuJjXIKDbp",
        "outputId": "0a7e3c8f-318a-4dcf-e815-009a1aaab748"
      },
      "execution_count": 68,
      "outputs": [
        {
          "output_type": "stream",
          "name": "stdout",
          "text": [
            "Privileges:\n",
            "- can add post\n",
            "- can delete post\n",
            "- can ban user\n"
          ]
        }
      ]
    },
    {
      "cell_type": "markdown",
      "source": [
        "# **The Python Standard Library**"
      ],
      "metadata": {
        "id": "k2yJl1B3KNrK"
      }
    },
    {
      "cell_type": "markdown",
      "source": [
        "**OrderedDict Rewrite:** Start with Exercise 6-4 (page 108), where you\n",
        "used a standard dictionary to represent a glossary. Rewrite the program using\n",
        "the OrderedDict class and make sure the order of the output matches the order\n",
        "in which key-value pairs were added to the dictionary."
      ],
      "metadata": {
        "id": "M25crh8lKQU-"
      }
    },
    {
      "cell_type": "code",
      "source": [
        "from collections import OrderedDict\n",
        "\n",
        "glossary = OrderedDict()\n",
        "\n",
        "glossary['list'] = 'A collection of items in a particular order.'\n",
        "glossary['tuple'] = 'An immutable list.'\n",
        "glossary['dictionary'] = 'A collection of key-value pairs.'\n",
        "glossary['string'] = 'A series of characters.'\n",
        "glossary['boolean'] = 'A value of either True or False.'\n",
        "\n",
        "for word, definition in glossary.items():\n",
        "    print(f\"{word.title()}: {definition}\")"
      ],
      "metadata": {
        "colab": {
          "base_uri": "https://localhost:8080/"
        },
        "id": "RMCPVS2sKzoc",
        "outputId": "f3614146-42d3-45e1-a0f5-4e87c58bccef"
      },
      "execution_count": 69,
      "outputs": [
        {
          "output_type": "stream",
          "name": "stdout",
          "text": [
            "List: A collection of items in a particular order.\n",
            "Tuple: An immutable list.\n",
            "Dictionary: A collection of key-value pairs.\n",
            "String: A series of characters.\n",
            "Boolean: A value of either True or False.\n"
          ]
        }
      ]
    },
    {
      "cell_type": "markdown",
      "source": [
        "**Dice:** The module random contains functions that generate random num-\n",
        "bers in a variety of ways. The function randint() returns an integer in the\n",
        "\n",
        "range you provide. The following code returns a number between 1 and 6:\n",
        "from random import randint\n",
        "x = randint(1, 6)\n",
        "Make a class Die with one attribute called sides, which has a default\n",
        "value of 6. Write a method called roll_die() that prints a random number\n",
        "between 1 and the number of sides the die has. Make a 6-sided die and roll\n",
        "it 10 times.\n",
        "Make a 10-sided die and a 20-sided die. Roll each die 10 times."
      ],
      "metadata": {
        "id": "Lf__HJxrK_pF"
      }
    },
    {
      "cell_type": "code",
      "source": [
        "from random import randint\n",
        "\n",
        "class Die:\n",
        "    def __init__(self, sides=6):\n",
        "        self.sides = sides\n",
        "\n",
        "    def roll_die(self):\n",
        "        print(randint(1, self.sides))\n",
        "\n",
        "# Make a 6-sided die and roll it 10 times\n",
        "die_6 = Die()\n",
        "for i in range(10):\n",
        "    die_6.roll_die()\n",
        "\n",
        "# Make a 10-sided die and roll it 10 times\n",
        "die_10 = Die(10)\n",
        "for i in range(10):\n",
        "    die_10.roll_die()\n",
        "\n",
        "# Make a 20-sided die and roll it 10 times\n",
        "die_20 = Die(20)\n",
        "for i in range(10):\n",
        "    die_20.roll_die()"
      ],
      "metadata": {
        "colab": {
          "base_uri": "https://localhost:8080/"
        },
        "id": "X5AbEWFCLDRp",
        "outputId": "fcaa1f17-5478-459a-c328-df57fc76a701"
      },
      "execution_count": 70,
      "outputs": [
        {
          "output_type": "stream",
          "name": "stdout",
          "text": [
            "1\n",
            "2\n",
            "3\n",
            "2\n",
            "3\n",
            "2\n",
            "1\n",
            "3\n",
            "3\n",
            "4\n",
            "6\n",
            "5\n",
            "8\n",
            "9\n",
            "8\n",
            "1\n",
            "1\n",
            "9\n",
            "6\n",
            "4\n",
            "3\n",
            "9\n",
            "3\n",
            "11\n",
            "2\n",
            "16\n",
            "10\n",
            "10\n",
            "7\n",
            "13\n"
          ]
        }
      ]
    },
    {
      "cell_type": "markdown",
      "source": [
        "**Python Module of the Week:** One excellent resource for exploring the\n",
        "Python standard library is a site called Python Module of the Week. Go to\n",
        "http://pymotw.com/ and look at the table of contents. Find a module that\n",
        "looks interesting to you and read about it, or explore the documentation of\n",
        "the collections and random modules."
      ],
      "metadata": {
        "id": "jORoVKI_LPMa"
      }
    },
    {
      "cell_type": "code",
      "source": [],
      "metadata": {
        "id": "lZs_gyItLRTr"
      },
      "execution_count": null,
      "outputs": []
    }
  ]
}
