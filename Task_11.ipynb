{
  "nbformat": 4,
  "nbformat_minor": 0,
  "metadata": {
    "colab": {
      "provenance": [],
      "authorship_tag": "ABX9TyMUOmPFBdEw8KCNK58DzEPT",
      "include_colab_link": true
    },
    "kernelspec": {
      "name": "python3",
      "display_name": "Python 3"
    },
    "language_info": {
      "name": "python"
    }
  },
  "cells": [
    {
      "cell_type": "markdown",
      "metadata": {
        "id": "view-in-github",
        "colab_type": "text"
      },
      "source": [
        "<a href=\"https://colab.research.google.com/github/ayesha-119/Deep-Learning-BWF/blob/master/Task_11.ipynb\" target=\"_parent\"><img src=\"https://colab.research.google.com/assets/colab-badge.svg\" alt=\"Open In Colab\"/></a>"
      ]
    },
    {
      "cell_type": "markdown",
      "source": [
        "# **🔴 Task 11**\n",
        "\n",
        "**Topics: Linear Alegbra with Numpy, Statistical Functions with Numpy**\n",
        "\n",
        "Resource: https://drive.google.com/file/d/1ILp88f3u_KgJ_nlhTSsAVGdmZlICGhhd/view?usp=share_link\n",
        "\n",
        "\n",
        "\n",
        "Directions: Try to explore basic Linear Algebra and Stats things such as mean, media mode, quantiles, rank, probability distribution etc. and more. Implement them using Numpy.\n",
        "Respective topics may not be completely available in the given resource, you can explore."
      ],
      "metadata": {
        "id": "-ue6jk9Raxz1"
      }
    },
    {
      "cell_type": "markdown",
      "source": [
        "***Linear Algebra with NumPy:***"
      ],
      "metadata": {
        "id": "c0Qfz7CTSmFI"
      }
    },
    {
      "cell_type": "markdown",
      "source": [
        "**Vector and Matrix Creation:**"
      ],
      "metadata": {
        "id": "GWqOcX6hVTQ9"
      }
    },
    {
      "cell_type": "code",
      "source": [
        "import numpy as np\n",
        "\n",
        "# Creating a vector\n",
        "v = np.array([1, 2, 3])\n",
        "print(\"Vector:\\n\", v)\n",
        "\n",
        "# Creating a matrix\n",
        "m = np.array([[1, 2, 3], [4, 5, 6], [7, 8, 9]])\n",
        "print(\"Matrix:\\n\", m)\n",
        "\n",
        "# Creating an identity matrix\n",
        "i = np.eye(3)\n",
        "print(\"Identity Matrix:\\n\", i)\n",
        "\n",
        "# Creating a diagonal matrix\n",
        "d = np.diag([1, 2, 3])\n",
        "print(\"Diagonal Matrix:\\n\", d)"
      ],
      "metadata": {
        "colab": {
          "base_uri": "https://localhost:8080/"
        },
        "id": "vuLiQz93VYRX",
        "outputId": "6be24a96-50bb-4794-988a-da8b05ca35c8"
      },
      "execution_count": 9,
      "outputs": [
        {
          "output_type": "stream",
          "name": "stdout",
          "text": [
            "Vector:\n",
            " [1 2 3]\n",
            "Matrix:\n",
            " [[1 2 3]\n",
            " [4 5 6]\n",
            " [7 8 9]]\n",
            "Identity Matrix:\n",
            " [[1. 0. 0.]\n",
            " [0. 1. 0.]\n",
            " [0. 0. 1.]]\n",
            "Diagonal Matrix:\n",
            " [[1 0 0]\n",
            " [0 2 0]\n",
            " [0 0 3]]\n"
          ]
        }
      ]
    },
    {
      "cell_type": "markdown",
      "source": [
        "# **Matrix Operations:**"
      ],
      "metadata": {
        "id": "ynIZ0YhOVkJB"
      }
    },
    {
      "cell_type": "markdown",
      "source": [
        "Matrix Addition"
      ],
      "metadata": {
        "id": "YM1yT4XRTLZz"
      }
    },
    {
      "cell_type": "code",
      "execution_count": 1,
      "metadata": {
        "id": "8Z2NG8qXaxJy",
        "colab": {
          "base_uri": "https://localhost:8080/"
        },
        "outputId": "726d3da0-1b07-4e63-c71e-0dcc46561ea9"
      },
      "outputs": [
        {
          "output_type": "stream",
          "name": "stdout",
          "text": [
            "Matrix Addition:\n",
            " [[10 10 10]\n",
            " [10 10 10]\n",
            " [10 10 10]]\n"
          ]
        }
      ],
      "source": [
        "import numpy as np\n",
        "\n",
        "# Create two matrices\n",
        "m1 = np.array([[1, 2, 3], [4, 5, 6], [7, 8, 9]])\n",
        "m2 = np.array([[9, 8, 7], [6, 5, 4], [3, 2, 1]])\n",
        "\n",
        "# Add the matrices\n",
        "m_sum = m1 + m2\n",
        "\n",
        "# Print the result\n",
        "print(\"Matrix Addition:\\n\", m_sum)"
      ]
    },
    {
      "cell_type": "markdown",
      "source": [
        "Matrix Multiplication"
      ],
      "metadata": {
        "id": "ylSnaVY2TSQE"
      }
    },
    {
      "cell_type": "code",
      "source": [
        "import numpy as np\n",
        "\n",
        "# Create two matrices\n",
        "m1 = np.array([[1, 2, 3], [4, 5, 6], [7, 8, 9]])\n",
        "m2 = np.array([[9, 8, 7], [6, 5, 4], [3, 2, 1]])\n",
        "\n",
        "# Multiply the matrices\n",
        "m_prod = m1 @ m2\n",
        "# Print the result\n",
        "print(\"Matrix Multiplication:\\n\", m_prod)"
      ],
      "metadata": {
        "colab": {
          "base_uri": "https://localhost:8080/"
        },
        "id": "xqTQL07dTTGe",
        "outputId": "4a2fcfd0-9c53-4f9f-e85e-a91b20ef5dce"
      },
      "execution_count": 2,
      "outputs": [
        {
          "output_type": "stream",
          "name": "stdout",
          "text": [
            "Matrix Multiplication:\n",
            " [[ 30  24  18]\n",
            " [ 84  69  54]\n",
            " [138 114  90]]\n"
          ]
        }
      ]
    },
    {
      "cell_type": "markdown",
      "source": [
        "Matrix Transpose"
      ],
      "metadata": {
        "id": "rLsjRtldTezJ"
      }
    },
    {
      "cell_type": "code",
      "source": [
        "import numpy as np\n",
        "\n",
        "# Create a matrix\n",
        "m1 = np.array([[1, 2, 3], [4, 5, 6], [7, 8, 9]])\n",
        "\n",
        "# Transpose the matrix\n",
        "m_trans = m1.T\n",
        "\n",
        "# Print the result\n",
        "print(\"Matrix Transpose:\\n\", m_trans)\n"
      ],
      "metadata": {
        "colab": {
          "base_uri": "https://localhost:8080/"
        },
        "id": "zywJ5QJhThI3",
        "outputId": "ab25e6d8-337a-48dd-f525-4b5fdc4560b0"
      },
      "execution_count": 3,
      "outputs": [
        {
          "output_type": "stream",
          "name": "stdout",
          "text": [
            "Matrix Transpose:\n",
            " [[1 4 7]\n",
            " [2 5 8]\n",
            " [3 6 9]]\n"
          ]
        }
      ]
    },
    {
      "cell_type": "markdown",
      "source": [
        "Matrix Determinant"
      ],
      "metadata": {
        "id": "kA6DQv7TTksN"
      }
    },
    {
      "cell_type": "code",
      "source": [
        "import numpy as np\n",
        "\n",
        "# Create a matrix\n",
        "m1 = np.array([[1, 2, 3], [4, 5, 6], [7, 8, 9]])\n",
        "\n",
        "# Calculate the determinant\n",
        "m_det = np.linalg.det(m1)\n",
        "\n",
        "# Print the result\n",
        "print(\"Matrix Determinant:\", m_det)"
      ],
      "metadata": {
        "colab": {
          "base_uri": "https://localhost:8080/"
        },
        "id": "qDmWhXo5Tm57",
        "outputId": "d607bddf-0669-4c98-adee-eddd57e48e35"
      },
      "execution_count": 4,
      "outputs": [
        {
          "output_type": "stream",
          "name": "stdout",
          "text": [
            "Matrix Determinant: 0.0\n"
          ]
        }
      ]
    },
    {
      "cell_type": "markdown",
      "source": [
        "Matrix Inverse"
      ],
      "metadata": {
        "id": "N9ZDgVbBTsFk"
      }
    },
    {
      "cell_type": "code",
      "source": [
        "# Create a non-singular matrix\n",
        "m1 = np.array([[1, 2, 1], [4, 5, 6], [7, 8, 9]])\n",
        "\n",
        "# Calculate the inverse\n",
        "m_inv = np.linalg.inv(m1)\n",
        "\n",
        "# Print the result\n",
        "print(\"Matrix Inverse:\\n\", m_inv)"
      ],
      "metadata": {
        "colab": {
          "base_uri": "https://localhost:8080/"
        },
        "id": "3teSj2eWTu3K",
        "outputId": "709d644f-6249-41cf-8ce9-7996fef4967f"
      },
      "execution_count": 17,
      "outputs": [
        {
          "output_type": "stream",
          "name": "stdout",
          "text": [
            "Matrix Inverse:\n",
            " [[-0.5        -1.66666667  1.16666667]\n",
            " [ 1.          0.33333333 -0.33333333]\n",
            " [-0.5         1.         -0.5       ]]\n"
          ]
        }
      ]
    },
    {
      "cell_type": "markdown",
      "source": [
        "Matrix Rank"
      ],
      "metadata": {
        "id": "2mY1JCOiT4SE"
      }
    },
    {
      "cell_type": "code",
      "source": [
        "import numpy as np\n",
        "\n",
        "# Create a matrix\n",
        "m1 = np.array([[1, 2, 3], [4, 5, 6], [7, 8, 9]])\n",
        "\n",
        "# Calculate the rank\n",
        "m_rank = np.linalg.matrix_rank(m1)\n",
        "\n",
        "# Print the result\n",
        "print(\"Matrix Rank:\", m_rank)"
      ],
      "metadata": {
        "colab": {
          "base_uri": "https://localhost:8080/"
        },
        "id": "MdqvGt1uT8Sh",
        "outputId": "2f1401bf-54a3-4c9c-b146-b1bf916b8c1a"
      },
      "execution_count": 6,
      "outputs": [
        {
          "output_type": "stream",
          "name": "stdout",
          "text": [
            "Matrix Rank: 2\n"
          ]
        }
      ]
    },
    {
      "cell_type": "markdown",
      "source": [
        "Eigenvalues and Eigenvectors\n"
      ],
      "metadata": {
        "id": "N4NrTojKUBIP"
      }
    },
    {
      "cell_type": "code",
      "source": [
        "import numpy as np\n",
        "\n",
        "# Create a matrix\n",
        "m1 = np.array([[1, 2, 3], [4, 5, 6], [7, 8, 9]])\n",
        "\n",
        "# Calculate the eigenvalues and eigenvectors\n",
        "m_eig = np.linalg.eig(m1)\n",
        "\n",
        "# Print the result\n",
        "print(\"Eigenvalues and Eigenvectors:\\n\", m_eig)"
      ],
      "metadata": {
        "colab": {
          "base_uri": "https://localhost:8080/"
        },
        "id": "NTd3Xgx3UD4g",
        "outputId": "79a7fa39-0483-4630-ac4d-9b986d6eca90"
      },
      "execution_count": 7,
      "outputs": [
        {
          "output_type": "stream",
          "name": "stdout",
          "text": [
            "Eigenvalues and Eigenvectors:\n",
            " (array([ 1.61168440e+01, -1.11684397e+00, -1.30367773e-15]), array([[-0.23197069, -0.78583024,  0.40824829],\n",
            "       [-0.52532209, -0.08675134, -0.81649658],\n",
            "       [-0.8186735 ,  0.61232756,  0.40824829]]))\n"
          ]
        }
      ]
    },
    {
      "cell_type": "markdown",
      "source": [
        "Solving Linear Equations"
      ],
      "metadata": {
        "id": "7uHJBXrNUG5M"
      }
    },
    {
      "cell_type": "code",
      "source": [
        "\n",
        "# Define the coefficients and constants\n",
        "A = np.array([[2, 3], [5, 4]])\n",
        "b = np.array([8, 13])\n",
        "\n",
        "# Solve the equations\n",
        "x = np.linalg.solve(A, b)\n",
        "\n",
        "# Print the result\n",
        "print(\"Solutions to Linear Equations:\", x)"
      ],
      "metadata": {
        "colab": {
          "base_uri": "https://localhost:8080/"
        },
        "id": "xh3IMA-iULNQ",
        "outputId": "10faeae5-63ab-4462-f79b-2e5bba6f56a5"
      },
      "execution_count": 8,
      "outputs": [
        {
          "output_type": "stream",
          "name": "stdout",
          "text": [
            "Solutions to Linear Equations: [1. 2.]\n"
          ]
        }
      ]
    },
    {
      "cell_type": "markdown",
      "source": [
        "# **statistical functions with numpy**"
      ],
      "metadata": {
        "id": "LVWUfgdoWDP9"
      }
    },
    {
      "cell_type": "markdown",
      "source": [
        "Mean"
      ],
      "metadata": {
        "id": "hkOL5NpxWGb7"
      }
    },
    {
      "cell_type": "code",
      "source": [
        "import numpy as np\n",
        "\n",
        "# Create a 1D array\n",
        "arr = np.array([1, 2, 3, 4, 5])\n",
        "\n",
        "# Calculate the mean\n",
        "mean = np.mean(arr)\n",
        "\n",
        "# Print the result\n",
        "print(\"Mean:\", mean)"
      ],
      "metadata": {
        "colab": {
          "base_uri": "https://localhost:8080/"
        },
        "id": "ttiFrrcZWIs4",
        "outputId": "ef2e2f6a-61ad-4158-a7e2-42ac6a9576ba"
      },
      "execution_count": 10,
      "outputs": [
        {
          "output_type": "stream",
          "name": "stdout",
          "text": [
            "Mean: 3.0\n"
          ]
        }
      ]
    },
    {
      "cell_type": "markdown",
      "source": [
        "Median"
      ],
      "metadata": {
        "id": "y-q2BnYoWM5H"
      }
    },
    {
      "cell_type": "code",
      "source": [
        "# Create a 1D array\n",
        "arr = np.array([1, 2, 3, 4, 5])\n",
        "\n",
        "# Calculate the median\n",
        "median = np.median(arr)\n",
        "\n",
        "# Print the result\n",
        "print(\"Median:\", median)"
      ],
      "metadata": {
        "colab": {
          "base_uri": "https://localhost:8080/"
        },
        "id": "KUkXQ1mlWO1z",
        "outputId": "7c9c28eb-3c03-49d4-ea4d-bb660c31f7f4"
      },
      "execution_count": 11,
      "outputs": [
        {
          "output_type": "stream",
          "name": "stdout",
          "text": [
            "Median: 3.0\n"
          ]
        }
      ]
    },
    {
      "cell_type": "markdown",
      "source": [
        "Mode"
      ],
      "metadata": {
        "id": "Au1vnW36Wcrf"
      }
    },
    {
      "cell_type": "code",
      "source": [
        "# Create a 1D array\n",
        "arr = np.array([1, 2, 3, 3, 4, 4, 4, 5, 5])\n",
        "\n",
        "# Calculate the mode\n",
        "mode, count = np.unique(arr, return_counts=True)\n",
        "mode_idx = np.argmax(count)\n",
        "mode_val = mode[mode_idx]\n",
        "\n",
        "# Print the result\n",
        "print(\"Mode:\", mode_val)"
      ],
      "metadata": {
        "colab": {
          "base_uri": "https://localhost:8080/"
        },
        "id": "ykycO6s0WgLV",
        "outputId": "abcae245-a19d-43c9-dc24-5456a739873d"
      },
      "execution_count": 12,
      "outputs": [
        {
          "output_type": "stream",
          "name": "stdout",
          "text": [
            "Mode: 4\n"
          ]
        }
      ]
    },
    {
      "cell_type": "markdown",
      "source": [
        "Standard Deviation"
      ],
      "metadata": {
        "id": "3fKeIqRfWjZ8"
      }
    },
    {
      "cell_type": "code",
      "source": [
        "# Create a 1D array\n",
        "arr = np.array([1, 2, 3, 4, 5])\n",
        "\n",
        "# Calculate the standard deviation\n",
        "std_dev = np.std(arr)\n",
        "\n",
        "# Print the result\n",
        "print(\"Standard Deviation:\", std_dev)"
      ],
      "metadata": {
        "colab": {
          "base_uri": "https://localhost:8080/"
        },
        "id": "N9lOw4JoWmOU",
        "outputId": "45543af3-8e8b-499d-8825-6d57692649ec"
      },
      "execution_count": 13,
      "outputs": [
        {
          "output_type": "stream",
          "name": "stdout",
          "text": [
            "Standard Deviation: 1.4142135623730951\n"
          ]
        }
      ]
    },
    {
      "cell_type": "markdown",
      "source": [
        "Variance"
      ],
      "metadata": {
        "id": "qKt1jlGhWqCa"
      }
    },
    {
      "cell_type": "code",
      "source": [
        "# Create a 1D array\n",
        "arr = np.array([1, 2, 3, 4, 5])\n",
        "\n",
        "# Calculate the variance\n",
        "variance = np.var(arr)\n",
        "\n",
        "# Print the result\n",
        "print(\"Variance:\", variance)"
      ],
      "metadata": {
        "colab": {
          "base_uri": "https://localhost:8080/"
        },
        "id": "GgmelzxdWrd2",
        "outputId": "01d9c319-c7d5-4ba2-e0e0-c666748d1ed6"
      },
      "execution_count": 14,
      "outputs": [
        {
          "output_type": "stream",
          "name": "stdout",
          "text": [
            "Variance: 2.0\n"
          ]
        }
      ]
    },
    {
      "cell_type": "markdown",
      "source": [
        "Percentile"
      ],
      "metadata": {
        "id": "XHjDPcjPWvdd"
      }
    },
    {
      "cell_type": "code",
      "source": [
        "import numpy as np\n",
        "\n",
        "# Create a 1D array\n",
        "arr = np.array([1, 2, 3, 4, 5])\n",
        "\n",
        "# Calculate the 50th percentile\n",
        "percentile = np.percentile(arr, 50)\n",
        "\n",
        "# Print the result\n",
        "print(\"50th Percentile:\", percentile)"
      ],
      "metadata": {
        "id": "QlIhsLsUWw-S"
      },
      "execution_count": null,
      "outputs": []
    },
    {
      "cell_type": "markdown",
      "source": [
        "Correlation Coefficient"
      ],
      "metadata": {
        "id": "lOXKvrdWWvaJ"
      }
    },
    {
      "cell_type": "code",
      "source": [
        "# Create two 1D arrays\n",
        "arr1 = np.array([1, 2, 3, 4, 5])\n",
        "arr2 = np.array([2, 4, 6, 8, 10])\n",
        "\n",
        "# Calculate the correlation coefficient\n",
        "corr_coeff = np.corrcoef(arr1, arr2)[0, 1]\n",
        "\n",
        "# Print the result\n",
        "print(\"Correlation Coefficient:\", corr_coeff)"
      ],
      "metadata": {
        "colab": {
          "base_uri": "https://localhost:8080/"
        },
        "id": "Q1sxdsxlW7At",
        "outputId": "7f991b60-cabf-4d28-c691-aee8351ba87c"
      },
      "execution_count": 15,
      "outputs": [
        {
          "output_type": "stream",
          "name": "stdout",
          "text": [
            "Correlation Coefficient: 0.9999999999999999\n"
          ]
        }
      ]
    },
    {
      "cell_type": "markdown",
      "source": [
        "Normal Distribution"
      ],
      "metadata": {
        "id": "4vM6RlRkXC3V"
      }
    },
    {
      "cell_type": "code",
      "source": [
        "import matplotlib.pyplot as plt\n",
        "\n",
        "# Create an array with 100000 samples from a normal distribution\n",
        "mu, sigma = 0, 0.1\n",
        "samples = np.random.normal(mu, sigma, 100000)\n",
        "\n",
        "# Plot the histogram of the samples\n",
        "count, bins, ignored = plt.hist(samples, 30, density=True)\n",
        "\n",
        "# Plot the normal distribution\n",
        "plt.plot(bins, 1/(sigma * np.sqrt(2 * np.pi)) * np.exp(-(bins - mu)**2 / (2 * sigma**2)), linewidth=2, color='r')\n",
        "\n",
        "# Show the plot\n",
        "plt.show()"
      ],
      "metadata": {
        "colab": {
          "base_uri": "https://localhost:8080/",
          "height": 430
        },
        "id": "9NfPIhyPXF9e",
        "outputId": "01b2424c-59f9-4f1a-fdf9-2e1615cbc2ef"
      },
      "execution_count": 16,
      "outputs": [
        {
          "output_type": "display_data",
          "data": {
            "text/plain": [
              "<Figure size 640x480 with 1 Axes>"
            ],
            "image/png": "[encoded data removed]"
          },
          "metadata": {}
        }
      ]
    }
  ]
}