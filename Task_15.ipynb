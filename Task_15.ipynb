{
  "nbformat": 4,
  "nbformat_minor": 0,
  "metadata": {
    "colab": {
      "provenance": [],
      "mount_file_id": "1Oge6efQJDiiHchRTcOuuH01DG57M8dov",
      "authorship_tag": "ABX9TyPdmXo7ecYVlQLDVV5W2f8F",
      "include_colab_link": true
    },
    "kernelspec": {
      "name": "python3",
      "display_name": "Python 3"
    },
    "language_info": {
      "name": "python"
    }
  },
  "cells": [
    {
      "cell_type": "markdown",
      "metadata": {
        "id": "view-in-github",
        "colab_type": "text"
      },
      "source": [
        "<a href=\"https://colab.research.google.com/github/ayesha-119/Deep-Learning-BWF/blob/master/Task_15.ipynb\" target=\"_parent\"><img src=\"https://colab.research.google.com/assets/colab-badge.svg\" alt=\"Open In Colab\"/></a>"
      ]
    },
    {
      "cell_type": "markdown",
      "source": [
        "# **🔴 Task 15**\n",
        "\n",
        "Topics: Handling Missing Data, Filling and Replacing Values, Removing Duplicates, Detecting and Removing Outliers\n",
        "\n",
        "Resource: https://drive.google.com/file/d/1ILp88f3u_KgJ_nlhTSsAVGdmZlICGhhd/view?usp=share_link"
      ],
      "metadata": {
        "id": "Hvb-APNdbH_I"
      }
    },
    {
      "cell_type": "markdown",
      "source": [
        "# **Handling Missing Data**"
      ],
      "metadata": {
        "id": "bJYp3CB8GEph"
      }
    },
    {
      "cell_type": "code",
      "execution_count": 30,
      "metadata": {
        "id": "DlyXiC8TZ2NB",
        "colab": {
          "base_uri": "https://localhost:8080/"
        },
        "outputId": "8d3c88bb-bbe3-4cb6-a275-874d567d4aef"
      },
      "outputs": [
        {
          "output_type": "stream",
          "name": "stdout",
          "text": [
            "      longitude  latitude  housing_median_age  total_rooms  total_bedrooms  \\\n",
            "0         False     False               False        False           False   \n",
            "1         False     False               False        False           False   \n",
            "2         False     False               False        False           False   \n",
            "3         False     False               False        False           False   \n",
            "4         False     False               False        False           False   \n",
            "...         ...       ...                 ...          ...             ...   \n",
            "2995      False     False               False        False           False   \n",
            "2996      False     False               False        False           False   \n",
            "2997      False     False               False        False           False   \n",
            "2998      False     False               False        False           False   \n",
            "2999      False     False               False        False           False   \n",
            "\n",
            "      population  households  median_income  median_house_value  \n",
            "0          False       False          False               False  \n",
            "1          False       False          False               False  \n",
            "2          False       False          False               False  \n",
            "3          False       False          False               False  \n",
            "4          False       False          False               False  \n",
            "...          ...         ...            ...                 ...  \n",
            "2995       False       False          False               False  \n",
            "2996       False       False          False               False  \n",
            "2997       False       False          False               False  \n",
            "2998       False       False          False               False  \n",
            "2999       False       False          False               False  \n",
            "\n",
            "[3000 rows x 9 columns]\n"
          ]
        }
      ],
      "source": [
        "import pandas as pd\n",
        "df = pd.read_csv('/content/sample_data/california_housing_test.csv')\n",
        "missing_values = df.isna()\n",
        "print(missing_values)"
      ]
    },
    {
      "cell_type": "markdown",
      "source": [
        "The isna() method returns a DataFrame with the same shape as the original DataFrame, where each cell contains a boolean value indicating whether it's a missing value or not.\n",
        "\n",
        "\n",
        "To count the number of missing values in each column, we can use the sum() method:"
      ],
      "metadata": {
        "id": "V6TFP081HeF4"
      }
    },
    {
      "cell_type": "code",
      "source": [
        "missing_values_count = df.isna().sum()\n",
        "print(missing_values_count)"
      ],
      "metadata": {
        "colab": {
          "base_uri": "https://localhost:8080/"
        },
        "id": "14i88L1FHjPs",
        "outputId": "38d49064-4a2e-4408-9f45-401e1b91922d"
      },
      "execution_count": 31,
      "outputs": [
        {
          "output_type": "stream",
          "name": "stdout",
          "text": [
            "longitude             0\n",
            "latitude              0\n",
            "housing_median_age    0\n",
            "total_rooms           0\n",
            "total_bedrooms        0\n",
            "population            0\n",
            "households            0\n",
            "median_income         0\n",
            "median_house_value    0\n",
            "dtype: int64\n"
          ]
        }
      ]
    },
    {
      "cell_type": "markdown",
      "source": [
        "# **Filtering Out Missing Data**"
      ],
      "metadata": {
        "id": "nDn-TQguHw_I"
      }
    },
    {
      "cell_type": "markdown",
      "source": [
        "**Filter rows with missing data**\n",
        "\n",
        "\n",
        "1.  Load the dataset into a Pandas DataFrame\n",
        "\n",
        "2.  Remove rows with missing data using the dropna() function\n",
        "\n",
        "\n",
        "\n"
      ],
      "metadata": {
        "id": "GDFdjKkmJfN1"
      }
    },
    {
      "cell_type": "code",
      "source": [
        "df = pd.read_csv('/content/sample_data/mnist_train_small.csv')\n",
        "df.dropna(inplace = True)\n",
        "print(df.head())"
      ],
      "metadata": {
        "colab": {
          "base_uri": "https://localhost:8080/"
        },
        "id": "05MNxFMPJqs1",
        "outputId": "7618c71c-37c9-45f3-b41c-d543fee8333b"
      },
      "execution_count": 32,
      "outputs": [
        {
          "output_type": "stream",
          "name": "stdout",
          "text": [
            "   6  0  0.1  0.2  0.3  0.4  0.5  0.6  0.7  0.8  ...  0.581  0.582  0.583  \\\n",
            "0  5  0    0    0    0    0    0    0    0    0  ...      0      0      0   \n",
            "1  7  0    0    0    0    0    0    0    0    0  ...      0      0      0   \n",
            "2  9  0    0    0    0    0    0    0    0    0  ...      0      0      0   \n",
            "3  5  0    0    0    0    0    0    0    0    0  ...      0      0      0   \n",
            "4  2  0    0    0    0    0    0    0    0    0  ...      0      0      0   \n",
            "\n",
            "   0.584  0.585  0.586  0.587  0.588  0.589  0.590  \n",
            "0      0      0      0      0      0      0      0  \n",
            "1      0      0      0      0      0      0      0  \n",
            "2      0      0      0      0      0      0      0  \n",
            "3      0      0      0      0      0      0      0  \n",
            "4      0      0      0      0      0      0      0  \n",
            "\n",
            "[5 rows x 785 columns]\n"
          ]
        }
      ]
    },
    {
      "cell_type": "markdown",
      "source": [
        "**Filter columns with missing data**\n",
        "\n",
        "\n",
        "1.   Load the dataset into a Pandas DataFrame\n",
        "2.   Remove columns with missing data using the dropna() function with the axis parameter set to 1\n",
        "\n",
        "\n"
      ],
      "metadata": {
        "id": "zOKcwcleKOq8"
      }
    },
    {
      "cell_type": "code",
      "source": [
        "import pandas as pd\n",
        "\n",
        "# Load dataset\n",
        "df = pd.read_csv('/content/sample_data/mnist_train_small.csv')\n",
        "\n",
        "# Filter columns with missing data\n",
        "df.dropna(axis=1, inplace=True)\n",
        "\n",
        "# Display filtered dataset\n",
        "print(df.head())"
      ],
      "metadata": {
        "colab": {
          "base_uri": "https://localhost:8080/"
        },
        "id": "52fV8P4LKZEJ",
        "outputId": "7c200358-d847-4877-91ba-92d6c815444f"
      },
      "execution_count": 33,
      "outputs": [
        {
          "output_type": "stream",
          "name": "stdout",
          "text": [
            "   6  0  0.1  0.2  0.3  0.4  0.5  0.6  0.7  0.8  ...  0.581  0.582  0.583  \\\n",
            "0  5  0    0    0    0    0    0    0    0    0  ...      0      0      0   \n",
            "1  7  0    0    0    0    0    0    0    0    0  ...      0      0      0   \n",
            "2  9  0    0    0    0    0    0    0    0    0  ...      0      0      0   \n",
            "3  5  0    0    0    0    0    0    0    0    0  ...      0      0      0   \n",
            "4  2  0    0    0    0    0    0    0    0    0  ...      0      0      0   \n",
            "\n",
            "   0.584  0.585  0.586  0.587  0.588  0.589  0.590  \n",
            "0      0      0      0      0      0      0      0  \n",
            "1      0      0      0      0      0      0      0  \n",
            "2      0      0      0      0      0      0      0  \n",
            "3      0      0      0      0      0      0      0  \n",
            "4      0      0      0      0      0      0      0  \n",
            "\n",
            "[5 rows x 785 columns]\n"
          ]
        }
      ]
    },
    {
      "cell_type": "markdown",
      "source": [
        "**Filter rows based on the percentage of missing data**\n",
        "\n",
        "\n",
        "\n",
        "1.  Load the dataset into a Pandas DataFrame\n",
        "2.  Calculate the percentage of missing data in each row\n",
        "Filter rows with a percentage of missing data greater than a specified threshold using boolean indexing"
      ],
      "metadata": {
        "id": "7HVTCIQ1Kxd2"
      }
    },
    {
      "cell_type": "code",
      "source": [
        "import pandas as pd\n",
        "\n",
        "# Load dataset\n",
        "df = pd.read_csv('/content/drive/MyDrive/titanic/train.csv')\n",
        "\n",
        "# Calculate percentage of missing data in each row\n",
        "missing_percentage = (df.isna().sum(axis=1) / len(df.columns)) * 100\n",
        "\n",
        "# Filter rows with a percentage of missing data greater than 50%\n",
        "threshold = 50\n",
        "filtered_df = df[missing_percentage <= threshold]\n",
        "\n",
        "# Display filtered dataset\n",
        "print(filtered_df.head())"
      ],
      "metadata": {
        "colab": {
          "base_uri": "https://localhost:8080/"
        },
        "id": "406644HaLhA5",
        "outputId": "3b956e90-62d3-4ff7-87b0-c1c571135e8f"
      },
      "execution_count": 34,
      "outputs": [
        {
          "output_type": "stream",
          "name": "stdout",
          "text": [
            "   PassengerId  Survived  Pclass  \\\n",
            "0            1         0       3   \n",
            "1            2         1       1   \n",
            "2            3         1       3   \n",
            "3            4         1       1   \n",
            "4            5         0       3   \n",
            "\n",
            "                                                Name     Sex   Age  SibSp  \\\n",
            "0                            Braund, Mr. Owen Harris    male  22.0      1   \n",
            "1  Cumings, Mrs. John Bradley (Florence Briggs Th...  female  38.0      1   \n",
            "2                             Heikkinen, Miss. Laina  female  26.0      0   \n",
            "3       Futrelle, Mrs. Jacques Heath (Lily May Peel)  female  35.0      1   \n",
            "4                           Allen, Mr. William Henry    male  35.0      0   \n",
            "\n",
            "   Parch            Ticket     Fare Cabin Embarked  \n",
            "0      0         A/5 21171   7.2500   NaN        S  \n",
            "1      0          PC 17599  71.2833   C85        C  \n",
            "2      0  STON/O2. 3101282   7.9250   NaN        S  \n",
            "3      0            113803  53.1000  C123        S  \n",
            "4      0            373450   8.0500   NaN        S  \n"
          ]
        }
      ]
    },
    {
      "cell_type": "markdown",
      "source": [
        "# **Filling In Missing Data**"
      ],
      "metadata": {
        "id": "RDtsHTE9S-cD"
      }
    },
    {
      "cell_type": "markdown",
      "source": [
        "**Fill missing values with the last known value**\n",
        "\n",
        "\n",
        "Use the fillna() function with the method parameter set to 'ffill' (short for forward-fill) to fill in missing values with the last known value"
      ],
      "metadata": {
        "id": "3Ff8D7MURiNh"
      }
    },
    {
      "cell_type": "code",
      "source": [
        "df.fillna(0, inplace=True)\n",
        "print(df.head())"
      ],
      "metadata": {
        "colab": {
          "base_uri": "https://localhost:8080/"
        },
        "id": "hrqymaZYHzPJ",
        "outputId": "c9d3f034-6c05-426c-9d64-8f96b12cb7a9"
      },
      "execution_count": 35,
      "outputs": [
        {
          "output_type": "stream",
          "name": "stdout",
          "text": [
            "   PassengerId  Survived  Pclass  \\\n",
            "0            1         0       3   \n",
            "1            2         1       1   \n",
            "2            3         1       3   \n",
            "3            4         1       1   \n",
            "4            5         0       3   \n",
            "\n",
            "                                                Name     Sex   Age  SibSp  \\\n",
            "0                            Braund, Mr. Owen Harris    male  22.0      1   \n",
            "1  Cumings, Mrs. John Bradley (Florence Briggs Th...  female  38.0      1   \n",
            "2                             Heikkinen, Miss. Laina  female  26.0      0   \n",
            "3       Futrelle, Mrs. Jacques Heath (Lily May Peel)  female  35.0      1   \n",
            "4                           Allen, Mr. William Henry    male  35.0      0   \n",
            "\n",
            "   Parch            Ticket     Fare Cabin Embarked  \n",
            "0      0         A/5 21171   7.2500     0        S  \n",
            "1      0          PC 17599  71.2833   C85        C  \n",
            "2      0  STON/O2. 3101282   7.9250     0        S  \n",
            "3      0            113803  53.1000  C123        S  \n",
            "4      0            373450   8.0500     0        S  \n"
          ]
        }
      ]
    },
    {
      "cell_type": "markdown",
      "source": [
        "**Fill missing values with the next known value**\n",
        "\n",
        "\n",
        "Use the fillna() function with the method parameter set to 'bfill' (short for backward-fill) to fill in missing values with the next known value"
      ],
      "metadata": {
        "id": "jzp7kr92SEuR"
      }
    },
    {
      "cell_type": "code",
      "source": [
        "# Fill missing values with next known value\n",
        "df.fillna(method='bfill', inplace=True)\n",
        "\n",
        "# Display filled dataset\n",
        "print(df.head())"
      ],
      "metadata": {
        "colab": {
          "base_uri": "https://localhost:8080/"
        },
        "id": "xxFc9q_pSMHJ",
        "outputId": "a215f235-25bb-429f-8789-5bd8671b961e"
      },
      "execution_count": 36,
      "outputs": [
        {
          "output_type": "stream",
          "name": "stdout",
          "text": [
            "   PassengerId  Survived  Pclass  \\\n",
            "0            1         0       3   \n",
            "1            2         1       1   \n",
            "2            3         1       3   \n",
            "3            4         1       1   \n",
            "4            5         0       3   \n",
            "\n",
            "                                                Name     Sex   Age  SibSp  \\\n",
            "0                            Braund, Mr. Owen Harris    male  22.0      1   \n",
            "1  Cumings, Mrs. John Bradley (Florence Briggs Th...  female  38.0      1   \n",
            "2                             Heikkinen, Miss. Laina  female  26.0      0   \n",
            "3       Futrelle, Mrs. Jacques Heath (Lily May Peel)  female  35.0      1   \n",
            "4                           Allen, Mr. William Henry    male  35.0      0   \n",
            "\n",
            "   Parch            Ticket     Fare Cabin Embarked  \n",
            "0      0         A/5 21171   7.2500     0        S  \n",
            "1      0          PC 17599  71.2833   C85        C  \n",
            "2      0  STON/O2. 3101282   7.9250     0        S  \n",
            "3      0            113803  53.1000  C123        S  \n",
            "4      0            373450   8.0500     0        S  \n"
          ]
        }
      ]
    },
    {
      "cell_type": "markdown",
      "source": [
        "**Fill missing values with the mean, median and mode of the column**\n",
        "\n",
        "\n",
        "Use the fillna() function with the value parameter set to the mean value of the column to fill in missing values with the column mean"
      ],
      "metadata": {
        "id": "TYUpVPwmSddc"
      }
    },
    {
      "cell_type": "code",
      "source": [
        "# Fill missing values with the mean of the column\n",
        "df.fillna(df.mean(), inplace=True)\n",
        "print(df.head())\n",
        "\n",
        "# Fill missing values with the median of the column\n",
        "df.fillna(df.median(), inplace=True)\n",
        "print(df.head())\n",
        "\n",
        "# Fill missing values with the mode of the column\n",
        "df.fillna(df.mode().iloc[0], inplace=True)\n",
        "print(df.head())"
      ],
      "metadata": {
        "colab": {
          "base_uri": "https://localhost:8080/"
        },
        "id": "omFZ1OLcInaY",
        "outputId": "a460c8dd-57c6-457e-b474-44a289eef888"
      },
      "execution_count": 37,
      "outputs": [
        {
          "output_type": "stream",
          "name": "stdout",
          "text": [
            "   PassengerId  Survived  Pclass  \\\n",
            "0            1         0       3   \n",
            "1            2         1       1   \n",
            "2            3         1       3   \n",
            "3            4         1       1   \n",
            "4            5         0       3   \n",
            "\n",
            "                                                Name     Sex   Age  SibSp  \\\n",
            "0                            Braund, Mr. Owen Harris    male  22.0      1   \n",
            "1  Cumings, Mrs. John Bradley (Florence Briggs Th...  female  38.0      1   \n",
            "2                             Heikkinen, Miss. Laina  female  26.0      0   \n",
            "3       Futrelle, Mrs. Jacques Heath (Lily May Peel)  female  35.0      1   \n",
            "4                           Allen, Mr. William Henry    male  35.0      0   \n",
            "\n",
            "   Parch            Ticket     Fare Cabin Embarked  \n",
            "0      0         A/5 21171   7.2500     0        S  \n",
            "1      0          PC 17599  71.2833   C85        C  \n",
            "2      0  STON/O2. 3101282   7.9250     0        S  \n",
            "3      0            113803  53.1000  C123        S  \n",
            "4      0            373450   8.0500     0        S  \n",
            "   PassengerId  Survived  Pclass  \\\n",
            "0            1         0       3   \n",
            "1            2         1       1   \n",
            "2            3         1       3   \n",
            "3            4         1       1   \n",
            "4            5         0       3   \n",
            "\n",
            "                                                Name     Sex   Age  SibSp  \\\n",
            "0                            Braund, Mr. Owen Harris    male  22.0      1   \n",
            "1  Cumings, Mrs. John Bradley (Florence Briggs Th...  female  38.0      1   \n",
            "2                             Heikkinen, Miss. Laina  female  26.0      0   \n",
            "3       Futrelle, Mrs. Jacques Heath (Lily May Peel)  female  35.0      1   \n",
            "4                           Allen, Mr. William Henry    male  35.0      0   \n",
            "\n",
            "   Parch            Ticket     Fare Cabin Embarked  \n",
            "0      0         A/5 21171   7.2500     0        S  \n",
            "1      0          PC 17599  71.2833   C85        C  \n",
            "2      0  STON/O2. 3101282   7.9250     0        S  \n",
            "3      0            113803  53.1000  C123        S  \n",
            "4      0            373450   8.0500     0        S  \n",
            "   PassengerId  Survived  Pclass  \\\n",
            "0            1         0       3   \n",
            "1            2         1       1   \n",
            "2            3         1       3   \n",
            "3            4         1       1   \n",
            "4            5         0       3   \n",
            "\n",
            "                                                Name     Sex   Age  SibSp  \\\n",
            "0                            Braund, Mr. Owen Harris    male  22.0      1   \n",
            "1  Cumings, Mrs. John Bradley (Florence Briggs Th...  female  38.0      1   \n",
            "2                             Heikkinen, Miss. Laina  female  26.0      0   \n",
            "3       Futrelle, Mrs. Jacques Heath (Lily May Peel)  female  35.0      1   \n",
            "4                           Allen, Mr. William Henry    male  35.0      0   \n",
            "\n",
            "   Parch            Ticket     Fare Cabin Embarked  \n",
            "0      0         A/5 21171   7.2500     0        S  \n",
            "1      0          PC 17599  71.2833   C85        C  \n",
            "2      0  STON/O2. 3101282   7.9250     0        S  \n",
            "3      0            113803  53.1000  C123        S  \n",
            "4      0            373450   8.0500     0        S  \n"
          ]
        },
        {
          "output_type": "stream",
          "name": "stderr",
          "text": [
            "<ipython-input-37-6e60fd766e2d>:2: FutureWarning: The default value of numeric_only in DataFrame.mean is deprecated. In a future version, it will default to False. In addition, specifying 'numeric_only=None' is deprecated. Select only valid columns or specify the value of numeric_only to silence this warning.\n",
            "  df.fillna(df.mean(), inplace=True)\n",
            "<ipython-input-37-6e60fd766e2d>:6: FutureWarning: The default value of numeric_only in DataFrame.median is deprecated. In a future version, it will default to False. In addition, specifying 'numeric_only=None' is deprecated. Select only valid columns or specify the value of numeric_only to silence this warning.\n",
            "  df.fillna(df.median(), inplace=True)\n"
          ]
        }
      ]
    },
    {
      "cell_type": "markdown",
      "source": [
        "# **Data Transformation**"
      ],
      "metadata": {
        "id": "oRssJlqKYi6d"
      }
    },
    {
      "cell_type": "markdown",
      "source": [
        "**Remove duplicates**"
      ],
      "metadata": {
        "id": "suDNuXY7YtlW"
      }
    },
    {
      "cell_type": "code",
      "source": [
        "import pandas as pd\n",
        "\n",
        "# Load dataset\n",
        "df = pd.read_csv('/content/drive/MyDrive/titanic/train.csv')\n",
        "\n",
        "# Drop duplicates\n",
        "df.drop_duplicates(inplace=True)\n",
        "\n",
        "# Display deduplicated dataset\n",
        "print(df.head())"
      ],
      "metadata": {
        "colab": {
          "base_uri": "https://localhost:8080/"
        },
        "id": "ikIj1_nCYxz1",
        "outputId": "605b27df-6127-4d33-bc23-db2597102f5a"
      },
      "execution_count": 38,
      "outputs": [
        {
          "output_type": "stream",
          "name": "stdout",
          "text": [
            "   PassengerId  Survived  Pclass  \\\n",
            "0            1         0       3   \n",
            "1            2         1       1   \n",
            "2            3         1       3   \n",
            "3            4         1       1   \n",
            "4            5         0       3   \n",
            "\n",
            "                                                Name     Sex   Age  SibSp  \\\n",
            "0                            Braund, Mr. Owen Harris    male  22.0      1   \n",
            "1  Cumings, Mrs. John Bradley (Florence Briggs Th...  female  38.0      1   \n",
            "2                             Heikkinen, Miss. Laina  female  26.0      0   \n",
            "3       Futrelle, Mrs. Jacques Heath (Lily May Peel)  female  35.0      1   \n",
            "4                           Allen, Mr. William Henry    male  35.0      0   \n",
            "\n",
            "   Parch            Ticket     Fare Cabin Embarked  \n",
            "0      0         A/5 21171   7.2500   NaN        S  \n",
            "1      0          PC 17599  71.2833   C85        C  \n",
            "2      0  STON/O2. 3101282   7.9250   NaN        S  \n",
            "3      0            113803  53.1000  C123        S  \n",
            "4      0            373450   8.0500   NaN        S  \n"
          ]
        }
      ]
    },
    {
      "cell_type": "markdown",
      "source": [
        "**Transform data using a function or mapping**\n",
        "\n",
        "Load the dataset into a Pandas DataFrame\n",
        "\n",
        "Define a custom function or mapping that takes a value and returns a transformed value\n",
        "\n",
        "Use the apply() function with the custom function or mapping to transform the data in a column"
      ],
      "metadata": {
        "id": "IODTGoIIaF-n"
      }
    },
    {
      "cell_type": "code",
      "source": [
        "import pandas as pd\n",
        "\n",
        "# Load Titanic dataset\n",
        "df = pd.read_csv('https://web.stanford.edu/class/archive/cs/cs109/cs109.1166/stuff/titanic.csv')\n",
        "\n",
        "# Define custom functions for data transformation\n",
        "def map_gender(gender):\n",
        "    if gender == 'male':\n",
        "        return 0\n",
        "    elif gender == 'female':\n",
        "        return 1\n",
        "    else:\n",
        "        return None\n",
        "\n",
        "def transform_age(age):\n",
        "    if pd.isnull(age):\n",
        "        return None\n",
        "    elif age <= 18:\n",
        "        return 'Child'\n",
        "    elif age <= 60:\n",
        "        return 'Adult'\n",
        "    else:\n",
        "        return 'Senior'\n",
        "\n",
        "# Apply custom functions to transform data\n",
        "df['Sex'] = df['Sex'].apply(map_gender)\n",
        "df['AgeGroup'] = df['Age'].apply(transform_age)\n",
        "\n",
        "# Display transformed dataset\n",
        "print(df.head())\n"
      ],
      "metadata": {
        "colab": {
          "base_uri": "https://localhost:8080/"
        },
        "id": "1qTBoDRNaMI8",
        "outputId": "3cecd314-e371-4758-b947-b06523bb32e3"
      },
      "execution_count": 39,
      "outputs": [
        {
          "output_type": "stream",
          "name": "stdout",
          "text": [
            "   Survived  Pclass                                               Name  Sex  \\\n",
            "0         0       3                             Mr. Owen Harris Braund    0   \n",
            "1         1       1  Mrs. John Bradley (Florence Briggs Thayer) Cum...    1   \n",
            "2         1       3                              Miss. Laina Heikkinen    1   \n",
            "3         1       1        Mrs. Jacques Heath (Lily May Peel) Futrelle    1   \n",
            "4         0       3                            Mr. William Henry Allen    0   \n",
            "\n",
            "    Age  Siblings/Spouses Aboard  Parents/Children Aboard     Fare AgeGroup  \n",
            "0  22.0                        1                        0   7.2500    Adult  \n",
            "1  38.0                        1                        0  71.2833    Adult  \n",
            "2  26.0                        0                        0   7.9250    Adult  \n",
            "3  35.0                        1                        0  53.1000    Adult  \n",
            "4  35.0                        0                        0   8.0500    Adult  \n"
          ]
        }
      ]
    },
    {
      "cell_type": "markdown",
      "source": [
        "**Replace values in a column**\n",
        "\n",
        "Load the dataset into a Pandas DataFrame\n",
        "\n",
        "Use the replace() function to replace all occurrences of a value with a new value in a column"
      ],
      "metadata": {
        "id": "s6DnjVR6auIR"
      }
    },
    {
      "cell_type": "code",
      "source": [
        "import pandas as pd\n",
        "\n",
        "# Load Titanic dataset\n",
        "df = pd.read_csv('https://web.stanford.edu/class/archive/cs/cs109/cs109.1166/stuff/titanic.csv')\n",
        "\n",
        "# Replace values in 'Sex' column\n",
        "df['Sex'].replace({'male': 'M', 'female': 'F'}, inplace=True)\n",
        "\n",
        "# Display modified dataset\n",
        "print(df.head())\n"
      ],
      "metadata": {
        "colab": {
          "base_uri": "https://localhost:8080/"
        },
        "id": "41lV6EO8azIp",
        "outputId": "35105919-44ef-40f9-ac27-38843dcd9325"
      },
      "execution_count": 40,
      "outputs": [
        {
          "output_type": "stream",
          "name": "stdout",
          "text": [
            "   Survived  Pclass                                               Name Sex  \\\n",
            "0         0       3                             Mr. Owen Harris Braund   M   \n",
            "1         1       1  Mrs. John Bradley (Florence Briggs Thayer) Cum...   F   \n",
            "2         1       3                              Miss. Laina Heikkinen   F   \n",
            "3         1       1        Mrs. Jacques Heath (Lily May Peel) Futrelle   F   \n",
            "4         0       3                            Mr. William Henry Allen   M   \n",
            "\n",
            "    Age  Siblings/Spouses Aboard  Parents/Children Aboard     Fare  \n",
            "0  22.0                        1                        0   7.2500  \n",
            "1  38.0                        1                        0  71.2833  \n",
            "2  26.0                        0                        0   7.9250  \n",
            "3  35.0                        1                        0  53.1000  \n",
            "4  35.0                        0                        0   8.0500  \n"
          ]
        }
      ]
    },
    {
      "cell_type": "markdown",
      "source": [
        "# **Detecting and Filtering Outliers**"
      ],
      "metadata": {
        "id": "b22Vcctucpaf"
      }
    },
    {
      "cell_type": "markdown",
      "source": [
        "**Detect outliers using z-scores**"
      ],
      "metadata": {
        "id": "oUK7tiTbcuQ6"
      }
    },
    {
      "cell_type": "code",
      "source": [
        "import pandas as pd\n",
        "import numpy as np\n",
        "\n",
        "# Load the dataset\n",
        "titanic = pd.read_csv('https://web.stanford.edu/class/archive/cs/cs109/cs109.1166/stuff/titanic.csv')\n",
        "\n",
        "# Define a function that calculates z-scores\n",
        "def zscore(col, threshold):\n",
        "  z = np.abs((col - col.mean()) / col.std())\n",
        "  return titanic[z > threshold]\n",
        "\n",
        "# Detect outliers in the 'Age' column with a threshold of 3\n",
        "outliers = zscore(titanic['Age'], 3)\n",
        "\n",
        "# Display a subset of the dataset containing only the rows where the z-score exceeds the threshold\n",
        "print(outliers.head())"
      ],
      "metadata": {
        "colab": {
          "base_uri": "https://localhost:8080/"
        },
        "id": "tIM-dVCocx8v",
        "outputId": "13de3fc9-cf98-4b5c-a62d-b741ce154630"
      },
      "execution_count": 41,
      "outputs": [
        {
          "output_type": "stream",
          "name": "stdout",
          "text": [
            "     Survived  Pclass                                 Name   Sex   Age  \\\n",
            "627         1       1  Mr. Algernon Henry Wilson Barkworth  male  80.0   \n",
            "847         0       3                   Mr. Johan Svensson  male  74.0   \n",
            "\n",
            "     Siblings/Spouses Aboard  Parents/Children Aboard    Fare  \n",
            "627                        0                        0  30.000  \n",
            "847                        0                        0   7.775  \n"
          ]
        }
      ]
    },
    {
      "cell_type": "markdown",
      "source": [
        "**Detect outliers using the interquartile range (IQR)**"
      ],
      "metadata": {
        "id": "nZflpCHyd28D"
      }
    },
    {
      "cell_type": "code",
      "source": [
        "import pandas as pd\n",
        "\n",
        "# Load the dataset\n",
        "titanic = pd.read_csv('https://web.stanford.edu/class/archive/cs/cs109/cs109.1166/stuff/titanic.csv')\n",
        "\n",
        "# Define a function that calculates the IQR\n",
        "def iqr(col, threshold):\n",
        "  q1 = col.quantile(0.25)\n",
        "  q3 = col.quantile(0.75)\n",
        "  iqr = q3 - q1\n",
        "  return titanic[(col < q1 - threshold * iqr) | (col > q3 + threshold * iqr)]\n",
        "\n",
        "# Detect outliers in the 'Fare' column with a threshold of 1.5\n",
        "outliers = iqr(titanic['Fare'], 1.5)\n",
        "\n",
        "# Display a subset of the dataset containing only the rows where the value is outside of the IQR range\n",
        "print(outliers.head())\n"
      ],
      "metadata": {
        "colab": {
          "base_uri": "https://localhost:8080/"
        },
        "id": "ogJrLjTzd9VE",
        "outputId": "7e556605-398f-4734-acb9-47329ab3df77"
      },
      "execution_count": 42,
      "outputs": [
        {
          "output_type": "stream",
          "name": "stdout",
          "text": [
            "    Survived  Pclass                                               Name  \\\n",
            "1          1       1  Mrs. John Bradley (Florence Briggs Thayer) Cum...   \n",
            "27         0       1                      Mr. Charles Alexander Fortune   \n",
            "31         1       1      Mrs. William Augustus (Marie Eugenie) Spencer   \n",
            "34         0       1                             Mr. Edgar Joseph Meyer   \n",
            "51         1       1            Mrs. Henry Sleeper (Myna Haxtun) Harper   \n",
            "\n",
            "       Sex   Age  Siblings/Spouses Aboard  Parents/Children Aboard      Fare  \n",
            "1   female  38.0                        1                        0   71.2833  \n",
            "27    male  19.0                        3                        2  263.0000  \n",
            "31  female  48.0                        1                        0  146.5208  \n",
            "34    male  28.0                        1                        0   82.1708  \n",
            "51  female  49.0                        1                        0   76.7292  \n"
          ]
        }
      ]
    },
    {
      "cell_type": "markdown",
      "source": [
        "**Replace outliers with a new value**"
      ],
      "metadata": {
        "id": "3nbwAvvCeHKQ"
      }
    },
    {
      "cell_type": "code",
      "source": [
        "# Define a function that replaces outliers with the median value\n",
        "def replace_outliers(col, method, threshold):\n",
        "  col_copy = col.copy() # Create a copy of the input column\n",
        "  if method == 'zscore':\n",
        "    z = np.abs((col_copy - col_copy.mean()) / col_copy.std())\n",
        "    col_copy[z > threshold] = col_copy.median()\n",
        "  elif method == 'iqr':\n",
        "    q1 = col_copy.quantile(0.25)\n",
        "    q3 = col_copy.quantile(0.75)\n",
        "    iqr = q3 - q1\n",
        "    lower_bound = q1 - (threshold * iqr)\n",
        "    upper_bound = q3 + (threshold * iqr)\n",
        "    col_copy[(col_copy < lower_bound) | (col_copy > upper_bound)] = col_copy.median()\n",
        "  return col_copy\n",
        "\n",
        "# Replace outliers in the 'Age' column using the z-score method\n",
        "replace_outliers(titanic['Age'], 'zscore', 3)\n",
        "\n",
        "# Replace outliers in the 'Fare' column using the IQR method\n",
        "replace_outliers(titanic['Fare'], 'iqr', 1.5)\n",
        "\n",
        "# Print the first few rows of the dataset\n",
        "print(titanic.head())\n"
      ],
      "metadata": {
        "colab": {
          "base_uri": "https://localhost:8080/"
        },
        "id": "-3Gv4wrHeK6y",
        "outputId": "1ff93193-a7af-4d68-cde2-b822a9bbfeb1"
      },
      "execution_count": 44,
      "outputs": [
        {
          "output_type": "stream",
          "name": "stdout",
          "text": [
            "   Survived  Pclass                                               Name  \\\n",
            "0         0       3                             Mr. Owen Harris Braund   \n",
            "1         1       1  Mrs. John Bradley (Florence Briggs Thayer) Cum...   \n",
            "2         1       3                              Miss. Laina Heikkinen   \n",
            "3         1       1        Mrs. Jacques Heath (Lily May Peel) Futrelle   \n",
            "4         0       3                            Mr. William Henry Allen   \n",
            "\n",
            "      Sex   Age  Siblings/Spouses Aboard  Parents/Children Aboard     Fare  \n",
            "0    male  22.0                        1                        0   7.2500  \n",
            "1  female  38.0                        1                        0  14.4542  \n",
            "2  female  26.0                        0                        0   7.9250  \n",
            "3  female  35.0                        1                        0  53.1000  \n",
            "4    male  35.0                        0                        0   8.0500  \n"
          ]
        }
      ]
    }
  ]
}