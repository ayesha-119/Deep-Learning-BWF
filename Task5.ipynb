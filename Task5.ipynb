{
  "nbformat": 4,
  "nbformat_minor": 0,
  "metadata": {
    "colab": {
      "provenance": [],
      "authorship_tag": "ABX9TyPlLjwD4xFSVUbm43sVyAlv",
      "include_colab_link": true
    },
    "kernelspec": {
      "name": "python3",
      "display_name": "Python 3"
    },
    "language_info": {
      "name": "python"
    }
  },
  "cells": [
    {
      "cell_type": "markdown",
      "metadata": {
        "id": "view-in-github",
        "colab_type": "text"
      },
      "source": [
        "<a href=\"https://colab.research.google.com/github/ayesha-119/Deep-Learning-BWF/blob/master/Task5.ipynb\" target=\"_parent\"><img src=\"https://colab.research.google.com/assets/colab-badge.svg\" alt=\"Open In Colab\"/></a>"
      ]
    },
    {
      "cell_type": "markdown",
      "source": [
        "# ***🔴 Task 05*** \n",
        "\n",
        "Topics: Enumerate() function, Timing Your Code, User Inputs, Conditionals, Introducing Set, Union, Intersection, Difference, Symmetric Difference, Making Data Unique with Sets\n",
        "\n",
        "Resource: https://drive.google.com/file/d/12HEIuGU0NRgJutUQkMUhGKo-Nr_YWYdq/view?usp=share_link\n"
      ],
      "metadata": {
        "id": "5CmB2ApITN2u"
      }
    },
    {
      "cell_type": "markdown",
      "source": [
        "# **Enumerate() function:** \n",
        "The enumerate() function is a built-in Python function that allows you to loop over an iterable object (like a list or tuple) and keep track of the index of the current item in the loop. The function returns an enumerate object, which contains pairs of index-value pairs."
      ],
      "metadata": {
        "id": "5mSpcIFODXt1"
      }
    },
    {
      "cell_type": "code",
      "source": [
        "# create a list of cars\n",
        "cars = ['Audi','BMW','Ferrari','rolls royce']\n",
        "for index, car in enumerate(cars):\n",
        "  print(index,car)"
      ],
      "metadata": {
        "colab": {
          "base_uri": "https://localhost:8080/"
        },
        "id": "QoUGer6FD0aV",
        "outputId": "465761c2-e4fa-4cf3-b864-ef9ecafc2069"
      },
      "execution_count": 28,
      "outputs": [
        {
          "output_type": "stream",
          "name": "stdout",
          "text": [
            "0 Audi\n",
            "1 BMW\n",
            "2 Ferrari\n",
            "3 rolls royce\n"
          ]
        }
      ]
    },
    {
      "cell_type": "markdown",
      "source": [
        "# **Timing your code:** "
      ],
      "metadata": {
        "id": "ShJa4jrbFn51"
      }
    },
    {
      "cell_type": "code",
      "source": [
        "import timeit\n",
        "\n",
        "# Using a for loop\n",
        "t1 = timeit.timeit(\"[i**2 for i in range(10000)]\", number=1000)\n",
        "\n",
        "# Using a list comprehension\n",
        "t2 = timeit.timeit(\"squares = []; [squares.append(i**2) for i in range(10000)]\", number=1000)\n",
        "\n",
        "print(f\"Squares using for loop: {t1:.6f} seconds\")\n",
        "print(f\"Squares using list comprehension: {t2:.6f} seconds\")"
      ],
      "metadata": {
        "colab": {
          "base_uri": "https://localhost:8080/"
        },
        "id": "Q-FGCTU9FsrE",
        "outputId": "0745b8dc-0059-4dda-fa5b-5d2168c5b934"
      },
      "execution_count": 48,
      "outputs": [
        {
          "output_type": "stream",
          "name": "stdout",
          "text": [
            "Squares using for loop: 2.365301 seconds\n",
            "Squares using list comprehension: 2.734786 seconds\n"
          ]
        }
      ]
    },
    {
      "cell_type": "markdown",
      "source": [
        "# ***User Input:***\n",
        "\n",
        "The input() function waits for the user to type something and press Enter, and then it returns whatever the user typed as a string."
      ],
      "metadata": {
        "id": "KKun1rDuT9ta"
      }
    },
    {
      "cell_type": "code",
      "source": [
        "name = input(\"Please enter your name: \")\n",
        "print(\"Hello, \" + name + \"!\")"
      ],
      "metadata": {
        "colab": {
          "base_uri": "https://localhost:8080/"
        },
        "id": "z0tNctyPUGJ6",
        "outputId": "bad0711c-3f41-43c5-b4d8-f6104b6ee927"
      },
      "execution_count": 50,
      "outputs": [
        {
          "output_type": "stream",
          "name": "stdout",
          "text": [
            "Please enter your name: Ayesha Younas\n",
            "Hello, Ayesha Younas!\n"
          ]
        }
      ]
    },
    {
      "cell_type": "code",
      "source": [
        "age = int(input(\"How old are you? \"))\n",
        "print(\"You will be \" + str(age + 10) + \" in ten years.\")"
      ],
      "metadata": {
        "colab": {
          "base_uri": "https://localhost:8080/"
        },
        "id": "qW7TsrUPU7so",
        "outputId": "cffe1966-bae6-461f-e217-d9faa348a243"
      },
      "execution_count": 51,
      "outputs": [
        {
          "output_type": "stream",
          "name": "stdout",
          "text": [
            "How old are you? 24\n",
            "You will be 34 in ten years.\n"
          ]
        }
      ]
    },
    {
      "cell_type": "markdown",
      "source": [
        "# **Conditional Tests:** Write a series of conditional tests. Print a statement\n",
        "describing each test and your prediction for the results of each test. Your code\n",
        "should look something like this:\n",
        "\n",
        "car = 'subaru'\n",
        "\n",
        "print(\"Is car == 'subaru'? I predict True.\")\n",
        "\n",
        "print(car == 'subaru')\n",
        "\n",
        "print(\"\\nIs car == 'audi'? I predict False.\")\n",
        "\n",
        "print(car == 'audi')\n",
        "\n",
        "• Look closely at your results, and make sure you understand why each line\n",
        "evaluates to True or False.\n",
        "\n",
        "• Create at least 10 tests. Have at least 5 tests evaluate to True and another\n",
        "5 tests evaluate to False."
      ],
      "metadata": {
        "id": "7NTVBVinTj3I"
      }
    },
    {
      "cell_type": "code",
      "execution_count": 24,
      "metadata": {
        "colab": {
          "base_uri": "https://localhost:8080/"
        },
        "id": "uBfB3cSPTMdE",
        "outputId": "b4761b4c-ce9e-4217-c925-d38933f6305f"
      },
      "outputs": [
        {
          "output_type": "stream",
          "name": "stdout",
          "text": [
            "Is car == 'subaru'? I predict True.\n",
            "True\n",
            "\n",
            "Is car == 'audi'? I predict False.\n",
            "False\n"
          ]
        }
      ],
      "source": [
        "car = 'subaru'\n",
        "\n",
        "print(\"Is car == 'subaru'? I predict True.\")\n",
        "\n",
        "print(car == 'subaru')\n",
        "\n",
        "print(\"\\nIs car == 'audi'? I predict False.\")\n",
        "\n",
        "print(car == 'audi')"
      ]
    },
    {
      "cell_type": "code",
      "source": [
        "# Test 1.......!\n",
        "age = 18\n",
        "print(\"\\nIs age < 21? I predict True.\")\n",
        "print(age < 21)\n",
        "\n",
        "print(\"\\nIs age > 21? I predict False.\")\n",
        "print(age > 21)\n",
        "\n",
        "# Test 2......!\n",
        "color = 'red'\n",
        "print(\"\\nIs color == 'red' and car == 'subaru'? I predict True.\")\n",
        "print(color == 'red' and car == 'subaru')\n",
        "\n",
        "print(\"\\nIs color == 'blue' or car == 'audi'? I predict False.\")\n",
        "print(color == 'blue' or car == 'audi')\n",
        "\n",
        "# Test 3.......!\n",
        "name = 'John'\n",
        "print(\"\\nIs name != 'Bob'? I predict True.\")\n",
        "print(name != 'Bob')\n",
        "\n",
        "print(\"\\nIs name == 'john'? I predict False.\")\n",
        "print(name == 'john')\n",
        "\n",
        "\n",
        "# Test 4.....!\n",
        "number = 7\n",
        "print(\"\\nIs number >= 7 and number <= 10? I predict True.\")\n",
        "print(number >= 7 and number <= 10)\n",
        "\n",
        "print(\"\\nIs number > 10 or number < 5? I predict False.\")\n",
        "print(number > 10 or number < 5)\n",
        "\n",
        "# Test 5 .......!\n",
        "grade = \"A\" \n",
        "print(\"\\n Is grade == 'A' I predict True \")\n",
        "print(grade == 'A')\n",
        "\n",
        "print(\"\\n Is grade != 'A' I predict True \")\n",
        "print(grade != 'A')"
      ],
      "metadata": {
        "colab": {
          "base_uri": "https://localhost:8080/"
        },
        "id": "_jpqSjRP-yj1",
        "outputId": "6b20ed42-6f58-44bd-d0c5-0c6a41204596"
      },
      "execution_count": 26,
      "outputs": [
        {
          "output_type": "stream",
          "name": "stdout",
          "text": [
            "\n",
            "Is age < 21? I predict True.\n",
            "True\n",
            "\n",
            "Is age > 21? I predict False.\n",
            "False\n",
            "\n",
            "Is color == 'red' and car == 'subaru'? I predict True.\n",
            "True\n",
            "\n",
            "Is color == 'blue' or car == 'audi'? I predict False.\n",
            "False\n",
            "\n",
            "Is name != 'Bob'? I predict True.\n",
            "True\n",
            "\n",
            "Is name == 'john'? I predict False.\n",
            "False\n",
            "\n",
            "Is number >= 7 and number <= 10? I predict True.\n",
            "True\n",
            "\n",
            "Is number > 10 or number < 5? I predict False.\n",
            "False\n",
            "\n",
            " Is grade == 'A' I predict True \n",
            "True\n",
            "\n",
            " Is grade != 'A' I predict True \n",
            "False\n"
          ]
        }
      ]
    },
    {
      "cell_type": "markdown",
      "source": [
        "**More Conditional Tests:** You don’t have to limit the number of tests you create to 10 If you want to try more comparisons, write more tests and add them to conditional_tests.py Have at least one True and one False result for each of the following: \n",
        "\n",
        "• Tests for equality and inequality with strings \n",
        "\n",
        "• Tests using the lower() function \n",
        "\n",
        "• Numerical tests involving equality and inequality, greater than and less \n",
        "than, greater than or equal to, and less than or equal to \n",
        "\n",
        "• Tests using the and keyword and the or keyword \n",
        "\n",
        "• Test whether an item is in a list • Test whether an item is not in a list"
      ],
      "metadata": {
        "id": "6-AG8-QZnD5e"
      }
    },
    {
      "cell_type": "code",
      "source": [
        "car = 'subaru'\n",
        "\n",
        "# Tests for equality and inequality\n",
        "print(\"Is car == 'subaru'? I predict True.\")\n",
        "print(car == 'subaru')\n",
        "\n",
        "print(\"\\nIs car == 'audi'? I predict False.\")\n",
        "print(car == 'audi')\n",
        "\n",
        "print(\"\\nIs car != 'audi'? I predict True.\")\n",
        "print(car != 'audi')\n",
        "\n",
        "print(\"\\nIs car != 'subaru'? I predict False.\")\n",
        "print(car != 'subaru')\n",
        "\n",
        "# Tests using numerical comparisons\n",
        "number = 7\n",
        "\n",
        "print(\"\\nIs number == 7? I predict True.\")\n",
        "print(number == 7)\n",
        "\n",
        "print(\"\\nIs number > 10? I predict False.\")\n",
        "print(number > 10)\n",
        "\n",
        "print(\"\\nIs number < 10? I predict True.\")\n",
        "print(number < 10)\n",
        "\n",
        "print(\"\\nIs number >= 7? I predict True.\")\n",
        "print(number >= 7)\n",
        "\n",
        "print(\"\\nIs number <= 5? I predict False.\")\n",
        "print(number <= 5)\n",
        "\n",
        "# Tests using logical operators\n",
        "x = True\n",
        "y = False\n",
        "\n",
        "print(\"\\nIs x and y both True? I predict False.\")\n",
        "print(x and y)\n",
        "\n",
        "print(\"\\nIs x or y True? I predict True.\")\n",
        "print(x or y)\n",
        "\n",
        "print(\"\\nIs not x True? I predict False.\")\n",
        "print(not x)\n",
        "\n",
        "print(\"\\nIs not y True? I predict True.\")\n",
        "print(not y)"
      ],
      "metadata": {
        "colab": {
          "base_uri": "https://localhost:8080/"
        },
        "id": "r4aj4TGMBvhL",
        "outputId": "28b0ee68-943d-4a89-dcea-d07c529fa086"
      },
      "execution_count": 27,
      "outputs": [
        {
          "output_type": "stream",
          "name": "stdout",
          "text": [
            "Is car == 'subaru'? I predict True.\n",
            "True\n",
            "\n",
            "Is car == 'audi'? I predict False.\n",
            "False\n",
            "\n",
            "Is car != 'audi'? I predict True.\n",
            "True\n",
            "\n",
            "Is car != 'subaru'? I predict False.\n",
            "False\n",
            "\n",
            "Is number == 7? I predict True.\n",
            "True\n",
            "\n",
            "Is number > 10? I predict False.\n",
            "False\n",
            "\n",
            "Is number < 10? I predict True.\n",
            "True\n",
            "\n",
            "Is number >= 7? I predict True.\n",
            "True\n",
            "\n",
            "Is number <= 5? I predict False.\n",
            "False\n",
            "\n",
            "Is x and y both True? I predict False.\n",
            "False\n",
            "\n",
            "Is x or y True? I predict True.\n",
            "True\n",
            "\n",
            "Is not x True? I predict False.\n",
            "False\n",
            "\n",
            "Is not y True? I predict True.\n",
            "True\n"
          ]
        }
      ]
    },
    {
      "cell_type": "markdown",
      "source": [
        "# **if statements:**"
      ],
      "metadata": {
        "id": "VYIu_3DqnYWX"
      }
    },
    {
      "cell_type": "markdown",
      "source": [
        "**Alien Colors #1:** Imagine an alien was just shot down in a game Create a variable called alien_color and assign it a value of 'green' , 'yellow' , or 'red' \n",
        "\n",
        "• Write an if statement to test whether the alien’s color is green If it is, print a message that the player just earned 5 points \n",
        "\n",
        "• Write one version of this program that passes the if test and another that fails (The version that fails will have no output)"
      ],
      "metadata": {
        "id": "3gyqMRn_nnoM"
      }
    },
    {
      "cell_type": "code",
      "source": [
        "alien_color = 'green'\n",
        "if alien_color == 'green':\n",
        "  print(\"The player just earned 5 points\")"
      ],
      "metadata": {
        "colab": {
          "base_uri": "https://localhost:8080/"
        },
        "id": "ApQclZJuuoAq",
        "outputId": "0de3a42b-3513-4d60-f258-c098fe560dde"
      },
      "execution_count": 1,
      "outputs": [
        {
          "output_type": "stream",
          "name": "stdout",
          "text": [
            "The player just earned 5 points\n"
          ]
        }
      ]
    },
    {
      "cell_type": "code",
      "source": [
        "alien_color = 'yellow'\n",
        "if alien_color == 'green':\n",
        "  print(\"The player just earned 5 points\")"
      ],
      "metadata": {
        "id": "pgT79Og4vD2x"
      },
      "execution_count": 2,
      "outputs": []
    },
    {
      "cell_type": "markdown",
      "source": [
        "**Alien Colors #2:** Choose a color for an alien as you did in Exercise 5-3, and write an if - else chain \n",
        "\n",
        "• If the alien’s color is green, print a statement that the player just earned 5 points for shooting the alien \n",
        "\n",
        "• If the alien’s color isn’t green, print a statement that the player just earned 10 points • Write one version of this program that runs the if block and another that runs the else block"
      ],
      "metadata": {
        "id": "7D209HTon0Dx"
      }
    },
    {
      "cell_type": "code",
      "source": [
        "alien_color = 'green'\n",
        "if alien_color == 'green':\n",
        "  print(\"The player just earned 5 points for shooting the alien\")\n",
        "else:\n",
        "  print(\"The player just earned 10 points\")"
      ],
      "metadata": {
        "colab": {
          "base_uri": "https://localhost:8080/"
        },
        "id": "j80y7aV_wLLy",
        "outputId": "f91a556c-00c8-4843-8383-ce6878142289"
      },
      "execution_count": 3,
      "outputs": [
        {
          "output_type": "stream",
          "name": "stdout",
          "text": [
            "The player just earned 5 points for shooting the alien\n"
          ]
        }
      ]
    },
    {
      "cell_type": "code",
      "source": [
        "alien_color = 'yellow'\n",
        "if alien_color == 'green':\n",
        "  print(\"The player just earned 5 points for shooting the alien\")\n",
        "else:\n",
        "  print(\"The player just earned 10 points\")"
      ],
      "metadata": {
        "colab": {
          "base_uri": "https://localhost:8080/"
        },
        "id": "oriMo_VMw0uB",
        "outputId": "e313718a-cae0-4a0c-deef-679eee335583"
      },
      "execution_count": 4,
      "outputs": [
        {
          "output_type": "stream",
          "name": "stdout",
          "text": [
            "The player just earned 10 points\n"
          ]
        }
      ]
    },
    {
      "cell_type": "markdown",
      "source": [
        "**Alien Colors #3:** Turn your if - else chain from Exercise 5-4 into an if - elif - else chain \n",
        "\n",
        "• If the alien is green, print a message that the player earned 5 points \n",
        "\n",
        "• If the alien is yellow, print a message that the player earned 10 points \n",
        "\n",
        "• If the alien is red, print a message that the player earned 15 points \n",
        "\n",
        "• Write three versions of this program, making sure each message is printed for the appropriate color alien"
      ],
      "metadata": {
        "id": "WIahMcaIn-8r"
      }
    },
    {
      "cell_type": "code",
      "source": [
        "alien_color = 'green'\n",
        "if alien_color == 'green':\n",
        "  print(\"The player just earned 5 points\")\n",
        "elif alien_color == 'yellow':\n",
        "  print(\"The player just earned 10 points\")\n",
        "else:\n",
        "  print(\"The player just earned 15 points\")"
      ],
      "metadata": {
        "colab": {
          "base_uri": "https://localhost:8080/"
        },
        "id": "mvCatEs1w5b0",
        "outputId": "37485c4b-2e2d-4ff7-d357-49a4005a409f"
      },
      "execution_count": 7,
      "outputs": [
        {
          "output_type": "stream",
          "name": "stdout",
          "text": [
            "The player just earned 5 points\n"
          ]
        }
      ]
    },
    {
      "cell_type": "code",
      "source": [
        "alien_color = 'yellow'\n",
        "if alien_color == 'green':\n",
        "  print(\"The player just earned 5 points\")\n",
        "elif alien_color == 'yellow':\n",
        "  print(\"The player just earned 10 points\")\n",
        "else:\n",
        "  print(\"The player just earned 15 points\")"
      ],
      "metadata": {
        "colab": {
          "base_uri": "https://localhost:8080/"
        },
        "id": "K3dwHPomxnOe",
        "outputId": "2cbaafac-e4a7-408d-f3f7-a0d20d6a566d"
      },
      "execution_count": 9,
      "outputs": [
        {
          "output_type": "stream",
          "name": "stdout",
          "text": [
            "The player just earned 10 points\n"
          ]
        }
      ]
    },
    {
      "cell_type": "code",
      "source": [
        "alien_color = 'red'\n",
        "if alien_color == 'green':\n",
        "  print(\"The player just earned 5 points\")\n",
        "elif alien_color == 'yellow':\n",
        "  print(\"The player just earned 10 points\")\n",
        "else:\n",
        "  print(\"The player just earned 15 points\")"
      ],
      "metadata": {
        "colab": {
          "base_uri": "https://localhost:8080/"
        },
        "id": "ewzj-Pi7xt3V",
        "outputId": "ee39cfc8-0b41-4968-d4ea-4e8bd0c12e98"
      },
      "execution_count": 10,
      "outputs": [
        {
          "output_type": "stream",
          "name": "stdout",
          "text": [
            "The player just earned 15 points\n"
          ]
        }
      ]
    },
    {
      "cell_type": "markdown",
      "source": [
        "**Stages of Life:** Write an if - elif - else chain that determines a person’s stage of life Set a value for the variable age , and then: \n",
        "\n",
        "• If the person is less than 2 years old, print a message that the person is a baby \n",
        "\n",
        "• If the person is at least 2 years old but less than 4, print a message that the person is a toddler \n",
        "\n",
        "• If the person is at least 4 years old but less than 13, print a message that the person is a kid \n",
        "\n",
        "• If the person is at least 13 years old but less than 20, print a message that the person is a teenager \n",
        "\n",
        "• If the person is at least 20 years old but less than 65, print a message that the person is an adult \n",
        "\n",
        "• If the person is age 65 or older, print a message that the person is an elder."
      ],
      "metadata": {
        "id": "AlOKxS1CsfTn"
      }
    },
    {
      "cell_type": "code",
      "source": [
        "age = 24\n",
        "if age < 2:\n",
        "  print(\"The person is a baby\")\n",
        "elif age < 4:\n",
        "  print(\"The person is a toddler\")\n",
        "elif age < 13:\n",
        "  print(\"The person is a kid\")\n",
        "elif age < 20:\n",
        "  print(\"The person is a teenager\")\n",
        "elif age < 65:\n",
        "  print(\"The person is an adult\")\n",
        "else:\n",
        "  print(\"The person a an elder\")"
      ],
      "metadata": {
        "colab": {
          "base_uri": "https://localhost:8080/"
        },
        "id": "uVwgj4iqxx6b",
        "outputId": "220841a3-0fe6-41c5-fee6-539508abf90c"
      },
      "execution_count": 11,
      "outputs": [
        {
          "output_type": "stream",
          "name": "stdout",
          "text": [
            "The person is an adult\n"
          ]
        }
      ]
    },
    {
      "cell_type": "markdown",
      "source": [
        "**Favorite Fruit:** Make a list of your favorite fruits, and then write a series of independent if statements that check for certain fruits in your list \n",
        "\n",
        "• Make a list of your three favorite fruits and call it favorite_fruits \n",
        "\n",
        "• Write five if statements Each should check whether a certain kind of fruit is in your list If the fruit is in your list, the if block should print a statement, such as You really like bananas"
      ],
      "metadata": {
        "id": "4_ni_NFVswq4"
      }
    },
    {
      "cell_type": "code",
      "source": [
        "favorite_fruits = ['apple', 'strawberry','mango']\n",
        "if 'apple' in favorite_fruits:\n",
        "  print(\"you really like apple\") \n",
        "if 'banana' in favorite_fruits:\n",
        "  print(\"you really like banana\") \n",
        "if 'strawberry' in favorite_fruits:\n",
        "  print(\"you really like strawberry\") \n",
        "if 'mango' in favorite_fruits:\n",
        "  print(\"you really like mango\") \n",
        "if 'peach' in favorite_fruits:\n",
        "  print(\"you really like peach\") \n"
      ],
      "metadata": {
        "colab": {
          "base_uri": "https://localhost:8080/"
        },
        "id": "octL-TG2zJTh",
        "outputId": "5ce25a11-4641-4124-b92a-0f25e4ab5b3e"
      },
      "execution_count": 12,
      "outputs": [
        {
          "output_type": "stream",
          "name": "stdout",
          "text": [
            "you really like apple\n",
            "you really like strawberry\n",
            "you really like mango\n"
          ]
        }
      ]
    },
    {
      "cell_type": "markdown",
      "source": [
        "# **using if statements with lists:**"
      ],
      "metadata": {
        "id": "zC2vgBAC2fl8"
      }
    },
    {
      "cell_type": "markdown",
      "source": [
        "**Hello Admin:** Make a list of five or more usernames, including the name 'admin' Imagine you are writing code that will print a greeting to each user after they log in to a website Loop through the list, and print a greeting to each user: \n",
        "\n",
        "• If the username is 'admin' , print a special greeting, such as Hello admin, would you like to see a status report? \n",
        "\n",
        "• Otherwise, print a generic greeting, such as Hello Eric, thank you for log- ging in again."
      ],
      "metadata": {
        "id": "YmpnC8dvs9I_"
      }
    },
    {
      "cell_type": "code",
      "source": [
        "users = ['Ayesha', 'eric', 'admin', 'sarah', 'joseph']\n",
        "for user in users:\n",
        "  if user == 'admin':\n",
        "    print(\"Hello admin, would you like to see a status report?\")\n",
        "  else:\n",
        "    print(\"Hello \" + user.title() + \", thank you for  log-ging in again.\")"
      ],
      "metadata": {
        "colab": {
          "base_uri": "https://localhost:8080/"
        },
        "id": "V-pGc9st2t6t",
        "outputId": "bd71972f-86c9-41ff-fa34-737a8dd1c5f3"
      },
      "execution_count": 13,
      "outputs": [
        {
          "output_type": "stream",
          "name": "stdout",
          "text": [
            "Hello Ayesha, thank you for  log-ging in again.\n",
            "Hello Eric, thank you for  log-ging in again.\n",
            "Hello admin, would you like to see a status report?\n",
            "Hello Sarah, thank you for  log-ging in again.\n",
            "Hello Joseph, thank you for  log-ging in again.\n"
          ]
        }
      ]
    },
    {
      "cell_type": "markdown",
      "source": [
        "**No Users:** Add an if test to hello_admin.py to make sure the list of users is not empty \n",
        "\n",
        "• If the list is empty, print the message We need to find some users! \n",
        "\n",
        "• Remove all of the usernames from your list, and make sure the correct message is printed"
      ],
      "metadata": {
        "id": "g400f6ZbtF_Z"
      }
    },
    {
      "cell_type": "code",
      "source": [
        "users = []\n",
        "if users:\n",
        "  for user in users:\n",
        "    if user == 'admin':\n",
        "      print(\"Hello admin, would you like to see a status report?\")\n",
        "    else:\n",
        "      print(\"Hello \" + user.title() + \", thank you for  log-ging in again.\")\n",
        "else:\n",
        "  print(\"We need to find some more users!\")"
      ],
      "metadata": {
        "colab": {
          "base_uri": "https://localhost:8080/"
        },
        "id": "DtXawK2636fC",
        "outputId": "4740fee6-c3eb-4949-a8d6-35782a6f1d18"
      },
      "execution_count": 15,
      "outputs": [
        {
          "output_type": "stream",
          "name": "stdout",
          "text": [
            "We need to find some more users!\n"
          ]
        }
      ]
    },
    {
      "cell_type": "markdown",
      "source": [
        "**Checking Usernames:** Do the following to create a program that simulates how websites ensure that everyone has a unique username \n",
        "\n",
        "• Make a list of five or more usernames called current_users \n",
        "\n",
        "• Make another list of five usernames called new_users Make sure one or two of the new usernames are also in the current_users list \n",
        "\n",
        "• Loop through the new_users list to see if each new username has already been used If it has, print a message that the person will need to enter a new username If a username has not been used, print a message saying that the username is available \n",
        "\n",
        "• Make sure your comparison is case insensitive If 'John' has been used, 'JOHN' should not be accepted"
      ],
      "metadata": {
        "id": "uVwZy1vutSFa"
      }
    },
    {
      "cell_type": "code",
      "source": [
        "current_users = [\"ayesha\",'nick','anna','sarah','adam']\n",
        "new_users = ['ayesha', 'eric', 'admin', 'sarah', 'joseph']\n",
        "for user in new_users:\n",
        "  if user in current_users:\n",
        "   print(f\"Sorry, the username '{user}' is already taken. Please enter a new username.\")\n",
        "  else:\n",
        "    print(f\"The username '{user}' is available.\")"
      ],
      "metadata": {
        "colab": {
          "base_uri": "https://localhost:8080/"
        },
        "id": "-no3iy9e4wRY",
        "outputId": "64bc7fea-8562-481c-f105-f0995c96e4b7"
      },
      "execution_count": 17,
      "outputs": [
        {
          "output_type": "stream",
          "name": "stdout",
          "text": [
            "Sorry, the username 'ayesha' is already taken. Please enter a new username.\n",
            "The username 'eric' is available.\n",
            "The username 'admin' is available.\n",
            "Sorry, the username 'sarah' is already taken. Please enter a new username.\n",
            "The username 'joseph' is available.\n"
          ]
        }
      ]
    },
    {
      "cell_type": "markdown",
      "source": [
        "**Ordinal Numbers:** Ordinal numbers indicate their position in a list, such as 1st or 2nd Most ordinal numbers end in th , except 1, 2, and 3 \n",
        "\n",
        "• Store the numbers 1 through 9 in a list \n",
        "\n",
        "• Loop through the list • Use an if - elif - else chain inside the loop to print the proper ordinal end- ing for each number Your output should read \"1st 2nd 3rd 4th 5th 6th 7th 8th 9th\" , and each result should be on a separate line"
      ],
      "metadata": {
        "id": "3MwYDKYptgBA"
      }
    },
    {
      "cell_type": "code",
      "source": [
        "numbers = list(range(1,10))\n",
        "for number in numbers:\n",
        "  if number == 1:\n",
        "    print(\"1st\")\n",
        "  elif number ==  2:\n",
        "    print(\"2nd\")\n",
        "  elif number == 3:\n",
        "    print(\"3rd\")\n",
        "  else:\n",
        "    print (f\"{number}th\")\n",
        "  "
      ],
      "metadata": {
        "id": "Mn4fKwT3dJHa",
        "colab": {
          "base_uri": "https://localhost:8080/"
        },
        "outputId": "a63c06f1-71ce-4da2-95fb-254498219c2d"
      },
      "execution_count": 21,
      "outputs": [
        {
          "output_type": "stream",
          "name": "stdout",
          "text": [
            "1st\n",
            "2nd\n",
            "3rd\n",
            "4th\n",
            "5th\n",
            "6th\n",
            "7th\n",
            "8th\n",
            "9th\n"
          ]
        }
      ]
    },
    {
      "cell_type": "markdown",
      "source": [
        "# ***Sets:***\n",
        "In Python, a set is an unordered collection of **unique elements**. Sets are represented with curly braces {}, and elements are separated by commas.\n",
        "\n",
        "Empty sets can be slightly tricky to use in Python. In Python, empty curly braces result in an empty dictionary; however, we cannot use them to initialize an empty set. Instead, we use the set() function without any arguments to create a set with no elements.\n",
        "\n",
        " Here's an example of how to create a set:"
      ],
      "metadata": {
        "id": "ekQrmjaiJ3tZ"
      }
    },
    {
      "cell_type": "code",
      "source": [
        "# A set of integers\n",
        "int_set = {1,2,3,4,1,2,3,4}\n",
        "int_set"
      ],
      "metadata": {
        "colab": {
          "base_uri": "https://localhost:8080/"
        },
        "id": "6axBRjnaLNJu",
        "outputId": "d8661bcd-f57c-495e-ae91-567340cfc6cc"
      },
      "execution_count": 33,
      "outputs": [
        {
          "output_type": "execute_result",
          "data": {
            "text/plain": [
              "{1, 2, 3, 4}"
            ]
          },
          "metadata": {},
          "execution_count": 33
        }
      ]
    },
    {
      "cell_type": "markdown",
      "source": [
        "You can also create a set from a list or tuple using the **set()** function:"
      ],
      "metadata": {
        "id": "8QYceh47LIR3"
      }
    },
    {
      "cell_type": "code",
      "source": [
        "my_list = [1, 2, 2, 3, 3, 4, 5]\n",
        "my_set = set(my_list)\n",
        "print(my_set)"
      ],
      "metadata": {
        "colab": {
          "base_uri": "https://localhost:8080/"
        },
        "id": "lMg9F6uzKo93",
        "outputId": "cb98c40b-153e-42cb-9f85-b96df7abe15c"
      },
      "execution_count": 34,
      "outputs": [
        {
          "output_type": "stream",
          "name": "stdout",
          "text": [
            "{1, 2, 3, 4, 5}\n"
          ]
        }
      ]
    },
    {
      "cell_type": "markdown",
      "source": [
        "**Modifying a Set in Python**\n",
        "\n",
        "The **add()** method is used to add a single element, and the **update()** method is used to update multiple components. Tuples, lists, strings, and other sets may be passed to the update() method. Duplicates are avoided in all circumstances."
      ],
      "metadata": {
        "id": "JnlvwLduLz8H"
      }
    },
    {
      "cell_type": "code",
      "source": [
        "my_set = {10,20,30,40,12}\n",
        "my_set\n",
        "my_set.add(13)\n",
        "my_set\n",
        "my_set.update([14,15])\n",
        "my_set"
      ],
      "metadata": {
        "colab": {
          "base_uri": "https://localhost:8080/"
        },
        "id": "JFBHcnQbMA7Z",
        "outputId": "44847fda-6708-4f6c-d108-d4944891c2d8"
      },
      "execution_count": 39,
      "outputs": [
        {
          "output_type": "execute_result",
          "data": {
            "text/plain": [
              "{10, 12, 13, 14, 15, 20, 30, 40}"
            ]
          },
          "metadata": {},
          "execution_count": 39
        }
      ]
    },
    {
      "cell_type": "markdown",
      "source": [
        "**Removing Elements From a Set**\n",
        "\n",
        "The methods **discard()** and **remove()** are used to delete a specific item from a set. They are identical with only one difference. \n",
        "\n",
        "The discard() method leaves the set unmodified If the element is not present in the set. \n",
        "\n",
        "The remove() method, on the other hand, throws an error if the element is not present in the set."
      ],
      "metadata": {
        "id": "e7pnrP_RNsFn"
      }
    },
    {
      "cell_type": "code",
      "source": [
        "my_set = {10,20,30,40,12}\n",
        "my_set.discard(12)\n",
        "my_set\n",
        "#this will throw error\n",
        "# my_set.remove(12)  uncomment this to show error\n"
      ],
      "metadata": {
        "colab": {
          "base_uri": "https://localhost:8080/"
        },
        "id": "67UoVEyaN-wV",
        "outputId": "61424213-c3bb-43fd-f1f2-d40455360f1e"
      },
      "execution_count": 44,
      "outputs": [
        {
          "output_type": "execute_result",
          "data": {
            "text/plain": [
              "{10, 20, 30, 40}"
            ]
          },
          "metadata": {},
          "execution_count": 44
        }
      ]
    },
    {
      "cell_type": "markdown",
      "source": [
        "Sets have several useful methods for working with data, such as:\n",
        "\n",
        "**union()**: returns a set containing all the unique elements from both sets.\n",
        "\n",
        "**intersection()**: returns a set containing the common elements between both sets.\n",
        "\n",
        "**difference():** returns a set containing the elements that are in one set but not the other.\n",
        "\n",
        "**symmetric_difference():** returns a set containing the elements that are in either one set or the other, but not both."
      ],
      "metadata": {
        "id": "FpNyUBwpMx02"
      }
    },
    {
      "cell_type": "code",
      "source": [
        "set1 = {1, 2, 3, 4, 5}\n",
        "set2 = {4, 5, 6, 7, 8}\n",
        "\n",
        "# Union\n",
        "union_set = set1.union(set2)\n",
        "print(union_set) # Output: {1, 2, 3, 4, 5, 6, 7, 8}\n",
        "\n",
        "# Intersection\n",
        "intersection_set = set1.intersection(set2)\n",
        "print(intersection_set) # Output: {4, 5}\n",
        "\n",
        "# Difference\n",
        "difference_set = set1.difference(set2)\n",
        "print(difference_set) # Output: {1, 2, 3}\n",
        "\n",
        "# Symmetric difference\n",
        "symmetric_difference_set = set1.symmetric_difference(set2)\n",
        "print(symmetric_difference_set) # Output: {1, 2, 3, 6, 7, 8}"
      ],
      "metadata": {
        "colab": {
          "base_uri": "https://localhost:8080/"
        },
        "id": "xOg3ffQWNjDA",
        "outputId": "54ed2c15-4449-4b84-bc0c-a81b00e28770"
      },
      "execution_count": 40,
      "outputs": [
        {
          "output_type": "stream",
          "name": "stdout",
          "text": [
            "{1, 2, 3, 4, 5, 6, 7, 8}\n",
            "{4, 5}\n",
            "{1, 2, 3}\n",
            "{1, 2, 3, 6, 7, 8}\n"
          ]
        }
      ]
    },
    {
      "cell_type": "markdown",
      "source": [
        "# ***Making Data Unique with Sets:***\n",
        "\n",
        "You can also use sets to remove duplicates from a list or other iterable. To do this, simply convert the list to a set using set(), and then convert it back to a list using list():"
      ],
      "metadata": {
        "id": "3XU7LnkIPJiY"
      }
    },
    {
      "cell_type": "code",
      "source": [
        "my_list = [1, 2, 2, 3, 3, 4, 5]\n",
        "unique_list = list(set(my_list))\n",
        "print(unique_list) # Output: [1, 2, 3, 4, 5]"
      ],
      "metadata": {
        "colab": {
          "base_uri": "https://localhost:8080/"
        },
        "id": "hNRongJFPRbV",
        "outputId": "f60a63b3-0df2-4c9e-f95a-0b98531a5bbf"
      },
      "execution_count": 45,
      "outputs": [
        {
          "output_type": "stream",
          "name": "stdout",
          "text": [
            "[1, 2, 3, 4, 5]\n"
          ]
        }
      ]
    }
  ]
}