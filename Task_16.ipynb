{
  "nbformat": 4,
  "nbformat_minor": 0,
  "metadata": {
    "colab": {
      "provenance": [],
      "authorship_tag": "ABX9TyOEjiWghQjpC/XS9tO4Eu82",
      "include_colab_link": true
    },
    "kernelspec": {
      "name": "python3",
      "display_name": "Python 3"
    },
    "language_info": {
      "name": "python"
    }
  },
  "cells": [
    {
      "cell_type": "markdown",
      "metadata": {
        "id": "view-in-github",
        "colab_type": "text"
      },
      "source": [
        "<a href=\"https://colab.research.google.com/github/ayesha-119/Deep-Learning-BWF/blob/master/Task_16.ipynb\" target=\"_parent\"><img src=\"https://colab.research.google.com/assets/colab-badge.svg\" alt=\"Open In Colab\"/></a>"
      ]
    },
    {
      "cell_type": "markdown",
      "source": [
        "# 🔴 **Task 16** \n",
        "Topics: Combining and Merging Datasets, Reshaping Data\n",
        "\n",
        "Resource: https://drive.google.com/file/d/1ILp88f3u_KgJ_nlhTSsAVGdmZlICGhhd/view?usp=share_link\n"
      ],
      "metadata": {
        "id": "wjttVcR0asRO"
      }
    },
    {
      "cell_type": "markdown",
      "source": [
        "# **Combining and Merging Datasets**"
      ],
      "metadata": {
        "id": "qIlnrADZk9d5"
      }
    },
    {
      "cell_type": "markdown",
      "source": [
        "**Concatenating DataFrames**\n",
        "\n",
        "To concatenate two or more DataFrames vertically (i.e., row-wise), you can use the pd.concat() function. Here's an example:"
      ],
      "metadata": {
        "id": "tsVEhatTlCbn"
      }
    },
    {
      "cell_type": "code",
      "source": [
        "import pandas as pd\n",
        "\n",
        "# Create two DataFrames\n",
        "df1 = pd.DataFrame({'A': ['A0', 'A1', 'A2', 'A3'],\n",
        "                    'B': ['B0', 'B1', 'B2', 'B3'],\n",
        "                    'C': ['C0', 'C1', 'C2', 'C3'],\n",
        "                    'D': ['D0', 'D1', 'D2', 'D3']})\n",
        "\n",
        "df2 = pd.DataFrame({'A': ['A4', 'A5', 'A6', 'A7'],\n",
        "                    'B': ['B4', 'B5', 'B6', 'B7'],\n",
        "                    'C': ['C4', 'C5', 'C6', 'C7'],\n",
        "                    'D': ['D4', 'D5', 'D6', 'D7']})\n",
        "\n",
        "# Concatenate the DataFrames vertically\n",
        "result = pd.concat([df1, df2])\n",
        "\n",
        "print(result)"
      ],
      "metadata": {
        "colab": {
          "base_uri": "https://localhost:8080/"
        },
        "id": "4nd13jJtlHjB",
        "outputId": "fe93d8f4-2a22-48a3-b188-539468cb084f"
      },
      "execution_count": 1,
      "outputs": [
        {
          "output_type": "stream",
          "name": "stdout",
          "text": [
            "    A   B   C   D\n",
            "0  A0  B0  C0  D0\n",
            "1  A1  B1  C1  D1\n",
            "2  A2  B2  C2  D2\n",
            "3  A3  B3  C3  D3\n",
            "0  A4  B4  C4  D4\n",
            "1  A5  B5  C5  D5\n",
            "2  A6  B6  C6  D6\n",
            "3  A7  B7  C7  D7\n"
          ]
        }
      ]
    },
    {
      "cell_type": "markdown",
      "source": [
        "To reset the index, you can use the reset_index() method:"
      ],
      "metadata": {
        "id": "eA8tFb7elPl3"
      }
    },
    {
      "cell_type": "code",
      "source": [
        "result = pd.concat([df1, df2]).reset_index(drop=True)\n",
        "\n",
        "print(result)"
      ],
      "metadata": {
        "colab": {
          "base_uri": "https://localhost:8080/"
        },
        "id": "rNpmwAK5lSuQ",
        "outputId": "8f6b5f1d-81c1-45cd-b58b-0ead84bbd290"
      },
      "execution_count": 2,
      "outputs": [
        {
          "output_type": "stream",
          "name": "stdout",
          "text": [
            "    A   B   C   D\n",
            "0  A0  B0  C0  D0\n",
            "1  A1  B1  C1  D1\n",
            "2  A2  B2  C2  D2\n",
            "3  A3  B3  C3  D3\n",
            "4  A4  B4  C4  D4\n",
            "5  A5  B5  C5  D5\n",
            "6  A6  B6  C6  D6\n",
            "7  A7  B7  C7  D7\n"
          ]
        }
      ]
    },
    {
      "cell_type": "markdown",
      "source": [
        "**Merging DataFrames**\n",
        "\n",
        "To merge two or more DataFrames based on a common column or index, you can use the pd.merge() function. Here's an example:"
      ],
      "metadata": {
        "id": "Oin9Lx_Zle0Q"
      }
    },
    {
      "cell_type": "code",
      "source": [
        "df1 = pd.DataFrame({'key': ['K0', 'K1', 'K2', 'K3'],\n",
        "                    'A': ['A0', 'A1', 'A2', 'A3'],\n",
        "                    'B': ['B0', 'B1', 'B2', 'B3']})\n",
        "\n",
        "df2 = pd.DataFrame({'key': ['K0', 'K1', 'K2', 'K3'],\n",
        "                    'C': ['C0', 'C1', 'C2', 'C3'],\n",
        "                    'D': ['D0', 'D1', 'D2', 'D3']})\n",
        "\n",
        "# Merge the DataFrames based on the 'key' column\n",
        "merged_df = pd.merge(df1, df2, on='key')\n",
        "\n",
        "#Print the merged DataFrame\n",
        "print(merged_df)"
      ],
      "metadata": {
        "colab": {
          "base_uri": "https://localhost:8080/"
        },
        "id": "YGIJfxHzl0pg",
        "outputId": "dae00fa3-7880-406e-e527-57ca32564aed"
      },
      "execution_count": 4,
      "outputs": [
        {
          "output_type": "stream",
          "name": "stdout",
          "text": [
            "  key   A   B   C   D\n",
            "0  K0  A0  B0  C0  D0\n",
            "1  K1  A1  B1  C1  D1\n",
            "2  K2  A2  B2  C2  D2\n",
            "3  K3  A3  B3  C3  D3\n"
          ]
        }
      ]
    },
    {
      "cell_type": "markdown",
      "source": [
        "# **Reshaping Data**"
      ],
      "metadata": {
        "id": "tIBW78XaoIzv"
      }
    },
    {
      "cell_type": "markdown",
      "source": [
        "Reshaping data involves transforming the layout of a dataset to better suit a particular analysis or visualization. This can involve pivoting or melting the data, or changing the shape of multi-dimensional arrays. In Python's Pandas library, there are several functions that can be used for reshaping data, including **pivot, melt, stack, and unstack.**"
      ],
      "metadata": {
        "id": "Weu2p_mpoNPK"
      }
    },
    {
      "cell_type": "markdown",
      "source": [
        "**Loading the Data**"
      ],
      "metadata": {
        "id": "yHPcX-_JqZmO"
      }
    },
    {
      "cell_type": "code",
      "source": [
        "import pandas as pd\n",
        "\n",
        "# Load the dataset\n",
        "gapminder = pd.read_csv(\"https://raw.githubusercontent.com/zief0002/miniature-garbanzo/main/data/gapminder.csv\")\n",
        "gapminder.head()"
      ],
      "metadata": {
        "colab": {
          "base_uri": "https://localhost:8080/",
          "height": 206
        },
        "id": "aEIHpPvyqcF3",
        "outputId": "0b745a47-18b9-4249-8ee4-70fa1d46ef11"
      },
      "execution_count": 8,
      "outputs": [
        {
          "output_type": "execute_result",
          "data": {
            "text/plain": [
              "       country  region  income income_level  life_exp    co2 co2_change  \\\n",
              "0  Afghanistan    Asia    2.03      Level 1      62.7  0.254   increase   \n",
              "1      Albania  Europe   13.30      Level 3      78.4  1.590   increase   \n",
              "2      Algeria  Africa   11.60      Level 3      76.0  3.690   increase   \n",
              "3      Andorra  Europe   58.30      Level 4      82.1  6.120   decrease   \n",
              "4       Angola  Africa    6.93      Level 2      64.6  1.120   decrease   \n",
              "\n",
              "   population  \n",
              "0      37.200  \n",
              "1       2.880  \n",
              "2      42.200  \n",
              "3       0.077  \n",
              "4      30.800  "
            ],
            "text/html": [
              "\n",
              "  <div id=\"df-4f24cf45-5be3-4a7d-b022-b48132285904\">\n",
              "    <div class=\"colab-df-container\">\n",
              "      <div>\n",
              "<style scoped>\n",
              "    .dataframe tbody tr th:only-of-type {\n",
              "        vertical-align: middle;\n",
              "    }\n",
              "\n",
              "    .dataframe tbody tr th {\n",
              "        vertical-align: top;\n",
              "    }\n",
              "\n",
              "    .dataframe thead th {\n",
              "        text-align: right;\n",
              "    }\n",
              "</style>\n",
              "<table border=\"1\" class=\"dataframe\">\n",
              "  <thead>\n",
              "    <tr style=\"text-align: right;\">\n",
              "      <th></th>\n",
              "      <th>country</th>\n",
              "      <th>region</th>\n",
              "      <th>income</th>\n",
              "      <th>income_level</th>\n",
              "      <th>life_exp</th>\n",
              "      <th>co2</th>\n",
              "      <th>co2_change</th>\n",
              "      <th>population</th>\n",
              "    </tr>\n",
              "  </thead>\n",
              "  <tbody>\n",
              "    <tr>\n",
              "      <th>0</th>\n",
              "      <td>Afghanistan</td>\n",
              "      <td>Asia</td>\n",
              "      <td>2.03</td>\n",
              "      <td>Level 1</td>\n",
              "      <td>62.7</td>\n",
              "      <td>0.254</td>\n",
              "      <td>increase</td>\n",
              "      <td>37.200</td>\n",
              "    </tr>\n",
              "    <tr>\n",
              "      <th>1</th>\n",
              "      <td>Albania</td>\n",
              "      <td>Europe</td>\n",
              "      <td>13.30</td>\n",
              "      <td>Level 3</td>\n",
              "      <td>78.4</td>\n",
              "      <td>1.590</td>\n",
              "      <td>increase</td>\n",
              "      <td>2.880</td>\n",
              "    </tr>\n",
              "    <tr>\n",
              "      <th>2</th>\n",
              "      <td>Algeria</td>\n",
              "      <td>Africa</td>\n",
              "      <td>11.60</td>\n",
              "      <td>Level 3</td>\n",
              "      <td>76.0</td>\n",
              "      <td>3.690</td>\n",
              "      <td>increase</td>\n",
              "      <td>42.200</td>\n",
              "    </tr>\n",
              "    <tr>\n",
              "      <th>3</th>\n",
              "      <td>Andorra</td>\n",
              "      <td>Europe</td>\n",
              "      <td>58.30</td>\n",
              "      <td>Level 4</td>\n",
              "      <td>82.1</td>\n",
              "      <td>6.120</td>\n",
              "      <td>decrease</td>\n",
              "      <td>0.077</td>\n",
              "    </tr>\n",
              "    <tr>\n",
              "      <th>4</th>\n",
              "      <td>Angola</td>\n",
              "      <td>Africa</td>\n",
              "      <td>6.93</td>\n",
              "      <td>Level 2</td>\n",
              "      <td>64.6</td>\n",
              "      <td>1.120</td>\n",
              "      <td>decrease</td>\n",
              "      <td>30.800</td>\n",
              "    </tr>\n",
              "  </tbody>\n",
              "</table>\n",
              "</div>\n",
              "      <button class=\"colab-df-convert\" onclick=\"convertToInteractive('df-4f24cf45-5be3-4a7d-b022-b48132285904')\"\n",
              "              title=\"Convert this dataframe to an interactive table.\"\n",
              "              style=\"display:none;\">\n",
              "        \n",
              "  <svg xmlns=\"http://www.w3.org/2000/svg\" height=\"24px\"viewBox=\"0 0 24 24\"\n",
              "       width=\"24px\">\n",
              "    <path d=\"M0 0h24v24H0V0z\" fill=\"none\"/>\n",
              "    <path d=\"M18.56 5.44l.94 2.06.94-2.06 2.06-.94-2.06-.94-.94-2.06-.94 2.06-2.06.94zm-11 1L8.5 8.5l.94-2.06 2.06-.94-2.06-.94L8.5 2.5l-.94 2.06-2.06.94zm10 10l.94 2.06.94-2.06 2.06-.94-2.06-.94-.94-2.06-.94 2.06-2.06.94z\"/><path d=\"M17.41 7.96l-1.37-1.37c-.4-.4-.92-.59-1.43-.59-.52 0-1.04.2-1.43.59L10.3 9.45l-7.72 7.72c-.78.78-.78 2.05 0 2.83L4 21.41c.39.39.9.59 1.41.59.51 0 1.02-.2 1.41-.59l7.78-7.78 2.81-2.81c.8-.78.8-2.07 0-2.86zM5.41 20L4 18.59l7.72-7.72 1.47 1.35L5.41 20z\"/>\n",
              "  </svg>\n",
              "      </button>\n",
              "      \n",
              "  <style>\n",
              "    .colab-df-container {\n",
              "      display:flex;\n",
              "      flex-wrap:wrap;\n",
              "      gap: 12px;\n",
              "    }\n",
              "\n",
              "    .colab-df-convert {\n",
              "      background-color: #E8F0FE;\n",
              "      border: none;\n",
              "      border-radius: 50%;\n",
              "      cursor: pointer;\n",
              "      display: none;\n",
              "      fill: #1967D2;\n",
              "      height: 32px;\n",
              "      padding: 0 0 0 0;\n",
              "      width: 32px;\n",
              "    }\n",
              "\n",
              "    .colab-df-convert:hover {\n",
              "      background-color: #E2EBFA;\n",
              "      box-shadow: 0px 1px 2px rgba(60, 64, 67, 0.3), 0px 1px 3px 1px rgba(60, 64, 67, 0.15);\n",
              "      fill: #174EA6;\n",
              "    }\n",
              "\n",
              "    [theme=dark] .colab-df-convert {\n",
              "      background-color: #3B4455;\n",
              "      fill: #D2E3FC;\n",
              "    }\n",
              "\n",
              "    [theme=dark] .colab-df-convert:hover {\n",
              "      background-color: #434B5C;\n",
              "      box-shadow: 0px 1px 3px 1px rgba(0, 0, 0, 0.15);\n",
              "      filter: drop-shadow(0px 1px 2px rgba(0, 0, 0, 0.3));\n",
              "      fill: #FFFFFF;\n",
              "    }\n",
              "  </style>\n",
              "\n",
              "      <script>\n",
              "        const buttonEl =\n",
              "          document.querySelector('#df-4f24cf45-5be3-4a7d-b022-b48132285904 button.colab-df-convert');\n",
              "        buttonEl.style.display =\n",
              "          google.colab.kernel.accessAllowed ? 'block' : 'none';\n",
              "\n",
              "        async function convertToInteractive(key) {\n",
              "          const element = document.querySelector('#df-4f24cf45-5be3-4a7d-b022-b48132285904');\n",
              "          const dataTable =\n",
              "            await google.colab.kernel.invokeFunction('convertToInteractive',\n",
              "                                                     [key], {});\n",
              "          if (!dataTable) return;\n",
              "\n",
              "          const docLinkHtml = 'Like what you see? Visit the ' +\n",
              "            '<a target=\"_blank\" href=https://colab.research.google.com/notebooks/data_table.ipynb>data table notebook</a>'\n",
              "            + ' to learn more about interactive tables.';\n",
              "          element.innerHTML = '';\n",
              "          dataTable['output_type'] = 'display_data';\n",
              "          await google.colab.output.renderOutput(dataTable, element);\n",
              "          const docLink = document.createElement('div');\n",
              "          docLink.innerHTML = docLinkHtml;\n",
              "          element.appendChild(docLink);\n",
              "        }\n",
              "      </script>\n",
              "    </div>\n",
              "  </div>\n",
              "  "
            ]
          },
          "metadata": {},
          "execution_count": 8
        }
      ]
    },
    {
      "cell_type": "markdown",
      "source": [
        "**Wide to Long Format**\n",
        "\n",
        "One common way to reshape data is to convert it from a wide format to a long format. In the wide format, each row represents a single observation, and each column represents a variable. In the long format, each row represents a unique combination of variables, and there may be multiple rows for each observation."
      ],
      "metadata": {
        "id": "WiAGs6dWqmTX"
      }
    },
    {
      "cell_type": "code",
      "execution_count": 12,
      "metadata": {
        "id": "d-MoLPsfaVJC",
        "colab": {
          "base_uri": "https://localhost:8080/",
          "height": 206
        },
        "outputId": "73d5826f-feae-4ac3-cd64-7ca05b288035"
      },
      "outputs": [
        {
          "output_type": "execute_result",
          "data": {
            "text/plain": [
              "   region      country variable value\n",
              "0    Asia  Afghanistan   income  2.03\n",
              "1  Europe      Albania   income  13.3\n",
              "2  Africa      Algeria   income  11.6\n",
              "3  Europe      Andorra   income  58.3\n",
              "4  Africa       Angola   income  6.93"
            ],
            "text/html": [
              "\n",
              "  <div id=\"df-f793288c-72ab-4aee-9167-b2bf65f85b10\">\n",
              "    <div class=\"colab-df-container\">\n",
              "      <div>\n",
              "<style scoped>\n",
              "    .dataframe tbody tr th:only-of-type {\n",
              "        vertical-align: middle;\n",
              "    }\n",
              "\n",
              "    .dataframe tbody tr th {\n",
              "        vertical-align: top;\n",
              "    }\n",
              "\n",
              "    .dataframe thead th {\n",
              "        text-align: right;\n",
              "    }\n",
              "</style>\n",
              "<table border=\"1\" class=\"dataframe\">\n",
              "  <thead>\n",
              "    <tr style=\"text-align: right;\">\n",
              "      <th></th>\n",
              "      <th>region</th>\n",
              "      <th>country</th>\n",
              "      <th>variable</th>\n",
              "      <th>value</th>\n",
              "    </tr>\n",
              "  </thead>\n",
              "  <tbody>\n",
              "    <tr>\n",
              "      <th>0</th>\n",
              "      <td>Asia</td>\n",
              "      <td>Afghanistan</td>\n",
              "      <td>income</td>\n",
              "      <td>2.03</td>\n",
              "    </tr>\n",
              "    <tr>\n",
              "      <th>1</th>\n",
              "      <td>Europe</td>\n",
              "      <td>Albania</td>\n",
              "      <td>income</td>\n",
              "      <td>13.3</td>\n",
              "    </tr>\n",
              "    <tr>\n",
              "      <th>2</th>\n",
              "      <td>Africa</td>\n",
              "      <td>Algeria</td>\n",
              "      <td>income</td>\n",
              "      <td>11.6</td>\n",
              "    </tr>\n",
              "    <tr>\n",
              "      <th>3</th>\n",
              "      <td>Europe</td>\n",
              "      <td>Andorra</td>\n",
              "      <td>income</td>\n",
              "      <td>58.3</td>\n",
              "    </tr>\n",
              "    <tr>\n",
              "      <th>4</th>\n",
              "      <td>Africa</td>\n",
              "      <td>Angola</td>\n",
              "      <td>income</td>\n",
              "      <td>6.93</td>\n",
              "    </tr>\n",
              "  </tbody>\n",
              "</table>\n",
              "</div>\n",
              "      <button class=\"colab-df-convert\" onclick=\"convertToInteractive('df-f793288c-72ab-4aee-9167-b2bf65f85b10')\"\n",
              "              title=\"Convert this dataframe to an interactive table.\"\n",
              "              style=\"display:none;\">\n",
              "        \n",
              "  <svg xmlns=\"http://www.w3.org/2000/svg\" height=\"24px\"viewBox=\"0 0 24 24\"\n",
              "       width=\"24px\">\n",
              "    <path d=\"M0 0h24v24H0V0z\" fill=\"none\"/>\n",
              "    <path d=\"M18.56 5.44l.94 2.06.94-2.06 2.06-.94-2.06-.94-.94-2.06-.94 2.06-2.06.94zm-11 1L8.5 8.5l.94-2.06 2.06-.94-2.06-.94L8.5 2.5l-.94 2.06-2.06.94zm10 10l.94 2.06.94-2.06 2.06-.94-2.06-.94-.94-2.06-.94 2.06-2.06.94z\"/><path d=\"M17.41 7.96l-1.37-1.37c-.4-.4-.92-.59-1.43-.59-.52 0-1.04.2-1.43.59L10.3 9.45l-7.72 7.72c-.78.78-.78 2.05 0 2.83L4 21.41c.39.39.9.59 1.41.59.51 0 1.02-.2 1.41-.59l7.78-7.78 2.81-2.81c.8-.78.8-2.07 0-2.86zM5.41 20L4 18.59l7.72-7.72 1.47 1.35L5.41 20z\"/>\n",
              "  </svg>\n",
              "      </button>\n",
              "      \n",
              "  <style>\n",
              "    .colab-df-container {\n",
              "      display:flex;\n",
              "      flex-wrap:wrap;\n",
              "      gap: 12px;\n",
              "    }\n",
              "\n",
              "    .colab-df-convert {\n",
              "      background-color: #E8F0FE;\n",
              "      border: none;\n",
              "      border-radius: 50%;\n",
              "      cursor: pointer;\n",
              "      display: none;\n",
              "      fill: #1967D2;\n",
              "      height: 32px;\n",
              "      padding: 0 0 0 0;\n",
              "      width: 32px;\n",
              "    }\n",
              "\n",
              "    .colab-df-convert:hover {\n",
              "      background-color: #E2EBFA;\n",
              "      box-shadow: 0px 1px 2px rgba(60, 64, 67, 0.3), 0px 1px 3px 1px rgba(60, 64, 67, 0.15);\n",
              "      fill: #174EA6;\n",
              "    }\n",
              "\n",
              "    [theme=dark] .colab-df-convert {\n",
              "      background-color: #3B4455;\n",
              "      fill: #D2E3FC;\n",
              "    }\n",
              "\n",
              "    [theme=dark] .colab-df-convert:hover {\n",
              "      background-color: #434B5C;\n",
              "      box-shadow: 0px 1px 3px 1px rgba(0, 0, 0, 0.15);\n",
              "      filter: drop-shadow(0px 1px 2px rgba(0, 0, 0, 0.3));\n",
              "      fill: #FFFFFF;\n",
              "    }\n",
              "  </style>\n",
              "\n",
              "      <script>\n",
              "        const buttonEl =\n",
              "          document.querySelector('#df-f793288c-72ab-4aee-9167-b2bf65f85b10 button.colab-df-convert');\n",
              "        buttonEl.style.display =\n",
              "          google.colab.kernel.accessAllowed ? 'block' : 'none';\n",
              "\n",
              "        async function convertToInteractive(key) {\n",
              "          const element = document.querySelector('#df-f793288c-72ab-4aee-9167-b2bf65f85b10');\n",
              "          const dataTable =\n",
              "            await google.colab.kernel.invokeFunction('convertToInteractive',\n",
              "                                                     [key], {});\n",
              "          if (!dataTable) return;\n",
              "\n",
              "          const docLinkHtml = 'Like what you see? Visit the ' +\n",
              "            '<a target=\"_blank\" href=https://colab.research.google.com/notebooks/data_table.ipynb>data table notebook</a>'\n",
              "            + ' to learn more about interactive tables.';\n",
              "          element.innerHTML = '';\n",
              "          dataTable['output_type'] = 'display_data';\n",
              "          await google.colab.output.renderOutput(dataTable, element);\n",
              "          const docLink = document.createElement('div');\n",
              "          docLink.innerHTML = docLinkHtml;\n",
              "          element.appendChild(docLink);\n",
              "        }\n",
              "      </script>\n",
              "    </div>\n",
              "  </div>\n",
              "  "
            ]
          },
          "metadata": {},
          "execution_count": 12
        }
      ],
      "source": [
        "# Convert from wide to long format\n",
        "gapminder_long = pd.melt(gapminder, id_vars=[\"region\", \"country\"],  var_name='variable', value_name='value')\n",
        "\n",
        "# Preview the result\n",
        "gapminder_long.head()"
      ]
    },
    {
      "cell_type": "markdown",
      "source": [
        "**Long to Wide Format**\n",
        "\n",
        "\n",
        "We can also convert data from long to wide format. This can be useful when we want to compare multiple groups over time or when we want to summarize data by category. In this case, we will use the pivot() function to convert the data from long to wide format."
      ],
      "metadata": {
        "id": "U8Wu6lP7t1H3"
      }
    },
    {
      "cell_type": "code",
      "source": [
        "import pandas as pd\n",
        "\n",
        "# Load the Gapminder dataset\n",
        "gapminder = pd.read_csv('https://raw.githubusercontent.com/resbaz/r-novice-gapminder-files/master/data/gapminder-FiveYearData.csv')\n",
        "\n",
        "# Convert the data from long to wide format\n",
        "wide_gapminder = gapminder.pivot(index='country', columns='year', values='lifeExp')\n",
        "\n",
        "# Display the first five rows of the new DataFrame\n",
        "wide_gapminder.head()"
      ],
      "metadata": {
        "colab": {
          "base_uri": "https://localhost:8080/",
          "height": 238
        },
        "id": "HRxoNn6Kt67w",
        "outputId": "ab1a2fbc-b023-436e-86a1-27ef550a74fb"
      },
      "execution_count": 13,
      "outputs": [
        {
          "output_type": "execute_result",
          "data": {
            "text/plain": [
              "year           1952    1957    1962    1967    1972    1977    1982    1987  \\\n",
              "country                                                                       \n",
              "Afghanistan  28.801  30.332  31.997  34.020  36.088  38.438  39.854  40.822   \n",
              "Albania      55.230  59.280  64.820  66.220  67.690  68.930  70.420  72.000   \n",
              "Algeria      43.077  45.685  48.303  51.407  54.518  58.014  61.368  65.799   \n",
              "Angola       30.015  31.999  34.000  35.985  37.928  39.483  39.942  39.906   \n",
              "Argentina    62.485  64.399  65.142  65.634  67.065  68.481  69.942  70.774   \n",
              "\n",
              "year           1992    1997    2002    2007  \n",
              "country                                      \n",
              "Afghanistan  41.674  41.763  42.129  43.828  \n",
              "Albania      71.581  72.950  75.651  76.423  \n",
              "Algeria      67.744  69.152  70.994  72.301  \n",
              "Angola       40.647  40.963  41.003  42.731  \n",
              "Argentina    71.868  73.275  74.340  75.320  "
            ],
            "text/html": [
              "\n",
              "  <div id=\"df-d75cc39a-20b8-45ee-baa1-9eaed3c9af5c\">\n",
              "    <div class=\"colab-df-container\">\n",
              "      <div>\n",
              "<style scoped>\n",
              "    .dataframe tbody tr th:only-of-type {\n",
              "        vertical-align: middle;\n",
              "    }\n",
              "\n",
              "    .dataframe tbody tr th {\n",
              "        vertical-align: top;\n",
              "    }\n",
              "\n",
              "    .dataframe thead th {\n",
              "        text-align: right;\n",
              "    }\n",
              "</style>\n",
              "<table border=\"1\" class=\"dataframe\">\n",
              "  <thead>\n",
              "    <tr style=\"text-align: right;\">\n",
              "      <th>year</th>\n",
              "      <th>1952</th>\n",
              "      <th>1957</th>\n",
              "      <th>1962</th>\n",
              "      <th>1967</th>\n",
              "      <th>1972</th>\n",
              "      <th>1977</th>\n",
              "      <th>1982</th>\n",
              "      <th>1987</th>\n",
              "      <th>1992</th>\n",
              "      <th>1997</th>\n",
              "      <th>2002</th>\n",
              "      <th>2007</th>\n",
              "    </tr>\n",
              "    <tr>\n",
              "      <th>country</th>\n",
              "      <th></th>\n",
              "      <th></th>\n",
              "      <th></th>\n",
              "      <th></th>\n",
              "      <th></th>\n",
              "      <th></th>\n",
              "      <th></th>\n",
              "      <th></th>\n",
              "      <th></th>\n",
              "      <th></th>\n",
              "      <th></th>\n",
              "      <th></th>\n",
              "    </tr>\n",
              "  </thead>\n",
              "  <tbody>\n",
              "    <tr>\n",
              "      <th>Afghanistan</th>\n",
              "      <td>28.801</td>\n",
              "      <td>30.332</td>\n",
              "      <td>31.997</td>\n",
              "      <td>34.020</td>\n",
              "      <td>36.088</td>\n",
              "      <td>38.438</td>\n",
              "      <td>39.854</td>\n",
              "      <td>40.822</td>\n",
              "      <td>41.674</td>\n",
              "      <td>41.763</td>\n",
              "      <td>42.129</td>\n",
              "      <td>43.828</td>\n",
              "    </tr>\n",
              "    <tr>\n",
              "      <th>Albania</th>\n",
              "      <td>55.230</td>\n",
              "      <td>59.280</td>\n",
              "      <td>64.820</td>\n",
              "      <td>66.220</td>\n",
              "      <td>67.690</td>\n",
              "      <td>68.930</td>\n",
              "      <td>70.420</td>\n",
              "      <td>72.000</td>\n",
              "      <td>71.581</td>\n",
              "      <td>72.950</td>\n",
              "      <td>75.651</td>\n",
              "      <td>76.423</td>\n",
              "    </tr>\n",
              "    <tr>\n",
              "      <th>Algeria</th>\n",
              "      <td>43.077</td>\n",
              "      <td>45.685</td>\n",
              "      <td>48.303</td>\n",
              "      <td>51.407</td>\n",
              "      <td>54.518</td>\n",
              "      <td>58.014</td>\n",
              "      <td>61.368</td>\n",
              "      <td>65.799</td>\n",
              "      <td>67.744</td>\n",
              "      <td>69.152</td>\n",
              "      <td>70.994</td>\n",
              "      <td>72.301</td>\n",
              "    </tr>\n",
              "    <tr>\n",
              "      <th>Angola</th>\n",
              "      <td>30.015</td>\n",
              "      <td>31.999</td>\n",
              "      <td>34.000</td>\n",
              "      <td>35.985</td>\n",
              "      <td>37.928</td>\n",
              "      <td>39.483</td>\n",
              "      <td>39.942</td>\n",
              "      <td>39.906</td>\n",
              "      <td>40.647</td>\n",
              "      <td>40.963</td>\n",
              "      <td>41.003</td>\n",
              "      <td>42.731</td>\n",
              "    </tr>\n",
              "    <tr>\n",
              "      <th>Argentina</th>\n",
              "      <td>62.485</td>\n",
              "      <td>64.399</td>\n",
              "      <td>65.142</td>\n",
              "      <td>65.634</td>\n",
              "      <td>67.065</td>\n",
              "      <td>68.481</td>\n",
              "      <td>69.942</td>\n",
              "      <td>70.774</td>\n",
              "      <td>71.868</td>\n",
              "      <td>73.275</td>\n",
              "      <td>74.340</td>\n",
              "      <td>75.320</td>\n",
              "    </tr>\n",
              "  </tbody>\n",
              "</table>\n",
              "</div>\n",
              "      <button class=\"colab-df-convert\" onclick=\"convertToInteractive('df-d75cc39a-20b8-45ee-baa1-9eaed3c9af5c')\"\n",
              "              title=\"Convert this dataframe to an interactive table.\"\n",
              "              style=\"display:none;\">\n",
              "        \n",
              "  <svg xmlns=\"http://www.w3.org/2000/svg\" height=\"24px\"viewBox=\"0 0 24 24\"\n",
              "       width=\"24px\">\n",
              "    <path d=\"M0 0h24v24H0V0z\" fill=\"none\"/>\n",
              "    <path d=\"M18.56 5.44l.94 2.06.94-2.06 2.06-.94-2.06-.94-.94-2.06-.94 2.06-2.06.94zm-11 1L8.5 8.5l.94-2.06 2.06-.94-2.06-.94L8.5 2.5l-.94 2.06-2.06.94zm10 10l.94 2.06.94-2.06 2.06-.94-2.06-.94-.94-2.06-.94 2.06-2.06.94z\"/><path d=\"M17.41 7.96l-1.37-1.37c-.4-.4-.92-.59-1.43-.59-.52 0-1.04.2-1.43.59L10.3 9.45l-7.72 7.72c-.78.78-.78 2.05 0 2.83L4 21.41c.39.39.9.59 1.41.59.51 0 1.02-.2 1.41-.59l7.78-7.78 2.81-2.81c.8-.78.8-2.07 0-2.86zM5.41 20L4 18.59l7.72-7.72 1.47 1.35L5.41 20z\"/>\n",
              "  </svg>\n",
              "      </button>\n",
              "      \n",
              "  <style>\n",
              "    .colab-df-container {\n",
              "      display:flex;\n",
              "      flex-wrap:wrap;\n",
              "      gap: 12px;\n",
              "    }\n",
              "\n",
              "    .colab-df-convert {\n",
              "      background-color: #E8F0FE;\n",
              "      border: none;\n",
              "      border-radius: 50%;\n",
              "      cursor: pointer;\n",
              "      display: none;\n",
              "      fill: #1967D2;\n",
              "      height: 32px;\n",
              "      padding: 0 0 0 0;\n",
              "      width: 32px;\n",
              "    }\n",
              "\n",
              "    .colab-df-convert:hover {\n",
              "      background-color: #E2EBFA;\n",
              "      box-shadow: 0px 1px 2px rgba(60, 64, 67, 0.3), 0px 1px 3px 1px rgba(60, 64, 67, 0.15);\n",
              "      fill: #174EA6;\n",
              "    }\n",
              "\n",
              "    [theme=dark] .colab-df-convert {\n",
              "      background-color: #3B4455;\n",
              "      fill: #D2E3FC;\n",
              "    }\n",
              "\n",
              "    [theme=dark] .colab-df-convert:hover {\n",
              "      background-color: #434B5C;\n",
              "      box-shadow: 0px 1px 3px 1px rgba(0, 0, 0, 0.15);\n",
              "      filter: drop-shadow(0px 1px 2px rgba(0, 0, 0, 0.3));\n",
              "      fill: #FFFFFF;\n",
              "    }\n",
              "  </style>\n",
              "\n",
              "      <script>\n",
              "        const buttonEl =\n",
              "          document.querySelector('#df-d75cc39a-20b8-45ee-baa1-9eaed3c9af5c button.colab-df-convert');\n",
              "        buttonEl.style.display =\n",
              "          google.colab.kernel.accessAllowed ? 'block' : 'none';\n",
              "\n",
              "        async function convertToInteractive(key) {\n",
              "          const element = document.querySelector('#df-d75cc39a-20b8-45ee-baa1-9eaed3c9af5c');\n",
              "          const dataTable =\n",
              "            await google.colab.kernel.invokeFunction('convertToInteractive',\n",
              "                                                     [key], {});\n",
              "          if (!dataTable) return;\n",
              "\n",
              "          const docLinkHtml = 'Like what you see? Visit the ' +\n",
              "            '<a target=\"_blank\" href=https://colab.research.google.com/notebooks/data_table.ipynb>data table notebook</a>'\n",
              "            + ' to learn more about interactive tables.';\n",
              "          element.innerHTML = '';\n",
              "          dataTable['output_type'] = 'display_data';\n",
              "          await google.colab.output.renderOutput(dataTable, element);\n",
              "          const docLink = document.createElement('div');\n",
              "          docLink.innerHTML = docLinkHtml;\n",
              "          element.appendChild(docLink);\n",
              "        }\n",
              "      </script>\n",
              "    </div>\n",
              "  </div>\n",
              "  "
            ]
          },
          "metadata": {},
          "execution_count": 13
        }
      ]
    },
    {
      "cell_type": "markdown",
      "source": [
        "**stacking:** \n",
        "\n",
        "This method pivots the columns of a dataframe into rows, creating a multi-level index dataframe with the original columns and the new rows."
      ],
      "metadata": {
        "id": "SilIfe8jus_B"
      }
    },
    {
      "cell_type": "code",
      "source": [
        "import pandas as pd\n",
        "\n",
        "# Create a multi-level index dataframe\n",
        "df = pd.DataFrame({'A': ['foo', 'foo', 'foo', 'bar', 'bar', 'bar'],\n",
        "                   'B': ['one', 'one', 'two', 'two', 'one', 'one'],\n",
        "                   'C': ['x', 'y', 'x', 'y', 'x', 'y'],\n",
        "                   'D': [1, 2, 3, 4, 5, 6],\n",
        "                   'E': [7, 8, 9, 10, 11, 12]})\n",
        "\n",
        "df.set_index(['A', 'B', 'C'], inplace=True)\n",
        "\n",
        "print(df)\n"
      ],
      "metadata": {
        "colab": {
          "base_uri": "https://localhost:8080/"
        },
        "id": "v5OxjpZpu0j9",
        "outputId": "97b193f0-8d76-467a-ee13-b03b927953b5"
      },
      "execution_count": 14,
      "outputs": [
        {
          "output_type": "stream",
          "name": "stdout",
          "text": [
            "           D   E\n",
            "A   B   C       \n",
            "foo one x  1   7\n",
            "        y  2   8\n",
            "    two x  3   9\n",
            "bar two y  4  10\n",
            "    one x  5  11\n",
            "        y  6  12\n"
          ]
        }
      ]
    },
    {
      "cell_type": "code",
      "source": [
        "stacked_df = df.stack()\n",
        "\n",
        "print(stacked_df)"
      ],
      "metadata": {
        "colab": {
          "base_uri": "https://localhost:8080/"
        },
        "id": "tKf-vDFcvABZ",
        "outputId": "ad592cfa-d3cc-4fa2-b208-06067c5df4fd"
      },
      "execution_count": 15,
      "outputs": [
        {
          "output_type": "stream",
          "name": "stdout",
          "text": [
            "A    B    C   \n",
            "foo  one  x  D     1\n",
            "             E     7\n",
            "          y  D     2\n",
            "             E     8\n",
            "     two  x  D     3\n",
            "             E     9\n",
            "bar  two  y  D     4\n",
            "             E    10\n",
            "     one  x  D     5\n",
            "             E    11\n",
            "          y  D     6\n",
            "             E    12\n",
            "dtype: int64\n"
          ]
        }
      ]
    },
    {
      "cell_type": "markdown",
      "source": [
        "**unstacking:** \n",
        "\n",
        "This method pivots the rows of a multi-level index dataframe into columns, creating a new dataframe with the original columns and the new columns created from the rows."
      ],
      "metadata": {
        "id": "V97kv_XrvJzK"
      }
    },
    {
      "cell_type": "code",
      "source": [
        "unstacked_df = stacked_df.unstack()\n",
        "\n",
        "print(unstacked_df)"
      ],
      "metadata": {
        "colab": {
          "base_uri": "https://localhost:8080/"
        },
        "id": "FFv-mLaZvQnH",
        "outputId": "30936799-14a9-49c6-cbcc-1d11ec19e92d"
      },
      "execution_count": 16,
      "outputs": [
        {
          "output_type": "stream",
          "name": "stdout",
          "text": [
            "           D   E\n",
            "A   B   C       \n",
            "bar one x  5  11\n",
            "        y  6  12\n",
            "    two y  4  10\n",
            "foo one x  1   7\n",
            "        y  2   8\n",
            "    two x  3   9\n"
          ]
        }
      ]
    }
  ]
}