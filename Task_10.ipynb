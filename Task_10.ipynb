{
  "nbformat": 4,
  "nbformat_minor": 0,
  "metadata": {
    "colab": {
      "provenance": [],
      "authorship_tag": "ABX9TyOKxYvLbPyNk0VVAMAPfzY/",
      "include_colab_link": true
    },
    "kernelspec": {
      "name": "python3",
      "display_name": "Python 3"
    },
    "language_info": {
      "name": "python"
    }
  },
  "cells": [
    {
      "cell_type": "markdown",
      "metadata": {
        "id": "view-in-github",
        "colab_type": "text"
      },
      "source": [
        "<a href=\"https://colab.research.google.com/github/ayesha-119/Deep-Learning-BWF/blob/master/Task_10.ipynb\" target=\"_parent\"><img src=\"https://colab.research.google.com/assets/colab-badge.svg\" alt=\"Open In Colab\"/></a>"
      ]
    },
    {
      "cell_type": "markdown",
      "source": [
        "# 🔴 **Task 10** \n",
        "\n",
        "**Topics: Introduction to Numpy, Numpy Arrays**\n",
        "\n",
        "Resource: https://drive.google.com/file/d/1ILp88f3u_KgJ_nlhTSsAVGdmZlICGhhd/view?usp=share_link\n",
        "\n",
        "\n",
        "\n",
        "Directions: Learn about Numpy arrays and try to make with single and multi dimensions, perform simple arithmetic operations using two multi dimensional arrays. Submit these practiced tasks on GitHub."
      ],
      "metadata": {
        "id": "Hzmco57aaF6X"
      }
    },
    {
      "cell_type": "markdown",
      "source": [
        "**Creating 1D array from lists**"
      ],
      "metadata": {
        "id": "bgx8FphWlSlZ"
      }
    },
    {
      "cell_type": "code",
      "source": [
        "import numpy as np"
      ],
      "metadata": {
        "id": "HtwiT-0gl8-5"
      },
      "execution_count": 4,
      "outputs": []
    },
    {
      "cell_type": "code",
      "execution_count": 5,
      "metadata": {
        "colab": {
          "base_uri": "https://localhost:8080/"
        },
        "id": "ZM5ctkDyaEfj",
        "outputId": "b0d61b2f-53fe-4343-f3f6-434f0924a1bd"
      },
      "outputs": [
        {
          "output_type": "execute_result",
          "data": {
            "text/plain": [
              "array([3, 2, 5, 8, 4, 9, 7, 6, 1])"
            ]
          },
          "metadata": {},
          "execution_count": 5
        }
      ],
      "source": [
        "python_list = [3,2,5,8,4,9,7,6,1]\n",
        "array = np.array(python_list)\n",
        "array"
      ]
    },
    {
      "cell_type": "code",
      "source": [
        "type(array)"
      ],
      "metadata": {
        "colab": {
          "base_uri": "https://localhost:8080/"
        },
        "id": "_RcE-2mhmFxy",
        "outputId": "fa3ef6df-aa53-4c43-fd44-5ba8afe40ef7"
      },
      "execution_count": 6,
      "outputs": [
        {
          "output_type": "execute_result",
          "data": {
            "text/plain": [
              "numpy.ndarray"
            ]
          },
          "metadata": {},
          "execution_count": 6
        }
      ]
    },
    {
      "cell_type": "markdown",
      "source": [
        "**Creating 2D array from list**"
      ],
      "metadata": {
        "id": "GQNh4cP3p_Ps"
      }
    },
    {
      "cell_type": "code",
      "source": [
        "python_list_of_lists = [[3,2,5],\n",
        "                        [9,7,1],\n",
        "                        [4,3,6]\n",
        "    \n",
        "]\n",
        "array2 = np.array(python_list_of_lists)"
      ],
      "metadata": {
        "id": "PeaeejmzqD62"
      },
      "execution_count": 9,
      "outputs": []
    },
    {
      "cell_type": "code",
      "source": [
        "array2.ndim"
      ],
      "metadata": {
        "colab": {
          "base_uri": "https://localhost:8080/"
        },
        "id": "LvYQdTE2ezHh",
        "outputId": "09bc6c89-ebb1-4875-a46a-5024f5845b08"
      },
      "execution_count": 10,
      "outputs": [
        {
          "output_type": "execute_result",
          "data": {
            "text/plain": [
              "2"
            ]
          },
          "metadata": {},
          "execution_count": 10
        }
      ]
    },
    {
      "cell_type": "code",
      "source": [
        "array2.shape"
      ],
      "metadata": {
        "colab": {
          "base_uri": "https://localhost:8080/"
        },
        "id": "GdgRBDb5e8AI",
        "outputId": "c0cae707-8ae9-45e7-f8cc-9ab6dd4037a3"
      },
      "execution_count": 12,
      "outputs": [
        {
          "output_type": "execute_result",
          "data": {
            "text/plain": [
              "(3, 3)"
            ]
          },
          "metadata": {},
          "execution_count": 12
        }
      ]
    },
    {
      "cell_type": "code",
      "source": [
        "array2.dtype"
      ],
      "metadata": {
        "colab": {
          "base_uri": "https://localhost:8080/"
        },
        "id": "Gu71CNMvfi2I",
        "outputId": "ae63799f-c85a-4097-9d91-641505de3d2b"
      },
      "execution_count": 13,
      "outputs": [
        {
          "output_type": "execute_result",
          "data": {
            "text/plain": [
              "dtype('int64')"
            ]
          },
          "metadata": {},
          "execution_count": 13
        }
      ]
    },
    {
      "cell_type": "markdown",
      "source": [
        "**python lists** can contain different data types"
      ],
      "metadata": {
        "id": "Eg-D32Viszcl"
      }
    },
    {
      "cell_type": "code",
      "source": [
        "python_list = [\"beep\", True, 34, 1.567, [3,2,5]]\n",
        "python_list"
      ],
      "metadata": {
        "colab": {
          "base_uri": "https://localhost:8080/"
        },
        "id": "bQLGX7Bqs7vt",
        "outputId": "65258147-3292-40dc-bd30-8f1f41ca5760"
      },
      "execution_count": 14,
      "outputs": [
        {
          "output_type": "execute_result",
          "data": {
            "text/plain": [
              "['beep', True, 34, 1.567, [3, 2, 5]]"
            ]
          },
          "metadata": {},
          "execution_count": 14
        }
      ]
    },
    {
      "cell_type": "markdown",
      "source": [
        "Numpy arrays can contain only single data type\n",
        "\n",
        "\n",
        "\n",
        "*Use less space in memory\n",
        "\n",
        "\n",
        "\n"
      ],
      "metadata": {
        "id": "7b0_vHtmtNVJ"
      }
    },
    {
      "cell_type": "code",
      "source": [
        "numpy_boolean_array = [[True , False] , [False , True]]\n",
        "numpy_float_array = [1.9 , 5.4 , 9.8 , 6.3]"
      ],
      "metadata": {
        "id": "H7tF8upluBOE"
      },
      "execution_count": 15,
      "outputs": []
    },
    {
      "cell_type": "markdown",
      "source": [
        "**Creating arrays from scratch:**\n",
        "\n",
        "\n",
        "*   np.zeros()\n",
        "*   np.random.random()\n",
        "*   np.arange()\n",
        "\n",
        "\n",
        "\n",
        "\n",
        "\n"
      ],
      "metadata": {
        "id": "t6g4aTmx0jvG"
      }
    },
    {
      "cell_type": "markdown",
      "source": [
        "**Creating arrays: np.zeros()**"
      ],
      "metadata": {
        "id": "oS1bC4WT1ECi"
      }
    },
    {
      "cell_type": "code",
      "source": [
        "np.zeros((8,6))"
      ],
      "metadata": {
        "colab": {
          "base_uri": "https://localhost:8080/"
        },
        "id": "qnADfyrD1MXC",
        "outputId": "7a0e5b36-599e-4ab5-8280-d026711c17c9"
      },
      "execution_count": 16,
      "outputs": [
        {
          "output_type": "execute_result",
          "data": {
            "text/plain": [
              "array([[0., 0., 0., 0., 0., 0.],\n",
              "       [0., 0., 0., 0., 0., 0.],\n",
              "       [0., 0., 0., 0., 0., 0.],\n",
              "       [0., 0., 0., 0., 0., 0.],\n",
              "       [0., 0., 0., 0., 0., 0.],\n",
              "       [0., 0., 0., 0., 0., 0.],\n",
              "       [0., 0., 0., 0., 0., 0.],\n",
              "       [0., 0., 0., 0., 0., 0.]])"
            ]
          },
          "metadata": {},
          "execution_count": 16
        }
      ]
    },
    {
      "cell_type": "markdown",
      "source": [
        "**Creating arrays: np.random.random()**"
      ],
      "metadata": {
        "id": "CxaX64_A1eUT"
      }
    },
    {
      "cell_type": "code",
      "source": [
        "np.random.random((8,6))"
      ],
      "metadata": {
        "colab": {
          "base_uri": "https://localhost:8080/"
        },
        "id": "OpxMnrJb1lJB",
        "outputId": "a30af507-f357-456e-f276-54e41d8485d0"
      },
      "execution_count": 17,
      "outputs": [
        {
          "output_type": "execute_result",
          "data": {
            "text/plain": [
              "array([[0.85895615, 0.1049809 , 0.75391763, 0.64989055, 0.51211283,\n",
              "        0.23203891],\n",
              "       [0.454497  , 0.77529613, 0.72532728, 0.33846218, 0.15570028,\n",
              "        0.84851284],\n",
              "       [0.20164072, 0.10545679, 0.00945948, 0.04089028, 0.71992739,\n",
              "        0.78082163],\n",
              "       [0.93733482, 0.86729646, 0.41099334, 0.08241742, 0.131     ,\n",
              "        0.19034144],\n",
              "       [0.04170374, 0.28347764, 0.16616   , 0.557655  , 0.13259253,\n",
              "        0.00219494],\n",
              "       [0.21911359, 0.90913335, 0.99006185, 0.65315104, 0.20023747,\n",
              "        0.91252141],\n",
              "       [0.0404654 , 0.1925769 , 0.65888046, 0.54370177, 0.88393959,\n",
              "        0.75141037],\n",
              "       [0.43758295, 0.22571183, 0.22255707, 0.36296124, 0.56528219,\n",
              "        0.60325647]])"
            ]
          },
          "metadata": {},
          "execution_count": 17
        }
      ]
    },
    {
      "cell_type": "markdown",
      "source": [
        "**Creating arrays: np.aranage()**"
      ],
      "metadata": {
        "id": "J_AuwCtk1se9"
      }
    },
    {
      "cell_type": "code",
      "source": [
        "np.arange(-3,4)"
      ],
      "metadata": {
        "colab": {
          "base_uri": "https://localhost:8080/"
        },
        "id": "bRJa920E12YN",
        "outputId": "46e46de6-067a-4bba-cc4f-ef4f14d118e8"
      },
      "execution_count": 18,
      "outputs": [
        {
          "output_type": "execute_result",
          "data": {
            "text/plain": [
              "array([-3, -2, -1,  0,  1,  2,  3])"
            ]
          },
          "metadata": {},
          "execution_count": 18
        }
      ]
    },
    {
      "cell_type": "code",
      "source": [
        "np.arange(4)"
      ],
      "metadata": {
        "id": "hsVcqDws3XXn"
      },
      "execution_count": null,
      "outputs": []
    },
    {
      "cell_type": "code",
      "source": [
        "np.arange(-3, 4, 3)"
      ],
      "metadata": {
        "id": "ixMafF8B3afj"
      },
      "execution_count": null,
      "outputs": []
    },
    {
      "cell_type": "markdown",
      "source": [
        "**Your first numpy array:**\n",
        "\n",
        "Import NumPy using its generally accepted alias.\n",
        "Convert sudoku_list into a NumPy array called sudoku_array.\n",
        "Print the class type() of sudoku_array to check that your code has worked properly."
      ],
      "metadata": {
        "id": "nFxR92wa4AMK"
      }
    },
    {
      "cell_type": "code",
      "source": [
        "sudoku_list = [[0, 0, 4, 3, 0, 0, 2, 0, 9],\n",
        " [0, 0, 5, 0, 0, 9, 0, 0, 1],\n",
        " [0, 7, 0, 0, 6, 0, 0, 4, 3],\n",
        " [0, 0, 6, 0, 0, 2, 0, 8, 7],\n",
        " [1, 9, 0, 0, 0, 7, 4, 0, 0],\n",
        " [0, 5, 0, 0, 8, 3, 0, 0, 0],\n",
        " [6, 0, 0, 0, 0, 0, 1, 0, 5],\n",
        " [0, 0, 3, 5, 0, 8, 6, 9, 0],\n",
        " [0, 4, 2, 9, 1, 0, 3, 0, 0]]"
      ],
      "metadata": {
        "id": "q_Ducu_24ZBO"
      },
      "execution_count": 19,
      "outputs": []
    },
    {
      "cell_type": "code",
      "source": [
        "# Import NumPy\n",
        "import numpy as np\n",
        "\n",
        "# Convert sudoku_list into an array\n",
        "sudoku_array = np.array(sudoku_list)\n",
        "\n",
        "# Print the type of sudoku_array \n",
        "print(type(sudoku_array))\n"
      ],
      "metadata": {
        "colab": {
          "base_uri": "https://localhost:8080/"
        },
        "id": "B-T2ji844F2-",
        "outputId": "a33bcf35-6cc4-4b70-9ea0-cb6442f44cbc"
      },
      "execution_count": 20,
      "outputs": [
        {
          "output_type": "stream",
          "name": "stdout",
          "text": [
            "<class 'numpy.ndarray'>\n"
          ]
        }
      ]
    },
    {
      "cell_type": "markdown",
      "source": [
        "**Create and print an array filled with zeros called zero_array, which has two rows and four columns.**"
      ],
      "metadata": {
        "id": "bU8iIlXH7hyz"
      }
    },
    {
      "cell_type": "code",
      "source": [
        "# Create an array of zeros which has four columns and two rows\n",
        "zero_array = np.zeros((2,4))\n",
        "print(zero_array)"
      ],
      "metadata": {
        "colab": {
          "base_uri": "https://localhost:8080/"
        },
        "id": "Es_H9E_L7jfK",
        "outputId": "9168c25c-43b6-4462-8768-4ae778e0282f"
      },
      "execution_count": 21,
      "outputs": [
        {
          "output_type": "stream",
          "name": "stdout",
          "text": [
            "[[0. 0. 0. 0.]\n",
            " [0. 0. 0. 0.]]\n"
          ]
        }
      ]
    },
    {
      "cell_type": "markdown",
      "source": [
        "**Create and print an array of random floats between 0 and 1 called random_array, which has three rows and six columns.**"
      ],
      "metadata": {
        "id": "YNAngD4y8Z9w"
      }
    },
    {
      "cell_type": "code",
      "source": [
        "# Create an array of random floats which has six columns and three rows\n",
        "random_array = np.random.random((3,6))\n",
        "print(random_array)"
      ],
      "metadata": {
        "colab": {
          "base_uri": "https://localhost:8080/"
        },
        "id": "FtgDMMpO8Q6n",
        "outputId": "3cc30546-7928-4dd8-a703-7a67be87c136"
      },
      "execution_count": 22,
      "outputs": [
        {
          "output_type": "stream",
          "name": "stdout",
          "text": [
            "[[0.9021592  0.02161225 0.36741749 0.207323   0.47628891 0.69117906]\n",
            " [0.32787576 0.07385999 0.26916661 0.28262871 0.14697242 0.93173259]\n",
            " [0.76814632 0.04761057 0.54868717 0.08781965 0.2055785  0.81394503]]\n"
          ]
        }
      ]
    },
    {
      "cell_type": "markdown",
      "source": [
        "**Array Dimensionality:**"
      ],
      "metadata": {
        "id": "YVBM2zfkiMUD"
      }
    },
    {
      "cell_type": "markdown",
      "source": [
        "**3D Array**"
      ],
      "metadata": {
        "id": "afCZbN1PiUYH"
      }
    },
    {
      "cell_type": "code",
      "source": [
        "array_1_2D = np.array([[3, 4],[7, 9]])\n",
        "array_2_2D = np.array([[1, 3], [3, 1]])\n",
        "array_3_2D = np.array([[6, 3], [7,4]])\n",
        "array_3D = np.array([array_1_2D, array_2_2D, array_3_2D])\n",
        "array_3D"
      ],
      "metadata": {
        "colab": {
          "base_uri": "https://localhost:8080/"
        },
        "id": "B9RsxcUTiigb",
        "outputId": "a37977de-64ae-4110-dfd4-f935a219491a"
      },
      "execution_count": 28,
      "outputs": [
        {
          "output_type": "execute_result",
          "data": {
            "text/plain": [
              "array([[[3, 4],\n",
              "        [7, 9]],\n",
              "\n",
              "       [[1, 3],\n",
              "        [3, 1]],\n",
              "\n",
              "       [[6, 3],\n",
              "        [7, 4]]])"
            ]
          },
          "metadata": {},
          "execution_count": 28
        }
      ]
    },
    {
      "cell_type": "markdown",
      "source": [
        "**4D Array**"
      ],
      "metadata": {
        "id": "q278Hd2kmuum"
      }
    },
    {
      "cell_type": "code",
      "source": [
        "array_1_3D = np.array([array_1_2D, array_2_2D, array_3_2D])\n",
        "array_2_3D = np.array([array_2_2D, array_1_2D, array_3_2D])\n",
        "array_3_3D = np.array([array_2_2D, array_3_2D, array_1_2D])\n",
        "array_4_3D = np.array([array_3_2D, array_1_2D, array_2_2D])\n",
        "array_5_3D = np.array([array_3_2D, array_2_2D, array_1_2D])"
      ],
      "metadata": {
        "id": "EG8GRMBzmytH"
      },
      "execution_count": 29,
      "outputs": []
    },
    {
      "cell_type": "code",
      "source": [
        "array_4D = np.array ( [array_1_3D, array_2_3D, array_3_3D, array_4_3D, array_5_3D])"
      ],
      "metadata": {
        "id": "OOvb55f8nQmT"
      },
      "execution_count": 30,
      "outputs": []
    },
    {
      "cell_type": "code",
      "source": [
        "array_4D"
      ],
      "metadata": {
        "colab": {
          "base_uri": "https://localhost:8080/"
        },
        "id": "XD8obQXKnn7M",
        "outputId": "d836ddf6-418a-409c-bae3-828274b1831d"
      },
      "execution_count": 31,
      "outputs": [
        {
          "output_type": "execute_result",
          "data": {
            "text/plain": [
              "array([[[[3, 4],\n",
              "         [7, 9]],\n",
              "\n",
              "        [[1, 3],\n",
              "         [3, 1]],\n",
              "\n",
              "        [[6, 3],\n",
              "         [7, 4]]],\n",
              "\n",
              "\n",
              "       [[[1, 3],\n",
              "         [3, 1]],\n",
              "\n",
              "        [[3, 4],\n",
              "         [7, 9]],\n",
              "\n",
              "        [[6, 3],\n",
              "         [7, 4]]],\n",
              "\n",
              "\n",
              "       [[[1, 3],\n",
              "         [3, 1]],\n",
              "\n",
              "        [[6, 3],\n",
              "         [7, 4]],\n",
              "\n",
              "        [[3, 4],\n",
              "         [7, 9]]],\n",
              "\n",
              "\n",
              "       [[[6, 3],\n",
              "         [7, 4]],\n",
              "\n",
              "        [[3, 4],\n",
              "         [7, 9]],\n",
              "\n",
              "        [[1, 3],\n",
              "         [3, 1]]],\n",
              "\n",
              "\n",
              "       [[[6, 3],\n",
              "         [7, 4]],\n",
              "\n",
              "        [[1, 3],\n",
              "         [3, 1]],\n",
              "\n",
              "        [[3, 4],\n",
              "         [7, 9]]]])"
            ]
          },
          "metadata": {},
          "execution_count": 31
        }
      ]
    },
    {
      "cell_type": "markdown",
      "source": [
        "**Numpy data types:**"
      ],
      "metadata": {
        "id": "Ey_wga_2GWWX"
      }
    },
    {
      "cell_type": "code",
      "source": [
        "# The .dtype attribute\n",
        "np.array([1,2,3,4]).dtype"
      ],
      "metadata": {
        "colab": {
          "base_uri": "https://localhost:8080/"
        },
        "id": "55wpLZ87Givc",
        "outputId": "b8577792-a2a3-497d-ff8d-1e715304b918"
      },
      "execution_count": 100,
      "outputs": [
        {
          "output_type": "execute_result",
          "data": {
            "text/plain": [
              "dtype('int64')"
            ]
          },
          "metadata": {},
          "execution_count": 100
        }
      ]
    },
    {
      "cell_type": "code",
      "source": [
        "# The default data type\n",
        "int_array = np.array ([\n",
        "    [3,2,1],\n",
        "    [4,5,6]\n",
        "])\n",
        "int_array.dtype"
      ],
      "metadata": {
        "colab": {
          "base_uri": "https://localhost:8080/"
        },
        "id": "c5KZoPGIG0gP",
        "outputId": "21157c13-630b-49f1-fa3c-5a6601f82e47"
      },
      "execution_count": 101,
      "outputs": [
        {
          "output_type": "execute_result",
          "data": {
            "text/plain": [
              "dtype('int64')"
            ]
          },
          "metadata": {},
          "execution_count": 101
        }
      ]
    },
    {
      "cell_type": "code",
      "source": [
        "# String data\n",
        "np.array ([\"hello\" , \"numpy\", \"fam\"]).dtype"
      ],
      "metadata": {
        "colab": {
          "base_uri": "https://localhost:8080/"
        },
        "id": "Uj15O_QHHI-a",
        "outputId": "67905eba-c0fa-4316-eed6-599f1097eab6"
      },
      "execution_count": 103,
      "outputs": [
        {
          "output_type": "execute_result",
          "data": {
            "text/plain": [
              "dtype('<U5')"
            ]
          },
          "metadata": {},
          "execution_count": 103
        }
      ]
    },
    {
      "cell_type": "code",
      "source": [
        "# dtype as an argument\n",
        "float64_array = np.array( [1.32, 4, 123.456])\n",
        "float64_array.dtype # 64 is the default value but you can change it\n",
        "\n",
        "float32_array = np.array( [1.32, 4, 123.456], dtype = np.float32)\n",
        "float32_array.dtype"
      ],
      "metadata": {
        "colab": {
          "base_uri": "https://localhost:8080/"
        },
        "id": "nR5eRzDqHy75",
        "outputId": "5925f00c-e515-4b55-b642-b94f7aff7673"
      },
      "execution_count": 105,
      "outputs": [
        {
          "output_type": "execute_result",
          "data": {
            "text/plain": [
              "dtype('float32')"
            ]
          },
          "metadata": {},
          "execution_count": 105
        }
      ]
    },
    {
      "cell_type": "code",
      "source": [
        "# type conversion\n",
        "boolean_array = np.array([\n",
        "    [True, False],\n",
        "    [True, False],\n",
        "], dtype = np.bool_)\n",
        "boolean_array.astype(np.int32)"
      ],
      "metadata": {
        "colab": {
          "base_uri": "https://localhost:8080/"
        },
        "id": "y2MPLspHI6l8",
        "outputId": "0635d605-6c17-402f-b86e-4ea11c7bc431"
      },
      "execution_count": 106,
      "outputs": [
        {
          "output_type": "execute_result",
          "data": {
            "text/plain": [
              "array([[1, 0],\n",
              "       [1, 0]], dtype=int32)"
            ]
          },
          "metadata": {},
          "execution_count": 106
        }
      ]
    },
    {
      "cell_type": "code",
      "source": [
        "# type coercion\n",
        "np.array([\"hello\",32, 54.21, False]) #it converts all the values to string without telling us"
      ],
      "metadata": {
        "colab": {
          "base_uri": "https://localhost:8080/"
        },
        "id": "Vre6lACaJ_wA",
        "outputId": "8aa03053-25a5-40cc-efe5-1abaf5a9fa23"
      },
      "execution_count": 107,
      "outputs": [
        {
          "output_type": "execute_result",
          "data": {
            "text/plain": [
              "array(['hello', '32', '54.21', 'False'], dtype='<U32')"
            ]
          },
          "metadata": {},
          "execution_count": 107
        }
      ]
    },
    {
      "cell_type": "code",
      "source": [
        "# type coercion hierarchy\n",
        "\n",
        "# Adding a float to an array of integers will change all integers into float\n",
        "np.array([0,43, 23]).dtype"
      ],
      "metadata": {
        "colab": {
          "base_uri": "https://localhost:8080/"
        },
        "id": "Z9ZZFSS_KYXk",
        "outputId": "5262ea54-1f7f-4cb2-ba4d-abf7e1ba59b0"
      },
      "execution_count": 109,
      "outputs": [
        {
          "output_type": "execute_result",
          "data": {
            "text/plain": [
              "dtype('int64')"
            ]
          },
          "metadata": {},
          "execution_count": 109
        }
      ]
    },
    {
      "cell_type": "markdown",
      "source": [
        "# **Shapeshifting**\n",
        "\n",
        "**array attribute:**\n",
        "\n",
        "\n",
        "*  shape\n",
        "\n",
        "**Array methods:**\n",
        "\n",
        "\n",
        "1.   .flatten()\n",
        "2.   .reshape()\n",
        "\n",
        "\n",
        "\n"
      ],
      "metadata": {
        "id": "IWE-j9TyoDHG"
      }
    },
    {
      "cell_type": "markdown",
      "source": [
        "Finding an array's shape"
      ],
      "metadata": {
        "id": "zDuIUl21oofy"
      }
    },
    {
      "cell_type": "code",
      "source": [
        "array = np.random.random((3,5))\n",
        "print(array)"
      ],
      "metadata": {
        "colab": {
          "base_uri": "https://localhost:8080/"
        },
        "id": "2W-4l5ajojVX",
        "outputId": "0814d87e-a357-4167-da20-8e22626cc413"
      },
      "execution_count": 33,
      "outputs": [
        {
          "output_type": "stream",
          "name": "stdout",
          "text": [
            "[[0.47036927 0.60128968 0.89897859 0.12916119 0.24877391]\n",
            " [0.51369194 0.66051157 0.29339138 0.96488421 0.25721784]\n",
            " [0.58011529 0.36522448 0.82956864 0.73454906 0.8616696 ]]\n"
          ]
        }
      ]
    },
    {
      "cell_type": "code",
      "source": [
        "array.shape"
      ],
      "metadata": {
        "colab": {
          "base_uri": "https://localhost:8080/"
        },
        "id": "jte65XMfo3n1",
        "outputId": "2bfd8fe3-955d-48ab-ee0d-52fe40feffb1"
      },
      "execution_count": 34,
      "outputs": [
        {
          "output_type": "execute_result",
          "data": {
            "text/plain": [
              "(3, 5)"
            ]
          },
          "metadata": {},
          "execution_count": 34
        }
      ]
    },
    {
      "cell_type": "markdown",
      "source": [
        "Falttening an array"
      ],
      "metadata": {
        "id": "cheta1TbpHo6"
      }
    },
    {
      "cell_type": "code",
      "source": [
        "array = np.zeros((5,4))\n",
        "print(array)"
      ],
      "metadata": {
        "colab": {
          "base_uri": "https://localhost:8080/"
        },
        "id": "v6UxjbnUpL78",
        "outputId": "21bed088-2bc6-4594-ce3f-1181e29d3a1f"
      },
      "execution_count": 35,
      "outputs": [
        {
          "output_type": "stream",
          "name": "stdout",
          "text": [
            "[[0. 0. 0. 0.]\n",
            " [0. 0. 0. 0.]\n",
            " [0. 0. 0. 0.]\n",
            " [0. 0. 0. 0.]\n",
            " [0. 0. 0. 0.]]\n"
          ]
        }
      ]
    },
    {
      "cell_type": "code",
      "source": [
        "array.flatten()"
      ],
      "metadata": {
        "colab": {
          "base_uri": "https://localhost:8080/"
        },
        "id": "aYQ9Cd26pY3z",
        "outputId": "9b3ee769-0f46-4bba-afc2-663ae0eeb6c0"
      },
      "execution_count": 36,
      "outputs": [
        {
          "output_type": "execute_result",
          "data": {
            "text/plain": [
              "array([0., 0., 0., 0., 0., 0., 0., 0., 0., 0., 0., 0., 0., 0., 0., 0., 0.,\n",
              "       0., 0., 0.])"
            ]
          },
          "metadata": {},
          "execution_count": 36
        }
      ]
    },
    {
      "cell_type": "markdown",
      "source": [
        "Reshaping an array"
      ],
      "metadata": {
        "id": "fz1eq-eZpktf"
      }
    },
    {
      "cell_type": "code",
      "source": [
        "array.reshape(4,5)"
      ],
      "metadata": {
        "colab": {
          "base_uri": "https://localhost:8080/"
        },
        "id": "iC63jlnSpxAZ",
        "outputId": "f5699c88-abc0-4df8-ac19-5d3022634f4f"
      },
      "execution_count": 37,
      "outputs": [
        {
          "output_type": "execute_result",
          "data": {
            "text/plain": [
              "array([[0., 0., 0., 0., 0.],\n",
              "       [0., 0., 0., 0., 0.],\n",
              "       [0., 0., 0., 0., 0.],\n",
              "       [0., 0., 0., 0., 0.]])"
            ]
          },
          "metadata": {},
          "execution_count": 37
        }
      ]
    },
    {
      "cell_type": "markdown",
      "source": [
        "# **Arithmetic with NumPy Arrays**"
      ],
      "metadata": {
        "id": "vveboUO0y7Ha"
      }
    },
    {
      "cell_type": "markdown",
      "source": [
        "**Basic operations:** Create two NumPy arrays with random numbers of the same shape, and then perform element-wise addition, subtraction, multiplication, and division on them."
      ],
      "metadata": {
        "id": "dtVNN0en6Xx5"
      }
    },
    {
      "cell_type": "code",
      "source": [
        "# create two arrays with random numbers\n",
        "arr1 = np.random.randint(1, 11, size=(3,3))\n",
        "arr2 = np.random.randint(1, 11, size=(3,3))\n",
        "\n",
        "# perform element-wise arithmetic operations\n",
        "addition = arr1 + arr2\n",
        "substraction = arr1 - arr2\n",
        "multiplication = arr1 * arr2\n",
        "division = arr1 / arr2 \n",
        "\n",
        "print(\"Array 1:\\n\", arr1)\n",
        "print(\"Array 2:\\n\", arr2)\n",
        "print(\"Element-wise addition:\\n\", addition)\n",
        "print(\"Element-wise subtraction:\\n\", substraction)\n",
        "print(\"Element-wise multiplication:\\n\", multiplication)\n",
        "print(\"Element-wise division:\\n\", division)"
      ],
      "metadata": {
        "colab": {
          "base_uri": "https://localhost:8080/"
        },
        "id": "yLcfdK0R6ebl",
        "outputId": "b6ebb8af-32a2-429d-bd09-c033e045ec67"
      },
      "execution_count": 84,
      "outputs": [
        {
          "output_type": "stream",
          "name": "stdout",
          "text": [
            "Array 1:\n",
            " [[6 5 1]\n",
            " [9 6 6]\n",
            " [8 5 7]]\n",
            "Array 2:\n",
            " [[ 8 10  6]\n",
            " [ 2  1  3]\n",
            " [ 6  3  1]]\n",
            "Element-wise addition:\n",
            " [[14 15  7]\n",
            " [11  7  9]\n",
            " [14  8  8]]\n",
            "Element-wise subtraction:\n",
            " [[-2 -5 -5]\n",
            " [ 7  5  3]\n",
            " [ 2  2  6]]\n",
            "Element-wise multiplication:\n",
            " [[48 50  6]\n",
            " [18  6 18]\n",
            " [48 15  7]]\n",
            "Element-wise division:\n",
            " [[0.75       0.5        0.16666667]\n",
            " [4.5        6.         2.        ]\n",
            " [1.33333333 1.66666667 7.        ]]\n"
          ]
        }
      ]
    },
    {
      "cell_type": "markdown",
      "source": [
        "**Practice task 1** \n",
        "\n",
        "Create a NumPy array of numbers from 1 to 10, and then reshape it into a 2D array with 5 rows and 2 columns. Perform the following operations on the array:\n",
        "\n",
        "*   Compute the transpose of the array\n",
        "*   Compute the dot product of the array with its transpose\n",
        "*   Compute the element-wise exponential of the array"
      ],
      "metadata": {
        "id": "_E0fySn77snD"
      }
    },
    {
      "cell_type": "code",
      "source": [
        "arr = np.arange(1, 11).reshape(5, 2)\n",
        "\n",
        "arr_T = arr.T\n",
        "arr_dot = np.dot (arr , arr_T)\n",
        "arr_exp = np.exp(arr)\n",
        "\n",
        "print(\"Original array:\\n\", arr)\n",
        "print(\"Transpose:\\n\", arr_T)\n",
        "print(\"Dot product with transpose:\\n\", arr_dot)\n",
        "print(\"Element-wise exponential:\\n\", arr_exp)"
      ],
      "metadata": {
        "colab": {
          "base_uri": "https://localhost:8080/"
        },
        "id": "9PwWcbPC7-tD",
        "outputId": "2dafc636-f629-44d1-a66c-1493d29fd4bc"
      },
      "execution_count": 87,
      "outputs": [
        {
          "output_type": "stream",
          "name": "stdout",
          "text": [
            "Original array:\n",
            " [[ 1  2]\n",
            " [ 3  4]\n",
            " [ 5  6]\n",
            " [ 7  8]\n",
            " [ 9 10]]\n",
            "Transpose:\n",
            " [[ 1  3  5  7  9]\n",
            " [ 2  4  6  8 10]]\n",
            "Dot product with transpose:\n",
            " [[  5  11  17  23  29]\n",
            " [ 11  25  39  53  67]\n",
            " [ 17  39  61  83 105]\n",
            " [ 23  53  83 113 143]\n",
            " [ 29  67 105 143 181]]\n",
            "Element-wise exponential:\n",
            " [[2.71828183e+00 7.38905610e+00]\n",
            " [2.00855369e+01 5.45981500e+01]\n",
            " [1.48413159e+02 4.03428793e+02]\n",
            " [1.09663316e+03 2.98095799e+03]\n",
            " [8.10308393e+03 2.20264658e+04]]\n"
          ]
        }
      ]
    },
    {
      "cell_type": "markdown",
      "source": [
        "**Practice Task 2:**\n",
        "\n",
        "1. Create two 1D arrays of length 5, a and b, with random integer values between 0 and 9 (inclusive). Multiply a by b element-wise using the * operator, and store the result in a new array called c bold text.\n",
        "\n",
        "2. Create a 2D array arr of shape (3, 4) with random integer values between 0 and 9 (inclusive). Subtract the mean of each row of arr from the respective row of arr using the np.mean() and - operators, and store the result in a new array called modified_arr.\n",
        "\n",
        "3. Create two 2D arrays, arr1 and arr2, both of shape (3, 3), with random integer values between 0 and 9 (inclusive). Compute the element-wise product of arr1 and arr2 using the * operator, and store the result in a new array called product. Divide each element of product by the sum of its row using the np.sum() and / operators, and store the result in a new array called normalized_product.\n",
        "\n",
        "4. Create a 2D array arr of shape (5, 5) with random integer values between 0 and 9 (inclusive). Multiply the first row of arr by the last row of arr element-wise using the * operator, and store the result in a new array called result.\n",
        "\n",
        "5. Create a 3D array arr of shape (2, 3, 4) with random integer values between 0 and 9 (inclusive). Compute the mean of each 2D slice along the third dimension of arr using the np.mean() function, and store the result in a new 2D array called mean_arr."
      ],
      "metadata": {
        "id": "OcV2vBkly9dT"
      }
    },
    {
      "cell_type": "code",
      "source": [
        "a = np.random.randint(0,10 , size=5)\n",
        "b = np.random.randint(0,10 , size=5)\n",
        "c= a*b\n",
        "print(c)\n"
      ],
      "metadata": {
        "colab": {
          "base_uri": "https://localhost:8080/"
        },
        "id": "6OZLdSjRzMbb",
        "outputId": "d25f98af-2e88-4c14-ba75-d9825c4641b7"
      },
      "execution_count": 67,
      "outputs": [
        {
          "output_type": "stream",
          "name": "stdout",
          "text": [
            "[20  0 48 56 28]\n"
          ]
        }
      ]
    },
    {
      "cell_type": "code",
      "source": [
        "array_2D = np.random.randint(0,10,size= (3,4))\n",
        "mean_rows = np.mean(array_2D, axis=1, keepdims=True)\n",
        "modified_arr = array_2D - mean_rows\n",
        "print(modified_arr)"
      ],
      "metadata": {
        "colab": {
          "base_uri": "https://localhost:8080/"
        },
        "id": "Yj7Fm1A-0BXu",
        "outputId": "9b3eed95-aee5-433a-a477-f44050129876"
      },
      "execution_count": 80,
      "outputs": [
        {
          "output_type": "stream",
          "name": "stdout",
          "text": [
            "[[-2.75  1.25  2.25 -0.75]\n",
            " [-0.25  1.75 -3.25  1.75]\n",
            " [-1.25  2.75 -2.25  0.75]]\n"
          ]
        }
      ]
    },
    {
      "cell_type": "code",
      "source": [
        "arr1 = np.random.randint(1,10, size= (3,3))\n",
        "arr2 = np.random.randint(1,10, size= (3,3))\n",
        "product = arr1 * arr2\n",
        "print(f\"The product of the arrays: \\n {product}\")\n",
        "normalized_product = product / (np.sum(product,axis=1, keepdims=True))\n",
        "print(f\"\\nThe normalized product of the arrays: \\n {normalized_product}\")\n"
      ],
      "metadata": {
        "colab": {
          "base_uri": "https://localhost:8080/"
        },
        "id": "fRw0zjQi03Pv",
        "outputId": "e96a16e3-695e-4984-fec7-7c3ca67a360d"
      },
      "execution_count": 79,
      "outputs": [
        {
          "output_type": "stream",
          "name": "stdout",
          "text": [
            "The product of the arrays: \n",
            " [[ 4 63  3]\n",
            " [14 14 18]\n",
            " [ 8  5 30]]\n",
            "\n",
            "The normalized product of the arrays: \n",
            " [[0.05714286 0.9        0.04285714]\n",
            " [0.30434783 0.30434783 0.39130435]\n",
            " [0.18604651 0.11627907 0.69767442]]\n"
          ]
        }
      ]
    },
    {
      "cell_type": "code",
      "source": [
        "arr_2D = np.random.randint(0,10, size = (5, 5))\n",
        "result = arr_2D[0] * arr_2D[-1]\n",
        "print(result)"
      ],
      "metadata": {
        "colab": {
          "base_uri": "https://localhost:8080/"
        },
        "id": "K6IINlcQ2SRF",
        "outputId": "ebf027e3-6f41-45a9-fea4-96371b89ff31"
      },
      "execution_count": 78,
      "outputs": [
        {
          "output_type": "stream",
          "name": "stdout",
          "text": [
            "[ 1  6 24 40  0]\n"
          ]
        }
      ]
    },
    {
      "cell_type": "code",
      "source": [
        "arr_3D = np.random.randint(0,10, size = (2,3,4))\n",
        "mean_arr = np.mean(arr_3D, axis = 2)\n",
        "print(mean_arr)"
      ],
      "metadata": {
        "colab": {
          "base_uri": "https://localhost:8080/"
        },
        "id": "3Xf-rtxt3UM-",
        "outputId": "5241a1c3-6edd-4dc1-b1fb-e6990311cece"
      },
      "execution_count": 81,
      "outputs": [
        {
          "output_type": "stream",
          "name": "stdout",
          "text": [
            "[[5.5  4.75 5.5 ]\n",
            " [3.25 2.25 4.25]]\n"
          ]
        }
      ]
    },
    {
      "cell_type": "markdown",
      "source": [
        "**Practice task 3:**\n",
        "\n",
        "*  Create two 2D arrays, arr1 of shape (4, 3) and\n",
        "arr2 of shape (3, 2), with random integer values between 0 and 9 (inclusive). Compute the dot product of arr1 and arr2 using the np.dot() function, and store the result in a new array called dot_product.\n",
        "\n",
        "*  Subtract the mean of each column of dot_product from the respective column of dot_product using the np.mean() and - operators, and store the result in a new array called modified_dot_product.\n",
        "\n",
        "*  Create a new array result with shape (2, 2) by selecting the top-left and bottom-right elements of modified_dot_product. Print all arrays."
      ],
      "metadata": {
        "id": "0_Meg67mreZF"
      }
    },
    {
      "cell_type": "code",
      "source": [
        "import numpy as np\n",
        "\n",
        "# create arr1 and arr2\n",
        "arr1 = np.random.randint(0, 10, size=(4, 3))\n",
        "arr2 = np.random.randint(0, 10, size=(3, 2))\n",
        "\n",
        "# compute the dot product of arr1 and arr2\n",
        "dot_product = np.dot(arr1, arr2)\n",
        "\n",
        "# subtract the mean of each column of the dot product from the respective column of the dot product\n",
        "mean_cols = np.mean(dot_product, axis=0)\n",
        "modified_dot_product = dot_product - mean_cols\n",
        "\n",
        "# create a new array result with shape (2, 2) by selecting the top-left and bottom-right elements of the modified dot product\n",
        "result = np.array([[modified_dot_product[0, 0], modified_dot_product[0, -1]],\n",
        "                   [modified_dot_product[-1, 0], modified_dot_product[-1, -1]]])\n",
        "\n",
        "# print the arrays\n",
        "print(\"arr1:\\n\", arr1)\n",
        "print(\"arr2:\\n\", arr2)\n",
        "print(\"dot_product:\\n\", dot_product)\n",
        "print(\"modified_dot_product:\\n\", modified_dot_product)\n",
        "print(\"result:\\n\", result)"
      ],
      "metadata": {
        "colab": {
          "base_uri": "https://localhost:8080/"
        },
        "id": "AUp78eJZsolF",
        "outputId": "5d842b6b-d6f8-4945-d605-fefb1784e1eb"
      },
      "execution_count": 59,
      "outputs": [
        {
          "output_type": "stream",
          "name": "stdout",
          "text": [
            "arr1:\n",
            " [[0 2 4]\n",
            " [5 6 6]\n",
            " [9 3 8]\n",
            " [8 2 1]]\n",
            "arr2:\n",
            " [[2 6]\n",
            " [9 4]\n",
            " [8 7]]\n",
            "dot_product:\n",
            " [[ 50  36]\n",
            " [112  96]\n",
            " [109 122]\n",
            " [ 42  63]]\n",
            "modified_dot_product:\n",
            " [[-28.25 -43.25]\n",
            " [ 33.75  16.75]\n",
            " [ 30.75  42.75]\n",
            " [-36.25 -16.25]]\n",
            "result:\n",
            " [[-28.25 -43.25]\n",
            " [-36.25 -16.25]]\n"
          ]
        }
      ]
    },
    {
      "cell_type": "markdown",
      "source": [
        "# **Basic Indexing and Slicing in numpy**"
      ],
      "metadata": {
        "id": "aviuy8uQ-2au"
      }
    },
    {
      "cell_type": "markdown",
      "source": [
        "**Indexing:** Selecting a specific element from an array"
      ],
      "metadata": {
        "id": "xWNtTz0A_Aqi"
      }
    },
    {
      "cell_type": "code",
      "source": [
        "arr = np.array([1, 2, 3, 4, 5])\n",
        "print(arr[2])  # Output: 3\n",
        "\n",
        "arr2 = np.array([[1, 2, 3], [4, 5, 6], [7, 8, 9]])\n",
        "print(arr2[1, 2])  # Output: 6"
      ],
      "metadata": {
        "colab": {
          "base_uri": "https://localhost:8080/"
        },
        "id": "q4jc6UnQ_Ct5",
        "outputId": "1a2721cc-f9e8-45b4-a474-e9131423b771"
      },
      "execution_count": 88,
      "outputs": [
        {
          "output_type": "stream",
          "name": "stdout",
          "text": [
            "3\n",
            "6\n"
          ]
        }
      ]
    },
    {
      "cell_type": "markdown",
      "source": [
        "**Slicing:** Extracting a subset of an array"
      ],
      "metadata": {
        "id": "vHkMK3_A_Nf0"
      }
    },
    {
      "cell_type": "code",
      "source": [
        "import numpy as np\n",
        "\n",
        "arr = np.array([1, 2, 3, 4, 5])\n",
        "print(arr[1:4])  # extracting the elements from 2nd to 4th position\n",
        "\n",
        "arr2 = np.array([[1, 2, 3], [4, 5, 6], [7, 8, 9]])\n",
        "print(arr2[:2, 1:])  # extracting the first 2 rows and second and 3rd column of these rows"
      ],
      "metadata": {
        "colab": {
          "base_uri": "https://localhost:8080/"
        },
        "id": "WiMmgnKT_Sgf",
        "outputId": "a2aaa51e-344b-4220-f679-577e4c87da94"
      },
      "execution_count": 89,
      "outputs": [
        {
          "output_type": "stream",
          "name": "stdout",
          "text": [
            "[2 3 4]\n",
            "[[2 3]\n",
            " [5 6]]\n"
          ]
        }
      ]
    },
    {
      "cell_type": "markdown",
      "source": [
        "**Boolean indexing:** Selecting elements based on a condition"
      ],
      "metadata": {
        "id": "W6RXHT3MAEfg"
      }
    },
    {
      "cell_type": "code",
      "source": [
        "arr = np.array([1, 2, 3, 4, 5])\n",
        "print(arr[arr > 3])  # Output: [4, 5]\n",
        "\n",
        "arr2 = np.array([[1, 2, 3], [4, 5, 6], [7, 8, 9]])\n",
        "print(arr2[arr2 > 5])  # Output: [6, 7, 8, 9]"
      ],
      "metadata": {
        "colab": {
          "base_uri": "https://localhost:8080/"
        },
        "id": "2jQI6EFsAHpQ",
        "outputId": "84279834-20cc-4d75-8cef-a165da9b175b"
      },
      "execution_count": 90,
      "outputs": [
        {
          "output_type": "stream",
          "name": "stdout",
          "text": [
            "[4 5]\n",
            "[6 7 8 9]\n"
          ]
        }
      ]
    },
    {
      "cell_type": "markdown",
      "source": [
        "**Practice task:**\n",
        "\n",
        "\n",
        "\n",
        "1.   Create a NumPy array of shape (5, 5) with random integers between 1 and 10.\n",
        "2.   Print the element at position (3, 4) of the array.\n",
        "3.   Slice the array to extract the first row and the first two columns.\n",
        "4.   Slice the array to extract the elements in the second and third rows and the last two columns.\n",
        "5.   Create a boolean mask to select all elements in the array that are greater than or equal to 5.\n",
        "6.   Use the boolean mask to select all elements in the array that are greater than or equal to 5.\n",
        "7.   Use the boolean mask to replace all elements in the array that are greater than or equal to 5 with -1.\n",
        "8.   Print the final array to verify that the elements selected in step 7 have been replaced with -1.\n",
        "\n"
      ],
      "metadata": {
        "id": "Rpr8tToyAoTV"
      }
    },
    {
      "cell_type": "code",
      "source": [
        "# Create a NumPy array of shape (5, 5) with random integers between 1 and 10\n",
        "arr = np.random.randint(1, 11, size=(5, 5))\n",
        "print(\"Original array:\\n\", arr)\n",
        "\n",
        "# Print the element at position (3, 4) of the array\n",
        "print(\"\\nElement at position (3, 4):\", arr[3, 4])\n",
        "\n",
        "# Slice the array to extract the first row and the first two columns\n",
        "slice1 = arr[0, :2]\n",
        "print(\"\\nFirst row and first two columns:\\n\", slice1)\n",
        "\n",
        "# Slice the array to extract the elements in the second and third rows and the last two columns\n",
        "slice2 = arr[1:3, -2:]\n",
        "print(\"\\nElements in the second and third rows and last two columns:\\n\", slice2)\n",
        "\n",
        "# Create a boolean mask to select all elements in the array that are greater than or equal to 5\n",
        "mask = arr >= 5\n",
        "print(\"\\nBoolean mask:\\n\", mask)\n",
        "\n",
        "# Use the boolean mask to select all elements in the array that are greater than or equal to 5\n",
        "greater_than_5 = arr[mask]\n",
        "print(\"\\nElements greater than or equal to 5:\\n\", greater_than_5)\n",
        "\n",
        "# Use the boolean mask to replace all elements in the array that are greater than or equal to 5 with -1\n",
        "arr[mask] = -1\n",
        "\n",
        "# Print the final array to verify that the elements selected in step 7 have been replaced with -1\n",
        "print(\"\\nFinal array:\\n\", arr)"
      ],
      "metadata": {
        "colab": {
          "base_uri": "https://localhost:8080/"
        },
        "id": "pUjlkOzyBLs0",
        "outputId": "fb244179-8136-426e-d452-273421c7f283"
      },
      "execution_count": 98,
      "outputs": [
        {
          "output_type": "stream",
          "name": "stdout",
          "text": [
            "Original array:\n",
            " [[10  2  3  3  5]\n",
            " [ 9  8  9  4  1]\n",
            " [ 8  2  8  2  7]\n",
            " [ 6  1  4 10  4]\n",
            " [ 3  1  1  5  5]]\n",
            "\n",
            "Element at position (3, 4): 4\n",
            "\n",
            "First row and first two columns:\n",
            " [10  2]\n",
            "\n",
            "Elements in the second and third rows and last two columns:\n",
            " [[4 1]\n",
            " [2 7]]\n",
            "\n",
            "Boolean mask:\n",
            " [[ True False False False  True]\n",
            " [ True  True  True False False]\n",
            " [ True False  True False  True]\n",
            " [ True False False  True False]\n",
            " [False False False  True  True]]\n",
            "\n",
            "Elements greater than or equal to 5:\n",
            " [10  5  9  8  9  8  8  7  6 10  5  5]\n",
            "\n",
            "Final array:\n",
            " [[-1  2  3  3 -1]\n",
            " [-1 -1 -1  4  1]\n",
            " [-1  2 -1  2 -1]\n",
            " [-1  1  4 -1  4]\n",
            " [ 3  1  1 -1 -1]]\n"
          ]
        }
      ]
    },
    {
      "cell_type": "markdown",
      "source": [
        "# **Mathematical and Statistical Methods:**"
      ],
      "metadata": {
        "id": "-OTnUJugEsVF"
      }
    },
    {
      "cell_type": "code",
      "source": [
        "# Create a 2D NumPy array\n",
        "arr = np.array([[1, 2, 3],\n",
        "                [4, 5, 6],\n",
        "                [7, 8, 9]])\n",
        "\n",
        "# Compute the sum of all elements in the array\n",
        "print(\"Sum:\", np.sum(arr))\n",
        "\n",
        "# Compute the mean of all elements in the array\n",
        "print(\"Mean:\", np.mean(arr))\n",
        "\n",
        "# Compute the standard deviation of all elements in the array\n",
        "print(\"Standard deviation:\", np.std(arr))\n",
        "\n",
        "# Compute the minimum value of all elements in the array\n",
        "print(\"Minimum:\", np.min(arr))\n",
        "\n",
        "# Compute the maximum value of all elements in the array\n",
        "print(\"Maximum:\", np.max(arr))\n",
        "\n",
        "# Compute the index of the minimum value in the array\n",
        "print(\"Index of minimum:\", np.argmin(arr))\n",
        "\n",
        "# Compute the index of the maximum value in the array\n",
        "print(\"Index of maximum:\", np.argmax(arr))\n",
        "\n",
        "# Compute the median value of all elements in the array\n",
        "print(\"Median:\", np.median(arr))\n",
        "\n",
        "# Compute the 25th and 75th percentiles of all elements in the array\n",
        "print(\"25th percentile:\", np.percentile(arr, 25))\n",
        "print(\"75th percentile:\", np.percentile(arr, 75))\n",
        "\n",
        "# Compute a histogram of the values in the array using 3 bins\n",
        "hist, bins = np.histogram(arr, bins=3)\n",
        "print(\"Histogram:\", hist)\n",
        "print(\"Bins:\", bins)"
      ],
      "metadata": {
        "colab": {
          "base_uri": "https://localhost:8080/"
        },
        "id": "ZOUx4EkqEuzl",
        "outputId": "3a7ae63b-56b9-47b8-d04d-b08e993dd59c"
      },
      "execution_count": 99,
      "outputs": [
        {
          "output_type": "stream",
          "name": "stdout",
          "text": [
            "Sum: 45\n",
            "Mean: 5.0\n",
            "Standard deviation: 2.581988897471611\n",
            "Minimum: 1\n",
            "Maximum: 9\n",
            "Index of minimum: 0\n",
            "Index of maximum: 8\n",
            "Median: 5.0\n",
            "25th percentile: 3.0\n",
            "75th percentile: 7.0\n",
            "Histogram: [3 3 3]\n",
            "Bins: [1.         3.66666667 6.33333333 9.        ]\n"
          ]
        }
      ]
    }
  ]
}