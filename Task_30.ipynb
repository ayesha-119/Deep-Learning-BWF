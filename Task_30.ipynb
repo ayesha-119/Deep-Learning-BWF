{
  "nbformat": 4,
  "nbformat_minor": 0,
  "metadata": {
    "colab": {
      "provenance": [],
      "authorship_tag": "ABX9TyM8yJTDsRPjg7E3nD8USPm5",
      "include_colab_link": true
    },
    "kernelspec": {
      "name": "python3",
      "display_name": "Python 3"
    },
    "language_info": {
      "name": "python"
    }
  },
  "cells": [
    {
      "cell_type": "markdown",
      "metadata": {
        "id": "view-in-github",
        "colab_type": "text"
      },
      "source": [
        "<a href=\"https://colab.research.google.com/github/ayesha-119/Deep-Learning-BWF/blob/master/Task_30.ipynb\" target=\"_parent\"><img src=\"https://colab.research.google.com/assets/colab-badge.svg\" alt=\"Open In Colab\"/></a>"
      ]
    },
    {
      "cell_type": "markdown",
      "source": [
        "# **🔴 Task 30**\n",
        "\n",
        "**Topics: Recurrent Neural Network, LSTM, GRU**\n",
        "\n",
        "Resource: https://drive.google.com/file/d/1i9dPxM_1M4HYN5bYxFcuklC1vM0GrOCq/view?usp=share_link"
      ],
      "metadata": {
        "id": "EAQKemw0NNat"
      }
    },
    {
      "cell_type": "markdown",
      "source": [
        "**Word-level one-hot encoding (toy example)**"
      ],
      "metadata": {
        "id": "GjzQiriDUFVu"
      }
    },
    {
      "cell_type": "code",
      "execution_count": 1,
      "metadata": {
        "id": "hK3snV0CJW1-"
      },
      "outputs": [],
      "source": [
        "import numpy as np\n",
        "samples = ['The cat sat on the mat.', 'The dog ate my homework.']\n",
        "token_index = {}\n",
        "for sample in samples:\n",
        "  for word in sample.split():\n",
        "    if word not in token_index:\n",
        "      token_index[word] = len(token_index) + 1\n",
        "\n",
        "max_length = 10\n",
        "results = np.zeros(shape=(len(samples),\n",
        "                          max_length,\n",
        "                          max(token_index.values()) + 1))\n",
        "\n",
        "for i, sample in enumerate(samples):\n",
        "  for j, word in list(enumerate(sample.split()))[:max_length]:\n",
        "    index = token_index.get(word)\n",
        "    results[i, j, index] = 1."
      ]
    },
    {
      "cell_type": "markdown",
      "source": [
        "**Character-level one-hot encoding (toy example)**"
      ],
      "metadata": {
        "id": "udD2G_cAUo4G"
      }
    },
    {
      "cell_type": "code",
      "source": [
        "import string\n",
        "samples = ['The cat sat on the mat.', 'The dog ate my homework.']\n",
        "characters = string.printable\n",
        "token_index = dict(zip(range(1, len(characters) + 1), characters))\n",
        "max_length = 50\n",
        "results = np.zeros((len(samples), max_length, max(token_index.keys()) + 1))\n",
        "for i, sample in enumerate(samples):\n",
        "  for j, character in enumerate(sample):\n",
        "    index = token_index.get(character)\n",
        "    results[i, j, index] = 1."
      ],
      "metadata": {
        "id": "BpHBpJMeUwsh"
      },
      "execution_count": 2,
      "outputs": []
    },
    {
      "cell_type": "markdown",
      "source": [
        "**Using Keras for word-level one-hot encoding**"
      ],
      "metadata": {
        "id": "sFsm46vYVOmV"
      }
    },
    {
      "cell_type": "code",
      "source": [
        "from keras.preprocessing.text import Tokenizer\n",
        "samples = ['The cat sat on the mat.', 'The dog ate my homework.']\n",
        "tokenizer = Tokenizer(num_words=1000)\n",
        "tokenizer.fit_on_texts(samples)\n",
        "sequences = tokenizer.texts_to_sequences(samples)\n",
        "one_hot_results = tokenizer.texts_to_matrix(samples, mode='binary')\n",
        "word_index = tokenizer.word_index\n",
        "print('Found %s unique tokens.' % len(word_index))"
      ],
      "metadata": {
        "colab": {
          "base_uri": "https://localhost:8080/"
        },
        "id": "WJD7fZK3VSMq",
        "outputId": "c822b8df-6929-410e-c634-4276c04cf560"
      },
      "execution_count": 3,
      "outputs": [
        {
          "output_type": "stream",
          "name": "stdout",
          "text": [
            "Found 9 unique tokens.\n"
          ]
        }
      ]
    },
    {
      "cell_type": "markdown",
      "source": [
        "**Word-level one-hot encoding with hashing trick (toy example)**"
      ],
      "metadata": {
        "id": "-l0f-YS7VWOy"
      }
    },
    {
      "cell_type": "code",
      "source": [
        "samples = ['The cat sat on the mat.', 'The dog ate my homework.']\n",
        "dimensionality = 1000\n",
        "max_length = 10\n",
        "results = np.zeros((len(samples), max_length, dimensionality))\n",
        "for i, sample in enumerate(samples):\n",
        "  for j, word in list(enumerate(sample.split()))[:max_length]:\n",
        "    index = abs(hash(word)) % dimensionality\n",
        "    results[i, j, index] = 1."
      ],
      "metadata": {
        "id": "Iht6-SKFVZ_C"
      },
      "execution_count": 4,
      "outputs": []
    },
    {
      "cell_type": "markdown",
      "source": [
        "Instantiating an Embedding layer"
      ],
      "metadata": {
        "id": "sHqFi7wZVjKA"
      }
    },
    {
      "cell_type": "code",
      "source": [
        "from keras.layers import Embedding\n",
        "embedding_layer = Embedding(1000, 64)"
      ],
      "metadata": {
        "id": "WmOb2ssUVmFd"
      },
      "execution_count": 5,
      "outputs": []
    },
    {
      "cell_type": "markdown",
      "source": [
        "**Loading the IMDB data for use with an Embedding layer**"
      ],
      "metadata": {
        "id": "XhRLHbMgVphZ"
      }
    },
    {
      "cell_type": "code",
      "source": [
        "from keras.datasets import imdb\n",
        "from keras.utils import pad_sequences\n",
        "max_features = 10000\n",
        "maxlen = 20\n",
        "(x_train, y_train), (x_test, y_test) = imdb.load_data(\n",
        "    num_words=max_features)\n",
        "x_train =pad_sequences(x_train, maxlen=maxlen)\n",
        "x_test = pad_sequences(x_test, maxlen=maxlen)"
      ],
      "metadata": {
        "id": "PmWXZvtMVt-M"
      },
      "execution_count": 11,
      "outputs": []
    },
    {
      "cell_type": "markdown",
      "source": [
        "**Using an Embedding layer and classifier on the IMDB data**"
      ],
      "metadata": {
        "id": "aXM2fHncW76I"
      }
    },
    {
      "cell_type": "code",
      "source": [
        "from keras.models import Sequential\n",
        "from keras.layers import Flatten, Dense\n",
        "model = Sequential()\n",
        "model.add(Embedding(10000, 8, input_length=maxlen))\n",
        "model.add(Flatten())\n",
        "model.add(Dense(1, activation='sigmoid'))\n",
        "model.compile(optimizer='rmsprop', loss='binary_crossentropy', metrics=['acc'])\n",
        "model.summary()\n",
        "history = model.fit(x_train, y_train,\n",
        "epochs=10,\n",
        "batch_size=32,\n",
        "validation_split=0.2)"
      ],
      "metadata": {
        "colab": {
          "base_uri": "https://localhost:8080/"
        },
        "id": "OMUcYglkW_TS",
        "outputId": "ab9756ef-f2cf-4a1b-9446-2cce05652a6d"
      },
      "execution_count": 12,
      "outputs": [
        {
          "output_type": "stream",
          "name": "stdout",
          "text": [
            "Model: \"sequential\"\n",
            "_________________________________________________________________\n",
            " Layer (type)                Output Shape              Param #   \n",
            "=================================================================\n",
            " embedding_1 (Embedding)     (None, 20, 8)             80000     \n",
            "                                                                 \n",
            " flatten (Flatten)           (None, 160)               0         \n",
            "                                                                 \n",
            " dense (Dense)               (None, 1)                 161       \n",
            "                                                                 \n",
            "=================================================================\n",
            "Total params: 80,161\n",
            "Trainable params: 80,161\n",
            "Non-trainable params: 0\n",
            "_________________________________________________________________\n",
            "Epoch 1/10\n",
            "625/625 [==============================] - 2s 2ms/step - loss: 0.6565 - acc: 0.6426 - val_loss: 0.5924 - val_acc: 0.7054\n",
            "Epoch 2/10\n",
            "625/625 [==============================] - 1s 1ms/step - loss: 0.5229 - acc: 0.7544 - val_loss: 0.5155 - val_acc: 0.7388\n",
            "Epoch 3/10\n",
            "625/625 [==============================] - 1s 1ms/step - loss: 0.4582 - acc: 0.7869 - val_loss: 0.4979 - val_acc: 0.7488\n",
            "Epoch 4/10\n",
            "625/625 [==============================] - 1s 1ms/step - loss: 0.4270 - acc: 0.8041 - val_loss: 0.4940 - val_acc: 0.7534\n",
            "Epoch 5/10\n",
            "625/625 [==============================] - 1s 1ms/step - loss: 0.4060 - acc: 0.8167 - val_loss: 0.4943 - val_acc: 0.7572\n",
            "Epoch 6/10\n",
            "625/625 [==============================] - 1s 1ms/step - loss: 0.3876 - acc: 0.8263 - val_loss: 0.4980 - val_acc: 0.7558\n",
            "Epoch 7/10\n",
            "625/625 [==============================] - 1s 1ms/step - loss: 0.3717 - acc: 0.8358 - val_loss: 0.5011 - val_acc: 0.7556\n",
            "Epoch 8/10\n",
            "625/625 [==============================] - 1s 1ms/step - loss: 0.3552 - acc: 0.8464 - val_loss: 0.5050 - val_acc: 0.7570\n",
            "Epoch 9/10\n",
            "625/625 [==============================] - 1s 1ms/step - loss: 0.3392 - acc: 0.8575 - val_loss: 0.5118 - val_acc: 0.7520\n",
            "Epoch 10/10\n",
            "625/625 [==============================] - 1s 1ms/step - loss: 0.3232 - acc: 0.8660 - val_loss: 0.5165 - val_acc: 0.7500\n"
          ]
        }
      ]
    },
    {
      "cell_type": "markdown",
      "source": [
        "# **Recurrent neural networks**"
      ],
      "metadata": {
        "id": "YUWj_NrhYJfN"
      }
    },
    {
      "cell_type": "markdown",
      "source": [
        "**Numpy implementation of a simple RNN**"
      ],
      "metadata": {
        "id": "z9TmaHi9YVCY"
      }
    },
    {
      "cell_type": "code",
      "source": [
        "import numpy as np\n",
        "timesteps = 100\n",
        "input_features = 32\n",
        "output_features = 64\n",
        "inputs = np.random.random((timesteps, input_features))\n",
        "state_t = np.zeros((output_features,))\n",
        "W = np.random.random((output_features, input_features))\n",
        "U = np.random.random((output_features, output_features))\n",
        "b = np.random.random((output_features,))\n",
        "successive_outputs = []\n",
        "for input_t in inputs:\n",
        "  output_t = np.tanh(np.dot(W, input_t) + np.dot(U, state_t) + b)\n",
        "  successive_outputs.append(output_t)\n",
        "  state_t = output_t\n",
        "final_output_sequence = np.concatenate(successive_outputs, axis=0)"
      ],
      "metadata": {
        "id": "8JHsHeccYaLu"
      },
      "execution_count": 13,
      "outputs": []
    },
    {
      "cell_type": "markdown",
      "source": [
        "**Preparing the IMDB data**"
      ],
      "metadata": {
        "id": "mO-Cgaq4Ym4p"
      }
    },
    {
      "cell_type": "code",
      "source": [
        "from keras.datasets import imdb\n",
        "from keras.preprocessing import sequence\n",
        "max_features = 10000\n",
        "maxlen = 500\n",
        "batch_size = 32\n",
        "print('Loading data...')\n",
        "(input_train, y_train), (input_test, y_test) = imdb.load_data(\n",
        "num_words=max_features)\n",
        "print(len(input_train), 'train sequences')\n",
        "print(len(input_test), 'test sequences')\n",
        "print('Pad sequences (samples x time)')\n",
        "input_train = pad_sequences(input_train, maxlen=maxlen)\n",
        "input_test = pad_sequences(input_test, maxlen=maxlen)\n",
        "print('input_train shape:', input_train.shape)\n",
        "print('input_test shape:', input_test.shape)"
      ],
      "metadata": {
        "colab": {
          "base_uri": "https://localhost:8080/"
        },
        "id": "4N6BOXfcYqe4",
        "outputId": "160cb56e-22c1-458d-fa73-a3bd60e60bc7"
      },
      "execution_count": 16,
      "outputs": [
        {
          "output_type": "stream",
          "name": "stdout",
          "text": [
            "Loading data...\n",
            "25000 train sequences\n",
            "25000 test sequences\n",
            "Pad sequences (samples x time)\n",
            "input_train shape: (25000, 500)\n",
            "input_test shape: (25000, 500)\n"
          ]
        }
      ]
    },
    {
      "cell_type": "markdown",
      "source": [
        "**Training the model with Embedding and SimpleRNN layers**"
      ],
      "metadata": {
        "id": "pONuROJGY0X6"
      }
    },
    {
      "cell_type": "code",
      "source": [
        "from keras.layers import Dense\n",
        "from keras.layers import SimpleRNN\n",
        "model = Sequential()\n",
        "model.add(Embedding(max_features, 32))\n",
        "model.add(SimpleRNN(32))\n",
        "model.add(Dense(1, activation='sigmoid'))\n",
        "model.compile(optimizer='rmsprop', loss='binary_crossentropy', metrics=['acc'])\n",
        "history = model.fit(input_train, y_train,\n",
        "\n",
        "epochs=10,\n",
        "batch_size=128,\n",
        "validation_split=0.2)"
      ],
      "metadata": {
        "colab": {
          "base_uri": "https://localhost:8080/"
        },
        "id": "lvsPIgMZY5gp",
        "outputId": "8f879d9e-8def-430e-c8ae-0ee7aa60adbe"
      },
      "execution_count": 18,
      "outputs": [
        {
          "output_type": "stream",
          "name": "stdout",
          "text": [
            "Epoch 1/10\n",
            "157/157 [==============================] - 18s 112ms/step - loss: 0.6782 - acc: 0.5675 - val_loss: 0.6617 - val_acc: 0.5774\n",
            "Epoch 2/10\n",
            "157/157 [==============================] - 20s 130ms/step - loss: 0.5021 - acc: 0.7691 - val_loss: 0.4335 - val_acc: 0.8148\n",
            "Epoch 3/10\n",
            "157/157 [==============================] - 18s 114ms/step - loss: 0.3406 - acc: 0.8582 - val_loss: 0.5379 - val_acc: 0.7682\n",
            "Epoch 4/10\n",
            "157/157 [==============================] - 16s 102ms/step - loss: 0.2580 - acc: 0.8992 - val_loss: 0.3670 - val_acc: 0.8584\n",
            "Epoch 5/10\n",
            "157/157 [==============================] - 17s 108ms/step - loss: 0.1805 - acc: 0.9327 - val_loss: 0.4354 - val_acc: 0.8192\n",
            "Epoch 6/10\n",
            "157/157 [==============================] - 16s 104ms/step - loss: 0.1169 - acc: 0.9603 - val_loss: 0.4424 - val_acc: 0.8422\n",
            "Epoch 7/10\n",
            "157/157 [==============================] - 17s 109ms/step - loss: 0.0814 - acc: 0.9737 - val_loss: 0.5747 - val_acc: 0.7900\n",
            "Epoch 8/10\n",
            "157/157 [==============================] - 17s 108ms/step - loss: 0.0445 - acc: 0.9877 - val_loss: 0.5665 - val_acc: 0.8108\n",
            "Epoch 9/10\n",
            "157/157 [==============================] - 17s 106ms/step - loss: 0.0311 - acc: 0.9911 - val_loss: 0.6191 - val_acc: 0.8116\n",
            "Epoch 10/10\n",
            "157/157 [==============================] - 17s 105ms/step - loss: 0.0400 - acc: 0.9880 - val_loss: 0.6711 - val_acc: 0.8072\n"
          ]
        }
      ]
    },
    {
      "cell_type": "markdown",
      "source": [
        "**Plotting results**"
      ],
      "metadata": {
        "id": "tiVWzvceZPga"
      }
    },
    {
      "cell_type": "code",
      "source": [
        "import matplotlib.pyplot as plt\n",
        "acc = history.history['acc']\n",
        "val_acc = history.history['val_acc']\n",
        "loss = history.history['loss']\n",
        "val_loss = history.history['val_loss']\n",
        "epochs = range(1, len(acc) + 1)\n",
        "plt.plot(epochs, acc, 'bo', label='Training acc')\n",
        "plt.plot(epochs, val_acc, 'b', label='Validation acc')\n",
        "plt.title('Training and validation accuracy')\n",
        "plt.legend()\n",
        "plt.figure()\n",
        "plt.plot(epochs, loss, 'bo', label='Training loss')\n",
        "plt.plot(epochs, val_loss, 'b', label='Validation loss')\n",
        "plt.title('Training and validation loss')\n",
        "plt.legend()\n",
        "plt.show()"
      ],
      "metadata": {
        "colab": {
          "base_uri": "https://localhost:8080/",
          "height": 887
        },
        "id": "_T2lkRsVZTAz",
        "outputId": "219a603d-2864-451d-a53a-bc82965d9a8c"
      },
      "execution_count": 19,
      "outputs": [
        {
          "output_type": "display_data",
          "data": {
            "text/plain": [
              "<Figure size 640x480 with 1 Axes>"
            ],
            "image/png": "[encoded data removed]"
          },
          "metadata": {}
        },
        {
          "output_type": "display_data",
          "data": {
            "text/plain": [
              "<Figure size 640x480 with 1 Axes>"
            ],
            "image/png": "[encoded data removed]"
          },
          "metadata": {}
        }
      ]
    },
    {
      "cell_type": "markdown",
      "source": [
        "# **Understanding the LSTM and GRU layers**"
      ],
      "metadata": {
        "id": "K7cZe7igami_"
      }
    },
    {
      "cell_type": "markdown",
      "source": [
        "Using the LSTM layer in Keras"
      ],
      "metadata": {
        "id": "VMX-JgJfaw0n"
      }
    },
    {
      "cell_type": "code",
      "source": [
        "from keras.layers import LSTM\n",
        "model = Sequential()\n",
        "model.add(Embedding(max_features, 32))\n",
        "model.add(LSTM(32))\n",
        "model.add(Dense(1, activation='sigmoid'))\n",
        "model.compile(optimizer='rmsprop',\n",
        "loss='binary_crossentropy',\n",
        "metrics=['acc'])\n",
        "\n",
        "history = model.fit(input_train, y_train,\n",
        "\n",
        "epochs=10,\n",
        "batch_size=128,\n",
        "validation_split=0.2)"
      ],
      "metadata": {
        "colab": {
          "base_uri": "https://localhost:8080/"
        },
        "id": "AZBKsQMqasdz",
        "outputId": "c60de55d-8175-4109-85d3-c7fb84b341f9"
      },
      "execution_count": 21,
      "outputs": [
        {
          "output_type": "stream",
          "name": "stdout",
          "text": [
            "Epoch 1/10\n",
            "157/157 [==============================] - 36s 222ms/step - loss: 0.5998 - acc: 0.6712 - val_loss: 0.4440 - val_acc: 0.8104\n",
            "Epoch 2/10\n",
            "157/157 [==============================] - 35s 225ms/step - loss: 0.3614 - acc: 0.8525 - val_loss: 0.3120 - val_acc: 0.8734\n",
            "Epoch 3/10\n",
            "157/157 [==============================] - 34s 219ms/step - loss: 0.2748 - acc: 0.8943 - val_loss: 0.3084 - val_acc: 0.8736\n",
            "Epoch 4/10\n",
            "157/157 [==============================] - 35s 220ms/step - loss: 0.2325 - acc: 0.9110 - val_loss: 0.4267 - val_acc: 0.8262\n",
            "Epoch 5/10\n",
            "157/157 [==============================] - 35s 223ms/step - loss: 0.1998 - acc: 0.9276 - val_loss: 0.3778 - val_acc: 0.8478\n",
            "Epoch 6/10\n",
            "157/157 [==============================] - 34s 220ms/step - loss: 0.1858 - acc: 0.9319 - val_loss: 0.3716 - val_acc: 0.8710\n",
            "Epoch 7/10\n",
            "157/157 [==============================] - 34s 217ms/step - loss: 0.1615 - acc: 0.9428 - val_loss: 0.3192 - val_acc: 0.8668\n",
            "Epoch 8/10\n",
            "157/157 [==============================] - 34s 219ms/step - loss: 0.1490 - acc: 0.9470 - val_loss: 0.4007 - val_acc: 0.8606\n",
            "Epoch 9/10\n",
            "157/157 [==============================] - 34s 219ms/step - loss: 0.1362 - acc: 0.9524 - val_loss: 0.4215 - val_acc: 0.8672\n",
            "Epoch 10/10\n",
            "157/157 [==============================] - 34s 217ms/step - loss: 0.1284 - acc: 0.9558 - val_loss: 0.3891 - val_acc: 0.8678\n"
          ]
        }
      ]
    }
  ]
}