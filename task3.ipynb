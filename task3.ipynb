{
  "nbformat": 4,
  "nbformat_minor": 0,
  "metadata": {
    "colab": {
      "provenance": [],
      "authorship_tag": "ABX9TyNCOZzosW8AzeRy4sslwNAt",
      "include_colab_link": true
    },
    "kernelspec": {
      "name": "python3",
      "display_name": "Python 3"
    },
    "language_info": {
      "name": "python"
    }
  },
  "cells": [
    {
      "cell_type": "markdown",
      "metadata": {
        "id": "view-in-github",
        "colab_type": "text"
      },
      "source": [
        "<a href=\"https://colab.research.google.com/github/ayesha-119/Deep-Learning-BWF/blob/master/task3.ipynb\" target=\"_parent\"><img src=\"https://colab.research.google.com/assets/colab-badge.svg\" alt=\"Open In Colab\"/></a>"
      ]
    },
    {
      "cell_type": "markdown",
      "source": [
        "# **Variables and Data Types**"
      ],
      "metadata": {
        "id": "cXVYPP3_479g"
      }
    },
    {
      "cell_type": "markdown",
      "source": [
        "**Simple Message**: Store a message in a variable, and then print that\n",
        "message."
      ],
      "metadata": {
        "id": "ef5V7d4dKPUU"
      }
    },
    {
      "cell_type": "code",
      "source": [
        "message = \"Hello World!\"\n",
        "print (message)"
      ],
      "metadata": {
        "colab": {
          "base_uri": "https://localhost:8080/"
        },
        "id": "_EtXWLLMKi1S",
        "outputId": "c9d564b4-8c58-4454-900c-70ba8b3173f9"
      },
      "execution_count": null,
      "outputs": [
        {
          "output_type": "stream",
          "name": "stdout",
          "text": [
            "Hello World!\n"
          ]
        }
      ]
    },
    {
      "cell_type": "markdown",
      "source": [
        "**Simple Messages:** Store a message in a variable, and print that message.\n",
        "Then change the value of your variable to a new message, and print the new\n",
        "message."
      ],
      "metadata": {
        "id": "q3tQfGjrK7zO"
      }
    },
    {
      "cell_type": "code",
      "source": [
        "message = \"Hello, world!\"\n",
        "print(message)\n",
        "\n",
        "message = \"Goodbye, world!\"\n",
        "print(message)"
      ],
      "metadata": {
        "colab": {
          "base_uri": "https://localhost:8080/"
        },
        "id": "DHXHkHABLCDR",
        "outputId": "6e14b389-065d-4b7f-9916-edfaec48bd63"
      },
      "execution_count": null,
      "outputs": [
        {
          "output_type": "stream",
          "name": "stdout",
          "text": [
            "Hello, world!\n",
            "Goodbye, world!\n"
          ]
        }
      ]
    },
    {
      "cell_type": "markdown",
      "source": [
        "# **Strings**"
      ],
      "metadata": {
        "id": "h0AQs2ijLLFS"
      }
    },
    {
      "cell_type": "markdown",
      "source": [
        "** Personal Message:** Store a person’s name in a variable, and print a mes\n",
        "sage to that person. Your message should be simple, such as, “Hello Eric,\n",
        "\n",
        "would you like to learn some Python today?”"
      ],
      "metadata": {
        "id": "3vkRCZV0M9ZG"
      }
    },
    {
      "cell_type": "code",
      "source": [
        "name = \"Ayesha\"\n",
        "message = \"Hello\"+ \" \" + name + \",\" + \" would you like to learn some python today?\"\n",
        "print (message)"
      ],
      "metadata": {
        "colab": {
          "base_uri": "https://localhost:8080/"
        },
        "id": "-T4VqXDbNVlr",
        "outputId": "0e3a9ab9-9638-4ede-954c-46d542e5964a"
      },
      "execution_count": null,
      "outputs": [
        {
          "output_type": "stream",
          "name": "stdout",
          "text": [
            "Hello Ayesha, would you like to learn some python today?\n"
          ]
        }
      ]
    },
    {
      "cell_type": "markdown",
      "source": [
        "**Name Cases:** Store a person’s name in a variable, and then print that per\n",
        "son’s name in lowercase, uppercase, and titlecase."
      ],
      "metadata": {
        "id": "GcaXvQheONgL"
      }
    },
    {
      "cell_type": "code",
      "source": [
        "name = \"Ayesha Younas\"\n",
        "print (name.lower())\n",
        "print(message)"
      ],
      "metadata": {
        "colab": {
          "base_uri": "https://localhost:8080/"
        },
        "id": "IqAiLD-bOeL9",
        "outputId": "6c8d73c7-ae4f-41ce-8d05-7ac5294a557c"
      },
      "execution_count": null,
      "outputs": [
        {
          "output_type": "stream",
          "name": "stdout",
          "text": [
            "ayesha younas\n",
            "Hello Ayesha, would you like to learn some python today?\n"
          ]
        }
      ]
    },
    {
      "cell_type": "markdown",
      "source": [
        "**Famous Quote**: Find a quote from a famous person you admire. Print the\n",
        "quote and the name of its author. Your output should look something like the\n",
        "following, including the quotation marks:\n",
        "Albert Einstein once said, “A person who never made a\n",
        "mistake never tried anything new.”"
      ],
      "metadata": {
        "id": "CKPrclw4QgiC"
      }
    },
    {
      "cell_type": "code",
      "source": [
        "quote = \"Success is not final, failure is not fatal: it is the courage to continue that counts.\"\n",
        "author = \"Winston Churchill\"\n",
        "print(author + \" once said,\"+ '\"'+ quote + '\"' )"
      ],
      "metadata": {
        "colab": {
          "base_uri": "https://localhost:8080/"
        },
        "id": "DbQbZuxUQnn2",
        "outputId": "b48b788e-558c-4cfe-b3a6-4408218f4e66"
      },
      "execution_count": null,
      "outputs": [
        {
          "output_type": "stream",
          "name": "stdout",
          "text": [
            "Winston Churchill once said,\"Success is not final, failure is not fatal: it is the courage to continue that counts.\"\n"
          ]
        }
      ]
    },
    {
      "cell_type": "markdown",
      "source": [
        "**Famous Quote 2:** Repeat above task, but this time store the famous person’s name in a variable called famous_person. Then compose your message\n",
        "\n",
        "and store it in a new variable called message. Print your message."
      ],
      "metadata": {
        "id": "xnLXrJnrTBjP"
      }
    },
    {
      "cell_type": "code",
      "source": [
        "famous_person = \"Abraham Lincoln\"\n",
        "quote = \"The best way to predict your future is to create it.\"\n",
        "message = famous_person + \"once said, \"+ '\"' + quote + '\"'\n",
        "print(message)"
      ],
      "metadata": {
        "colab": {
          "base_uri": "https://localhost:8080/"
        },
        "id": "zqz30nszTLYh",
        "outputId": "e130a70d-7070-408b-cebc-46bc10e45c4a"
      },
      "execution_count": null,
      "outputs": [
        {
          "output_type": "stream",
          "name": "stdout",
          "text": [
            "Abraham Lincolnonce said, \"The best way to predict your future is to create it.\"\n"
          ]
        }
      ]
    },
    {
      "cell_type": "markdown",
      "source": [
        "**Stripping Names:** Store a person’s name, and include some whitespace\n",
        "characters at the beginning and end of the name. Make sure you use each\n",
        "character combination, \"\\t\" and \"\\n\", at least once.\n",
        "Print the name once, so the whitespace around the name is displayed.\n",
        "Then print the name using each of the three stripping functions, lstrip(),\n",
        "rstrip(), and strip()."
      ],
      "metadata": {
        "id": "QX5A1BIBUWa2"
      }
    },
    {
      "cell_type": "code",
      "source": [
        "person_name = \"\\t  John Doe\\n\"\n",
        "print(person_name)\n",
        "print(person_name.rstrip())\n",
        "print(person_name.lstrip())\n",
        "print(person_name.strip())"
      ],
      "metadata": {
        "colab": {
          "base_uri": "https://localhost:8080/"
        },
        "id": "sd1hL6QcOZJq",
        "outputId": "02a87223-7496-484b-fd60-90fc56dfcd80"
      },
      "execution_count": null,
      "outputs": [
        {
          "output_type": "stream",
          "name": "stdout",
          "text": [
            "\t  John Doe\n",
            "\n",
            "\t  John Doe\n",
            "John Doe\n",
            "\n",
            "John Doe\n"
          ]
        }
      ]
    },
    {
      "cell_type": "markdown",
      "source": [
        "**Number Eight:** Write addition, subtraction, multiplication, and division\n",
        "operations that each result in the number 8. Be sure to enclose your operations\n",
        "in print statements to see the results."
      ],
      "metadata": {
        "id": "cNLTf0o4W-2a"
      }
    },
    {
      "cell_type": "code",
      "source": [
        "# Operations that result in 8\n",
        "print(6 + 2)\n",
        "print(10 - 2)\n",
        "print(2 * 4)\n",
        "print(16 / 2)"
      ],
      "metadata": {
        "colab": {
          "base_uri": "https://localhost:8080/"
        },
        "id": "EdoIelhLW0RU",
        "outputId": "8782e3d7-8234-479a-ad9c-041f0f2738f6"
      },
      "execution_count": null,
      "outputs": [
        {
          "output_type": "stream",
          "name": "stdout",
          "text": [
            "8\n",
            "8\n",
            "8\n",
            "8.0\n"
          ]
        }
      ]
    },
    {
      "cell_type": "markdown",
      "source": [
        "**Favorite Number:** Store your favorite number in a variable. Then, using\n",
        "that variable, create a message that reveals your favorite number. Print that\n",
        "message."
      ],
      "metadata": {
        "id": "wYxvUfbFXB1g"
      }
    },
    {
      "cell_type": "code",
      "source": [
        "favourite_number = 7\n",
        "message = \"My favouite number is \" + str(favourite_number)\n",
        "print(message)"
      ],
      "metadata": {
        "colab": {
          "base_uri": "https://localhost:8080/"
        },
        "id": "y_lmM875XJfE",
        "outputId": "af23e37f-4933-4ba0-a2de-cf6dc799f028"
      },
      "execution_count": null,
      "outputs": [
        {
          "output_type": "stream",
          "name": "stdout",
          "text": [
            "My favouite number is 7\n"
          ]
        }
      ]
    },
    {
      "cell_type": "markdown",
      "source": [
        "# **Zen of Python**"
      ],
      "metadata": {
        "id": "cjNXmeIvYvW6"
      }
    },
    {
      "cell_type": "code",
      "source": [
        "import this"
      ],
      "metadata": {
        "colab": {
          "base_uri": "https://localhost:8080/"
        },
        "id": "i45cNUsxX-lM",
        "outputId": "b33362ff-b5af-4103-cd5a-e1f4dee84bc7"
      },
      "execution_count": null,
      "outputs": [
        {
          "output_type": "stream",
          "name": "stdout",
          "text": [
            "The Zen of Python, by Tim Peters\n",
            "\n",
            "Beautiful is better than ugly.\n",
            "Explicit is better than implicit.\n",
            "Simple is better than complex.\n",
            "Complex is better than complicated.\n",
            "Flat is better than nested.\n",
            "Sparse is better than dense.\n",
            "Readability counts.\n",
            "Special cases aren't special enough to break the rules.\n",
            "Although practicality beats purity.\n",
            "Errors should never pass silently.\n",
            "Unless explicitly silenced.\n",
            "In the face of ambiguity, refuse the temptation to guess.\n",
            "There should be one-- and preferably only one --obvious way to do it.\n",
            "Although that way may not be obvious at first unless you're Dutch.\n",
            "Now is better than never.\n",
            "Although never is often better than *right* now.\n",
            "If the implementation is hard to explain, it's a bad idea.\n",
            "If the implementation is easy to explain, it may be a good idea.\n",
            "Namespaces are one honking great idea -- let's do more of those!\n"
          ]
        }
      ]
    }
  ]
}