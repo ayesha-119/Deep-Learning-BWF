{
  "nbformat": 4,
  "nbformat_minor": 0,
  "metadata": {
    "colab": {
      "provenance": [],
      "authorship_tag": "ABX9TyMKDKPTIOmC29rMY8kd5WJF",
      "include_colab_link": true
    },
    "kernelspec": {
      "name": "python3",
      "display_name": "Python 3"
    },
    "language_info": {
      "name": "python"
    }
  },
  "cells": [
    {
      "cell_type": "markdown",
      "metadata": {
        "id": "view-in-github",
        "colab_type": "text"
      },
      "source": [
        "<a href=\"https://colab.research.google.com/github/ayesha-119/Deep-Learning-BWF/blob/master/Task7.ipynb\" target=\"_parent\"><img src=\"https://colab.research.google.com/assets/colab-badge.svg\" alt=\"Open In Colab\"/></a>"
      ]
    },
    {
      "cell_type": "markdown",
      "source": [
        "# ***Task 07***\n",
        "\n",
        "**Topics:** Functions in Python, Docstrings, Definition, Calling, Passing Arguments to Functions, Returning Values, Arbitrary Number of Arguments, Explore \"Don't Repeat Yourself\"\n",
        "\n",
        "Resource: https://drive.google.com/file/d/12HEIuGU0NRgJutUQkMUhGKo-Nr_YWYdq/view?usp=share_link"
      ],
      "metadata": {
        "id": "f6HD_58yABPW"
      }
    },
    {
      "cell_type": "markdown",
      "source": [
        "# **Function:**"
      ],
      "metadata": {
        "id": "wsjblFRlEmVX"
      }
    },
    {
      "cell_type": "markdown",
      "source": [
        "**Message:** Write a function called display_message() that prints one sen- tence telling everyone what you are learning about in this chapter Call the function, and make sure the message displays correctly"
      ],
      "metadata": {
        "id": "3vD3fxqwEvRU"
      }
    },
    {
      "cell_type": "code",
      "source": [
        "def display_message():\n",
        "  print(\"Hello everyone! I'm learninf about function in this chapter\")\n",
        "display_message()"
      ],
      "metadata": {
        "colab": {
          "base_uri": "https://localhost:8080/"
        },
        "id": "B6aT0VMIExcc",
        "outputId": "45224dcb-249c-47dd-cf84-8d350f0ab4c8"
      },
      "execution_count": null,
      "outputs": [
        {
          "output_type": "stream",
          "name": "stdout",
          "text": [
            "Hello everyone! I'm learninf about function in this chapter\n"
          ]
        }
      ]
    },
    {
      "cell_type": "markdown",
      "source": [
        "**Favorite Book:** Write a function called favorite_book() that accepts one parameter, title The function should print a message, such as One of my favorite books is Alice in Wonderland Call the function, making sure to include a book title as an argument in the function call"
      ],
      "metadata": {
        "id": "eK5L92UUFSaZ"
      }
    },
    {
      "cell_type": "code",
      "execution_count": null,
      "metadata": {
        "colab": {
          "base_uri": "https://localhost:8080/"
        },
        "id": "5S8vyO-K_90b",
        "outputId": "a4f4a9f4-122d-466a-e512-78b5df49af41"
      },
      "outputs": [
        {
          "output_type": "stream",
          "name": "stdout",
          "text": [
            "One of my favourite books is Alice in Wonderland\n"
          ]
        }
      ],
      "source": [
        "def favourite_book(title):\n",
        "  print(\"One of my favourite books is \" + title)\n",
        "favourite_book(\"Alice in Wonderland\")"
      ]
    },
    {
      "cell_type": "markdown",
      "source": [
        "# **Passing a rguments**"
      ],
      "metadata": {
        "id": "beBYe-6RIhBr"
      }
    },
    {
      "cell_type": "markdown",
      "source": [
        "**T-Shirt:** Write a function called make_shirt() that accepts a size and the text of a message that should be printed on the shirt The function should print a sentence summarizing the size of the shirt and the message printed on it \n",
        "\n",
        "Call the function once using positional arguments to make a shirt Call the function a second time using keyword arguments"
      ],
      "metadata": {
        "id": "W1DYDO2oIqax"
      }
    },
    {
      "cell_type": "code",
      "source": [
        "def make_shirt(size,text):\n",
        "  print(f\"This shirt is a size {size} and has the message '{text}' printed on it.\")\n",
        "make_shirt('L', 'I <3 Python')\n",
        "make_shirt(size='M',text='Hello world!')"
      ],
      "metadata": {
        "colab": {
          "base_uri": "https://localhost:8080/"
        },
        "id": "SkQPUUMKIv5i",
        "outputId": "a8c57082-907c-4465-b03e-e26a0dcebaa2"
      },
      "execution_count": null,
      "outputs": [
        {
          "output_type": "stream",
          "name": "stdout",
          "text": [
            "This shirt is a size L and has the message 'I <3 Python' printed on it.\n",
            "This shirt is a size M and has the message 'Hello world!' printed on it.\n"
          ]
        }
      ]
    },
    {
      "cell_type": "markdown",
      "source": [
        "**Large Shirts:** Modify the make_shirt() function so that shirts are large by default with a message that reads I love Python\n",
        "\n",
        " Make a large shirt and a medium shirt with the default message, and a shirt of any size with a different message"
      ],
      "metadata": {
        "id": "eE-zFk4DJsf4"
      }
    },
    {
      "cell_type": "code",
      "source": [
        "def make_shirt(size = 'large', message = 'I love python' ):\n",
        "   print(f\"This shirt is a size {size} and has the message '{message}' printed on it.\")\n",
        "make_shirt()\n",
        "make_shirt(size = 'meduim')\n",
        "\n",
        "make_shirt('small', 'Code is poetry')\n"
      ],
      "metadata": {
        "colab": {
          "base_uri": "https://localhost:8080/"
        },
        "id": "wdQpPbs3K8KL",
        "outputId": "fde5b8c7-49ce-4066-f4e1-b935638afcdf"
      },
      "execution_count": null,
      "outputs": [
        {
          "output_type": "stream",
          "name": "stdout",
          "text": [
            "This shirt is a size large and has the message 'I love python' printed on it.\n",
            "This shirt is a size meduim and has the message 'I love python' printed on it.\n",
            "This shirt is a size small and has the message 'Code is poetry' printed on it.\n"
          ]
        }
      ]
    },
    {
      "cell_type": "markdown",
      "source": [
        "**Cities:** Write a function called describe_city() that accepts the name of a city and its country The function should print a simple sentence, such as Reykjavik is in Iceland Give the parameter for the country a default value Call your function for three different cities, at least one of which is not in the default country"
      ],
      "metadata": {
        "id": "g58yzuBaJyQw"
      }
    },
    {
      "cell_type": "code",
      "source": [
        "def describe_city(city,country='pakistan'):\n",
        "  print(f\"{city} is in {country}\")\n",
        "describe_city('tokyo','japan')\n",
        "describe_city('lahore')\n",
        "describe_city(city='karachi')"
      ],
      "metadata": {
        "colab": {
          "base_uri": "https://localhost:8080/"
        },
        "id": "nzqvRFGQL4Qv",
        "outputId": "5edbe6ad-3f30-46c6-a259-a28ab6eccc58"
      },
      "execution_count": null,
      "outputs": [
        {
          "output_type": "stream",
          "name": "stdout",
          "text": [
            "tokyo is in japan\n",
            "lahore is in pakistan\n",
            "karachi is in pakistan\n"
          ]
        }
      ]
    },
    {
      "cell_type": "markdown",
      "source": [
        "**City Names:** Write a function called city_country() that takes in the name of a city and its country The function should return a string formatted like this: \"Santiago, Chile\" Call your function with at least three city-country pairs, and print the value that’s returned"
      ],
      "metadata": {
        "id": "JwytskApTw2X"
      }
    },
    {
      "cell_type": "code",
      "source": [
        "def city_country(city, country):\n",
        "    return f\"{city.title()}, {country.title()}\"\n",
        "print(city_country(\"santiago\", \"chile\"))\n",
        "print(city_country(\"paris\", \"france\"))\n",
        "print(city_country(\"tokyo\", \"japan\"))"
      ],
      "metadata": {
        "colab": {
          "base_uri": "https://localhost:8080/"
        },
        "id": "MSP0sjmzT6MI",
        "outputId": "0954bae3-9187-4555-a9ff-efa0348c2881"
      },
      "execution_count": null,
      "outputs": [
        {
          "output_type": "stream",
          "name": "stdout",
          "text": [
            "Santiago, Chile\n",
            "Paris, France\n",
            "Tokyo, Japan\n"
          ]
        }
      ]
    },
    {
      "cell_type": "markdown",
      "source": [
        "**Album:** Write a function called make_album() that builds a dictionary describing a music album The function should take in an artist name and an album title, and it should return a dictionary containing these two pieces of information Use the function to make three dictionaries representing different albums Print each return value to show that the dictionaries are storing the album information correctly \n",
        "\n",
        "Add an optional parameter to make_album() that allows you to store the number of tracks on an album If the calling line includes a value for the num- ber of tracks, add that value to the album’s dictionary Make at least one new function call that includes the number of tracks on an album"
      ],
      "metadata": {
        "id": "gTs62S-FVCiN"
      }
    },
    {
      "cell_type": "code",
      "source": [
        "def make_album(artist,title,num_track=\"\"):\n",
        "  music_album = {\n",
        "      'artist': artist,\n",
        "      'Album_title':title\n",
        "  }\n",
        "  if num_track:\n",
        "    music_album['tracks'] = num_track\n",
        "  return music_album\n",
        "album1 = make_album(\"Pink Floyd\", \"The Wall\")\n",
        "album2 = make_album(\"Led Zeppelin\", \"IV\", 8)\n",
        "album3 = make_album(\"Radiohead\", \"OK Computer\", 12)\n",
        "\n",
        "print(album1)\n",
        "print(album2)\n",
        "print(album3)"
      ],
      "metadata": {
        "colab": {
          "base_uri": "https://localhost:8080/"
        },
        "id": "U-NGQlMhVHak",
        "outputId": "2831b5e0-33b1-4069-8674-1cce1d262b08"
      },
      "execution_count": null,
      "outputs": [
        {
          "output_type": "stream",
          "name": "stdout",
          "text": [
            "{'artist': 'Pink Floyd', 'Album_title': 'The Wall'}\n",
            "{'artist': 'Led Zeppelin', 'Album_title': 'IV', 'tracks': 8}\n",
            "{'artist': 'Radiohead', 'Album_title': 'OK Computer', 'tracks': 12}\n"
          ]
        }
      ]
    },
    {
      "cell_type": "markdown",
      "source": [
        "**User Albums:** Start with your program from Exercise 8-7 Write a while loop that allows users to enter an album’s artist and title Once you have that information, call make_album() with the user’s input and print the dictionary that’s created Be sure to include a quit value in the while loop"
      ],
      "metadata": {
        "id": "saiswm7DXH47"
      }
    },
    {
      "cell_type": "code",
      "source": [
        "def make_album(artist,title,num_track=\"\"):\n",
        "  music_album = {\n",
        "      'artist': artist,\n",
        "      'Album_title':title\n",
        "  }\n",
        "  if num_track:\n",
        "    music_album['tracks'] = num_track\n",
        "  return music_album\n",
        "\n",
        "while True:\n",
        "  print('Enter \"q\" anytime to quit')\n",
        "  artist_name = input(\"Please enter artist name: \")\n",
        "  if artist_name == 'q':\n",
        "    quit\n",
        "  album_title = input(\"please enter album title\")\n",
        "  if album_title == 'q':\n",
        "    quit\n",
        "  print(make_album(artist_name,album_title))"
      ],
      "metadata": {
        "colab": {
          "base_uri": "https://localhost:8080/",
          "height": 606
        },
        "id": "AAcdqf2NXNte",
        "outputId": "2697aedf-f955-4eb5-db10-47dca97c35ae"
      },
      "execution_count": null,
      "outputs": [
        {
          "output_type": "stream",
          "name": "stdout",
          "text": [
            "Enter \"q\" anytime to quit\n",
            "Please enter artist name: ayesha \n",
            "please enter album titlelittle do you know?\n",
            "{'artist': 'ayesha ', 'Album_title': 'little do you know?'}\n",
            "Enter \"q\" anytime to quit\n",
            "Please enter artist name: q\n",
            "please enter album titleq\n",
            "{'artist': 'q', 'Album_title': 'q'}\n",
            "Enter \"q\" anytime to quit\n",
            "Please enter artist name: q\n",
            "please enter album titleq\n",
            "{'artist': 'q', 'Album_title': 'q'}\n",
            "Enter \"q\" anytime to quit\n"
          ]
        },
        {
          "output_type": "error",
          "ename": "KeyboardInterrupt",
          "evalue": "ignored",
          "traceback": [
            "\u001b[0;31m---------------------------------------------------------------------------\u001b[0m",
            "\u001b[0;31mKeyboardInterrupt\u001b[0m                         Traceback (most recent call last)",
            "\u001b[0;32m<ipython-input-17-2d5ecc357c5f>\u001b[0m in \u001b[0;36m<module>\u001b[0;34m\u001b[0m\n\u001b[1;32m     10\u001b[0m \u001b[0;32mwhile\u001b[0m \u001b[0;32mTrue\u001b[0m\u001b[0;34m:\u001b[0m\u001b[0;34m\u001b[0m\u001b[0;34m\u001b[0m\u001b[0m\n\u001b[1;32m     11\u001b[0m   \u001b[0mprint\u001b[0m\u001b[0;34m(\u001b[0m\u001b[0;34m'Enter \"q\" anytime to quit'\u001b[0m\u001b[0;34m)\u001b[0m\u001b[0;34m\u001b[0m\u001b[0;34m\u001b[0m\u001b[0m\n\u001b[0;32m---> 12\u001b[0;31m   \u001b[0martist_name\u001b[0m \u001b[0;34m=\u001b[0m \u001b[0minput\u001b[0m\u001b[0;34m(\u001b[0m\u001b[0;34m\"Please enter artist name: \"\u001b[0m\u001b[0;34m)\u001b[0m\u001b[0;34m\u001b[0m\u001b[0;34m\u001b[0m\u001b[0m\n\u001b[0m\u001b[1;32m     13\u001b[0m   \u001b[0malbum_title\u001b[0m \u001b[0;34m=\u001b[0m \u001b[0minput\u001b[0m\u001b[0;34m(\u001b[0m\u001b[0;34m\"please enter album title\"\u001b[0m\u001b[0;34m)\u001b[0m\u001b[0;34m\u001b[0m\u001b[0;34m\u001b[0m\u001b[0m\n\u001b[1;32m     14\u001b[0m   \u001b[0;32mif\u001b[0m \u001b[0martist_name\u001b[0m \u001b[0;34m==\u001b[0m \u001b[0;34m'q'\u001b[0m\u001b[0;34m:\u001b[0m\u001b[0;34m\u001b[0m\u001b[0;34m\u001b[0m\u001b[0m\n",
            "\u001b[0;32m/usr/local/lib/python3.9/dist-packages/ipykernel/kernelbase.py\u001b[0m in \u001b[0;36mraw_input\u001b[0;34m(self, prompt)\u001b[0m\n\u001b[1;32m    858\u001b[0m                 \u001b[0;34m\"raw_input was called, but this frontend does not support input requests.\"\u001b[0m\u001b[0;34m\u001b[0m\u001b[0;34m\u001b[0m\u001b[0m\n\u001b[1;32m    859\u001b[0m             )\n\u001b[0;32m--> 860\u001b[0;31m         return self._input_request(str(prompt),\n\u001b[0m\u001b[1;32m    861\u001b[0m             \u001b[0mself\u001b[0m\u001b[0;34m.\u001b[0m\u001b[0m_parent_ident\u001b[0m\u001b[0;34m,\u001b[0m\u001b[0;34m\u001b[0m\u001b[0;34m\u001b[0m\u001b[0m\n\u001b[1;32m    862\u001b[0m             \u001b[0mself\u001b[0m\u001b[0;34m.\u001b[0m\u001b[0m_parent_header\u001b[0m\u001b[0;34m,\u001b[0m\u001b[0;34m\u001b[0m\u001b[0;34m\u001b[0m\u001b[0m\n",
            "\u001b[0;32m/usr/local/lib/python3.9/dist-packages/ipykernel/kernelbase.py\u001b[0m in \u001b[0;36m_input_request\u001b[0;34m(self, prompt, ident, parent, password)\u001b[0m\n\u001b[1;32m    902\u001b[0m             \u001b[0;32mexcept\u001b[0m \u001b[0mKeyboardInterrupt\u001b[0m\u001b[0;34m:\u001b[0m\u001b[0;34m\u001b[0m\u001b[0;34m\u001b[0m\u001b[0m\n\u001b[1;32m    903\u001b[0m                 \u001b[0;31m# re-raise KeyboardInterrupt, to truncate traceback\u001b[0m\u001b[0;34m\u001b[0m\u001b[0;34m\u001b[0m\u001b[0m\n\u001b[0;32m--> 904\u001b[0;31m                 \u001b[0;32mraise\u001b[0m \u001b[0mKeyboardInterrupt\u001b[0m\u001b[0;34m(\u001b[0m\u001b[0;34m\"Interrupted by user\"\u001b[0m\u001b[0;34m)\u001b[0m \u001b[0;32mfrom\u001b[0m \u001b[0;32mNone\u001b[0m\u001b[0;34m\u001b[0m\u001b[0;34m\u001b[0m\u001b[0m\n\u001b[0m\u001b[1;32m    905\u001b[0m             \u001b[0;32mexcept\u001b[0m \u001b[0mException\u001b[0m \u001b[0;32mas\u001b[0m \u001b[0me\u001b[0m\u001b[0;34m:\u001b[0m\u001b[0;34m\u001b[0m\u001b[0;34m\u001b[0m\u001b[0m\n\u001b[1;32m    906\u001b[0m                 \u001b[0mself\u001b[0m\u001b[0;34m.\u001b[0m\u001b[0mlog\u001b[0m\u001b[0;34m.\u001b[0m\u001b[0mwarning\u001b[0m\u001b[0;34m(\u001b[0m\u001b[0;34m\"Invalid Message:\"\u001b[0m\u001b[0;34m,\u001b[0m \u001b[0mexc_info\u001b[0m\u001b[0;34m=\u001b[0m\u001b[0;32mTrue\u001b[0m\u001b[0;34m)\u001b[0m\u001b[0;34m\u001b[0m\u001b[0;34m\u001b[0m\u001b[0m\n",
            "\u001b[0;31mKeyboardInterrupt\u001b[0m: Interrupted by user"
          ]
        }
      ]
    },
    {
      "cell_type": "markdown",
      "source": [
        "**Magicians:** Make a list of magician’s names Pass the list to a function called show_magicians() , which prints the name of each magician in the list"
      ],
      "metadata": {
        "id": "QFMfocM8drVS"
      }
    },
    {
      "cell_type": "code",
      "source": [
        "def show_magician(magicians):\n",
        "  for name in magicians:\n",
        "    print(name)\n",
        "magicians = [\"Harry Houdini\", \"David Blaine\", \"Criss Angel\"]\n",
        "print(\"List of magicians\")\n",
        "show_magician(magicians)\n"
      ],
      "metadata": {
        "colab": {
          "base_uri": "https://localhost:8080/"
        },
        "id": "CH64xvBzdunh",
        "outputId": "0d9d0957-8bc7-46e4-cefb-052a7f09808a"
      },
      "execution_count": null,
      "outputs": [
        {
          "output_type": "stream",
          "name": "stdout",
          "text": [
            "List of magicians\n",
            "Harry Houdini\n",
            "David Blaine\n",
            "Criss Angel\n"
          ]
        }
      ]
    },
    {
      "cell_type": "markdown",
      "source": [
        "**Great Magicians:** Start with a copy of your program from Exercise 8-9 Write a function called make_great() that modifies the list of magicians by add- ing the phrase the Great to each magician’s name Call show_magicians() to see that the list has actually been modified"
      ],
      "metadata": {
        "id": "A2d-_z1yePkL"
      }
    },
    {
      "cell_type": "code",
      "source": [
        "def show_magician(magicians):\n",
        "  for name in magicians:\n",
        "    print(name)\n",
        "# Define the make_great function\n",
        "def make_great(magicians):\n",
        "    for i in range(len(magicians)):\n",
        "        magicians[i] = magicians[i] + \" the Great\"\n",
        "magicians = [\"Harry Houdini\", \"David Blaine\", \"Criss Angel\"]\n",
        "\n",
        "make_great(magicians)\n",
        "# Use the show_magicians function to print the original list\n",
        "print(\"Original list of magicians:\")\n",
        "show_magician(magicians)\n",
        "\n",
        "# Use the make_great function to modify the list of magicians\n"
      ],
      "metadata": {
        "colab": {
          "base_uri": "https://localhost:8080/"
        },
        "id": "jktRRvbXe4pJ",
        "outputId": "465da396-add9-4e6c-b707-909fa3aa4fc7"
      },
      "execution_count": null,
      "outputs": [
        {
          "output_type": "stream",
          "name": "stdout",
          "text": [
            "Original list of magicians:\n",
            "Harry Houdini the Great\n",
            "David Blaine the Great\n",
            "Criss Angel the Great\n"
          ]
        }
      ]
    },
    {
      "cell_type": "markdown",
      "source": [
        "**Unchanged Magicians:** Start with your work from Exercise 8-10 Call the function make_great() with a copy of the list of magicians’ names Because the original list will be unchanged, return the new list and store it in a separate list Call show_magicians() with each list to show that you have one list of the origi- nal names and one list with the Great added to each magician’s name"
      ],
      "metadata": {
        "id": "laiKB94Bf2TE"
      }
    },
    {
      "cell_type": "code",
      "source": [
        "# Define the make_great() function\n",
        "def make_great(magicians_list):\n",
        "    # Create a new list to hold the modified names\n",
        "    great_magicians = []\n",
        "    \n",
        "    # Modify each magician's name and add it to the new list\n",
        "    while magicians_list:\n",
        "        magician = magicians_list.pop()\n",
        "        great_magician = magician + \" the Great\"\n",
        "        great_magicians.append(great_magician)\n",
        "    \n",
        "    # Reverse the order of the new list and return it\n",
        "    great_magicians.reverse()\n",
        "    return great_magicians\n",
        "\n",
        "# Define the show_magicians() function\n",
        "def show_magicians(magicians_list):\n",
        "    for magician in magicians_list:\n",
        "        print(magician)\n",
        "\n",
        "# Define a list of magician's names\n",
        "magicians = [\"David Copperfield\", \"Penn Jillette\", \"Teller\", \"David Blaine\"]\n",
        "\n",
        "# Call make_great() with a copy of the magicians list\n",
        "great_magicians = make_great(magicians[:])\n",
        "\n",
        "# Show the original list of magicians\n",
        "print(\"Original list of magicians:\")\n",
        "show_magicians(magicians)\n",
        "\n",
        "# Show the list of great magicians\n",
        "print(\"\\nList of great magicians:\")\n",
        "show_magicians(great_magicians)\n"
      ],
      "metadata": {
        "colab": {
          "base_uri": "https://localhost:8080/"
        },
        "id": "wJFgHdfog7Iu",
        "outputId": "54ddc21e-2a73-4c71-c0b9-f2bcf95cb0d6"
      },
      "execution_count": null,
      "outputs": [
        {
          "output_type": "stream",
          "name": "stdout",
          "text": [
            "Original list of magicians:\n",
            "David Copperfield\n",
            "Penn Jillette\n",
            "Teller\n",
            "David Blaine\n",
            "\n",
            "List of great magicians:\n",
            "David Copperfield the Great\n",
            "Penn Jillette the Great\n",
            "Teller the Great\n",
            "David Blaine the Great\n"
          ]
        }
      ]
    },
    {
      "cell_type": "markdown",
      "source": [
        "# **Passing an Arbitrary Number of Arguments**"
      ],
      "metadata": {
        "id": "4CX7EBdnR_mm"
      }
    },
    {
      "cell_type": "markdown",
      "source": [
        "**Sandwiches:** Write a function that accepts a list of items a person wants\n",
        "on a sandwich. The function should have one parameter that collects as many\n",
        "\n",
        "items as the function call provides, and it should print a summary of the sand-\n",
        "wich that is being ordered. Call the function three times, using a different num-\n",
        "ber of arguments each time."
      ],
      "metadata": {
        "id": "mziyHbdOSJO5"
      }
    },
    {
      "cell_type": "code",
      "source": [
        "def make_sandwich(*ingredients):\n",
        "    print(\"Making a sandwich with the following ingredients:\")\n",
        "    for ingredient in ingredients:\n",
        "        print(\"- \" + ingredient)\n",
        "    print(\"Done!\\n\")"
      ],
      "metadata": {
        "id": "2vZ_znwMSNA1"
      },
      "execution_count": 1,
      "outputs": []
    },
    {
      "cell_type": "code",
      "source": [
        "make_sandwich(\"turkey\", \"lettuce\", \"tomato\")\n",
        "make_sandwich(\"peanut butter\", \"jelly\")\n",
        "make_sandwich(\"ham\", \"cheese\", \"mayonnaise\", \"pickles\")"
      ],
      "metadata": {
        "colab": {
          "base_uri": "https://localhost:8080/"
        },
        "id": "LCT9DjTdS-zn",
        "outputId": "bb8ce7f2-6ee3-4fe5-9a54-e77135f94844"
      },
      "execution_count": 2,
      "outputs": [
        {
          "output_type": "stream",
          "name": "stdout",
          "text": [
            "Making a sandwich with the following ingredients:\n",
            "- turkey\n",
            "- lettuce\n",
            "- tomato\n",
            "Done!\n",
            "\n",
            "Making a sandwich with the following ingredients:\n",
            "- peanut butter\n",
            "- jelly\n",
            "Done!\n",
            "\n",
            "Making a sandwich with the following ingredients:\n",
            "- ham\n",
            "- cheese\n",
            "- mayonnaise\n",
            "- pickles\n",
            "Done!\n",
            "\n"
          ]
        }
      ]
    },
    {
      "cell_type": "markdown",
      "source": [
        "**User Profile**: Start with a copy of user_profile.py from page 153. Build\n",
        "a profile of yourself by calling build_profile(), using your first and last names\n",
        "and three other key-value pairs that describe you."
      ],
      "metadata": {
        "id": "p81qn2K9TFfo"
      }
    },
    {
      "cell_type": "code",
      "source": [
        "def build_profile(first, last, **user_info):\n",
        "    \"\"\"Build a user's profile dictionary.\"\"\"\n",
        "    profile = {}\n",
        "    profile['first_name'] = first\n",
        "    profile['last_name'] = last\n",
        "    for key, value in user_info.items():\n",
        "        profile[key] = value\n",
        "    return profile\n",
        "\n",
        "# Create a user profile for yourself\n",
        "my_profile = build_profile('Ayesha', 'Younas', \n",
        "                           location='Faislabad, punjab',\n",
        "                           occupation='Android Developer',\n",
        "                           hobbies=['Reading', 'Hiking', 'Photography'])\n",
        "\n",
        "# Print the profile\n",
        "print(my_profile)"
      ],
      "metadata": {
        "colab": {
          "base_uri": "https://localhost:8080/"
        },
        "id": "ZAzm55WzTXu_",
        "outputId": "fa536877-0515-45fe-d6f5-ec4e1b1a965e"
      },
      "execution_count": 3,
      "outputs": [
        {
          "output_type": "stream",
          "name": "stdout",
          "text": [
            "{'first_name': 'Ayesha', 'last_name': 'Younas', 'location': 'Faislabad, punjab', 'occupation': 'Android Developer', 'hobbies': ['Reading', 'Hiking', 'Photography']}\n"
          ]
        }
      ]
    },
    {
      "cell_type": "markdown",
      "source": [
        "**Cars:** Write a function that stores information about a car in a diction-\n",
        "ary. The function should always receive a manufacturer and a model name. It\n",
        "\n",
        "should then accept an arbitrary number of keyword arguments. Call the func-\n",
        "tion with the required information and two other name-value pairs, such as a\n",
        "\n",
        "color or an optional feature. Your function should work for a call like this one:\n",
        "car = make_car('subaru', 'outback', color='blue', tow_package=True)\n",
        "Print the dictionary that’s returned to make sure all the information was\n",
        "stored correctly."
      ],
      "metadata": {
        "id": "ieo62HxhTwyc"
      }
    },
    {
      "cell_type": "code",
      "source": [
        "def make_car(manufacturer, model_name, **car_info):\n",
        "    car = {'manufacturer': manufacturer, 'model_name': model_name}\n",
        "    car.update(car_info)\n",
        "    return car"
      ],
      "metadata": {
        "id": "6zj_pMsXU5eg"
      },
      "execution_count": 4,
      "outputs": []
    },
    {
      "cell_type": "code",
      "source": [
        "car = make_car('subaru', 'outback', color='blue', tow_package=True)\n",
        "print(car)"
      ],
      "metadata": {
        "colab": {
          "base_uri": "https://localhost:8080/"
        },
        "id": "czDHQ6XJU8hf",
        "outputId": "298f8a2e-8020-4f28-f031-b730acb2048b"
      },
      "execution_count": 5,
      "outputs": [
        {
          "output_type": "stream",
          "name": "stdout",
          "text": [
            "{'manufacturer': 'subaru', 'model_name': 'outback', 'color': 'blue', 'tow_package': True}\n"
          ]
        }
      ]
    },
    {
      "cell_type": "markdown",
      "source": [
        "# **Storing Your Functions in Modules**"
      ],
      "metadata": {
        "id": "n8u88ZpxU2Nm"
      }
    },
    {
      "cell_type": "markdown",
      "source": [
        "**Printing Models:** Put the functions for the example print_models.py in a\n",
        "separate file called printing_functions.py. Write an import statement at the top\n",
        "of print_models.py, and modify the file to use the imported functions."
      ],
      "metadata": {
        "id": "4W-tWN-xVDFL"
      }
    },
    {
      "cell_type": "code",
      "source": [
        "%%writefile printing_functions.py\n",
        "def print_models(unprinted_designs, completed_models):\n",
        "    \"\"\"\n",
        "    Simulate printing each design, until none are left.\n",
        "    Move each design to completed_models after printing.\n",
        "    \"\"\"\n",
        "    while unprinted_designs:\n",
        "        current_design = unprinted_designs.pop()\n",
        "        # Simulate creating a 3D print from the design.\n",
        "        print(f\"Printing model: {current_design}\")\n",
        "        completed_models.append(current_design)\n",
        "\n",
        "def show_completed_models(completed_models):\n",
        "    \"\"\"Show all the models that were printed.\"\"\"\n",
        "    print(\"\\nThe following models have been printed:\")\n",
        "    for completed_model in completed_models:\n",
        "        print(completed_model)"
      ],
      "metadata": {
        "colab": {
          "base_uri": "https://localhost:8080/"
        },
        "id": "UGDuKw0pVidB",
        "outputId": "7b93c0ed-aa41-4982-e4a7-3c00129f3cef"
      },
      "execution_count": 6,
      "outputs": [
        {
          "output_type": "stream",
          "name": "stdout",
          "text": [
            "Writing printing_functions.py\n"
          ]
        }
      ]
    },
    {
      "cell_type": "code",
      "source": [
        "from printing_functions import print_models, show_completed_models\n",
        "\n",
        "unprinted_designs = ['iphone case', 'pendant', 'ring']\n",
        "completed_models = []\n",
        "\n",
        "print_models(unprinted_designs, completed_models)\n",
        "show_completed_models(completed_models)"
      ],
      "metadata": {
        "colab": {
          "base_uri": "https://localhost:8080/"
        },
        "id": "CLdCivblVn6P",
        "outputId": "044d3e29-8c3a-421a-d429-ca09cfa20baa"
      },
      "execution_count": 7,
      "outputs": [
        {
          "output_type": "stream",
          "name": "stdout",
          "text": [
            "Printing model: ring\n",
            "Printing model: pendant\n",
            "Printing model: iphone case\n",
            "\n",
            "The following models have been printed:\n",
            "ring\n",
            "pendant\n",
            "iphone case\n"
          ]
        }
      ]
    },
    {
      "cell_type": "markdown",
      "source": [
        "**Imports: **Using a program you wrote that has one function in it, store that\n",
        "function in a separate file. Import the function into your main program file, and\n",
        "call the function using each of these approaches:\n",
        "import module_name\n",
        "from module_name import function_name\n",
        "from module_name import function_name as fn\n",
        "import module_name as mn\n",
        "from module_name import *"
      ],
      "metadata": {
        "id": "HDDgWcNKW3NH"
      }
    },
    {
      "cell_type": "code",
      "source": [
        "%%writefile greetings.py\n",
        "def greet(name):\n",
        "    print(f\"Hello, {name}!\")"
      ],
      "metadata": {
        "colab": {
          "base_uri": "https://localhost:8080/"
        },
        "id": "sPjJU8cgXTFi",
        "outputId": "48c5487a-94d6-4af8-c6b7-52c467480443"
      },
      "execution_count": 8,
      "outputs": [
        {
          "output_type": "stream",
          "name": "stdout",
          "text": [
            "Writing greetings.py\n"
          ]
        }
      ]
    },
    {
      "cell_type": "markdown",
      "source": [
        "Now, let's see how we can import and use this function in different ways.\n",
        "\n",
        "**Importing the whole module and calling the function:**"
      ],
      "metadata": {
        "id": "RYMk3zGQXpHy"
      }
    },
    {
      "cell_type": "code",
      "source": [
        "import greetings\n",
        "\n",
        "greetings.greet(\"John\")"
      ],
      "metadata": {
        "colab": {
          "base_uri": "https://localhost:8080/"
        },
        "id": "Bif1PquSXoGa",
        "outputId": "e0b5fd08-b5cd-48f6-b984-25823feb70c2"
      },
      "execution_count": 9,
      "outputs": [
        {
          "output_type": "stream",
          "name": "stdout",
          "text": [
            "Hello, John!\n"
          ]
        }
      ]
    },
    {
      "cell_type": "markdown",
      "source": [
        "**Importing only the function and calling it:**"
      ],
      "metadata": {
        "id": "L-0dbwEeXxh3"
      }
    },
    {
      "cell_type": "code",
      "source": [
        "from greetings import greet\n",
        "\n",
        "greet(\"Jane\")"
      ],
      "metadata": {
        "colab": {
          "base_uri": "https://localhost:8080/"
        },
        "id": "-wnLrRF5X1wF",
        "outputId": "0c4b0e1a-3f43-470e-bb41-880656bc5b48"
      },
      "execution_count": 10,
      "outputs": [
        {
          "output_type": "stream",
          "name": "stdout",
          "text": [
            "Hello, Jane!\n"
          ]
        }
      ]
    },
    {
      "cell_type": "markdown",
      "source": [
        "**Importing the function with an alias and calling it:**"
      ],
      "metadata": {
        "id": "pnizzOphX5p_"
      }
    },
    {
      "cell_type": "code",
      "source": [
        "from greetings import greet as hello\n",
        "\n",
        "hello(\"Jake\")"
      ],
      "metadata": {
        "colab": {
          "base_uri": "https://localhost:8080/"
        },
        "id": "q3HP12ljX9fg",
        "outputId": "4d8735b2-122e-4066-df17-8748ae7e6ea9"
      },
      "execution_count": 11,
      "outputs": [
        {
          "output_type": "stream",
          "name": "stdout",
          "text": [
            "Hello, Jake!\n"
          ]
        }
      ]
    },
    {
      "cell_type": "markdown",
      "source": [
        "**Importing the module with an alias and calling the function:**"
      ],
      "metadata": {
        "id": "p2twe8mLYBUy"
      }
    },
    {
      "cell_type": "code",
      "source": [
        "import greetings as greet_module\n",
        "\n",
        "greet_module.greet(\"Jill\")"
      ],
      "metadata": {
        "colab": {
          "base_uri": "https://localhost:8080/"
        },
        "id": "VfaojjwDYE31",
        "outputId": "7a406878-380b-4b44-e976-0869a8b7ebad"
      },
      "execution_count": 12,
      "outputs": [
        {
          "output_type": "stream",
          "name": "stdout",
          "text": [
            "Hello, Jill!\n"
          ]
        }
      ]
    },
    {
      "cell_type": "markdown",
      "source": [
        "**Importing all functions from the module and calling the function:**"
      ],
      "metadata": {
        "id": "v0oNMXSHYIR6"
      }
    },
    {
      "cell_type": "code",
      "source": [
        "from greetings import *\n",
        "\n",
        "greet(\"Jim\")"
      ],
      "metadata": {
        "colab": {
          "base_uri": "https://localhost:8080/"
        },
        "id": "5haaC6XIYMAN",
        "outputId": "71a7398e-d882-405e-98ed-4a0d3a49daf7"
      },
      "execution_count": 13,
      "outputs": [
        {
          "output_type": "stream",
          "name": "stdout",
          "text": [
            "Hello, Jim!\n"
          ]
        }
      ]
    }
  ]
}