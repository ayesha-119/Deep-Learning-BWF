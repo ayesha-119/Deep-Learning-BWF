{
  "nbformat": 4,
  "nbformat_minor": 0,
  "metadata": {
    "colab": {
      "provenance": [],
      "authorship_tag": "ABX9TyMIYIa6BoeUbE71+tExNNLa",
      "include_colab_link": true
    },
    "kernelspec": {
      "name": "python3",
      "display_name": "Python 3"
    },
    "language_info": {
      "name": "python"
    }
  },
  "cells": [
    {
      "cell_type": "markdown",
      "metadata": {
        "id": "view-in-github",
        "colab_type": "text"
      },
      "source": [
        "<a href=\"https://colab.research.google.com/github/ayesha-119/Deep-Learning-BWF/blob/master/Task_9.ipynb\" target=\"_parent\"><img src=\"https://colab.research.google.com/assets/colab-badge.svg\" alt=\"Open In Colab\"/></a>"
      ]
    },
    {
      "cell_type": "markdown",
      "source": [
        "# 🔴 **Task 09** \n",
        "\n",
        "Topics: File Reading & Writing, Try, Except & Finally\n",
        "\n",
        "Resource: https://drive.google.com/file/d/12HEIuGU0NRgJutUQkMUhGKo-Nr_YWYdq/view?usp=share_link"
      ],
      "metadata": {
        "id": "Dlxue3dqp5at"
      }
    },
    {
      "cell_type": "markdown",
      "source": [
        "# **Reading from a File**"
      ],
      "metadata": {
        "id": "0U0e0P1GqEhP"
      }
    },
    {
      "cell_type": "markdown",
      "source": [
        "**Learning Python:** Open a blank file in your text editor and write a few\n",
        "lines summarizing what you’ve learned about Python so far. Start each line\n",
        "with the phrase In Python you can.... Save the file as learning_python.txt in the same directory as your exercises from this chapter. Write a program that reads the file and prints what you wrote three times. Print the contents once by reading in the entire file, once by looping over the file object, and once by storing the lines in a list and then working with them outside the with block."
      ],
      "metadata": {
        "id": "Z-NJmlWgwSWl"
      }
    },
    {
      "cell_type": "code",
      "source": [
        "file_path = \"/content/learning_python.txt\"\n",
        "#Print the contents  by reading in the entire file\n",
        "with open(file_path) as file_object:\n",
        "  content = file_object.read()\n",
        "print(content)"
      ],
      "metadata": {
        "colab": {
          "base_uri": "https://localhost:8080/"
        },
        "id": "_dIFBzTAZ4gs",
        "outputId": "37ee9e72-09ad-412e-e16c-9e768c7ec74f"
      },
      "execution_count": null,
      "outputs": [
        {
          "output_type": "stream",
          "name": "stdout",
          "text": [
            "In Python you can store as much information as you want.\n",
            "In Python you can connect pieces of information.\n",
            "In Python you can model real-world situations.\n",
            "In Python you can read from files.\n",
            "In Python you can write to files.\n",
            "In Python you can define classes.\n",
            "In Python you can write scripts executed by the interpreter.\n",
            "In Python you can compile programs.\n",
            "In Python you can use variables to store data\n",
            "In Python you can perform mathematical operations with arithmetic operators\n",
            "In Python you can use conditional statements like if-else and switch-case\n",
            "In Python you can use loops like for and while to repeat code\n",
            "In Python you can create functions to encapsulate reusable code\n",
            "In Python you can work with different data structures like lists, tuples, sets, and dictionaries\n"
          ]
        }
      ]
    },
    {
      "cell_type": "code",
      "source": [
        "# Print the contents by looping over the file object\n",
        "with open(file_path) as file_object:\n",
        "  for line in file_object:\n",
        "    print(line.strip)"
      ],
      "metadata": {
        "colab": {
          "base_uri": "https://localhost:8080/"
        },
        "id": "vthvg6CyahWm",
        "outputId": "e099bd8f-340a-4aa2-8877-d3a3ad96b473"
      },
      "execution_count": null,
      "outputs": [
        {
          "output_type": "stream",
          "name": "stdout",
          "text": [
            "<built-in method strip of str object at 0x7fe9648e3dc0>\n",
            "<built-in method strip of str object at 0x7fe9648f1110>\n",
            "<built-in method strip of str object at 0x7fe9648e56f0>\n",
            "<built-in method strip of str object at 0x7fe9648e5f90>\n",
            "<built-in method strip of str object at 0x7fe9648e56f0>\n",
            "<built-in method strip of str object at 0x7fe9648e5f90>\n",
            "<built-in method strip of str object at 0x7fe9648f12d0>\n",
            "<built-in method strip of str object at 0x7fe9648e5f90>\n",
            "<built-in method strip of str object at 0x7fe9648e56f0>\n",
            "<built-in method strip of str object at 0x7fe9648e49b0>\n",
            "<built-in method strip of str object at 0x7fe9648e4b30>\n",
            "<built-in method strip of str object at 0x7fe9648f1500>\n",
            "<built-in method strip of str object at 0x7fe9648e4b30>\n",
            "<built-in method strip of str object at 0x7fe9648e9850>\n"
          ]
        }
      ]
    },
    {
      "cell_type": "code",
      "source": [
        "# Storing the lines in a list and working with them outside the with block\n",
        "with open(file_path) as file_object:\n",
        "    lines = file_object.readlines()\n",
        "for line in lines:\n",
        "    print(line.strip())"
      ],
      "metadata": {
        "colab": {
          "base_uri": "https://localhost:8080/"
        },
        "id": "g-EfsxjPbcB4",
        "outputId": "6146de10-d874-4157-e50a-b133e20c665d"
      },
      "execution_count": null,
      "outputs": [
        {
          "output_type": "stream",
          "name": "stdout",
          "text": [
            "In Python you can store as much information as you want.\n",
            "In Python you can connect pieces of information.\n",
            "In Python you can model real-world situations.\n",
            "In Python you can read from files.\n",
            "In Python you can write to files.\n",
            "In Python you can define classes.\n",
            "In Python you can write scripts executed by the interpreter.\n",
            "In Python you can compile programs.\n",
            "In Python you can use variables to store data\n",
            "In Python you can perform mathematical operations with arithmetic operators\n",
            "In Python you can use conditional statements like if-else and switch-case\n",
            "In Python you can use loops like for and while to repeat code\n",
            "In Python you can create functions to encapsulate reusable code\n",
            "In Python you can work with different data structures like lists, tuples, sets, and dictionaries\n"
          ]
        }
      ]
    },
    {
      "cell_type": "markdown",
      "source": [
        "**Learning C:** You can use the replace() method to replace any word in a\n",
        "string with a different word. Here’s a quick example showing how to replace\n",
        "'dog' with 'cat' in a sentence:\n",
        ">>> message = \"I really like dogs.\"\n",
        ">>> message.replace('dog', 'cat')\n",
        "'I really like cats.'\n",
        "Read in each line from the file you just created, learning_python.txt, and\n",
        "replace the word Python with the name of another language, such as C. Print\n",
        "each modified line to the screen."
      ],
      "metadata": {
        "id": "Iz7aereDw0tM"
      }
    },
    {
      "cell_type": "code",
      "source": [
        "file_path = \"/content/learning_python.txt\"\n",
        "with open (file_path) as file_object:\n",
        "  for lines in file_object:\n",
        "    # Replace \"Python\" with \"C\"\n",
        "    line = line.replace('Python', 'C')\n",
        "    print(line.strip())"
      ],
      "metadata": {
        "colab": {
          "base_uri": "https://localhost:8080/"
        },
        "id": "zcdQqawVdz7o",
        "outputId": "ca1b3815-ae58-4072-852d-e737c10997bf"
      },
      "execution_count": null,
      "outputs": [
        {
          "output_type": "stream",
          "name": "stdout",
          "text": [
            "In C you can work with different data structures like lists, tuples, sets, and dictionaries\n",
            "In C you can work with different data structures like lists, tuples, sets, and dictionaries\n",
            "In C you can work with different data structures like lists, tuples, sets, and dictionaries\n",
            "In C you can work with different data structures like lists, tuples, sets, and dictionaries\n",
            "In C you can work with different data structures like lists, tuples, sets, and dictionaries\n",
            "In C you can work with different data structures like lists, tuples, sets, and dictionaries\n",
            "In C you can work with different data structures like lists, tuples, sets, and dictionaries\n",
            "In C you can work with different data structures like lists, tuples, sets, and dictionaries\n",
            "In C you can work with different data structures like lists, tuples, sets, and dictionaries\n",
            "In C you can work with different data structures like lists, tuples, sets, and dictionaries\n",
            "In C you can work with different data structures like lists, tuples, sets, and dictionaries\n",
            "In C you can work with different data structures like lists, tuples, sets, and dictionaries\n",
            "In C you can work with different data structures like lists, tuples, sets, and dictionaries\n",
            "In C you can work with different data structures like lists, tuples, sets, and dictionaries\n"
          ]
        }
      ]
    },
    {
      "cell_type": "markdown",
      "source": [
        "# **Writing to a File**"
      ],
      "metadata": {
        "id": "qaD0Cz2R7Ndu"
      }
    },
    {
      "cell_type": "markdown",
      "source": [
        "**Guest:** Write a program that prompts the user for their name. When they\n",
        "respond, write their name to a file called guest.txt."
      ],
      "metadata": {
        "id": "qaZ0EA3v7XAT"
      }
    },
    {
      "cell_type": "code",
      "source": [
        "file_name = \"guest.txt\"\n",
        "name = input(\"Please Enter your name?\")\n",
        "with open(file_name, 'w') as file_object:\n",
        "  file_object.write(name)\n",
        "print(f\"Hello {name} your name have been added to the {file_name}\")\n",
        "\n"
      ],
      "metadata": {
        "colab": {
          "base_uri": "https://localhost:8080/"
        },
        "id": "nNUXxGMrexzx",
        "outputId": "8e334e01-79f9-4dac-cc47-d14b1ff871db"
      },
      "execution_count": null,
      "outputs": [
        {
          "output_type": "stream",
          "name": "stdout",
          "text": [
            "Please Enter your name?Ayesha Younas\n",
            "Hello Ayesha Younas your name have been added to the guest.txt\n"
          ]
        }
      ]
    },
    {
      "cell_type": "markdown",
      "source": [
        "**Guest Book:** Write a while loop that prompts users for their name. When\n",
        "they enter their name, print a greeting to the screen and add a line recording\n",
        "their visit in a file called guest_book.txt. Make sure each entry appears on a\n",
        "new line in the file."
      ],
      "metadata": {
        "id": "Q_3fus2z7ccg"
      }
    },
    {
      "cell_type": "code",
      "source": [
        "filename = 'guest_book.txt'\n",
        "\n",
        "print(\"Welcome to the guest book!\")\n",
        "\n",
        "while True:\n",
        "    name = input(\"Please enter your name, or 'q' to quit: \")\n",
        "    if name == 'q':\n",
        "        break\n",
        "    \n",
        "    print(f\"Hello, {name}! Thank you for visiting.\")\n",
        "    \n",
        "    with open(filename, 'a') as file_object:\n",
        "        file_object.write(name + '\\n')\n",
        "    \n",
        "print(\"Thank you for visiting the guest book!\")\n",
        "\n"
      ],
      "metadata": {
        "colab": {
          "base_uri": "https://localhost:8080/"
        },
        "id": "5Na5dgiZf-bU",
        "outputId": "6c3669f7-c526-4175-af85-a884039a45bb"
      },
      "execution_count": null,
      "outputs": [
        {
          "output_type": "stream",
          "name": "stdout",
          "text": [
            "Welcome to the guest book!\n",
            "Please enter your name, or 'q' to quit: Ayesha Younas\n",
            "Hello, Ayesha Younas! Thank you for visiting.\n",
            "Please enter your name, or 'q' to quit: Abu Bakar \n",
            "Hello, Abu Bakar ! Thank you for visiting.\n",
            "Please enter your name, or 'q' to quit: q\n",
            "Thank you for visiting the guest book!\n"
          ]
        }
      ]
    },
    {
      "cell_type": "markdown",
      "source": [
        "**Programming Poll:** Write a while loop that asks people why they like\n",
        "programming. Each time someone enters a reason, add their reason to a file\n",
        "that stores all the responses."
      ],
      "metadata": {
        "id": "CtPUgp5Y7ieX"
      }
    },
    {
      "cell_type": "code",
      "source": [
        "filename = 'programming_poll.txt'\n",
        "\n",
        "print(\"Welcome to the programming poll!\")\n",
        "\n",
        "while True:\n",
        "    response = input(\"Why do you like programming? (enter 'q' to quit) \")\n",
        "    if response == 'q':\n",
        "        break\n",
        "    \n",
        "    with open(filename, 'a') as file_object:\n",
        "        file_object.write(response + '\\n')\n",
        "    \n",
        "print(\"Thank you for taking the programming poll!\")"
      ],
      "metadata": {
        "colab": {
          "base_uri": "https://localhost:8080/"
        },
        "id": "MJlb2x61kLNr",
        "outputId": "7535ae1a-d935-487a-f3d3-9cea637497c1"
      },
      "execution_count": null,
      "outputs": [
        {
          "output_type": "stream",
          "name": "stdout",
          "text": [
            "Welcome to the programming poll!\n",
            "Why do you like programming? (enter 'q' to quit) Problem-solving: Programming allows you to solve complex problems and create solutions to real-world issues.\n",
            "Why do you like programming? (enter 'q' to quit) Creativity: Programming also provides an outlet for creativity and allows you to express your ideas through code.\n",
            "Why do you like programming? (enter 'q' to quit) Continuous learning: The field of programming is constantly evolving, and there is always something new to learn and explore.\n",
            "Why do you like programming? (enter 'q' to quit) Job opportunities: With the increasing reliance on technology in all industries, programming skills are in high demand, which can provide job security and career growth.\n",
            "Why do you like programming? (enter 'q' to quit) Efficiency: Programming can automate repetitive tasks and streamline processes, which can increase efficiency and productivity.\n",
            "Why do you like programming? (enter 'q' to quit) Collaboration: Programming often involves working in teams and collaborating with others to create complex projects, which can be rewarding and fulfilling.\n",
            "Why do you like programming? (enter 'q' to quit) q\n",
            "Thank you for taking the programming poll!\n"
          ]
        }
      ]
    },
    {
      "cell_type": "markdown",
      "source": [
        "# **Exceptions**"
      ],
      "metadata": {
        "id": "fh-L6VMtljfa"
      }
    },
    {
      "cell_type": "markdown",
      "source": [
        "**Addition:** One common problem when prompting for numerical input\n",
        "occurs when people provide text instead of numbers. When you try to convert\n",
        "the input to an int, you’ll get a TypeError. Write a program that prompts for\n",
        "two numbers. Add them together and print the result. Catch the TypeError if\n",
        "either input value is not a number, and print a friendly error message. Test your\n",
        "program by entering two numbers and then by entering some text instead of a\n",
        "number."
      ],
      "metadata": {
        "id": "TleLgN6eokJv"
      }
    },
    {
      "cell_type": "code",
      "source": [
        "print(\"Enter two number for Additon\")\n",
        "while True:\n",
        "  try:\n",
        "    number_1 = int(input (\"Enter first number\"))\n",
        "    number_2 = int(input (\"Enter second number\"))\n",
        "    result = number_1 + number_2\n",
        "    print(f\"The sum of {number_1} and {number_2} is {result}.\")\n",
        "    break\n",
        "  except ValueError:\n",
        "    print(\"Please enter a valid number\")\n",
        "  \n",
        "  \n"
      ],
      "metadata": {
        "colab": {
          "base_uri": "https://localhost:8080/"
        },
        "id": "6XIwWDf6ongv",
        "outputId": "64ddd1e2-2734-423c-f0b4-8e85251cc625"
      },
      "execution_count": null,
      "outputs": [
        {
          "output_type": "stream",
          "name": "stdout",
          "text": [
            "Enter two number for Additon\n",
            "Enter first numberhello\n",
            "Please enter a valid number\n",
            "Enter first numberayesha\n",
            "Please enter a valid number\n",
            "Enter first number10\n",
            "Enter second number20\n",
            "The sum of 10 and 20 is 30.\n"
          ]
        }
      ]
    },
    {
      "cell_type": "markdown",
      "source": [
        "**Addition Calculator:** Wrap your code from Exercise 10-6 in a while loop\n",
        "so the user can continue entering numbers even if they make a mistake and\n",
        "enter text instead of a number."
      ],
      "metadata": {
        "id": "R6Aa7bohq3p3"
      }
    },
    {
      "cell_type": "code",
      "source": [
        "while True:\n",
        "    try:\n",
        "        num1 = int(input(\"Enter the first number: \"))\n",
        "        num2 = int(input(\"Enter the second number: \"))\n",
        "        result = num1 + num2\n",
        "        print(f\"The sum of {num1} and {num2} is {result}.\")\n",
        "    except ValueError:\n",
        "        print(\"Please enter numerical values for both inputs.\")\n",
        "    finally:\n",
        "        choice = input(\"Do you want to perform another addition? (y/n) \")\n",
        "        if choice.lower() != 'y':\n",
        "            break"
      ],
      "metadata": {
        "colab": {
          "base_uri": "https://localhost:8080/"
        },
        "id": "pv3Zq3uorbUR",
        "outputId": "4a146378-22d5-415e-fb22-5aebbab63e77"
      },
      "execution_count": null,
      "outputs": [
        {
          "name": "stdout",
          "output_type": "stream",
          "text": [
            "Enter the first number: ayesha\n",
            "Please enter numerical values for both inputs.\n",
            "Do you want to perform another addition? (y/n) y\n",
            "Enter the first number: 10\n",
            "Enter the second number: 20\n",
            "The sum of 10 and 20 is 30.\n",
            "Do you want to perform another addition? (y/n) n\n"
          ]
        }
      ]
    },
    {
      "cell_type": "markdown",
      "source": [
        "**Cats and Dogs:** Make two files, cats.txt and dogs.txt. Store at least three\n",
        "names of cats in the first file and three names of dogs in the second file. Write\n",
        "a program that tries to read these files and print the contents of the file to the\n",
        "screen. Wrap your code in a try-except block to catch the FileNotFound error,\n",
        "\n",
        "and print a friendly message if a file is missing. Move one of the files to a dif-\n",
        "ferent location on your system, and make sure the code in the except block\n",
        "\n",
        "executes properly."
      ],
      "metadata": {
        "id": "qJbp8ShR9ux0"
      }
    },
    {
      "cell_type": "code",
      "source": [
        "def read_files(file_path):\n",
        "  try:\n",
        "    with open(file_path) as file_object:\n",
        "      content = file_object.read()\n",
        "  except FileNotFoundError:\n",
        "    print(f\"{file_path} doesn't exists\")\n",
        "  else:\n",
        "    print(content)\n",
        "\n"
      ],
      "metadata": {
        "id": "dhSx--jU9yvl"
      },
      "execution_count": 3,
      "outputs": []
    },
    {
      "cell_type": "code",
      "source": [
        "read_files('cats.txt')"
      ],
      "metadata": {
        "colab": {
          "base_uri": "https://localhost:8080/"
        },
        "id": "HTqHxiR1AfhY",
        "outputId": "cdc6ccd6-f565-44b9-a11e-bce0cd50ba8c"
      },
      "execution_count": 5,
      "outputs": [
        {
          "output_type": "stream",
          "name": "stdout",
          "text": [
            "Fluffy\n",
            "Whiskers\n",
            "Socks\n"
          ]
        }
      ]
    },
    {
      "cell_type": "code",
      "source": [
        "read_files('dogs.txt')"
      ],
      "metadata": {
        "colab": {
          "base_uri": "https://localhost:8080/"
        },
        "id": "D2S3PGHUBkPI",
        "outputId": "531153ba-6dff-4824-ee72-6569b235b889"
      },
      "execution_count": 6,
      "outputs": [
        {
          "output_type": "stream",
          "name": "stdout",
          "text": [
            "Max\n",
            "Buddy\n",
            "Charlie\n"
          ]
        }
      ]
    },
    {
      "cell_type": "markdown",
      "source": [
        "**Silent Cats and Dogs:** Modify your except block in Exercise 10-8 to fail\n",
        "silently if either file is missing."
      ],
      "metadata": {
        "id": "De4_GS1SBzNm"
      }
    },
    {
      "cell_type": "code",
      "source": [
        "try:\n",
        "    with open('cats.txt', 'r') as f:\n",
        "        cats = f.readlines()\n",
        "        print(\"Cats:\")\n",
        "        for cat in cats:\n",
        "            print(cat.strip())\n",
        "\n",
        "    with open('dogs.txt', 'r') as f:\n",
        "        dogs = f.readlines()\n",
        "        print(\"\\nDogs:\")\n",
        "        for dog in dogs:\n",
        "            print(dog.strip())\n",
        "\n",
        "except FileNotFoundError:\n",
        "    pass"
      ],
      "metadata": {
        "colab": {
          "base_uri": "https://localhost:8080/"
        },
        "id": "FdEjtF-6B2W3",
        "outputId": "14407a12-2bac-42ef-d702-883cbf5cd704"
      },
      "execution_count": 7,
      "outputs": [
        {
          "output_type": "stream",
          "name": "stdout",
          "text": [
            "Cats:\n",
            "Fluffy\n",
            "Whiskers\n",
            "Socks\n",
            "\n",
            "Dogs:\n",
            "Max\n",
            "Buddy\n",
            "Charlie\n"
          ]
        }
      ]
    },
    {
      "cell_type": "markdown",
      "source": [
        "**Common Words:** Visit Project Gutenberg (http://gutenberg.org/ )\n",
        "and find a few texts you’d like to analyze. Download the text files for these\n",
        "works, or copy the raw text from your browser into a text file on your\n",
        "computer.\n",
        "You can use the count() method to find out how many times a word or\n",
        "phrase appears in a string. For example, the following code counts the number\n",
        "of times 'row' appears in a string:\n",
        ">>> line = \"Row, row, row your boat\"\n",
        ">>> line.count('row')\n",
        "2\n",
        ">>> line.lower().count('row')\n",
        "3\n",
        "Notice that converting the string to lowercase using lower() catches\n",
        "all appearances of the word you’re looking for, regardless of how it’s\n",
        "formatted.\n",
        "Write a program that reads the files you found at Project Gutenberg and\n",
        "determines how many times the word 'the' appears in each text."
      ],
      "metadata": {
        "id": "-N4REPiWCKar"
      }
    },
    {
      "cell_type": "code",
      "source": [
        "file_path = '/content/Land & Water.txt'\n",
        "try:\n",
        "  with open (file_path, 'r') as file_object:\n",
        "    content = file_object.read()\n",
        "    count = content.lower().count('the')\n",
        "    print(f\"The word 'the' appears {count} number of times in the file\")\n",
        "except FileNotFoundError:\n",
        "  print(\"Could not find the file.\")\n",
        "\n"
      ],
      "metadata": {
        "colab": {
          "base_uri": "https://localhost:8080/"
        },
        "id": "lqgXa1xYDQH5",
        "outputId": "a233f77e-18e1-4274-9ced-4dd2ddab195b"
      },
      "execution_count": 8,
      "outputs": [
        {
          "output_type": "stream",
          "name": "stdout",
          "text": [
            "The word 'the' appears 5990 number of times in the file\n"
          ]
        }
      ]
    },
    {
      "cell_type": "markdown",
      "source": [
        "# **Storing Data**"
      ],
      "metadata": {
        "id": "Ze1zhoe4FO57"
      }
    },
    {
      "cell_type": "markdown",
      "source": [
        "**Favorite Number:** Write a program that prompts for the user’s favorite\n",
        "\n",
        "number. Use json.dump() to store this number in a file. Write a separate pro-\n",
        "gram that reads in this value and prints the message, “I know your favorite\n",
        "\n",
        "number! It’s _____.”"
      ],
      "metadata": {
        "id": "6jbpvn6VHLUE"
      }
    },
    {
      "cell_type": "code",
      "source": [
        "import json\n",
        "fvrt_number = input (\"What'syour favourite number? \")\n",
        "file_name = 'number.json'\n",
        "with open(file_name,'w') as file_object:\n",
        "  json.dump(fvrt_number, file_object)\n",
        "  print(f\"We'll remember that your favorite number is {fvrt_number}.\")\n",
        "\n"
      ],
      "metadata": {
        "colab": {
          "base_uri": "https://localhost:8080/"
        },
        "id": "Jin-RBbGHjmR",
        "outputId": "c8571ff9-67b3-496d-a4ba-208345953f55"
      },
      "execution_count": 11,
      "outputs": [
        {
          "output_type": "stream",
          "name": "stdout",
          "text": [
            "What'syour favourite number? 7\n",
            "We'll remember that your favorite number is 7.\n"
          ]
        }
      ]
    },
    {
      "cell_type": "code",
      "source": [
        "with open(file_name, 'r') as f_obj:\n",
        "  stored_number = json.load(f_obj)\n",
        "  print(f\"I know your favorite number! it's {stored_number}\")\n"
      ],
      "metadata": {
        "colab": {
          "base_uri": "https://localhost:8080/"
        },
        "id": "XBuHG4dXJnjJ",
        "outputId": "f69278eb-e51a-497f-9681-b3611db1a2c7"
      },
      "execution_count": 12,
      "outputs": [
        {
          "output_type": "stream",
          "name": "stdout",
          "text": [
            "I know your favorite number! it's 7\n"
          ]
        }
      ]
    },
    {
      "cell_type": "markdown",
      "source": [
        "\n",
        "**Favorite Number Remembered:** Combine the two programs from\n",
        "Exercise 10-11 into one file. If the number is already stored, report the favorite\n",
        "number to the user. If not, prompt for the user’s favorite number and store it in a\n",
        "file. Run the program twice to see that it works."
      ],
      "metadata": {
        "id": "pAOzmSrVHQol"
      }
    },
    {
      "cell_type": "code",
      "source": [
        "import json\n",
        "\n",
        "filename = 'favorite_number.json'\n",
        "\n",
        "try:\n",
        "    with open(filename) as f:\n",
        "        # Check if file is empty\n",
        "        if f.read().strip() == '':\n",
        "            # Prompt user for favorite number\n",
        "            favorite_number = input(\"What is your favorite number? \")\n",
        "            # Write favorite number to file using JSON\n",
        "            with open(filename, 'w') as f:\n",
        "                json.dump(favorite_number, f)\n",
        "                print(f\"We'll remember that your favorite number is {favorite_number}.\")\n",
        "        else:\n",
        "            # Read favorite number from file\n",
        "            f.seek(0)\n",
        "            favorite_number = json.load(f)\n",
        "            print(f\"I know your favorite number! It's {favorite_number}.\")\n",
        "except FileNotFoundError:\n",
        "    # Prompt user for favorite number\n",
        "    favorite_number = input(\"What is your favorite number? \")\n",
        "    # Write favorite number to file using JSON\n",
        "    with open(filename, 'w') as f:\n",
        "        json.dump(favorite_number, f)\n",
        "        print(f\"We'll remember that your favorite number is {favorite_number}.\")\n"
      ],
      "metadata": {
        "colab": {
          "base_uri": "https://localhost:8080/"
        },
        "id": "VX7r_SfRNRy_",
        "outputId": "acc53180-1d3b-4615-815d-b87b7c1a86e9"
      },
      "execution_count": 21,
      "outputs": [
        {
          "output_type": "stream",
          "name": "stdout",
          "text": [
            "What is your favorite number? 7\n",
            "We'll remember that your favorite number is 7.\n"
          ]
        }
      ]
    },
    {
      "cell_type": "markdown",
      "source": [
        "**Verify User:** The final listing for remember_me.py assumes either that the\n",
        "user has already entered their username or that the program is running for the\n",
        "first time. We should modify it in case the current user is not the person who\n",
        "last used the program.\n",
        "Before printing a welcome back message in greet_user(), ask the user if\n",
        "this is the correct username. If it’s not, call get_new_username() to get the correct\n",
        "username."
      ],
      "metadata": {
        "id": "pZfhSbekHbc6"
      }
    },
    {
      "cell_type": "code",
      "source": [
        "import json\n",
        "\n",
        "def get_stored_username():\n",
        "    \"\"\"Get stored username if available.\"\"\"\n",
        "    filename = 'username.json'\n",
        "    try:\n",
        "        with open(filename) as f:\n",
        "            username = json.load(f)\n",
        "    except FileNotFoundError:\n",
        "        return None\n",
        "    else:\n",
        "        return username\n",
        "\n",
        "def get_new_username():\n",
        "    \"\"\"Prompt for a new username.\"\"\"\n",
        "    username = input(\"What is your name? \")\n",
        "    filename = 'username.json'\n",
        "    with open(filename, 'w') as f:\n",
        "        json.dump(username, f)\n",
        "    return username\n",
        "\n",
        "def greet_user():\n",
        "    \"\"\"Greet the user by name.\"\"\"\n",
        "    username = get_stored_username()\n",
        "    if username:\n",
        "        # Verify the stored username\n",
        "        is_correct = input(f\"Are you {username}? (y/n) \")\n",
        "        if is_correct.lower() == 'y':\n",
        "            print(f\"Welcome back, {username}!\")\n",
        "        else:\n",
        "            username = get_new_username()\n",
        "            print(f\"We'll remember you when you come back, {username}!\")\n",
        "    else:\n",
        "        username = get_new_username()\n",
        "        print(f\"We'll remember you when you come back, {username}!\")\n"
      ],
      "metadata": {
        "id": "Fzs3eb-mAByp"
      },
      "execution_count": 24,
      "outputs": []
    },
    {
      "cell_type": "code",
      "source": [
        "greet_user()"
      ],
      "metadata": {
        "colab": {
          "base_uri": "https://localhost:8080/"
        },
        "id": "epNnVtEuOWcq",
        "outputId": "10827012-7c4a-4016-e38e-d3218aefec58"
      },
      "execution_count": 25,
      "outputs": [
        {
          "output_type": "stream",
          "name": "stdout",
          "text": [
            "What is your name? Ayesha Younas\n",
            "We'll remember you when you come back, Ayesha Younas!\n"
          ]
        }
      ]
    }
  ]
}