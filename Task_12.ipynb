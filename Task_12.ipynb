{
  "nbformat": 4,
  "nbformat_minor": 0,
  "metadata": {
    "colab": {
      "provenance": [],
      "authorship_tag": "ABX9TyPRgr7nuqvoQ4yE7qsEPYeC",
      "include_colab_link": true
    },
    "kernelspec": {
      "name": "python3",
      "display_name": "Python 3"
    },
    "language_info": {
      "name": "python"
    }
  },
  "cells": [
    {
      "cell_type": "markdown",
      "metadata": {
        "id": "view-in-github",
        "colab_type": "text"
      },
      "source": [
        "<a href=\"https://colab.research.google.com/github/ayesha-119/Deep-Learning-BWF/blob/master/Task_12.ipynb\" target=\"_parent\"><img src=\"https://colab.research.google.com/assets/colab-badge.svg\" alt=\"Open In Colab\"/></a>"
      ]
    },
    {
      "cell_type": "markdown",
      "source": [
        "# **🔴 Task 12**\n",
        "\n",
        "**Topics: Broadcasting in Numpy Array**\n",
        "\n",
        "Resource: https://drive.google.com/file/d/1ILp88f3u_KgJ_nlhTSsAVGdmZlICGhhd/view?usp=share_link\n",
        "\n",
        "\n",
        "\n",
        "Directions: The Broadcasting concepts are available in Numpy Appendix A: Advanced Numpy Section of the resource."
      ],
      "metadata": {
        "id": "zl_wcKZRbPpX"
      }
    },
    {
      "cell_type": "markdown",
      "source": [
        "# **Broadcasting is a powerful tool in NumPy that allows for performing element-wise operations on arrays with different shapes, without having to explicitly reshape or pad the arrays.**"
      ],
      "metadata": {
        "id": "lr2ksypYkXHD"
      }
    },
    {
      "cell_type": "markdown",
      "source": [
        "**Adding Two Arrays with the Same Shape**"
      ],
      "metadata": {
        "id": "iinsRds4ka-8"
      }
    },
    {
      "cell_type": "code",
      "source": [
        "import numpy as np\n",
        "\n",
        "a = np.array([1, 2, 3])\n",
        "b = np.array([4, 5, 6])\n",
        "\n",
        "c = a + b\n",
        "print(c)"
      ],
      "metadata": {
        "colab": {
          "base_uri": "https://localhost:8080/"
        },
        "id": "N1G_2XskkYHz",
        "outputId": "6c63b0e9-8452-4fad-e990-6c294386d342"
      },
      "execution_count": 1,
      "outputs": [
        {
          "output_type": "stream",
          "name": "stdout",
          "text": [
            "[5 7 9]\n"
          ]
        }
      ]
    },
    {
      "cell_type": "markdown",
      "source": [
        "**Multiplying Two Arrays with the Same Shape**"
      ],
      "metadata": {
        "id": "2PB-Mf5UkrER"
      }
    },
    {
      "cell_type": "code",
      "source": [
        "import numpy as np\n",
        "\n",
        "a = np.array([1, 2, 3])\n",
        "b = np.array([4, 5, 6])\n",
        "\n",
        "c = a * b\n",
        "print(c)"
      ],
      "metadata": {
        "colab": {
          "base_uri": "https://localhost:8080/"
        },
        "id": "NMFnwLwkkuvZ",
        "outputId": "51c1ce0b-864c-4b24-9049-9555ddc6dd36"
      },
      "execution_count": 2,
      "outputs": [
        {
          "output_type": "stream",
          "name": "stdout",
          "text": [
            "[ 4 10 18]\n"
          ]
        }
      ]
    },
    {
      "cell_type": "markdown",
      "source": [
        "**Adding Two Arrays with Different Sizes**"
      ],
      "metadata": {
        "id": "XI-UyC8pkzbo"
      }
    },
    {
      "cell_type": "code",
      "source": [
        "import numpy as np\n",
        "\n",
        "a = np.array([1, 2, 3])\n",
        "b = np.array([4])\n",
        "\n",
        "c = a + b\n",
        "print(c)"
      ],
      "metadata": {
        "colab": {
          "base_uri": "https://localhost:8080/"
        },
        "id": "-R093O12k2vA",
        "outputId": "150a7d14-8c71-4504-927e-30706961a123"
      },
      "execution_count": 7,
      "outputs": [
        {
          "output_type": "stream",
          "name": "stdout",
          "text": [
            "[5 6 7]\n"
          ]
        }
      ]
    },
    {
      "cell_type": "markdown",
      "source": [
        "**Adding Two Arrays with Different Number of Dimensions**"
      ],
      "metadata": {
        "id": "fv4MtNLRlIUN"
      }
    },
    {
      "cell_type": "code",
      "source": [
        "import numpy as np\n",
        "\n",
        "a = np.array([1, 2, 3])\n",
        "b = np.array([[4, 5, 6], [7, 8, 9]])\n",
        "\n",
        "c = a[:, np.newaxis] + b.T\n",
        "print(c)"
      ],
      "metadata": {
        "colab": {
          "base_uri": "https://localhost:8080/"
        },
        "id": "F53sR1NalMU2",
        "outputId": "93916626-f661-4f88-8527-1cf5381ea4d7"
      },
      "execution_count": 12,
      "outputs": [
        {
          "output_type": "stream",
          "name": "stdout",
          "text": [
            "[[ 5  8]\n",
            " [ 7 10]\n",
            " [ 9 12]]\n"
          ]
        }
      ]
    },
    {
      "cell_type": "markdown",
      "source": [
        "**Multiplying Two Arrays with Different Shapes**"
      ],
      "metadata": {
        "id": "zzzUcExtpq6Y"
      }
    },
    {
      "cell_type": "code",
      "source": [
        "a = np.array([[1], [2], [3]])\n",
        "b = np.array([4, 5, 6])\n",
        "\n",
        "c = a * b\n",
        "print(c)"
      ],
      "metadata": {
        "colab": {
          "base_uri": "https://localhost:8080/"
        },
        "id": "g6UoaF0mpvAZ",
        "outputId": "f58e1df8-7db2-4dc8-e235-afebe8e81a9d"
      },
      "execution_count": 13,
      "outputs": [
        {
          "output_type": "stream",
          "name": "stdout",
          "text": [
            "[[ 4  5  6]\n",
            " [ 8 10 12]\n",
            " [12 15 18]]\n"
          ]
        }
      ]
    },
    {
      "cell_type": "markdown",
      "source": [
        "**Computing Outer Product of Two Arrays**"
      ],
      "metadata": {
        "id": "GU7W9sgJp3zM"
      }
    },
    {
      "cell_type": "code",
      "source": [
        "import numpy as np\n",
        "\n",
        "a = np.array([1, 2, 3])\n",
        "b = np.array([4, 5, 6])\n",
        "\n",
        "c = np.outer(a, b)\n",
        "print(c)\n"
      ],
      "metadata": {
        "colab": {
          "base_uri": "https://localhost:8080/"
        },
        "id": "Dm9BcJclp6ws",
        "outputId": "d43ea7a6-3c79-40f6-f79d-91a24787d230"
      },
      "execution_count": 14,
      "outputs": [
        {
          "output_type": "stream",
          "name": "stdout",
          "text": [
            "[[ 4  5  6]\n",
            " [ 8 10 12]\n",
            " [12 15 18]]\n"
          ]
        }
      ]
    },
    {
      "cell_type": "markdown",
      "source": [
        "**Adding a Scalar to an Array**"
      ],
      "metadata": {
        "id": "0JuRs6ewqIMC"
      }
    },
    {
      "cell_type": "code",
      "source": [
        "a = np.array([1, 2, 3])\n",
        "\n",
        "c = a + 5\n",
        "print(c)"
      ],
      "metadata": {
        "colab": {
          "base_uri": "https://localhost:8080/"
        },
        "id": "w3xmS6b3qLHR",
        "outputId": "171d449d-2dfc-49bf-dec1-fe099ff76354"
      },
      "execution_count": 15,
      "outputs": [
        {
          "output_type": "stream",
          "name": "stdout",
          "text": [
            "[6 7 8]\n"
          ]
        }
      ]
    },
    {
      "cell_type": "markdown",
      "source": [
        "**Subtracting a Scalar from an Array**"
      ],
      "metadata": {
        "id": "2xqQ-n1XqTXf"
      }
    },
    {
      "cell_type": "code",
      "source": [
        "import numpy as np\n",
        "\n",
        "a = np.array([1, 2, 3])\n",
        "\n",
        "c = a - 2\n",
        "print(c)"
      ],
      "metadata": {
        "colab": {
          "base_uri": "https://localhost:8080/"
        },
        "id": "7iMh7fJxqW_p",
        "outputId": "a3703b30-d201-4beb-f777-7b3d4d572d6c"
      },
      "execution_count": 16,
      "outputs": [
        {
          "output_type": "stream",
          "name": "stdout",
          "text": [
            "[-1  0  1]\n"
          ]
        }
      ]
    },
    {
      "cell_type": "markdown",
      "source": [
        "**Multiplying a Scalar with an Array**"
      ],
      "metadata": {
        "id": "S3PtngJXqa_e"
      }
    },
    {
      "cell_type": "code",
      "source": [
        "import numpy as np\n",
        "\n",
        "a = np.array([1, 2, 3])\n",
        "\n",
        "c = a * 3\n",
        "print(c)"
      ],
      "metadata": {
        "colab": {
          "base_uri": "https://localhost:8080/"
        },
        "id": "LR95kV6oqmlX",
        "outputId": "0b429af9-693b-41c8-d86b-be28b5114e44"
      },
      "execution_count": 17,
      "outputs": [
        {
          "output_type": "stream",
          "name": "stdout",
          "text": [
            "[3 6 9]\n"
          ]
        }
      ]
    },
    {
      "cell_type": "markdown",
      "source": [
        "**Dividing an Array by a Scalar**"
      ],
      "metadata": {
        "id": "VkKw1Vs3qtAw"
      }
    },
    {
      "cell_type": "code",
      "source": [
        "import numpy as np\n",
        "\n",
        "a = np.array([3, 6, 9])\n",
        "\n",
        "c = a / 3\n",
        "print(c)"
      ],
      "metadata": {
        "colab": {
          "base_uri": "https://localhost:8080/"
        },
        "id": "0RIjYt7Bqw49",
        "outputId": "40398f0d-bb08-46e4-d151-a57ad13e7fab"
      },
      "execution_count": 18,
      "outputs": [
        {
          "output_type": "stream",
          "name": "stdout",
          "text": [
            "[1. 2. 3.]\n"
          ]
        }
      ]
    },
    {
      "cell_type": "markdown",
      "source": [
        "**Broadcasting in Higher Dimensions**"
      ],
      "metadata": {
        "id": "gZ6O9V9Xq5dM"
      }
    },
    {
      "cell_type": "code",
      "source": [
        "import numpy as np\n",
        "\n",
        "a = np.array([[[1, 2], [3, 4]], [[5, 6], [7, 8]]])\n",
        "b = np.array([1, 2])\n",
        "\n",
        "c = a + b[:, np.newaxis, np.newaxis]\n",
        "print(c)\n"
      ],
      "metadata": {
        "colab": {
          "base_uri": "https://localhost:8080/"
        },
        "id": "lenWtNeLq-AT",
        "outputId": "8806ddac-9051-46d9-8849-06b3941d725b"
      },
      "execution_count": 19,
      "outputs": [
        {
          "output_type": "stream",
          "name": "stdout",
          "text": [
            "[[[ 2  3]\n",
            "  [ 4  5]]\n",
            "\n",
            " [[ 7  8]\n",
            "  [ 9 10]]]\n"
          ]
        }
      ]
    },
    {
      "cell_type": "markdown",
      "source": [
        "**Setting Array Values by Broadcasting**"
      ],
      "metadata": {
        "id": "8MqlBSJpsP6L"
      }
    },
    {
      "cell_type": "code",
      "source": [
        "a = np.zeros((3, 3))\n",
        "b = np.array([1, 2, 3])\n",
        "\n",
        "a[:, :] = b[:, np.newaxis]\n",
        "print(a)"
      ],
      "metadata": {
        "colab": {
          "base_uri": "https://localhost:8080/"
        },
        "id": "jW1NODQdsV_s",
        "outputId": "54646551-4c84-4baa-e355-788fa6fe34ba"
      },
      "execution_count": 20,
      "outputs": [
        {
          "output_type": "stream",
          "name": "stdout",
          "text": [
            "[[1. 1. 1.]\n",
            " [2. 2. 2.]\n",
            " [3. 3. 3.]]\n"
          ]
        }
      ]
    },
    {
      "cell_type": "code",
      "execution_count": null,
      "metadata": {
        "id": "iyzGJMrsbOvV"
      },
      "outputs": [],
      "source": []
    }
  ]
}