{
  "nbformat": 4,
  "nbformat_minor": 0,
  "metadata": {
    "colab": {
      "provenance": [],
      "authorship_tag": "ABX9TyPbUzo2KTP1zEE7FHwQLiFj",
      "include_colab_link": true
    },
    "kernelspec": {
      "name": "python3",
      "display_name": "Python 3"
    },
    "language_info": {
      "name": "python"
    }
  },
  "cells": [
    {
      "cell_type": "markdown",
      "metadata": {
        "id": "view-in-github",
        "colab_type": "text"
      },
      "source": [
        "<a href=\"https://colab.research.google.com/github/ayesha-119/Deep-Learning-BWF/blob/master/Task4.ipynb\" target=\"_parent\"><img src=\"https://colab.research.google.com/assets/colab-badge.svg\" alt=\"Open In Colab\"/></a>"
      ]
    },
    {
      "cell_type": "markdown",
      "source": [
        "# ***Topics that we will cover in this task are:***\n",
        "\n",
        "• List Introduction(Changing, Adding, Removing, Organizing, Indexing in Lists)\n",
        "\n",
        "• Looping in Python\n",
        "\n",
        "• Looping over Lists\n",
        "\n",
        "• Avoiding Indentation Errors\n",
        "\n",
        "• Introducing Tuples\n",
        "\n",
        "• List vs Tuple\n",
        "\n",
        "• Styling your Code "
      ],
      "metadata": {
        "id": "orULFgHDgTjq"
      }
    },
    {
      "cell_type": "markdown",
      "source": [
        "# **Lists**"
      ],
      "metadata": {
        "id": "fqopcPaDj4gB"
      }
    },
    {
      "cell_type": "markdown",
      "source": [
        "**Names:** Store the names of a few of your friends in a list called names. Print\n",
        "each person’s name by accessing each element in the list, one at a time."
      ],
      "metadata": {
        "id": "BuZq0Tm2n5KD"
      }
    },
    {
      "cell_type": "code",
      "source": [
        "names = [\"David\",\"adam\",\"smith\",\"marie\"]\n",
        "print(names[0])\n",
        "print(names[1])\n",
        "print(names[2])\n",
        "print(names[3])\n"
      ],
      "metadata": {
        "colab": {
          "base_uri": "https://localhost:8080/"
        },
        "id": "aFq3G064oAqs",
        "outputId": "716a556a-4b0f-41ad-95c2-73defcc7cab4"
      },
      "execution_count": 49,
      "outputs": [
        {
          "output_type": "stream",
          "name": "stdout",
          "text": [
            "David\n",
            "adam\n",
            "smith\n",
            "marie\n"
          ]
        }
      ]
    },
    {
      "cell_type": "markdown",
      "source": [
        "**Greetings:** Start with the list you used above, but instead of just\n",
        "\n",
        "printing each person’s name, print a message to them. The text of each mes-\n",
        "sage should be the same, but each message should be personalized with the\n",
        "\n",
        "person’s name."
      ],
      "metadata": {
        "id": "cLw1Z4EionJj"
      }
    },
    {
      "cell_type": "code",
      "source": [
        "names = [\"David\",\"adam\",\"smith\",\"marie\"]\n",
        "message = \"How are you doing today?\"\n",
        "print(\"Hello \" + names[0].title() + \", \" + message)\n",
        "print(\"Hello \" + names[1].title() + \", \" + message)\n",
        "print(\"Hello \" + names[2].title() + \", \" + message)\n",
        "print(\"Hello \" + names[3].title() + \", \" + message)"
      ],
      "metadata": {
        "colab": {
          "base_uri": "https://localhost:8080/"
        },
        "id": "F1XwxWwGou42",
        "outputId": "e4d35576-d506-4b18-da8e-cab90e380e4e"
      },
      "execution_count": 50,
      "outputs": [
        {
          "output_type": "stream",
          "name": "stdout",
          "text": [
            "Hello David, How are you doing today?\n",
            "Hello Adam, How are you doing today?\n",
            "Hello Smith, How are you doing today?\n",
            "Hello Marie, How are you doing today?\n"
          ]
        }
      ]
    },
    {
      "cell_type": "markdown",
      "source": [
        "**Your Own List:** Think of your favorite mode of transportation, such as a\n",
        "motorcycle or a car, and make a list that stores several examples. Use your list\n",
        "to print a series of statements about these items, such as “I would like to own a\n",
        "Honda motorcycle.”"
      ],
      "metadata": {
        "id": "HY0vU5eMpn6X"
      }
    },
    {
      "cell_type": "code",
      "source": [
        "cars = [\"Audi\",\"Ferrari\",\"Lamborghini\",\"Porsche\"]\n",
        "statement = \"I would like to own a \"\n",
        "\n",
        "print (statement + \" \" + cars[0].title())\n",
        "print (statement + \" \" + cars[1].title())\n",
        "print (statement + \" \" + cars[2].title())\n",
        "print (statement + \" \" + cars[3].title())\n"
      ],
      "metadata": {
        "colab": {
          "base_uri": "https://localhost:8080/"
        },
        "id": "7e34zqRsp6ea",
        "outputId": "23f5e9d9-c813-45fd-b2ac-3c7442f25b85"
      },
      "execution_count": 51,
      "outputs": [
        {
          "output_type": "stream",
          "name": "stdout",
          "text": [
            "I would like to own a  Audi\n",
            "I would like to own a  Ferrari\n",
            "I would like to own a  Lamborghini\n",
            "I would like to own a  Porsche\n"
          ]
        }
      ]
    },
    {
      "cell_type": "markdown",
      "source": [
        "***Changing, Adding, and Removing Elements***"
      ],
      "metadata": {
        "id": "tdqJPExYrHbn"
      }
    },
    {
      "cell_type": "markdown",
      "source": [
        "**Guest List:** If you could invite anyone, living or deceased, to dinner, who\n",
        "would you invite? Make a list that includes at least three people you’d like to\n",
        "invite to dinner. Then use your list to print a message to each person, inviting\n",
        "them to dinner."
      ],
      "metadata": {
        "id": "30UbBE1erkLD"
      }
    },
    {
      "cell_type": "code",
      "execution_count": 52,
      "metadata": {
        "colab": {
          "base_uri": "https://localhost:8080/"
        },
        "id": "Pa3bTZ77hFx0",
        "outputId": "fb05147b-9af8-4e8d-e1b2-c2505cba367f"
      },
      "outputs": [
        {
          "output_type": "stream",
          "name": "stdout",
          "text": [
            "Dear Albert Einstein,\n",
            "You are cordially invited to dinner at my place on Saturday night.\n",
            "Please let me know if you are able to attend.\n",
            "\n",
            "Best regards,\n",
            "Ayesha Younas\n",
            "\n",
            "Dear Nelson Mandela,\n",
            "You are cordially invited to dinner at my place on Saturday night.\n",
            "Please let me know if you are able to attend.\n",
            "\n",
            "Best regards,\n",
            "Ayesha Younas\n",
            "\n",
            "Dear Marie Curie,\n",
            "You are cordially invited to dinner at my place on Saturday night.\n",
            "Please let me know if you are able to attend.\n",
            "\n",
            "Best regards,\n",
            "Ayesha Younas\n",
            "\n"
          ]
        }
      ],
      "source": [
        "guest_list = ['Albert Einstein', 'Nelson Mandela', 'Marie Curie']\n",
        "\n",
        "invitation_message = \"Dear {},\\nYou are cordially invited to dinner at my place on Saturday night.\\nPlease let me know if you are able to attend.\\n\\nBest regards,\\nAyesha Younas\\n\"\n",
        "\n",
        "print(invitation_message.format(guest_list[0]))\n",
        "print(invitation_message.format(guest_list[1]))\n",
        "print(invitation_message.format(guest_list[2]))"
      ]
    },
    {
      "cell_type": "markdown",
      "source": [
        "**Changing Guest List:** You just heard that one of your guests can’t make the\n",
        "dinner, so you need to send out a new set of invitations. You’ll have to think of\n",
        "someone else to invite.\n",
        "• Start with your program Above. Add a print statement at the\n",
        "end of your program stating the name of the guest who can’t make it.\n",
        "• Modify your list, replacing the name of the guest who can’t make it with\n",
        "the name of the new person you are inviting.\n",
        "• Print a second set of invitation messages, one for each person who is still\n",
        "in your list."
      ],
      "metadata": {
        "id": "LInJbq-3rtfF"
      }
    },
    {
      "cell_type": "code",
      "source": [
        "cannot_attend =guest_list[1]\n",
        "print(cannot_attend + \" can't make it to the dinner\\n\")\n",
        "guest_list[1] = \"Steve jobs\"\n",
        "\n",
        "print( \"dear \" + guest_list[0] + \"\\nYou are cordially invited to my dinner party!\\n\")\n",
        "print( \"dear \" + guest_list[1] + \"\\nYou are cordially invited to my dinner party!\\n\")\n",
        "print( \"dear \" + guest_list[2] + \"\\nYou are cordially invited to my dinner party!\\n\")\n"
      ],
      "metadata": {
        "colab": {
          "base_uri": "https://localhost:8080/"
        },
        "id": "xJhohHtxr5Gi",
        "outputId": "2ce25075-38e0-4f81-b9bc-24f902f6de91"
      },
      "execution_count": 53,
      "outputs": [
        {
          "output_type": "stream",
          "name": "stdout",
          "text": [
            "Nelson Mandela can't make it to the dinner\n",
            "\n",
            "dear Albert Einstein\n",
            "You are cordially invited to my dinner party!\n",
            "\n",
            "dear Steve jobs\n",
            "You are cordially invited to my dinner party!\n",
            "\n",
            "dear Marie Curie\n",
            "You are cordially invited to my dinner party!\n",
            "\n"
          ]
        }
      ]
    },
    {
      "cell_type": "markdown",
      "source": [
        "**More Guests:** You just found a bigger dinner table, so now more space is\n",
        "available. Think of three more guests to invite to dinner.\n",
        "• Start with your programs above. Add a print\n",
        "statement to the end of your program informing people that you found a\n",
        "bigger dinner table.\n",
        "• Use insert() to add one new guest to the beginning of your list.\n",
        "• Use insert() to add one new guest to the middle of your list.\n",
        "• Use append() to add one new guest to the end of your list.\n",
        "• Print a new set of invitation messages, one for each person in your list."
      ],
      "metadata": {
        "id": "HZq3mISnu_c_"
      }
    },
    {
      "cell_type": "code",
      "source": [
        "print(\"Good news! I found a bigger dinner table!\\n\")\n",
        "guest_list.insert(0,\"Nikola Tesla\")\n",
        "guest_list.insert(2, 'Ada Lovelace')\n",
        "guest_list.append(\"Grace Hopper\")\n",
        "message = \"please join me for dinner at my place on Saturday.\"\n",
        "print(\"Dear \" + guest_list[0] + \", \" + message)\n",
        "print(\"Dear \" + guest_list[1] + \", \" + message)\n",
        "print(\"Dear \" + guest_list[2] + \", \" + message)\n",
        "print(\"Dear \" + guest_list[3] + \", \" + message)\n",
        "print(\"Dear \" + guest_list[4] + \", \" + message)\n",
        "print(\"Dear \" + guest_list[5] + \", \" + message)"
      ],
      "metadata": {
        "colab": {
          "base_uri": "https://localhost:8080/"
        },
        "id": "XfE69q5BvNxz",
        "outputId": "c54ed880-32e0-4e17-9dfa-8c69c474e345"
      },
      "execution_count": 54,
      "outputs": [
        {
          "output_type": "stream",
          "name": "stdout",
          "text": [
            "Good news! I found a bigger dinner table!\n",
            "\n",
            "Dear Nikola Tesla, please join me for dinner at my place on Saturday.\n",
            "Dear Albert Einstein, please join me for dinner at my place on Saturday.\n",
            "Dear Ada Lovelace, please join me for dinner at my place on Saturday.\n",
            "Dear Steve jobs, please join me for dinner at my place on Saturday.\n",
            "Dear Marie Curie, please join me for dinner at my place on Saturday.\n",
            "Dear Grace Hopper, please join me for dinner at my place on Saturday.\n"
          ]
        }
      ]
    },
    {
      "cell_type": "markdown",
      "source": [
        "**Shrinking Guest List:** You just found out that your new dinner table won’t\n",
        "arrive in time for the dinner, and you have space for only two guests.\n",
        "• Start with your program from Exercise 3-6. Add a new line that prints a\n",
        "message saying that you can invite only two people for dinner.\n",
        "\n",
        "• Use pop() to remove guests from your list one at a time until only two\n",
        "names remain in your list. Each time you pop a name from your list, print\n",
        "a message to that person letting them know you’re sorry you can’t invite\n",
        "them to dinner.\n",
        "\n",
        "• Print a message to each of the two people still on your list, letting them\n",
        "know they’re still invited.\n",
        "\n",
        "• Use del to remove the last two names from your list, so you have an empty\n",
        "list. Print your list to make sure you actually have an empty list at the end\n",
        "of your program."
      ],
      "metadata": {
        "id": "AEuqLXAvyUHW"
      }
    },
    {
      "cell_type": "code",
      "source": [
        "# Print message about table size\n",
        "print(\"Unfortunately, the new dinner table won't arrive in time, so we can only invite two guests.\")\n",
        "# Remove guests from the list using pop() and print apology message\n",
        "guest = guest_list.pop()\n",
        "print(\"Sorry, \" + guest + \", there isn't enough space for you at the dinner.\")\n",
        "\n",
        "guest = guest_list.pop()\n",
        "print(\"Sorry, \" + guest + \", there isn't enough space for you at the dinner.\")\n",
        "guest = guest_list.pop()\n",
        "print(\"Sorry, \" + guest + \", there isn't enough space for you at the dinner.\")\n",
        "\n",
        "guest = guest_list.pop()\n",
        "print(\"Sorry, \" + guest + \", there isn't enough space for you at the dinner.\")\n",
        "# Print invitation message to remaining guests\n",
        "print(guest_list[0] + \", you're still invited to the dinner!\")\n",
        "print(guest_list[1] + \", you're still invited to the dinner!\")\n"
      ],
      "metadata": {
        "colab": {
          "base_uri": "https://localhost:8080/"
        },
        "id": "aOqa5l8zyclT",
        "outputId": "1e1c3b63-d5a4-4f6b-972f-0fc5b08a3206"
      },
      "execution_count": 55,
      "outputs": [
        {
          "output_type": "stream",
          "name": "stdout",
          "text": [
            "Unfortunately, the new dinner table won't arrive in time, so we can only invite two guests.\n",
            "Sorry, Grace Hopper, there isn't enough space for you at the dinner.\n",
            "Sorry, Marie Curie, there isn't enough space for you at the dinner.\n",
            "Sorry, Steve jobs, there isn't enough space for you at the dinner.\n",
            "Sorry, Ada Lovelace, there isn't enough space for you at the dinner.\n",
            "Nikola Tesla, you're still invited to the dinner!\n",
            "Albert Einstein, you're still invited to the dinner!\n"
          ]
        }
      ]
    },
    {
      "cell_type": "code",
      "source": [
        "# Delete all remaining guests from the list\n",
        "del guest_list[0]\n",
        "del guest_list[0]\n",
        "# Print empty list to confirm\n",
        "print(guest_list)"
      ],
      "metadata": {
        "colab": {
          "base_uri": "https://localhost:8080/"
        },
        "id": "OejblXbkzhrQ",
        "outputId": "e5c98f1d-98dc-4e62-9db0-4b48fc3c30c4"
      },
      "execution_count": 56,
      "outputs": [
        {
          "output_type": "stream",
          "name": "stdout",
          "text": [
            "[]\n"
          ]
        }
      ]
    },
    {
      "cell_type": "markdown",
      "source": [
        "# **Organizing a List**"
      ],
      "metadata": {
        "id": "-n5NpPRv3lVJ"
      }
    },
    {
      "cell_type": "markdown",
      "source": [
        "**Seeing the World:** Think of at least five places in the world you’d like to\n",
        "visit.\n",
        "\n",
        "• Store the locations in a list. Make sure the list is not in alphabetical order.\n",
        "\n",
        "• Print your list in its original order. Don’t worry about printing the list neatly,\n",
        "\n",
        "just print it as a raw Python list.\n",
        "\n",
        "• Use sorted() to print your list in alphabetical order without modifying the\n",
        "actual list.\n",
        "\n",
        "• Show that your list is still in its original order by printing it.\n",
        "\n",
        "\n",
        "• Use sorted() to print your list in reverse alphabetical order without chang-\n",
        "ing the order of the original list.\n",
        "\n",
        "\n",
        "• Show that your list is still in its original order by printing it again.\n",
        "\n",
        "• Use reverse() to change the order of your list. Print the list to show that its\n",
        "order has changed.\n",
        "\n",
        "• Use reverse() to change the order of your list again. Print the list to show\n",
        "it’s back to its original order.\n",
        "\n",
        "• Use sort() to change your list so it’s stored in alphabetical order. Print the\n",
        "list to show that its order has been changed.\n",
        "\n",
        "• Use sort() to change your list so it’s stored in reverse alphabetical order.\n",
        "Print the list to show that its order has changed."
      ],
      "metadata": {
        "id": "tnHKkGKc3pCL"
      }
    },
    {
      "cell_type": "code",
      "source": [
        "locations = [\"Paris\", \"Rome\",\"Switzerland\",\"London\",\"South Island\"]\n",
        "print(\"Original order:\")\n",
        "print(locations)\n",
        "\n",
        "print(\"\\nAlphabetical:\")\n",
        "print(sorted(locations))\n",
        "\n",
        "print(\"\\nOriginal order:\")\n",
        "print(locations)\n",
        "\n",
        "print(\"\\nReverse alphabetical:\")\n",
        "print(sorted(locations, reverse=True))\n",
        "\n",
        "print(\"\\nOriginal order:\")\n",
        "print(locations)\n",
        "\n",
        "print(\"\\nReversed:\")\n",
        "locations.reverse()\n",
        "print(locations)\n",
        "\n",
        "print(\"\\nOriginal order:\")\n",
        "locations.reverse()\n",
        "print(locations)\n",
        "\n",
        "print(\"\\nAlphabetical\")\n",
        "locations.sort()\n",
        "print(locations)\n",
        "\n",
        "print(\"\\nReverse alphabetical\")\n",
        "locations.sort(reverse=True)\n",
        "print(locations)\n"
      ],
      "metadata": {
        "colab": {
          "base_uri": "https://localhost:8080/"
        },
        "id": "ousSBNAuyW34",
        "outputId": "95816e22-1bb5-493d-9410-3b7b95c7e747"
      },
      "execution_count": 75,
      "outputs": [
        {
          "output_type": "stream",
          "name": "stdout",
          "text": [
            "Original order:\n",
            "['Paris', 'Rome', 'Switzerland', 'London', 'South Island']\n",
            "\n",
            "Alphabetical:\n",
            "['London', 'Paris', 'Rome', 'South Island', 'Switzerland']\n",
            "\n",
            "Original order:\n",
            "['Paris', 'Rome', 'Switzerland', 'London', 'South Island']\n",
            "\n",
            "Reverse alphabetical:\n",
            "['Switzerland', 'South Island', 'Rome', 'Paris', 'London']\n",
            "\n",
            "Original order:\n",
            "['Paris', 'Rome', 'Switzerland', 'London', 'South Island']\n",
            "\n",
            "Reversed:\n",
            "['South Island', 'London', 'Switzerland', 'Rome', 'Paris']\n",
            "\n",
            "Original order:\n",
            "['Paris', 'Rome', 'Switzerland', 'London', 'South Island']\n",
            "\n",
            "Alphabetical\n",
            "['London', 'Paris', 'Rome', 'South Island', 'Switzerland']\n",
            "\n",
            "Reverse alphabetical\n",
            "['Switzerland', 'South Island', 'Rome', 'Paris', 'London']\n"
          ]
        }
      ]
    },
    {
      "cell_type": "markdown",
      "source": [
        "**Dinner Guests:** Working with one of the programs from guest lists, use len() to print a message indicating the number\n",
        "of people you are inviting to dinner."
      ],
      "metadata": {
        "id": "aw9ljhro9MyG"
      }
    },
    {
      "cell_type": "code",
      "source": [
        "guest_list= [\"Nikola Tesla\",\"Albert Einstein\"]\n",
        "\n",
        "count_invitations = len(guest_list)\n",
        "\n",
        "print(\"{} people will come to my dinner party\".format(count_invitations))"
      ],
      "metadata": {
        "colab": {
          "base_uri": "https://localhost:8080/"
        },
        "id": "nTKECfFZ9fYS",
        "outputId": "bc608f20-dfd2-4c07-cbda-59b133d079a5"
      },
      "execution_count": 77,
      "outputs": [
        {
          "output_type": "stream",
          "name": "stdout",
          "text": [
            "2 people will come to my dinner party\n"
          ]
        }
      ]
    },
    {
      "cell_type": "markdown",
      "source": [
        "**Every Function:** Think of something you could store in a list. For example,\n",
        "\n",
        "you could make a list of mountains, rivers, countries, cities, languages, or any-\n",
        "thing else you’d like. Write a program that creates a list containing these items\n",
        "\n",
        "and then uses each function introduced in this chapter at least once."
      ],
      "metadata": {
        "id": "G0-0LYz5-bMW"
      }
    },
    {
      "cell_type": "code",
      "source": [
        "# Create a list of fruits\n",
        "fruits = ['apple', 'banana', 'orange', 'kiwi', 'mango']\n",
        "\n",
        "# Print the list\n",
        "print(\"Original list:\")\n",
        "print(fruits)\n",
        "\n",
        "# Use the append() function to add a new fruit to the end of the list\n",
        "fruits.append('strawberry')\n",
        "print(\"\\nAfter appending 'strawberry':\")\n",
        "print(fruits)\n",
        "\n",
        "# Use the insert() function to add a new fruit at a specific position\n",
        "fruits.insert(2, 'grape')\n",
        "print(\"\\nAfter inserting 'grape' at position 2:\")\n",
        "print(fruits)\n",
        "\n",
        "# Use the remove() function to remove a fruit from the list\n",
        "fruits.remove('kiwi')\n",
        "print(\"\\nAfter removing 'kiwi':\")\n",
        "print(fruits)\n",
        "\n",
        "# Use the pop() function to remove and return the last fruit in the list\n",
        "last_fruit = fruits.pop()\n",
        "print(\"\\nRemoved the last fruit, which was\", last_fruit)\n",
        "print(fruits)\n",
        "\n",
        "# Use the index() function to find the index of a specific fruit in the list\n",
        "index_of_banana = fruits.index('banana')\n",
        "print(\"\\nThe index of 'banana' is\", index_of_banana)\n",
        "print(fruits)\n",
        "\n",
        "# Use the sort() function to sort the list in alphabetical order\n",
        "fruits.sort()\n",
        "print(\"\\nAfter sorting the list:\")\n",
        "print(fruits)\n",
        "\n",
        "# Use the reverse() function to reverse the order of the list\n",
        "fruits.reverse()\n",
        "print(\"\\nAfter reversing the list:\")\n",
        "print(fruits)\n",
        "\n",
        "# Use the len() function to find the length of the list\n",
        "num_fruits = len(fruits)\n",
        "print(\"\\nThere are\", num_fruits, \"fruits in the list\")\n",
        "print(fruits)"
      ],
      "metadata": {
        "colab": {
          "base_uri": "https://localhost:8080/"
        },
        "id": "VhORqdbLfiJz",
        "outputId": "d54c5a40-f063-48be-a08b-2c1ac3d629e7"
      },
      "execution_count": 115,
      "outputs": [
        {
          "output_type": "stream",
          "name": "stdout",
          "text": [
            "Original list:\n",
            "['apple', 'banana', 'orange', 'kiwi', 'mango']\n",
            "\n",
            "After appending 'strawberry':\n",
            "['apple', 'banana', 'orange', 'kiwi', 'mango', 'strawberry']\n",
            "\n",
            "After inserting 'grape' at position 2:\n",
            "['apple', 'banana', 'grape', 'orange', 'kiwi', 'mango', 'strawberry']\n",
            "\n",
            "After removing 'kiwi':\n",
            "['apple', 'banana', 'grape', 'orange', 'mango', 'strawberry']\n",
            "\n",
            "Removed the last fruit, which was strawberry\n",
            "['apple', 'banana', 'grape', 'orange', 'mango']\n",
            "\n",
            "The index of 'banana' is 1\n",
            "['apple', 'banana', 'grape', 'orange', 'mango']\n",
            "\n",
            "After sorting the list:\n",
            "['apple', 'banana', 'grape', 'mango', 'orange']\n",
            "\n",
            "After reversing the list:\n",
            "['orange', 'mango', 'grape', 'banana', 'apple']\n",
            "\n",
            "There are 5 fruits in the list\n",
            "['orange', 'mango', 'grape', 'banana', 'apple']\n"
          ]
        }
      ]
    },
    {
      "cell_type": "markdown",
      "source": [
        "**Intentional Error:** If you haven’t received an index error in one of your\n",
        "\n",
        "programs yet, try to make one happen. Change an index in one of your pro-\n",
        "grams to produce an index error. Make sure you correct the error before clos-\n",
        "ing the program."
      ],
      "metadata": {
        "id": "ckD-RKAlAk1R"
      }
    },
    {
      "cell_type": "code",
      "source": [
        "guest_list= [\"Nikola Tesla\",\"Albert Einstein\"]\n",
        "print(guest_list[2])"
      ],
      "metadata": {
        "colab": {
          "base_uri": "https://localhost:8080/",
          "height": 183
        },
        "id": "At33z0cU-fZT",
        "outputId": "47ae390d-e37b-4483-b424-704a4773a181"
      },
      "execution_count": 78,
      "outputs": [
        {
          "output_type": "error",
          "ename": "IndexError",
          "evalue": "ignored",
          "traceback": [
            "\u001b[0;31m---------------------------------------------------------------------------\u001b[0m",
            "\u001b[0;31mIndexError\u001b[0m                                Traceback (most recent call last)",
            "\u001b[0;32m<ipython-input-78-c96aa055d78e>\u001b[0m in \u001b[0;36m<module>\u001b[0;34m\u001b[0m\n\u001b[1;32m      1\u001b[0m \u001b[0mguest_list\u001b[0m\u001b[0;34m=\u001b[0m \u001b[0;34m[\u001b[0m\u001b[0;34m\"Nikola Tesla\"\u001b[0m\u001b[0;34m,\u001b[0m\u001b[0;34m\"Albert Einstein\"\u001b[0m\u001b[0;34m]\u001b[0m\u001b[0;34m\u001b[0m\u001b[0;34m\u001b[0m\u001b[0m\n\u001b[0;32m----> 2\u001b[0;31m \u001b[0mprint\u001b[0m\u001b[0;34m(\u001b[0m\u001b[0mguest_list\u001b[0m\u001b[0;34m[\u001b[0m\u001b[0;36m2\u001b[0m\u001b[0;34m]\u001b[0m\u001b[0;34m)\u001b[0m\u001b[0;34m\u001b[0m\u001b[0;34m\u001b[0m\u001b[0m\n\u001b[0m",
            "\u001b[0;31mIndexError\u001b[0m: list index out of range"
          ]
        }
      ]
    },
    {
      "cell_type": "code",
      "source": [
        "print(guest_list[-1])"
      ],
      "metadata": {
        "colab": {
          "base_uri": "https://localhost:8080/"
        },
        "id": "0HCJfoXeAy1W",
        "outputId": "dca9c397-b5ef-42b2-d8ad-9cc78f2b20bb"
      },
      "execution_count": 79,
      "outputs": [
        {
          "output_type": "stream",
          "name": "stdout",
          "text": [
            "Albert Einstein\n"
          ]
        }
      ]
    },
    {
      "cell_type": "markdown",
      "source": [
        "# ***Working with Lists***"
      ],
      "metadata": {
        "id": "k1tcjKz9BJPY"
      }
    },
    {
      "cell_type": "markdown",
      "source": [
        "**Looping Through an Entire List**"
      ],
      "metadata": {
        "id": "Rd4aGRaRH-oK"
      }
    },
    {
      "cell_type": "markdown",
      "source": [
        "**Pizzas:** Think of at least three kinds of your favorite pizza. Store these\n",
        "pizza names in a list, and then use a for loop to print the name of each pizza.\n",
        "\n",
        "• Modify your for loop to print a sentence using the name of the pizza\n",
        "instead of printing just the name of the pizza. For each pizza you should\n",
        "have one line of output containing a simple statement like I like pepperoni\n",
        "pizza.\n",
        "\n",
        "• Add a line at the end of your program, outside the for loop, that states\n",
        "how much you like pizza. The output should consist of three or more lines\n",
        "about the kinds of pizza you like and then an additional sentence, such as\n",
        "I really love pizza!"
      ],
      "metadata": {
        "id": "iHsY1da3IAty"
      }
    },
    {
      "cell_type": "code",
      "source": [
        "# List of favorite pizzas\n",
        "pizzas = ['Margherita', 'Pepperoni', 'Hawaiian']\n",
        "\n",
        "# Printing pizza names using for loop\n",
        "print(\"My favorite pizzas are:\")\n",
        "for pizza in pizzas:\n",
        "    print(pizza)\n",
        "\n",
        "# Printing a sentence about each pizza\n",
        "print(\"\\nI really like:\")\n",
        "for pizza in pizzas:\n",
        "    print(\"I like\", pizza, \"pizza.\")\n",
        "\n",
        "# Statement about how much I like pizza\n",
        "print(\"\\nPizza is one of my favorite foods. I love trying out different toppings and crusts. I could eat pizza every day!\")"
      ],
      "metadata": {
        "colab": {
          "base_uri": "https://localhost:8080/"
        },
        "id": "Y_9FpLN4H8ZR",
        "outputId": "67e5067d-76ca-4390-ed45-8185714e32b0"
      },
      "execution_count": 82,
      "outputs": [
        {
          "output_type": "stream",
          "name": "stdout",
          "text": [
            "My favorite pizzas are:\n",
            "Margherita\n",
            "Pepperoni\n",
            "Hawaiian\n",
            "\n",
            "I really like:\n",
            "I like Margherita pizza.\n",
            "I like Pepperoni pizza.\n",
            "I like Hawaiian pizza.\n",
            "\n",
            "Pizza is one of my favorite foods. I love trying out different toppings and crusts. I could eat pizza every day!\n"
          ]
        }
      ]
    },
    {
      "cell_type": "markdown",
      "source": [
        "**Animals:** Think of at least three different animals that have a common char-\n",
        "acteristic. Store the names of these animals in a list, and then use a for loop to\n",
        "\n",
        "print out the name of each animal.\n",
        "• Modify your program to print a statement about each animal, such as\n",
        "A dog would make a great pet.\n",
        "• Add a line at the end of your program stating what these animals have in\n",
        "common. You could print a sentence such as Any of these animals would\n",
        "make a great pet!"
      ],
      "metadata": {
        "id": "44XiTPisK3TD"
      }
    },
    {
      "cell_type": "code",
      "source": [
        "# List of animals with a common characteristic\n",
        "animals = ['dog', 'cat', 'rabbit']\n",
        "\n",
        "# Printing animal names using for loop\n",
        "print(\"These are some animals with a common characteristic:\")\n",
        "for animal in animals:\n",
        "    print(animal)\n",
        "\n",
        "# Printing a statement about each animal\n",
        "print(\"\\nThese animals would make great pets:\")\n",
        "for animal in animals:\n",
        "    print(\"A\", animal, \"would make a great pet.\")\n",
        "\n",
        "# Statement about what these animals have in common\n",
        "print(\"\\nAll of these animals are popular choices for pets. They are known for their cute and cuddly nature, and are often great companions for humans!\") "
      ],
      "metadata": {
        "colab": {
          "base_uri": "https://localhost:8080/"
        },
        "id": "D_76LhydK6RO",
        "outputId": "d9fe3c7c-917c-4467-d121-b8084d64768f"
      },
      "execution_count": 83,
      "outputs": [
        {
          "output_type": "stream",
          "name": "stdout",
          "text": [
            "These are some animals with a common characteristic:\n",
            "dog\n",
            "cat\n",
            "rabbit\n",
            "\n",
            "These animals would make great pets:\n",
            "A dog would make a great pet.\n",
            "A cat would make a great pet.\n",
            "A rabbit would make a great pet.\n",
            "\n",
            "All of these animals are popular choices for pets. They are known for their cute and cuddly nature, and are often great companions for humans!\n"
          ]
        }
      ]
    },
    {
      "cell_type": "markdown",
      "source": [
        "# ***Making Numerical Lists***"
      ],
      "metadata": {
        "id": "euHmtkLuMrBr"
      }
    },
    {
      "cell_type": "markdown",
      "source": [
        "**Counting to Twenty:** Use a for loop to print the numbers from 1 to 20,\n",
        "inclusive."
      ],
      "metadata": {
        "id": "OQWuVuunMtXV"
      }
    },
    {
      "cell_type": "code",
      "source": [
        "for number in range(1,21):\n",
        "  print(number)"
      ],
      "metadata": {
        "colab": {
          "base_uri": "https://localhost:8080/"
        },
        "id": "lPITWNLBM6um",
        "outputId": "020ff6c3-1a5b-423e-f542-6acac4b18c9b"
      },
      "execution_count": 85,
      "outputs": [
        {
          "output_type": "stream",
          "name": "stdout",
          "text": [
            "1\n",
            "2\n",
            "3\n",
            "4\n",
            "5\n",
            "6\n",
            "7\n",
            "8\n",
            "9\n",
            "10\n",
            "11\n",
            "12\n",
            "13\n",
            "14\n",
            "15\n",
            "16\n",
            "17\n",
            "18\n",
            "19\n",
            "20\n"
          ]
        }
      ]
    },
    {
      "cell_type": "markdown",
      "source": [
        "**One Million:** Make a list of the numbers from one to one million, and then\n",
        "use a for loop to print the numbers. (If the output is taking too long, stop it by\n",
        "pressing ctrl-C or by closing the output window.)"
      ],
      "metadata": {
        "id": "iNzCQPtRNZnj"
      }
    },
    {
      "cell_type": "code",
      "source": [
        "numbers = list(range(1,1000001))\n",
        "print(numbers)"
      ],
      "metadata": {
        "colab": {
          "base_uri": "https://localhost:8080/"
        },
        "id": "x71mYcs4NdNV",
        "outputId": "35ab25cb-0bda-47ef-910f-98949a0505e8"
      },
      "execution_count": 93,
      "outputs": [
        {
          "output_type": "stream",
          "name": "stderr",
          "text": [
            "IOPub data rate exceeded.\n",
            "The notebook server will temporarily stop sending output\n",
            "to the client in order to avoid crashing it.\n",
            "To change this limit, set the config variable\n",
            "`--NotebookApp.iopub_data_rate_limit`.\n",
            "\n",
            "Current values:\n",
            "NotebookApp.iopub_data_rate_limit=1000000.0 (bytes/sec)\n",
            "NotebookApp.rate_limit_window=3.0 (secs)\n",
            "\n"
          ]
        }
      ]
    },
    {
      "cell_type": "markdown",
      "source": [
        "**Summing a Million:** Make a list of the numbers from one to one million,\n",
        "and then use min() and max() to make sure your list actually starts at one and\n",
        "ends at one million. Also, use the sum() function to see how quickly Python can\n",
        "add a million numbers."
      ],
      "metadata": {
        "id": "Ty-RzXkeOGp1"
      }
    },
    {
      "cell_type": "code",
      "source": [
        "numbers = list(range(1,100001))\n",
        "print(min(numbers))\n",
        "print(max(numbers))\n",
        "sum(numbers)"
      ],
      "metadata": {
        "colab": {
          "base_uri": "https://localhost:8080/"
        },
        "id": "V1CRB3QROJYg",
        "outputId": "ae11bbef-1873-4044-d599-66aff9f5d912"
      },
      "execution_count": 91,
      "outputs": [
        {
          "output_type": "stream",
          "name": "stdout",
          "text": [
            "1\n",
            "100000\n"
          ]
        },
        {
          "output_type": "execute_result",
          "data": {
            "text/plain": [
              "5000050000"
            ]
          },
          "metadata": {},
          "execution_count": 91
        }
      ]
    },
    {
      "cell_type": "markdown",
      "source": [
        "**Odd Numbers:** Use the third argument of the range() function to make a list\n",
        "of the odd numbers from 1 to 20. Use a for loop to print each number."
      ],
      "metadata": {
        "id": "g0CyJRVAMyiF"
      }
    },
    {
      "cell_type": "code",
      "source": [
        "odd_numbers = list(range(1,20,2))\n",
        "print(\"Odd numbers upto 20 are: \" + str(odd_numbers))"
      ],
      "metadata": {
        "colab": {
          "base_uri": "https://localhost:8080/"
        },
        "id": "hxJ4hjLzP4BM",
        "outputId": "64c99836-f08e-4409-cf98-98a5cae8f605"
      },
      "execution_count": 95,
      "outputs": [
        {
          "output_type": "stream",
          "name": "stdout",
          "text": [
            "Odd numbers upto 20 are: [1, 3, 5, 7, 9, 11, 13, 15, 17, 19]\n"
          ]
        }
      ]
    },
    {
      "cell_type": "markdown",
      "source": [
        "**Threes:** Make a list of the multiples of 3 from 3 to 30. Use a for loop to\n",
        "print the numbers in your list."
      ],
      "metadata": {
        "id": "3Lt1ktHrQaYi"
      }
    },
    {
      "cell_type": "code",
      "source": [
        "multiples = list(range(3,31,3))\n",
        "print(\"multiples of 3 are \" + str(multiples))"
      ],
      "metadata": {
        "colab": {
          "base_uri": "https://localhost:8080/"
        },
        "id": "q8g8m05OQcVs",
        "outputId": "ef540074-1a40-4e74-db96-dc601bb7ba9b"
      },
      "execution_count": 98,
      "outputs": [
        {
          "output_type": "stream",
          "name": "stdout",
          "text": [
            "multiples of 3 are [3, 6, 9, 12, 15, 18, 21, 24, 27, 30]\n"
          ]
        }
      ]
    },
    {
      "cell_type": "markdown",
      "source": [
        "**Cubes:** A number raised to the third power is called a cube. For example,\n",
        "the cube of 2 is written as 2**3 in Python. Make a list of the first 10 cubes (that\n",
        "is, the cube of each integer from 1 through 10), and use a for loop to print out\n",
        "the value of each cube."
      ],
      "metadata": {
        "id": "Pr7XIvL3Q7fb"
      }
    },
    {
      "cell_type": "code",
      "source": [
        "numbers = list(range(1,11))\n",
        "# Printing the value of each cube using for loop\n",
        "print(\"The first 10 cubes are:\")\n",
        "for number in numbers:\n",
        "  print(number**3)"
      ],
      "metadata": {
        "colab": {
          "base_uri": "https://localhost:8080/"
        },
        "id": "EEcgSJ2_Q-FT",
        "outputId": "0bc84dea-e6b1-44ec-fad9-95fcb4ef10c3"
      },
      "execution_count": 100,
      "outputs": [
        {
          "output_type": "stream",
          "name": "stdout",
          "text": [
            "The first 10 cubes are:\n",
            "1\n",
            "8\n",
            "27\n",
            "64\n",
            "125\n",
            "216\n",
            "343\n",
            "512\n",
            "729\n",
            "1000\n"
          ]
        }
      ]
    },
    {
      "cell_type": "markdown",
      "source": [
        "**Cube Comprehension:** Use a list comprehension to generate a list of the\n",
        "first 10 cubes."
      ],
      "metadata": {
        "id": "f20BZDrHSEdB"
      }
    },
    {
      "cell_type": "code",
      "source": [
        "cubes = [number**3 for number in range(1,11)]\n",
        "print(\"The cubes for first 10 numbers are:\")\n",
        "print(cubes)"
      ],
      "metadata": {
        "colab": {
          "base_uri": "https://localhost:8080/"
        },
        "id": "yeXbP-OjSGqy",
        "outputId": "4bdb63f3-1b87-4cff-ac7c-15ecb5c023db"
      },
      "execution_count": 102,
      "outputs": [
        {
          "output_type": "stream",
          "name": "stdout",
          "text": [
            "The cubes for first 10 numbers are:\n",
            "[1, 8, 27, 64, 125, 216, 343, 512, 729, 1000]\n"
          ]
        }
      ]
    },
    {
      "cell_type": "markdown",
      "source": [
        "# ***Working with Part of a List***"
      ],
      "metadata": {
        "id": "y1ggDwcAT8UD"
      }
    },
    {
      "cell_type": "markdown",
      "source": [
        "**Slices:** Using one of the programs you wrote in this chapter, add several\n",
        "lines to the end of the program that do the following:\n",
        "\n",
        "**•** Print the message, The first three items in the list are:. Then use a slice to\n",
        "print the first three items from that program’s list.\n",
        "\n",
        "**•** Print the message, Three items from the middle of the list are:. Use a slice\n",
        "to print three items from the middle of the list.\n",
        "\n",
        "**•** Print the message, The last three items in the list are:. Use a slice to print\n",
        "the last three items in the list."
      ],
      "metadata": {
        "id": "WWYNeXiFUG3d"
      }
    },
    {
      "cell_type": "code",
      "source": [
        "numbers = list(range(1,10))\n",
        "# Slices to print the first three, middle three, and last three items\n",
        "first_elements = (numbers[:3])\n",
        "print(\"The first three items in the list are:\")\n",
        "print(first_elements)\n",
        "\n",
        "middle_elements = (numbers[3:-3])\n",
        "print(\"The middle three items in the list are:\")\n",
        "print(middle_elements)\n",
        "\n",
        "last_elements = (numbers[-3:])\n",
        "print(\"The last three items in the list are:\")\n",
        "print(last_elements)"
      ],
      "metadata": {
        "colab": {
          "base_uri": "https://localhost:8080/"
        },
        "id": "12E7JAVLUJ-2",
        "outputId": "c29fae83-3ad5-4b89-c59d-208fe5aa9f50"
      },
      "execution_count": 110,
      "outputs": [
        {
          "output_type": "stream",
          "name": "stdout",
          "text": [
            "The first three items in the list are:\n",
            "[1, 2, 3]\n",
            "The middle three items in the list are:\n",
            "[4, 5, 6]\n",
            "The last three items in the list are:\n",
            "[7, 8, 9]\n"
          ]
        }
      ]
    },
    {
      "cell_type": "markdown",
      "source": [
        "**My Pizzas, Your Pizzas:** Start with your program from above. Make a copy of the list of pizzas, and call it friend_pizzas.\n",
        "Then, do the following:\n",
        "\n",
        "• Add a new pizza to the original list.\n",
        "\n",
        "• Add a different pizza to the list friend_pizzas.\n",
        "\n",
        "• Prove that you have two separate lists. Print the message, My favorite\n",
        "pizzas are:, and then use a for loop to print the first list. Print the message,\n",
        "\n",
        "My friend’s favorite pizzas are:, and then use a for loop to print the sec-\n",
        "ond list. Make sure each new pizza is stored in the appropriate list."
      ],
      "metadata": {
        "id": "eZIBseOaXboj"
      }
    },
    {
      "cell_type": "code",
      "source": [
        "# Original list of my favorite pizzas\n",
        "my_pizzas = ['Pepperoni', 'Margherita', 'Meat Lovers']\n",
        "\n",
        "# Making a copy of the list for friend's pizzas\n",
        "friend_pizzas = my_pizzas.copy()\n",
        "\n",
        "# Adding a new pizza to my list\n",
        "my_pizzas.append('Hawaiian')\n",
        "\n",
        "# Adding a different pizza to friend's list\n",
        "friend_pizzas.append('Vegetarian')\n",
        "\n",
        "# Printing both lists separately using for loops\n",
        "print(\"My favorite pizzas are:\")\n",
        "for pizza in my_pizzas:\n",
        "    print(pizza)\n",
        "\n",
        "print(\"\\nMy friend's favorite pizzas are:\")\n",
        "for pizza in friend_pizzas:\n",
        "    print(pizza)"
      ],
      "metadata": {
        "colab": {
          "base_uri": "https://localhost:8080/"
        },
        "id": "zFkTzjRQXqKV",
        "outputId": "5145201c-bb8f-4b6f-d47b-e8fbc24a566f"
      },
      "execution_count": 111,
      "outputs": [
        {
          "output_type": "stream",
          "name": "stdout",
          "text": [
            "My favorite pizzas are:\n",
            "Pepperoni\n",
            "Margherita\n",
            "Meat Lovers\n",
            "Hawaiian\n",
            "\n",
            "My friend's favorite pizzas are:\n",
            "Pepperoni\n",
            "Margherita\n",
            "Meat Lovers\n",
            "Vegetarian\n"
          ]
        }
      ]
    },
    {
      "cell_type": "markdown",
      "source": [
        "**More Loops:** All versions of foods.py in this section have avoided using\n",
        "for loops when printing to save space. Choose a version of foods.py, and\n",
        "write two for loops to print each list of foods."
      ],
      "metadata": {
        "id": "t2zWIp66YDp_"
      }
    },
    {
      "cell_type": "code",
      "source": [
        "my_foods = ['pizza', 'falafel', 'carrot cake']\n",
        "friend_foods = my_foods[:]\n",
        "\n",
        "# Printing my favorite foods using a for loop\n",
        "print(\"My favorite foods are:\")\n",
        "for food in my_foods:\n",
        "    print(\"- \" + food)\n",
        "\n",
        "# Printing friend's favorite foods using a for loop\n",
        "print(\"\\nMy friend's favorite foods are:\")\n",
        "for food in friend_foods:\n",
        "    print(\"- \" + food)"
      ],
      "metadata": {
        "colab": {
          "base_uri": "https://localhost:8080/"
        },
        "id": "LYPqQFoEYyRh",
        "outputId": "f42db750-a502-4224-af71-331a03a96b6d"
      },
      "execution_count": 112,
      "outputs": [
        {
          "output_type": "stream",
          "name": "stdout",
          "text": [
            "My favorite foods are:\n",
            "- pizza\n",
            "- falafel\n",
            "- carrot cake\n",
            "\n",
            "My friend's favorite foods are:\n",
            "- pizza\n",
            "- falafel\n",
            "- carrot cake\n"
          ]
        }
      ]
    },
    {
      "cell_type": "markdown",
      "source": [
        "**Buffet:** A buffet-style restaurant offers only five basic foods. Think of five\n",
        "simple foods, and store them in a tuple.\n",
        "\n",
        "• Use a for loop to print each food the restaurant offers.\n",
        "\n",
        "• Try to modify one of the items, and make sure that Python rejects the\n",
        "change.\n",
        "\n",
        "• The restaurant changes its menu, replacing two of the items with different\n",
        "foods. Add a block of code that rewrites the tuple, and then use a for\n",
        "loop to print each of the items on the revised menu."
      ],
      "metadata": {
        "id": "4gpzo-4caDEr"
      }
    },
    {
      "cell_type": "code",
      "source": [
        "# Defining a tuple of five basic foods\n",
        "menu = ('bread', 'rice', 'salad', 'soup', 'chicken')\n",
        "\n",
        "# Printing each food using a for loop\n",
        "print(\"Our restaurant offers the following foods:\")\n",
        "for food in menu:\n",
        "    print(\"- \" + food)\n",
        "\n",
        "# Trying to modify an item in the tuple (Python should reject this)\n",
        "# Uncomment the following line to see the error\n",
        "# menu[0] = 'pasta'\n",
        "\n",
        "# Updating the tuple with new foods\n",
        "menu = ('pasta', 'rice', 'fries', 'soup', 'beef')\n",
        "\n",
        "# Printing the updated menu using a for loop\n",
        "print(\"\\nOur revised menu includes the following foods:\")\n",
        "for food in menu:\n",
        "    print(\"- \" + food)"
      ],
      "metadata": {
        "colab": {
          "base_uri": "https://localhost:8080/"
        },
        "id": "D0wBaKHyaJ5e",
        "outputId": "a9a5a1a1-1c5e-432c-eb49-568b5a972491"
      },
      "execution_count": 114,
      "outputs": [
        {
          "output_type": "stream",
          "name": "stdout",
          "text": [
            "Our restaurant offers the following foods:\n",
            "- bread\n",
            "- rice\n",
            "- salad\n",
            "- soup\n",
            "- chicken\n",
            "\n",
            "Our revised menu includes the following foods:\n",
            "- pasta\n",
            "- rice\n",
            "- fries\n",
            "- soup\n",
            "- beef\n"
          ]
        }
      ]
    }
  ]
}