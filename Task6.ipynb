{
  "nbformat": 4,
  "nbformat_minor": 0,
  "metadata": {
    "colab": {
      "provenance": [],
      "authorship_tag": "ABX9TyN61cyavp0cRKzt/l19YoXy",
      "include_colab_link": true
    },
    "kernelspec": {
      "name": "python3",
      "display_name": "Python 3"
    },
    "language_info": {
      "name": "python"
    }
  },
  "cells": [
    {
      "cell_type": "markdown",
      "metadata": {
        "id": "view-in-github",
        "colab_type": "text"
      },
      "source": [
        "<a href=\"https://colab.research.google.com/github/ayesha-119/Deep-Learning-BWF/blob/master/Task6.ipynb\" target=\"_parent\"><img src=\"https://colab.research.google.com/assets/colab-badge.svg\" alt=\"Open In Colab\"/></a>"
      ]
    },
    {
      "cell_type": "markdown",
      "source": [
        "# ***Task 6:***\n",
        "\n",
        "**Topics:** Dictionaries in Python, Keys, Values, Dictionary Methods, Adding, Removing, Changing items\n",
        "\n",
        "Resource: https://drive.google.com/file/d/12HEIuGU0NRgJutUQkMUhGKo-Nr_YWYdq/view?usp=share_link\n"
      ],
      "metadata": {
        "id": "D-KsqYCnIA15"
      }
    },
    {
      "cell_type": "markdown",
      "source": [
        "# **Dictionaries:**"
      ],
      "metadata": {
        "id": "rDjrNim1IYUn"
      }
    },
    {
      "cell_type": "markdown",
      "source": [
        "**Person:**Use a dictionary to store information about a person you know.\n",
        "Store their first name, last name, age, and the city in which they live. You\n",
        "should have keys such as first_name, last_name, age, and city. Print each\n",
        "piece of information stored in your dictionary."
      ],
      "metadata": {
        "id": "XCqqJLAiIdo8"
      }
    },
    {
      "cell_type": "code",
      "source": [
        "person = {\n",
        "    ' first_name': 'Ayesha',\n",
        "    'last_name' : 'Younas',\n",
        "    'age' : 24 ,\n",
        "    'city' : 'faislabad'\n",
        "    }\n",
        "person"
      ],
      "metadata": {
        "colab": {
          "base_uri": "https://localhost:8080/"
        },
        "id": "ABM2MiBPIkCt",
        "outputId": "fc554b47-18b2-4f97-b7aa-cf46bde640bd"
      },
      "execution_count": 1,
      "outputs": [
        {
          "output_type": "execute_result",
          "data": {
            "text/plain": [
              "{' first_name': 'Ayesha',\n",
              " 'last_name': 'Younas',\n",
              " 'age': 24,\n",
              " 'city': 'faislabad'}"
            ]
          },
          "metadata": {},
          "execution_count": 1
        }
      ]
    },
    {
      "cell_type": "markdown",
      "source": [
        "**Favorite Numbers:** Use a dictionary to store people’s favorite numbers.\n",
        "Think of five names, and use them as keys in your dictionary. Think of a favorite\n",
        "number for each person, and store each as a value in your dictionary. Print\n",
        "each person’s name and their favorite number. For even more fun, poll a few\n",
        "friends and get some actual data for your program."
      ],
      "metadata": {
        "id": "zuAq4TFxJ6UW"
      }
    },
    {
      "cell_type": "code",
      "execution_count": 7,
      "metadata": {
        "id": "j33C2_AnBsqZ",
        "colab": {
          "base_uri": "https://localhost:8080/"
        },
        "outputId": "7db58ac9-2cc7-414c-cb93-9cfaab5cef24"
      },
      "outputs": [
        {
          "output_type": "stream",
          "name": "stdout",
          "text": [
            "{'adam': 7, 'lisa': 3, 'joseph': 6, 'marie': 4, 'steve': 9}\n",
            "Please enter your name? Ayesha\n",
            "what's your favourite number? 7\n",
            "{'adam': 7, 'lisa': 3, 'joseph': 6, 'marie': 4, 'steve': 9, 'Ayesha': '7'}\n"
          ]
        }
      ],
      "source": [
        "favourite_numbers = {\n",
        "    'adam' : 7,\n",
        "    'lisa' : 3,\n",
        "    'joseph' : 6,\n",
        "    'marie' : 4,\n",
        "    'steve' : 9,\n",
        "}\n",
        "print(favourite_numbers)\n",
        "name = input(\"Please enter your name? \")\n",
        "number = input(\"what's your favourite number? \")\n",
        "\n",
        "favourite_numbers[name] = number\n",
        "print(favourite_numbers)"
      ]
    },
    {
      "cell_type": "markdown",
      "source": [
        "**Glossary:** A Python dictionary can be used to model an actual dictionary.\n",
        "However, to avoid confusion, let’s call it a glossary.\n",
        "\n",
        "**•** Think of five programming words you’ve learned about in the previous\n",
        "chapters. Use these words as the keys in your glossary, and store their\n",
        "meanings as values.\n",
        "\n",
        "**•** Print each word and its meaning as neatly formatted output. You might\n",
        "print the word followed by a colon and then its meaning, or print the word\n",
        "on one line and then print its meaning indented on a second line. Use the\n",
        "newline character (\\n) to insert a blank line between each word-meaning\n",
        "pair in your output."
      ],
      "metadata": {
        "id": "yOol1kwpMNYX"
      }
    },
    {
      "cell_type": "code",
      "source": [
        "glossary = {\n",
        "    'variable': 'a name that refers to a value',\n",
        "    'function': 'a block of code that can be called repeatedly',\n",
        "    'loop': 'a way to repeat a block of code multiple times',\n",
        "    'list': 'a collection of values that can be accessed by index',\n",
        "    'dictionary': 'a collection of key-value pairs'\n",
        "\n",
        "}\n",
        "print(\"variable: \" + \"\\n\\t\" + glossary['variable'] + \"\\n\")\n",
        "print(\"function: \" + \"\\n\\t\" + glossary['function'] + \"\\n\")\n",
        "print(\"loop: \" + \"\\n\\t\" + glossary['loop'] + \"\\n\")\n",
        "print(\"list: \" + \"\\n\\t\" + glossary['list'] + \"\\n\")\n",
        "print(\"dictionary: \" + \"\\n\\t\" + glossary['dictionary'] + \"\\n\")\n"
      ],
      "metadata": {
        "colab": {
          "base_uri": "https://localhost:8080/"
        },
        "id": "CdA_SQQJMZbJ",
        "outputId": "fff9d988-d82f-4a29-9026-2bd7beef9db1"
      },
      "execution_count": 15,
      "outputs": [
        {
          "output_type": "stream",
          "name": "stdout",
          "text": [
            "variable: \n",
            "\ta name that refers to a value\n",
            "\n",
            "function: \n",
            "\ta block of code that can be called repeatedly\n",
            "\n",
            "loop: \n",
            "\ta way to repeat a block of code multiple times\n",
            "\n",
            "list: \n",
            "\ta collection of values that can be accessed by index\n",
            "\n",
            "dictionary: \n",
            "\ta collection of key-value pairs\n",
            "\n"
          ]
        }
      ]
    },
    {
      "cell_type": "markdown",
      "source": [
        "# **Looping Through a Dictionary**"
      ],
      "metadata": {
        "id": "AZzZbRlNSbmh"
      }
    },
    {
      "cell_type": "markdown",
      "source": [
        "**Glossary 2:** Now that you know how to loop through a dictionary, clean\n",
        "up the code from Above code by replacing your series of print\n",
        "statements with a loop that runs through the dictionary’s keys and values.\n",
        "When you’re sure that your loop works, add five more Python terms to your\n",
        "glossary. When you run your program again, these new words and meanings\n",
        "should automatically be included in the output."
      ],
      "metadata": {
        "id": "yo1ouQ2bSh7t"
      }
    },
    {
      "cell_type": "code",
      "source": [
        "glossary = {\n",
        "    'variable': 'a name that refers to a value',\n",
        "    'function': 'a block of code that can be called repeatedly',\n",
        "    'loop': 'a way to repeat a block of code multiple times',\n",
        "    'list': 'a collection of values that can be accessed by index',\n",
        "    'dictionary': 'a collection of key-value pairs'\n",
        "\n",
        "}\n",
        "print(\"Original Dictionary\\n\")\n",
        "for word, meaning in glossary.items():\n",
        "  print(word + \" : \" + meaning + \"\\n\")\n",
        "# Add five more terms to the glossary\n",
        "glossary[\"integer\"] = \"A whole number, without a decimal point.\"\n",
        "glossary[\"boolean\"] = \"A data type that can be either True or False.\"\n",
        "glossary[\"method\"] = \"A function that is associated with an object, and can modify its state.\"\n",
        "glossary[\"tuple\"] = \"An ordered collection of values, which can be of any data type, and is immutable.\"\n",
        "glossary[\"dictionary\"] = \"A collection of key-value pairs, where each key must be unique.\"\n",
        "\n",
        "print(\"\\n\\nUpdated dictionary\")\n",
        "\n",
        "# Loop through the updated dictionary and print each key-value pair\n",
        "for key, value in glossary.items():\n",
        "    print(f\"{key}: {value}\\n\")\n"
      ],
      "metadata": {
        "colab": {
          "base_uri": "https://localhost:8080/"
        },
        "id": "TdbQeXigS_I9",
        "outputId": "cdd0de9e-87d5-4455-fe54-e0d981ef0d5a"
      },
      "execution_count": 21,
      "outputs": [
        {
          "output_type": "stream",
          "name": "stdout",
          "text": [
            "Original Dictionary\n",
            "\n",
            "variable : a name that refers to a value\n",
            "\n",
            "function : a block of code that can be called repeatedly\n",
            "\n",
            "loop : a way to repeat a block of code multiple times\n",
            "\n",
            "list : a collection of values that can be accessed by index\n",
            "\n",
            "dictionary : a collection of key-value pairs\n",
            "\n",
            "\n",
            "\n",
            "Updated dictionary\n",
            "variable: a name that refers to a value\n",
            "\n",
            "function: a block of code that can be called repeatedly\n",
            "\n",
            "loop: a way to repeat a block of code multiple times\n",
            "\n",
            "list: a collection of values that can be accessed by index\n",
            "\n",
            "dictionary: A collection of key-value pairs, where each key must be unique.\n",
            "\n",
            "integer: A whole number, without a decimal point.\n",
            "\n",
            "boolean: A data type that can be either True or False.\n",
            "\n",
            "method: A function that is associated with an object, and can modify its state.\n",
            "\n",
            "tuple: An ordered collection of values, which can be of any data type, and is immutable.\n",
            "\n"
          ]
        }
      ]
    },
    {
      "cell_type": "markdown",
      "source": [
        "**Rivers:** Make a dictionary containing three major rivers and the country\n",
        "each river runs through. One key-value pair might be 'nile': 'egypt'.\n",
        "\n",
        "• Use a loop to print a sentence about each river, such as The Nile runs\n",
        "through Egypt.\n",
        "\n",
        "• Use a loop to print the name of each river included in the dictionary.\n",
        "\n",
        "• Use a loop to print the name of each country included in the dictionary."
      ],
      "metadata": {
        "id": "3UbOMwm7WemS"
      }
    },
    {
      "cell_type": "code",
      "source": [
        "major_rivers = {\n",
        "    \"Nile\": \"Egypt\",\n",
        "    \"Amazon\": \"Brazil\",\n",
        "    \"Yangtze\": \"China\"\n",
        "}\n",
        "for key,value in major_rivers.items():\n",
        "  print(\"The \" + key + \" runs through \" + value )\n",
        "\n",
        "print(\"\\n\\nThe list of rivers\")\n",
        "for river in major_rivers.keys():\n",
        "  print(river)\n",
        "\n",
        "print(\"\\n\\nThe list of countries\")\n",
        "for country in major_rivers.values():\n",
        "  print(country)"
      ],
      "metadata": {
        "colab": {
          "base_uri": "https://localhost:8080/"
        },
        "id": "qMtgEU9OffPB",
        "outputId": "1af1cfdf-0dc9-439c-f9c0-631a0380bee0"
      },
      "execution_count": 26,
      "outputs": [
        {
          "output_type": "stream",
          "name": "stdout",
          "text": [
            "The Nile runs through Egypt\n",
            "The Amazon runs through Brazil\n",
            "The Yangtze runs through China\n",
            "\n",
            "\n",
            "The list of rivers\n",
            "Nile\n",
            "Amazon\n",
            "Yangtze\n",
            "\n",
            "\n",
            "The list of countries\n",
            "Egypt\n",
            "Brazil\n",
            "China\n"
          ]
        }
      ]
    },
    {
      "cell_type": "markdown",
      "source": [
        "**Polling:** Use the code in favorite_languages.py (page 104).\n",
        "\n",
        "• Make a list of people who should take the favorite languages poll. Include\n",
        "some names that are already in the dictionary and some that are not.\n",
        "\n",
        "• Loop through the list of people who should take the poll. If they have\n",
        "already taken the poll, print a message thanking them for responding.\n",
        "If they have not yet taken the poll, print a message inviting them to take\n",
        "the poll."
      ],
      "metadata": {
        "id": "RhO6GxffWmpU"
      }
    },
    {
      "cell_type": "code",
      "source": [
        "# favourite_language.py\n",
        "favorite_languages = {\n",
        "    'jen': 'python',\n",
        "    'sarah': 'c',\n",
        "    'edward': 'ruby',\n",
        "    'phil': 'python',\n",
        "}\n",
        "for name, language in favorite_languages.items():\n",
        "  print(name.title() + \"'s favorite language is \" +\n",
        "         language.title() + \".\")\n",
        "my_list = ['harry', 'nick','sarah','john','jen','phil']\n",
        "\n",
        "for people in my_list:\n",
        "  if people in favorite_languages:\n",
        "    print(\"Thank you \" + people.title() + \" responding to poll\" )\n",
        "  else:\n",
        "    print(\"Hey \"+ people.title() + \" what's your favorite programming language? Please take the poll!\")"
      ],
      "metadata": {
        "colab": {
          "base_uri": "https://localhost:8080/"
        },
        "id": "P2DxC-hXW1nR",
        "outputId": "99237f49-9af8-4107-c8c3-d56d4ab4e316"
      },
      "execution_count": 29,
      "outputs": [
        {
          "output_type": "stream",
          "name": "stdout",
          "text": [
            "Jen's favorite language is Python.\n",
            "Sarah's favorite language is C.\n",
            "Edward's favorite language is Ruby.\n",
            "Phil's favorite language is Python.\n",
            "Hey Harry what's your favorite programming language? Please take the poll!\n",
            "Hey Nick what's your favorite programming language? Please take the poll!\n",
            "Thank you Sarah responding to poll\n",
            "Hey John what's your favorite programming language? Please take the poll!\n",
            "Thank you Jen responding to poll\n",
            "Thank you Phil responding to poll\n"
          ]
        }
      ]
    },
    {
      "cell_type": "markdown",
      "source": [
        "# **Nesting:**"
      ],
      "metadata": {
        "id": "PNnEFVf1kk3D"
      }
    },
    {
      "cell_type": "markdown",
      "source": [
        "**People:** Start with the program you wrote for Exercise 6-1 (page 102).\n",
        "Make two new dictionaries representing different people, and store all three\n",
        "dictionaries in a list called people. Loop through your list of people. As you\n",
        "loop through the list, print everything you know about each person."
      ],
      "metadata": {
        "id": "-r8tJkZDnbo6"
      }
    },
    {
      "cell_type": "code",
      "source": [
        "person_1 = {\n",
        "    ' first_name': 'Ayesha',\n",
        "    'last_name' : 'Younas',\n",
        "    'age' : 24 ,\n",
        "    'city' : 'faislabad'\n",
        "    }\n",
        "person_2 = {\n",
        "    ' first_name': 'sarah',\n",
        "    'last_name' : 'joe',\n",
        "    'age' : 24 ,\n",
        "    'city' : 'lahore'\n",
        "    }\n",
        "person_3 = {\n",
        "    ' first_name': 'lisa',\n",
        "    'last_name' : 'adam',\n",
        "    'age' : 24 ,\n",
        "    'city' : 'karachi'\n",
        "    }\n",
        "people = [person_1,person_2,person_3]\n",
        "for person in people:\n",
        "  print(person) "
      ],
      "metadata": {
        "colab": {
          "base_uri": "https://localhost:8080/"
        },
        "id": "uoIiUQ7AniOt",
        "outputId": "15073626-c813-44a6-9365-909490daff76"
      },
      "execution_count": 30,
      "outputs": [
        {
          "output_type": "stream",
          "name": "stdout",
          "text": [
            "{' first_name': 'Ayesha', 'last_name': 'Younas', 'age': 24, 'city': 'faislabad'}\n",
            "{' first_name': 'sarah', 'last_name': 'joe', 'age': 24, 'city': 'lahore'}\n",
            "{' first_name': 'lisa', 'last_name': 'adam', 'age': 24, 'city': 'karachi'}\n"
          ]
        }
      ]
    },
    {
      "cell_type": "markdown",
      "source": [
        "**Pets:** Make several dictionaries, where the name of each dictionary is the\n",
        "name of a pet. In each dictionary, include the kind of animal and the owner’s\n",
        "name. Store these dictionaries in a list called pets. Next, loop through your list\n",
        "and as you do print everything you know about each pet."
      ],
      "metadata": {
        "id": "PAluVPXxohnd"
      }
    },
    {
      "cell_type": "code",
      "source": [
        "dog = {'animal': 'dog', 'owner': 'Bob'}\n",
        "bird = {'animal': 'bird', 'owner': 'Charlie'}\n",
        "cat = {'animal': 'cat', 'owner': 'Alice'}\n",
        "\n",
        "pets = [dog,bird,cat]\n",
        "\n",
        "for pet in pets:\n",
        "  print(pet)"
      ],
      "metadata": {
        "colab": {
          "base_uri": "https://localhost:8080/"
        },
        "id": "NmDaEP_tpTCB",
        "outputId": "71bfd674-bec7-4a8f-b818-6ad78d61eb89"
      },
      "execution_count": 31,
      "outputs": [
        {
          "output_type": "stream",
          "name": "stdout",
          "text": [
            "{'animal': 'dog', 'owner': 'Bob'}\n",
            "{'animal': 'bird', 'owner': 'Charlie'}\n",
            "{'animal': 'cat', 'owner': 'Alice'}\n"
          ]
        }
      ]
    },
    {
      "cell_type": "markdown",
      "source": [
        "**Favorite Places:** Make a dictionary called favorite_places. Think of three\n",
        "names to use as keys in the dictionary, and store one to three favorite places\n",
        "for each person. To make this exercise a bit more interesting, ask some friends\n",
        "to name a few of their favorite places. Loop through the dictionary, and print\n",
        "each person’s name and their favorite places."
      ],
      "metadata": {
        "id": "GZV10WH8omAW"
      }
    },
    {
      "cell_type": "code",
      "source": [
        "favourite_places = {\n",
        "    'alice' : ['Eiffel Tower','The Colosseum'],\n",
        "    'adam' : ['sydney', 'Acropolis'],\n",
        "    'sarah' : ['Central Park']\n",
        "}\n",
        "\n",
        "for person,places in favourite_places.items():\n",
        "  print(\"\\n\" + person + \" favourite places are:\")\n",
        "  for place in places:\n",
        "    print(place)"
      ],
      "metadata": {
        "colab": {
          "base_uri": "https://localhost:8080/"
        },
        "id": "vALuvZ4TpSBn",
        "outputId": "b84343e2-32e1-4735-afe3-f9f5aea8b721"
      },
      "execution_count": 35,
      "outputs": [
        {
          "output_type": "stream",
          "name": "stdout",
          "text": [
            "\n",
            "alice favourite places are:\n",
            "Eiffel Tower\n",
            "The Colosseum\n",
            "\n",
            "adam favourite places are:\n",
            "sydney\n",
            "Acropolis\n",
            "\n",
            "sarah favourite places are:\n",
            "Central Park\n"
          ]
        }
      ]
    },
    {
      "cell_type": "markdown",
      "source": [
        "**Favorite Numbers:** Modify your program from Exercise 6-2 (page 102) so\n",
        "each person can have more than one favorite number. Then print each person’s\n",
        "name along with their favorite numbers."
      ],
      "metadata": {
        "id": "WVwgsxY2orBp"
      }
    },
    {
      "cell_type": "code",
      "source": [
        "favourite_numbers = {\n",
        "    'adam' : [7,9],\n",
        "    'lisa' : [3,6],\n",
        "    'joseph' :[ 6,1],\n",
        "    'marie' : [4,8],\n",
        "    'steve' : [9,5]\n",
        "}\n",
        "for person, numbers in favourite_numbers.items():\n",
        "  print (person + \" favourite numbers are: \")\n",
        "  for number in numbers:\n",
        "    print(number)"
      ],
      "metadata": {
        "colab": {
          "base_uri": "https://localhost:8080/"
        },
        "id": "tx23I_W2s3aY",
        "outputId": "c3877e77-9b68-4ff9-9ad3-e07b5e9ccb1c"
      },
      "execution_count": 39,
      "outputs": [
        {
          "output_type": "stream",
          "name": "stdout",
          "text": [
            "adam favourite numbers are: \n",
            "7\n",
            "9\n",
            "lisa favourite numbers are: \n",
            "3\n",
            "6\n",
            "joseph favourite numbers are: \n",
            "6\n",
            "1\n",
            "marie favourite numbers are: \n",
            "4\n",
            "8\n",
            "steve favourite numbers are: \n",
            "9\n",
            "5\n"
          ]
        }
      ]
    },
    {
      "cell_type": "markdown",
      "source": [
        "**Cities:** Make a dictionary called cities. Use the names of three cities as\n",
        "keys in your dictionary. Create a dictionary of information about each city and\n",
        "include the country that the city is in, its approximate population, and one fact\n",
        "about that city. The keys for each city’s dictionary should be something like\n",
        "\n",
        "country, population, and fact. Print the name of each city and all of the infor-\n",
        "mation you have stored about it."
      ],
      "metadata": {
        "id": "bNsqa3ZJozbq"
      }
    },
    {
      "cell_type": "code",
      "source": [
        "cities = { \n",
        "    'lahore' :{\n",
        "        'country':'pakistan',\n",
        "        'population' : '13.3 million',\n",
        "        'fact' : 'Lahore is known as the \"City of Gardens\" due to the large number of gardens and parks located throughout the city. Some of the most famous gardens in Lahore include Shalimar Gardens, Jallo Park, and Bagh-e-Jinnah.'\n",
        "    },\n",
        "    'florida' :{\n",
        "       \"country\": \"United States\",\n",
        "    \"population\": 21_477_737,\n",
        "    \"fact\": \"Florida is the only state in the contiguous United States with a tropical climate.\"\n",
        "    },\n",
        "    'Tokyo': {\n",
        "        'country': 'Japan',\n",
        "        'population': 37977000,\n",
        "        'fact': 'Tokyo has the highest number of Michelin-starred restaurants in the world.'\n",
        "    },\n",
        "  \n",
        "}\n",
        "\n",
        "# print information for each city\n",
        "for city, info in cities.items():\n",
        "    print(f\"\\n{city.title()}:\")\n",
        "    print(f\"\\tCountry: {info['country']}\")\n",
        "    print(f\"\\tPopulation: {info['population']}\")\n",
        "    print(f\"\\tFact: {info['fact']}\")"
      ],
      "metadata": {
        "colab": {
          "base_uri": "https://localhost:8080/"
        },
        "id": "FK6vbOi7t1IS",
        "outputId": "7cdb422d-9c43-4e48-8793-291c77aa8445"
      },
      "execution_count": 40,
      "outputs": [
        {
          "output_type": "stream",
          "name": "stdout",
          "text": [
            "\n",
            "Lahore:\n",
            "\tCountry: pakistan\n",
            "\tPopulation: 13.3 million\n",
            "\tFact: Lahore is known as the \"City of Gardens\" due to the large number of gardens and parks located throughout the city. Some of the most famous gardens in Lahore include Shalimar Gardens, Jallo Park, and Bagh-e-Jinnah.\n",
            "\n",
            "Florida:\n",
            "\tCountry: United States\n",
            "\tPopulation: 21477737\n",
            "\tFact: Florida is the only state in the contiguous United States with a tropical climate.\n",
            "\n",
            "Tokyo:\n",
            "\tCountry: Japan\n",
            "\tPopulation: 37977000\n",
            "\tFact: Tokyo has the highest number of Michelin-starred restaurants in the world.\n"
          ]
        }
      ]
    },
    {
      "cell_type": "markdown",
      "source": [
        "**Extensions:** We’re now working with examples that are complex enough\n",
        "\n",
        "that they can be extended in any number of ways. Use one of the example pro-\n",
        "grams from this chapter, and extend it by adding new keys and values, chang-\n",
        "ing the context of the program or improving the formatting of the output."
      ],
      "metadata": {
        "id": "Nnb9HDN_o7QP"
      }
    },
    {
      "cell_type": "code",
      "source": [
        "guests = {\n",
        "    'Alice': {'age': 25, 'gender': 'female', 'location': 'New York'},\n",
        "    'Bob': {'age': 30, 'gender': 'male', 'location': 'Los Angeles'},\n",
        "    'Charlie': {'age': 35, 'gender': 'male', 'location': 'Chicago'},\n",
        "}\n",
        "\n",
        "for name, info in guests.items():\n",
        "    print(f\"\\n{name.title()}'s information:\")\n",
        "    for key, value in info.items():\n",
        "        print(f\"{key.title()}: {value}\")"
      ],
      "metadata": {
        "colab": {
          "base_uri": "https://localhost:8080/"
        },
        "id": "kdC-dCzGxZdg",
        "outputId": "d463a2ff-797a-4a34-cc71-e3e88b1f69a1"
      },
      "execution_count": 41,
      "outputs": [
        {
          "output_type": "stream",
          "name": "stdout",
          "text": [
            "\n",
            "Alice's information:\n",
            "Age: 25\n",
            "Gender: female\n",
            "Location: New York\n",
            "\n",
            "Bob's information:\n",
            "Age: 30\n",
            "Gender: male\n",
            "Location: Los Angeles\n",
            "\n",
            "Charlie's information:\n",
            "Age: 35\n",
            "Gender: male\n",
            "Location: Chicago\n"
          ]
        }
      ]
    }
  ]
}