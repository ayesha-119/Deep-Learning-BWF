{
  "nbformat": 4,
  "nbformat_minor": 0,
  "metadata": {
    "colab": {
      "provenance": [],
      "authorship_tag": "ABX9TyPuAyqw939Ao6fDQZ2SZQEN",
      "include_colab_link": true
    },
    "kernelspec": {
      "name": "python3",
      "display_name": "Python 3"
    },
    "language_info": {
      "name": "python"
    }
  },
  "cells": [
    {
      "cell_type": "markdown",
      "metadata": {
        "id": "view-in-github",
        "colab_type": "text"
      },
      "source": [
        "<a href=\"https://colab.research.google.com/github/ayesha-119/Deep-Learning-BWF/blob/master/Task_20.ipynb\" target=\"_parent\"><img src=\"https://colab.research.google.com/assets/colab-badge.svg\" alt=\"Open In Colab\"/></a>"
      ]
    },
    {
      "cell_type": "markdown",
      "source": [
        "# **🔴 Task 20**\n",
        "\n",
        "**Topics: Introduction to Keras, Example Projects on Classification and Regression**\n",
        "\n",
        "Resource: https://drive.google.com/file/d/1i9dPxM_1M4HYN5bYxFcuklC1vM0GrOCq/view?usp=share_link\n"
      ],
      "metadata": {
        "id": "zXe75GxT_HaX"
      }
    },
    {
      "cell_type": "markdown",
      "source": [
        "# **Classifying movie reviews:**"
      ],
      "metadata": {
        "id": "fQrn9nh8lMeG"
      }
    },
    {
      "cell_type": "markdown",
      "source": [
        "**Loading the IMDB dataset**"
      ],
      "metadata": {
        "id": "r-BWozM_lDOZ"
      }
    },
    {
      "cell_type": "code",
      "source": [
        "from keras.datasets import imdb\n",
        "(train_data, train_labels), (test_data, test_labels) = imdb.load_data(\n",
        "num_words=10000)"
      ],
      "metadata": {
        "colab": {
          "base_uri": "https://localhost:8080/"
        },
        "id": "AjtyOTv73R0N",
        "outputId": "f43e2a13-25bb-4388-eb65-842f41dd76c5"
      },
      "execution_count": null,
      "outputs": [
        {
          "output_type": "stream",
          "name": "stdout",
          "text": [
            "Downloading data from https://storage.googleapis.com/tensorflow/tf-keras-datasets/imdb.npz\n",
            "17464789/17464789 [==============================] - 0s 0us/step\n"
          ]
        }
      ]
    },
    {
      "cell_type": "code",
      "source": [
        "train_data[0]"
      ],
      "metadata": {
        "id": "YMl5ss_L4VP9"
      },
      "execution_count": null,
      "outputs": []
    },
    {
      "cell_type": "code",
      "source": [
        "train_labels[0]"
      ],
      "metadata": {
        "colab": {
          "base_uri": "https://localhost:8080/"
        },
        "id": "tljICOXO4e7y",
        "outputId": "8a172304-3d80-40a6-a1b1-6960bdb27b65"
      },
      "execution_count": null,
      "outputs": [
        {
          "output_type": "execute_result",
          "data": {
            "text/plain": [
              "1"
            ]
          },
          "metadata": {},
          "execution_count": 3
        }
      ]
    },
    {
      "cell_type": "code",
      "source": [
        "max([max(sequence) for sequence in train_data])"
      ],
      "metadata": {
        "colab": {
          "base_uri": "https://localhost:8080/"
        },
        "id": "JDUyOs6e4jRG",
        "outputId": "aed52810-de9a-411c-a2ea-236b6a5314c4"
      },
      "execution_count": null,
      "outputs": [
        {
          "output_type": "execute_result",
          "data": {
            "text/plain": [
              "9999"
            ]
          },
          "metadata": {},
          "execution_count": 4
        }
      ]
    },
    {
      "cell_type": "markdown",
      "source": [
        "**Decoding one of the review**"
      ],
      "metadata": {
        "id": "e1v6l7opn97E"
      }
    },
    {
      "cell_type": "code",
      "source": [
        "word_index = imdb.get_word_index()\n",
        "reverse_word_index = dict(\n",
        "[(value, key) for (key, value) in word_index.items()])\n",
        "decoded_review = ' '.join(\n",
        "[reverse_word_index.get(i - 3, '?') for i in train_data[0]])\n",
        "decoded_review"
      ],
      "metadata": {
        "colab": {
          "base_uri": "https://localhost:8080/",
          "height": 140
        },
        "id": "AI70Bgy44o8s",
        "outputId": "4cb2759f-8383-44f2-afc0-a1b3a22f58a5"
      },
      "execution_count": null,
      "outputs": [
        {
          "output_type": "stream",
          "name": "stdout",
          "text": [
            "Downloading data from https://storage.googleapis.com/tensorflow/tf-keras-datasets/imdb_word_index.json\n",
            "1641221/1641221 [==============================] - 0s 0us/step\n"
          ]
        },
        {
          "output_type": "execute_result",
          "data": {
            "text/plain": [
              "\"? this film was just brilliant casting location scenery story direction everyone's really suited the part they played and you could just imagine being there robert ? is an amazing actor and now the same being director ? father came from the same scottish island as myself so i loved the fact there was a real connection with this film the witty remarks throughout the film were great it was just brilliant so much that i bought the film as soon as it was released for ? and would recommend it to everyone to watch and the fly fishing was amazing really cried at the end it was so sad and you know what they say if you cry at a film it must have been good and this definitely was also ? to the two little boy's that played the ? of norman and paul they were just brilliant children are often left out of the ? list i think because the stars that play them all grown up are such a big profile for the whole film but these children are amazing and should be praised for what they have done don't you think the whole story was so lovely because it was true and was someone's life after all that was shared with us all\""
            ],
            "application/vnd.google.colaboratory.intrinsic+json": {
              "type": "string"
            }
          },
          "metadata": {},
          "execution_count": 5
        }
      ]
    },
    {
      "cell_type": "markdown",
      "source": [
        "**Encoding the integer sequences into a binary matrix**"
      ],
      "metadata": {
        "id": "bOMhSwqGoXsW"
      }
    },
    {
      "cell_type": "code",
      "source": [
        "import numpy as np\n",
        "def vectorize_sequences(sequences, dimension=10000):\n",
        "  results = np.zeros((len(sequences), dimension))\n",
        "  for i, sequence in enumerate(sequences):\n",
        "    results[i, sequence] = 1.\n",
        "  return results\n",
        "x_train = vectorize_sequences(train_data)\n",
        "x_test = vectorize_sequences(test_data)"
      ],
      "metadata": {
        "id": "em27UclG52xg"
      },
      "execution_count": null,
      "outputs": []
    },
    {
      "cell_type": "code",
      "source": [
        "x_train[0]"
      ],
      "metadata": {
        "colab": {
          "base_uri": "https://localhost:8080/"
        },
        "id": "lXK2BZMK6KcA",
        "outputId": "c18fd820-defa-44a4-f1fb-f8667e42408b"
      },
      "execution_count": null,
      "outputs": [
        {
          "output_type": "execute_result",
          "data": {
            "text/plain": [
              "array([0., 1., 1., ..., 0., 0., 0.])"
            ]
          },
          "metadata": {},
          "execution_count": 7
        }
      ]
    },
    {
      "cell_type": "code",
      "source": [
        "#vectorizing labels\n",
        "y_train = np.asarray(train_labels).astype('float32')\n",
        "y_test = np.asarray(test_labels).astype('float32')"
      ],
      "metadata": {
        "id": "AJrRrhk_6OFH"
      },
      "execution_count": null,
      "outputs": []
    },
    {
      "cell_type": "markdown",
      "source": [
        "**The model definition**"
      ],
      "metadata": {
        "id": "Ej0h82GQrhxF"
      }
    },
    {
      "cell_type": "code",
      "source": [
        "from keras import models\n",
        "from keras import layers\n",
        "model = models.Sequential()\n",
        "model.add(layers.Dense(16, activation='relu', input_shape=(10000,)))\n",
        "model.add(layers.Dense(16, activation='relu'))\n",
        "model.add(layers.Dense(1, activation='sigmoid'))"
      ],
      "metadata": {
        "id": "0HIjxiS3_mbx"
      },
      "execution_count": null,
      "outputs": []
    },
    {
      "cell_type": "markdown",
      "source": [
        "**Compiling the model**"
      ],
      "metadata": {
        "id": "QRRqm4NPsy3l"
      }
    },
    {
      "cell_type": "code",
      "source": [
        "model.compile(optimizer='rmsprop',\n",
        "loss='binary_crossentropy',\n",
        "metrics=['accuracy'])"
      ],
      "metadata": {
        "id": "WCDrf-At_rEI"
      },
      "execution_count": null,
      "outputs": []
    },
    {
      "cell_type": "markdown",
      "source": [
        "**Setting aside a validation set**"
      ],
      "metadata": {
        "id": "fjoeAHIVyoYn"
      }
    },
    {
      "cell_type": "code",
      "source": [
        "x_val = x_train[:10000]\n",
        "partial_x_train = x_train[10000:]\n",
        "y_val = y_train[:10000]\n",
        "partial_y_train = y_train[10000:]"
      ],
      "metadata": {
        "id": "-QB9FYosAG5z"
      },
      "execution_count": null,
      "outputs": []
    },
    {
      "cell_type": "markdown",
      "source": [
        "**Training your model**"
      ],
      "metadata": {
        "id": "7vs3AzxLy5Ce"
      }
    },
    {
      "cell_type": "code",
      "source": [
        "model.compile(optimizer='rmsprop',\n",
        "loss='binary_crossentropy',\n",
        "metrics=['acc'])\n",
        "history = model.fit(partial_x_train,\n",
        "partial_y_train,\n",
        "epochs=20,\n",
        "batch_size=512,\n",
        "validation_data=(x_val, y_val))"
      ],
      "metadata": {
        "id": "TtFRfLGwAUEV"
      },
      "execution_count": null,
      "outputs": []
    },
    {
      "cell_type": "code",
      "source": [
        "history_dict = history.history\n",
        "history_dict.keys()\n"
      ],
      "metadata": {
        "colab": {
          "base_uri": "https://localhost:8080/"
        },
        "id": "11VKthOKCnrC",
        "outputId": "c7101896-257b-4bbb-cdce-9be8724e1072"
      },
      "execution_count": null,
      "outputs": [
        {
          "output_type": "execute_result",
          "data": {
            "text/plain": [
              "dict_keys(['loss', 'acc', 'val_loss', 'val_acc'])"
            ]
          },
          "metadata": {},
          "execution_count": 13
        }
      ]
    },
    {
      "cell_type": "markdown",
      "source": [
        "**Plotting the training and validation loss**"
      ],
      "metadata": {
        "id": "kAoAb3lozLaA"
      }
    },
    {
      "cell_type": "code",
      "source": [
        "import matplotlib.pyplot as plt\n",
        "\n",
        "history_dict = history.history\n",
        "loss_values = history_dict['loss']\n",
        "val_loss_values = history_dict['val_loss']\n",
        "epochs = range(1, len(loss_values) + 1)\n",
        "\n",
        "plt.plot(epochs, loss_values, 'bo', label='Training loss')\n",
        "plt.plot(epochs, val_loss_values, 'b', label='Validation loss')\n",
        "plt.title('Training and validation loss')\n",
        "plt.xlabel('Epochs')\n",
        "plt.ylabel('Loss')\n",
        "plt.legend()\n",
        "plt.show()\n"
      ],
      "metadata": {
        "colab": {
          "base_uri": "https://localhost:8080/",
          "height": 472
        },
        "id": "CoznTbZEC0EV",
        "outputId": "02520049-ea53-46b9-8aa4-e64c419eb971"
      },
      "execution_count": null,
      "outputs": [
        {
          "output_type": "display_data",
          "data": {
            "text/plain": [
              "<Figure size 640x480 with 1 Axes>"
            ],
            "image/png": "[encoded data removed]"
          },
          "metadata": {}
        }
      ]
    },
    {
      "cell_type": "markdown",
      "source": [
        "**Plotting the training and validation accuracy**"
      ],
      "metadata": {
        "id": "wUl-19cF0VqF"
      }
    },
    {
      "cell_type": "code",
      "source": [
        "plt.clf()\n",
        "acc_values = history_dict['acc']\n",
        "val_acc_values = history_dict['val_acc']\n",
        "plt.plot(epochs, acc_values, 'bo', label='Training acc')\n",
        "plt.plot(epochs, val_acc_values, 'b', label='Validation acc')\n",
        "plt.title('Training and validation accuracy')\n",
        "plt.xlabel('Epochs')\n",
        "plt.ylabel('Loss')\n",
        "plt.legend()\n",
        "plt.show()"
      ],
      "metadata": {
        "colab": {
          "base_uri": "https://localhost:8080/",
          "height": 472
        },
        "id": "ns3UKVVZ0jLn",
        "outputId": "8fe328a9-2be4-419c-e41f-9306f62fdc55"
      },
      "execution_count": null,
      "outputs": [
        {
          "output_type": "display_data",
          "data": {
            "text/plain": [
              "<Figure size 640x480 with 1 Axes>"
            ],
            "image/png": "[encoded data removed]"
          },
          "metadata": {}
        }
      ]
    },
    {
      "cell_type": "markdown",
      "source": [
        "**Retraining a model from scratch**"
      ],
      "metadata": {
        "id": "gnFfpxnE23p-"
      }
    },
    {
      "cell_type": "code",
      "source": [
        "model = models.Sequential()\n",
        "model.add(layers.Dense(16, activation='relu', input_shape=(10000,)))\n",
        "model.add(layers.Dense(16, activation='relu'))\n",
        "model.add(layers.Dense(1, activation='sigmoid'))\n",
        "model.compile(optimizer='rmsprop',\n",
        "loss='binary_crossentropy',\n",
        "metrics=['accuracy'])\n",
        "model.fit(x_train, y_train, epochs=4, batch_size=512)\n",
        "results = model.evaluate(x_test, y_test)"
      ],
      "metadata": {
        "colab": {
          "base_uri": "https://localhost:8080/"
        },
        "id": "sMX6hzVM3Ej2",
        "outputId": "6ea6c662-19f5-4358-fac0-d1ee60f51b07"
      },
      "execution_count": null,
      "outputs": [
        {
          "output_type": "stream",
          "name": "stdout",
          "text": [
            "Epoch 1/4\n",
            "49/49 [==============================] - 2s 31ms/step - loss: 0.4896 - accuracy: 0.8089\n",
            "Epoch 2/4\n",
            "49/49 [==============================] - 2s 48ms/step - loss: 0.2900 - accuracy: 0.9006\n",
            "Epoch 3/4\n",
            "49/49 [==============================] - 2s 36ms/step - loss: 0.2236 - accuracy: 0.9202\n",
            "Epoch 4/4\n",
            "49/49 [==============================] - 2s 31ms/step - loss: 0.1895 - accuracy: 0.9339\n",
            "782/782 [==============================] - 3s 4ms/step - loss: 0.2962 - accuracy: 0.8804\n"
          ]
        }
      ]
    },
    {
      "cell_type": "markdown",
      "source": [
        "**Using a trained network to generate predictions on new data**"
      ],
      "metadata": {
        "id": "0VFmecZS3Yiw"
      }
    },
    {
      "cell_type": "code",
      "source": [
        "model.predict(x_test)"
      ],
      "metadata": {
        "colab": {
          "base_uri": "https://localhost:8080/"
        },
        "id": "OCYaDB853c-x",
        "outputId": "70fb747f-e5f0-49e7-ff60-7eeaca3844ed"
      },
      "execution_count": null,
      "outputs": [
        {
          "output_type": "stream",
          "name": "stdout",
          "text": [
            "782/782 [==============================] - 2s 2ms/step\n"
          ]
        },
        {
          "output_type": "execute_result",
          "data": {
            "text/plain": [
              "array([[0.18240239],\n",
              "       [0.9997249 ],\n",
              "       [0.6884543 ],\n",
              "       ...,\n",
              "       [0.08997952],\n",
              "       [0.06301654],\n",
              "       [0.3723397 ]], dtype=float32)"
            ]
          },
          "metadata": {},
          "execution_count": 26
        }
      ]
    },
    {
      "cell_type": "markdown",
      "source": [
        "# **Further experiments**\n",
        "\n",
        " The following experiments will help convince you that the architecture choices you’ve made are all fairly reasonable, although there’s still room for improvement:\n",
        "\n",
        " You used two hidden layers. Try using one or three hidden layers, and see how\n",
        "doing so affects validation and test accuracy.\n",
        "\n",
        " Try using layers with more hidden units or fewer hidden units: 32 units, 64 units, and so on.\n",
        "\n",
        " Try using the mse loss function instead of binary_crossentropy.\n",
        "\n",
        " Try using the tanh activation (an activation that was popular in the early days of neural networks) instead of relu"
      ],
      "metadata": {
        "id": "bNoWt8C334WB"
      }
    },
    {
      "cell_type": "code",
      "source": [
        "x_val = x_train[:10000]\n",
        "partial_x_train = x_train[10000:]\n",
        "y_val = y_train[:10000]\n",
        "partial_y_train = y_train[10000:]\n",
        "\n",
        "# define the model\n",
        "model = models.Sequential()\n",
        "#using 3 hidden layers\n",
        "model.add(layers.Dense(16,  activation= 'relu', input_shape=(10000,)))\n",
        "model.add(layers.Dense(16,  activation= 'relu'))\n",
        "model.add(layers.Dense(16,  activation= 'relu'))\n",
        "model.add(layers.Dense(1, activation= 'sigmoid'))\n",
        "\n",
        "#compile the model\n",
        "model.compile(optimizer= 'rmsprop',\n",
        "              loss = 'binary_crossentropy',\n",
        "              metrics = ['accuracy']\n",
        "              )\n",
        "\n",
        "# training your model \n",
        "history = model.fit(partial_x_train, partial_y_train, epochs= 4, batch_size = 512)\n",
        "history_dict = history.history \n",
        "\n",
        "model.evaluate(x_test, y_test)\n",
        "\n",
        "model.predict(x_test)\n"
      ],
      "metadata": {
        "colab": {
          "base_uri": "https://localhost:8080/"
        },
        "id": "4M-f4lWb4RmZ",
        "outputId": "4db5f22e-082b-432a-e694-94093d001d54"
      },
      "execution_count": null,
      "outputs": [
        {
          "output_type": "stream",
          "name": "stdout",
          "text": [
            "Epoch 1/4\n",
            "30/30 [==============================] - 2s 33ms/step - loss: 0.5476 - accuracy: 0.7399\n",
            "Epoch 2/4\n",
            "30/30 [==============================] - 1s 34ms/step - loss: 0.3271 - accuracy: 0.8895\n",
            "Epoch 3/4\n",
            "30/30 [==============================] - 1s 32ms/step - loss: 0.2390 - accuracy: 0.9166\n",
            "Epoch 4/4\n",
            "30/30 [==============================] - 1s 32ms/step - loss: 0.1883 - accuracy: 0.9363\n",
            "782/782 [==============================] - 2s 3ms/step - loss: 0.2940 - accuracy: 0.8808\n",
            "782/782 [==============================] - 2s 2ms/step\n"
          ]
        },
        {
          "output_type": "execute_result",
          "data": {
            "text/plain": [
              "array([[0.32279876],\n",
              "       [0.9957844 ],\n",
              "       [0.85154045],\n",
              "       ...,\n",
              "       [0.0964826 ],\n",
              "       [0.16969603],\n",
              "       [0.7484687 ]], dtype=float32)"
            ]
          },
          "metadata": {},
          "execution_count": 37
        }
      ]
    },
    {
      "cell_type": "markdown",
      "source": [
        "# **Classifying newswires: a multiclass classification example**"
      ],
      "metadata": {
        "id": "rQn2aG3f-Typ"
      }
    },
    {
      "cell_type": "markdown",
      "source": [
        "**Loading the Reuters dataset**"
      ],
      "metadata": {
        "id": "9B1d8gMX_FSw"
      }
    },
    {
      "cell_type": "code",
      "source": [
        "from keras.datasets import reuters\n",
        "(train_data, train_labels), (test_data, test_labels) = reuters.load_data(num_words=10000)"
      ],
      "metadata": {
        "id": "v8sgx1gW_Iqh"
      },
      "execution_count": null,
      "outputs": []
    },
    {
      "cell_type": "code",
      "source": [
        "len(train_data)"
      ],
      "metadata": {
        "colab": {
          "base_uri": "https://localhost:8080/"
        },
        "id": "zVxJhDDQ_0-_",
        "outputId": "2651a31b-6bb8-48cd-c414-9b233e00fdad"
      },
      "execution_count": null,
      "outputs": [
        {
          "output_type": "execute_result",
          "data": {
            "text/plain": [
              "8982"
            ]
          },
          "metadata": {},
          "execution_count": 40
        }
      ]
    },
    {
      "cell_type": "code",
      "source": [
        "len(test_data)"
      ],
      "metadata": {
        "colab": {
          "base_uri": "https://localhost:8080/"
        },
        "id": "OHim0C5-_5K_",
        "outputId": "ce5cbfc0-f06c-4d50-904f-81d618745138"
      },
      "execution_count": null,
      "outputs": [
        {
          "output_type": "execute_result",
          "data": {
            "text/plain": [
              "2246"
            ]
          },
          "metadata": {},
          "execution_count": 41
        }
      ]
    },
    {
      "cell_type": "code",
      "source": [
        "train_data[10]"
      ],
      "metadata": {
        "id": "YwdbH9vrAErK"
      },
      "execution_count": null,
      "outputs": []
    },
    {
      "cell_type": "markdown",
      "source": [
        "**Decoding newswires back to text**"
      ],
      "metadata": {
        "id": "FUWhpEqTBPTm"
      }
    },
    {
      "cell_type": "code",
      "source": [
        "word_index= reuters.get_word_index()\n",
        "reverse_word_index = dict([(value,key) for (key, value) in word_index.items()])\n",
        "decoded_newswire = ' '.join([reverse_word_index.get(i-3, '?') for i in train_data[0]])"
      ],
      "metadata": {
        "colab": {
          "base_uri": "https://localhost:8080/"
        },
        "id": "VWT054SSBS5P",
        "outputId": "5f2061ca-f034-47c2-ac19-a26de3c52828"
      },
      "execution_count": null,
      "outputs": [
        {
          "output_type": "stream",
          "name": "stdout",
          "text": [
            "Downloading data from https://storage.googleapis.com/tensorflow/tf-keras-datasets/reuters_word_index.json\n",
            "550378/550378 [==============================] - 0s 0us/step\n"
          ]
        }
      ]
    },
    {
      "cell_type": "code",
      "source": [
        "train_labels[10]"
      ],
      "metadata": {
        "colab": {
          "base_uri": "https://localhost:8080/"
        },
        "id": "up_NAddlDFaf",
        "outputId": "80ba0d1b-91e5-418e-a2a5-d50a881c2278"
      },
      "execution_count": null,
      "outputs": [
        {
          "output_type": "execute_result",
          "data": {
            "text/plain": [
              "3"
            ]
          },
          "metadata": {},
          "execution_count": 46
        }
      ]
    },
    {
      "cell_type": "markdown",
      "source": [
        "**Preparing the data : Encoding the data**"
      ],
      "metadata": {
        "id": "9r5S_xshDP6H"
      }
    },
    {
      "cell_type": "code",
      "source": [
        "import numpy as np\n",
        "def vectorize_sequences(sequences, dimension=10000):\n",
        "  result = np.zeros((len(sequences), dimension))\n",
        "  for i, sequence in  enumerate(sequences):\n",
        "    result[i, sequence] = 1\n",
        "  return result\n",
        "x_train = vectorize_sequences(train_data)\n",
        "x_test = vectorize_sequences(test_data)"
      ],
      "metadata": {
        "id": "hBA2e9qEDfhv"
      },
      "execution_count": null,
      "outputs": []
    },
    {
      "cell_type": "code",
      "source": [
        "def to_one_hot(labels, dimension=46):\n",
        "  results = np.zeros((len(labels), dimension))\n",
        "  for i, label in enumerate(labels):\n",
        "    results[i, label] = 1.\n",
        "  return results\n",
        "one_hot_train_labels = to_one_hot(train_labels)\n",
        "one_hot_test_labels = to_one_hot(test_labels)"
      ],
      "metadata": {
        "id": "gLjgzWQkFY09"
      },
      "execution_count": null,
      "outputs": []
    },
    {
      "cell_type": "markdown",
      "source": [
        "**Model definition**"
      ],
      "metadata": {
        "id": "VRyO2FwEFnNH"
      }
    },
    {
      "cell_type": "code",
      "source": [
        "from keras.layers.core.dense import Dense\n",
        "from keras import models\n",
        "from keras import layers\n",
        "model = models.Sequential()\n",
        "model.add(layers.Dense(64, activation = 'relu', input_shape = (10000,)))\n",
        "model.add(layers.Dense(64, activation = 'relu'))\n",
        "model.add(layers.Dense(46, activation = 'softmax'))"
      ],
      "metadata": {
        "id": "Z9fB19tkFq50"
      },
      "execution_count": null,
      "outputs": []
    },
    {
      "cell_type": "markdown",
      "source": [
        "**Compiling the model**"
      ],
      "metadata": {
        "id": "3SYG-dq_Hvlm"
      }
    },
    {
      "cell_type": "code",
      "source": [
        "model.compile(optimizer = \"rmsprop\",\n",
        "              loss = 'categorical_crossentropy',\n",
        "              metrics = ['accuracy'])"
      ],
      "metadata": {
        "id": "QIzrWQqkHx75"
      },
      "execution_count": null,
      "outputs": []
    },
    {
      "cell_type": "markdown",
      "source": [
        "**Setting aside a validation set**"
      ],
      "metadata": {
        "id": "hWSyOkHyIKM4"
      }
    },
    {
      "cell_type": "code",
      "source": [
        "x_val = x_train[:1000]\n",
        "partial_x_train = x_train[1000:]\n",
        "y_val = one_hot_train_labels[:1000]\n",
        "partial_y_train = one_hot_train_labels[1000:]"
      ],
      "metadata": {
        "id": "l89NfJAaIQKu"
      },
      "execution_count": null,
      "outputs": []
    },
    {
      "cell_type": "markdown",
      "source": [
        "**Training the model**"
      ],
      "metadata": {
        "id": "pEa1o0ZhIvVi"
      }
    },
    {
      "cell_type": "code",
      "source": [
        "history = model.fit(partial_x_train,\n",
        "partial_y_train,\n",
        "epochs=20,\n",
        "batch_size=512,\n",
        "validation_data=(x_val, y_val))"
      ],
      "metadata": {
        "colab": {
          "base_uri": "https://localhost:8080/"
        },
        "id": "S8F41-p9Ixh8",
        "outputId": "dd254dc1-5688-474b-cdcc-9882bb94662f"
      },
      "execution_count": null,
      "outputs": [
        {
          "output_type": "stream",
          "name": "stdout",
          "text": [
            "Epoch 1/20\n",
            "16/16 [==============================] - 1s 70ms/step - loss: 0.1271 - accuracy: 0.9573 - val_loss: 1.0015 - val_accuracy: 0.8090\n",
            "Epoch 2/20\n",
            "16/16 [==============================] - 1s 78ms/step - loss: 0.1248 - accuracy: 0.9579 - val_loss: 0.9834 - val_accuracy: 0.8020\n",
            "Epoch 3/20\n",
            "16/16 [==============================] - 2s 101ms/step - loss: 0.1174 - accuracy: 0.9589 - val_loss: 1.0075 - val_accuracy: 0.8140\n",
            "Epoch 4/20\n",
            "16/16 [==============================] - 1s 81ms/step - loss: 0.1152 - accuracy: 0.9580 - val_loss: 1.0093 - val_accuracy: 0.8110\n",
            "Epoch 5/20\n",
            "16/16 [==============================] - 1s 61ms/step - loss: 0.1146 - accuracy: 0.9580 - val_loss: 1.0146 - val_accuracy: 0.8090\n",
            "Epoch 6/20\n",
            "16/16 [==============================] - 1s 60ms/step - loss: 0.1128 - accuracy: 0.9579 - val_loss: 1.0065 - val_accuracy: 0.8130\n",
            "Epoch 7/20\n",
            "16/16 [==============================] - 1s 57ms/step - loss: 0.1115 - accuracy: 0.9579 - val_loss: 1.0164 - val_accuracy: 0.8050\n",
            "Epoch 8/20\n",
            "16/16 [==============================] - 1s 55ms/step - loss: 0.1119 - accuracy: 0.9587 - val_loss: 1.0508 - val_accuracy: 0.7970\n",
            "Epoch 9/20\n",
            "16/16 [==============================] - 1s 59ms/step - loss: 0.1049 - accuracy: 0.9600 - val_loss: 1.1555 - val_accuracy: 0.7840\n",
            "Epoch 10/20\n",
            "16/16 [==============================] - 1s 59ms/step - loss: 0.1044 - accuracy: 0.9603 - val_loss: 1.0324 - val_accuracy: 0.8080\n",
            "Epoch 11/20\n",
            "16/16 [==============================] - 1s 57ms/step - loss: 0.1083 - accuracy: 0.9595 - val_loss: 1.0613 - val_accuracy: 0.7980\n",
            "Epoch 12/20\n",
            "16/16 [==============================] - 1s 55ms/step - loss: 0.1070 - accuracy: 0.9578 - val_loss: 1.0077 - val_accuracy: 0.8170\n",
            "Epoch 13/20\n",
            "16/16 [==============================] - 1s 54ms/step - loss: 0.1018 - accuracy: 0.9587 - val_loss: 1.0557 - val_accuracy: 0.8120\n",
            "Epoch 14/20\n",
            "16/16 [==============================] - 1s 60ms/step - loss: 0.1022 - accuracy: 0.9588 - val_loss: 1.0730 - val_accuracy: 0.8080\n",
            "Epoch 15/20\n",
            "16/16 [==============================] - 1s 84ms/step - loss: 0.0997 - accuracy: 0.9609 - val_loss: 1.0464 - val_accuracy: 0.8200\n",
            "Epoch 16/20\n",
            "16/16 [==============================] - 2s 99ms/step - loss: 0.1043 - accuracy: 0.9584 - val_loss: 1.0120 - val_accuracy: 0.8130\n",
            "Epoch 17/20\n",
            "16/16 [==============================] - 1s 69ms/step - loss: 0.0998 - accuracy: 0.9588 - val_loss: 1.0802 - val_accuracy: 0.7990\n",
            "Epoch 18/20\n",
            "16/16 [==============================] - 1s 56ms/step - loss: 0.0964 - accuracy: 0.9612 - val_loss: 1.0935 - val_accuracy: 0.8050\n",
            "Epoch 19/20\n",
            "16/16 [==============================] - 1s 55ms/step - loss: 0.1001 - accuracy: 0.9595 - val_loss: 1.0336 - val_accuracy: 0.8120\n",
            "Epoch 20/20\n",
            "16/16 [==============================] - 1s 55ms/step - loss: 0.1012 - accuracy: 0.9578 - val_loss: 1.0288 - val_accuracy: 0.8120\n"
          ]
        }
      ]
    },
    {
      "cell_type": "markdown",
      "source": [
        "**Plotting the training and validation loss**"
      ],
      "metadata": {
        "id": "X34F-I4OJUol"
      }
    },
    {
      "cell_type": "code",
      "source": [
        "import matplotlib.pyplot as plt\n",
        "loss = history.history['loss']\n",
        "val_loss = history.history['val_loss']\n",
        "epochs = range(1, len(loss) + 1)\n",
        "plt.plot(epochs, loss, 'bo', label='Training loss')\n",
        "plt.plot(epochs, val_loss, 'b', label='Validation loss')\n",
        "plt.title('Training and validation loss')\n",
        "plt.xlabel('Epochs')\n",
        "plt.ylabel('Loss')\n",
        "plt.legend()\n",
        "plt.show()"
      ],
      "metadata": {
        "colab": {
          "base_uri": "https://localhost:8080/",
          "height": 472
        },
        "id": "wKKlIOGwJZur",
        "outputId": "de217e94-7c1c-4951-e9bd-c65c8989811f"
      },
      "execution_count": null,
      "outputs": [
        {
          "output_type": "display_data",
          "data": {
            "text/plain": [
              "<Figure size 640x480 with 1 Axes>"
            ],
            "image/png": "[encoded data removed]"
          },
          "metadata": {}
        }
      ]
    },
    {
      "cell_type": "markdown",
      "source": [
        "**Plotting the training and validation accuracy**"
      ],
      "metadata": {
        "id": "bQ9Nsg3SMQ5M"
      }
    },
    {
      "cell_type": "code",
      "source": [
        "plt.clf()\n",
        "acc = history.history['accuracy']\n",
        "val_acc = history.history['val_accuracy']\n",
        "plt.plot(epochs, acc, 'bo', label='Training acc')\n",
        "plt.plot(epochs, val_acc, 'b', label='Validation acc')\n",
        "plt.title('Training and validation accuracy')\n",
        "plt.xlabel('Epochs')\n",
        "plt.ylabel('Loss')\n",
        "plt.legend()\n",
        "plt.show()"
      ],
      "metadata": {
        "colab": {
          "base_uri": "https://localhost:8080/",
          "height": 472
        },
        "id": "hKkFsj5XMa2T",
        "outputId": "6cf6b887-da94-4c1a-a4b7-1fffdfdd28da"
      },
      "execution_count": null,
      "outputs": [
        {
          "output_type": "display_data",
          "data": {
            "text/plain": [
              "<Figure size 640x480 with 1 Axes>"
            ],
            "image/png": "[encoded data removed]"
          },
          "metadata": {}
        }
      ]
    },
    {
      "cell_type": "markdown",
      "source": [
        "**Retraining a model from scratch**"
      ],
      "metadata": {
        "id": "2JG5C33pMqUP"
      }
    },
    {
      "cell_type": "code",
      "source": [
        "model = models.Sequential()\n",
        "model.add(layers.Dense(64, activation='relu', input_shape=(10000,)))\n",
        "model.add(layers.Dense(64, activation='relu'))\n",
        "model.add(layers.Dense(46, activation='softmax'))\n",
        "model.compile(optimizer='rmsprop',\n",
        "loss='categorical_crossentropy',\n",
        "metrics=['accuracy'])\n",
        "model.fit(partial_x_train,\n",
        "partial_y_train,\n",
        "epochs=9,\n",
        "batch_size=512,\n",
        "validation_data=(x_val, y_val))\n",
        "results = model.evaluate(x_test, one_hot_test_labels)"
      ],
      "metadata": {
        "colab": {
          "base_uri": "https://localhost:8080/"
        },
        "id": "KFRYTHnJMsnw",
        "outputId": "a61cbf0c-fb84-43ee-80bd-3e1bbb41183f"
      },
      "execution_count": null,
      "outputs": [
        {
          "output_type": "stream",
          "name": "stdout",
          "text": [
            "Epoch 1/9\n",
            "16/16 [==============================] - 2s 76ms/step - loss: 2.6451 - accuracy: 0.5040 - val_loss: 1.7562 - val_accuracy: 0.6220\n",
            "Epoch 2/9\n",
            "16/16 [==============================] - 1s 63ms/step - loss: 1.4939 - accuracy: 0.6807 - val_loss: 1.3643 - val_accuracy: 0.6930\n",
            "Epoch 3/9\n",
            "16/16 [==============================] - 1s 61ms/step - loss: 1.1561 - accuracy: 0.7477 - val_loss: 1.1883 - val_accuracy: 0.7360\n",
            "Epoch 4/9\n",
            "16/16 [==============================] - 1s 58ms/step - loss: 0.9615 - accuracy: 0.7894 - val_loss: 1.0856 - val_accuracy: 0.7680\n",
            "Epoch 5/9\n",
            "16/16 [==============================] - 1s 56ms/step - loss: 0.8044 - accuracy: 0.8252 - val_loss: 1.0383 - val_accuracy: 0.7690\n",
            "Epoch 6/9\n",
            "16/16 [==============================] - 1s 55ms/step - loss: 0.6778 - accuracy: 0.8500 - val_loss: 0.9682 - val_accuracy: 0.7990\n",
            "Epoch 7/9\n",
            "16/16 [==============================] - 1s 56ms/step - loss: 0.5658 - accuracy: 0.8780 - val_loss: 0.9588 - val_accuracy: 0.7920\n",
            "Epoch 8/9\n",
            "16/16 [==============================] - 1s 56ms/step - loss: 0.4778 - accuracy: 0.8990 - val_loss: 0.9541 - val_accuracy: 0.7890\n",
            "Epoch 9/9\n",
            "16/16 [==============================] - 1s 91ms/step - loss: 0.4050 - accuracy: 0.9153 - val_loss: 0.8948 - val_accuracy: 0.8140\n",
            "71/71 [==============================] - 0s 4ms/step - loss: 0.9643 - accuracy: 0.7841\n"
          ]
        }
      ]
    },
    {
      "cell_type": "markdown",
      "source": [
        "**Generating predictions for new data**"
      ],
      "metadata": {
        "id": "stEBtvsHNIn2"
      }
    },
    {
      "cell_type": "code",
      "source": [
        "predictions = model.predict(x_test)\n",
        "\n",
        "#Each entry in predictions is a vector of length 46\n",
        "print(predictions[0].shape)\n",
        "# The coefficients in this vector sum to 1:\n",
        "print(np.sum(predictions[0]))"
      ],
      "metadata": {
        "colab": {
          "base_uri": "https://localhost:8080/"
        },
        "id": "Bee9SMo1NN6V",
        "outputId": "124ac170-9e51-4921-f048-32ab8b712a74"
      },
      "execution_count": null,
      "outputs": [
        {
          "output_type": "stream",
          "name": "stdout",
          "text": [
            "71/71 [==============================] - 1s 10ms/step\n",
            "(46,)\n",
            "0.99999994\n"
          ]
        }
      ]
    },
    {
      "cell_type": "markdown",
      "source": [
        "**A model with an information bottleneck**"
      ],
      "metadata": {
        "id": "jDdS-Do2N3q1"
      }
    },
    {
      "cell_type": "code",
      "source": [
        "model = models.Sequential()\n",
        "model.add(layers.Dense(64, activation='relu', input_shape=(10000,)))\n",
        "model.add(layers.Dense(4, activation='relu'))\n",
        "model.add(layers.Dense(46, activation='softmax'))\n",
        "model.compile(optimizer='rmsprop',\n",
        "loss='categorical_crossentropy',\n",
        "metrics=['accuracy'])\n",
        "model.fit(partial_x_train,\n",
        "partial_y_train,\n",
        "epochs=20,\n",
        "batch_size=128,\n",
        "validation_data=(x_val, y_val))"
      ],
      "metadata": {
        "colab": {
          "base_uri": "https://localhost:8080/"
        },
        "id": "QLPCQrx5N8xn",
        "outputId": "05f8d759-e518-4bca-a5bf-1b61551b2606"
      },
      "execution_count": null,
      "outputs": [
        {
          "output_type": "stream",
          "name": "stdout",
          "text": [
            "Epoch 1/20\n",
            "63/63 [==============================] - 2s 25ms/step - loss: 2.5268 - accuracy: 0.5381 - val_loss: 1.7984 - val_accuracy: 0.5870\n",
            "Epoch 2/20\n",
            "63/63 [==============================] - 2s 33ms/step - loss: 1.6097 - accuracy: 0.5920 - val_loss: 1.5788 - val_accuracy: 0.5830\n",
            "Epoch 3/20\n",
            "63/63 [==============================] - 2s 26ms/step - loss: 1.3830 - accuracy: 0.6119 - val_loss: 1.4624 - val_accuracy: 0.6080\n",
            "Epoch 4/20\n",
            "63/63 [==============================] - 1s 21ms/step - loss: 1.2375 - accuracy: 0.6387 - val_loss: 1.4029 - val_accuracy: 0.6280\n",
            "Epoch 5/20\n",
            "63/63 [==============================] - 1s 20ms/step - loss: 1.1192 - accuracy: 0.6733 - val_loss: 1.3571 - val_accuracy: 0.6530\n",
            "Epoch 6/20\n",
            "63/63 [==============================] - 1s 20ms/step - loss: 1.0143 - accuracy: 0.7323 - val_loss: 1.3052 - val_accuracy: 0.7020\n",
            "Epoch 7/20\n",
            "63/63 [==============================] - 1s 20ms/step - loss: 0.9224 - accuracy: 0.7714 - val_loss: 1.2931 - val_accuracy: 0.7100\n",
            "Epoch 8/20\n",
            "63/63 [==============================] - 1s 19ms/step - loss: 0.8493 - accuracy: 0.7919 - val_loss: 1.3090 - val_accuracy: 0.7150\n",
            "Epoch 9/20\n",
            "63/63 [==============================] - 1s 20ms/step - loss: 0.7887 - accuracy: 0.8014 - val_loss: 1.3250 - val_accuracy: 0.7200\n",
            "Epoch 10/20\n",
            "63/63 [==============================] - 1s 20ms/step - loss: 0.7395 - accuracy: 0.8062 - val_loss: 1.3201 - val_accuracy: 0.7190\n",
            "Epoch 11/20\n",
            "63/63 [==============================] - 2s 30ms/step - loss: 0.6990 - accuracy: 0.8108 - val_loss: 1.3429 - val_accuracy: 0.7160\n",
            "Epoch 12/20\n",
            "63/63 [==============================] - 2s 29ms/step - loss: 0.6638 - accuracy: 0.8142 - val_loss: 1.3762 - val_accuracy: 0.7120\n",
            "Epoch 13/20\n",
            "63/63 [==============================] - 1s 20ms/step - loss: 0.6336 - accuracy: 0.8175 - val_loss: 1.3470 - val_accuracy: 0.7230\n",
            "Epoch 14/20\n",
            "63/63 [==============================] - 1s 19ms/step - loss: 0.6065 - accuracy: 0.8201 - val_loss: 1.4352 - val_accuracy: 0.7220\n",
            "Epoch 15/20\n",
            "63/63 [==============================] - 1s 19ms/step - loss: 0.5816 - accuracy: 0.8237 - val_loss: 1.4284 - val_accuracy: 0.7140\n",
            "Epoch 16/20\n",
            "63/63 [==============================] - 1s 19ms/step - loss: 0.5605 - accuracy: 0.8259 - val_loss: 1.4719 - val_accuracy: 0.7140\n",
            "Epoch 17/20\n",
            "63/63 [==============================] - 1s 19ms/step - loss: 0.5411 - accuracy: 0.8299 - val_loss: 1.4739 - val_accuracy: 0.7150\n",
            "Epoch 18/20\n",
            "63/63 [==============================] - 1s 21ms/step - loss: 0.5219 - accuracy: 0.8340 - val_loss: 1.5674 - val_accuracy: 0.7130\n",
            "Epoch 19/20\n",
            "63/63 [==============================] - 1s 20ms/step - loss: 0.5054 - accuracy: 0.8395 - val_loss: 1.5649 - val_accuracy: 0.7040\n",
            "Epoch 20/20\n",
            "63/63 [==============================] - 1s 22ms/step - loss: 0.4902 - accuracy: 0.8489 - val_loss: 1.5968 - val_accuracy: 0.7100\n"
          ]
        },
        {
          "output_type": "execute_result",
          "data": {
            "text/plain": [
              "<keras.callbacks.History at 0x7f63d4a7c4f0>"
            ]
          },
          "metadata": {},
          "execution_count": 69
        }
      ]
    },
    {
      "cell_type": "markdown",
      "source": [
        "# **Predicting house prices: a regression example**"
      ],
      "metadata": {
        "id": "X-yTeDN3PXJ4"
      }
    },
    {
      "cell_type": "markdown",
      "source": [
        "**Loading the Boston housing dataset**"
      ],
      "metadata": {
        "id": "gXaBWvFIYl69"
      }
    },
    {
      "cell_type": "code",
      "source": [
        "from keras.datasets import boston_housing\n",
        "(train_data, train_targets), (test_data, test_targets) = boston_housing.load_data()"
      ],
      "metadata": {
        "colab": {
          "base_uri": "https://localhost:8080/"
        },
        "id": "3mLi7Zg246jQ",
        "outputId": "8a9f67c4-48e7-4f57-a962-97aa57f6b3b0"
      },
      "execution_count": 1,
      "outputs": [
        {
          "output_type": "stream",
          "name": "stdout",
          "text": [
            "Downloading data from https://storage.googleapis.com/tensorflow/tf-keras-datasets/boston_housing.npz\n",
            "57026/57026 [==============================] - 0s 0us/step\n"
          ]
        }
      ]
    },
    {
      "cell_type": "markdown",
      "source": [
        "**Preparing the data: Normalizing the data**"
      ],
      "metadata": {
        "id": "dFTHef4G5EUl"
      }
    },
    {
      "cell_type": "code",
      "source": [
        "mean = train_data.mean(axis=0)\n",
        "train_data -= mean\n",
        "std = train_data.std(axis=0)\n",
        "train_data /= std\n",
        "test_data -= mean\n",
        "test_data /= std"
      ],
      "metadata": {
        "id": "rIb-1FY75pnU"
      },
      "execution_count": 2,
      "outputs": []
    },
    {
      "cell_type": "markdown",
      "source": [
        "**Building your network: model defination**"
      ],
      "metadata": {
        "id": "0yPBX6k-6Ci-"
      }
    },
    {
      "cell_type": "code",
      "source": [
        "from keras import models\n",
        "from keras import layers\n",
        "def build_model():\n",
        "  model = models.Sequential()\n",
        "  model.add(layers.Dense(64, activation='relu',\n",
        "  input_shape=(train_data.shape[1],)))\n",
        "  model.add(layers.Dense(64, activation='relu'))\n",
        "  model.add(layers.Dense(1))\n",
        "  model.compile(optimizer='rmsprop', loss='mse', metrics=['mae'])\n",
        "  return model"
      ],
      "metadata": {
        "id": "bf7Bqwrg77ai"
      },
      "execution_count": 4,
      "outputs": []
    },
    {
      "cell_type": "markdown",
      "source": [
        "**Validating your approach using K-fold validation**\n"
      ],
      "metadata": {
        "id": "JJpIOSqM8hwU"
      }
    },
    {
      "cell_type": "code",
      "source": [
        "import numpy as np\n",
        "k=4\n",
        "num_val_samples = len(train_data) // k\n",
        "num_epochs = 100\n",
        "\n",
        "all_scores = []\n",
        "for i in range(k):\n",
        "  print('processing fold #', i)\n",
        "  val_data = train_data[i * num_val_samples: (i + 1) * num_val_samples]\n",
        "  val_targets = train_targets[i * num_val_samples: (i + 1) * num_val_samples]\n",
        "  partial_train_data = np.concatenate(\n",
        "      [train_data[:i * num_val_samples],\n",
        "      train_data[(i + 1) * num_val_samples:]],\n",
        "      axis=0)\n",
        "  partial_train_targets = np.concatenate(\n",
        "      [train_targets[:i * num_val_samples],\n",
        "      train_targets[(i + 1) * num_val_samples:]],\n",
        "      axis=0)\n",
        "  model = build_model()\n",
        "\n",
        "  model.fit(partial_train_data, partial_train_targets,\n",
        "            epochs=num_epochs, batch_size=1, verbose=0)\n",
        "  \n",
        "\n",
        "  val_mse, val_mae = model.evaluate(val_data, val_targets, verbose=0)\n",
        "  all_scores.append(val_mae)"
      ],
      "metadata": {
        "colab": {
          "base_uri": "https://localhost:8080/"
        },
        "id": "IcoMCGdp8qwZ",
        "outputId": "18c63ad1-6a85-4282-d75d-143922cd55c8"
      },
      "execution_count": 6,
      "outputs": [
        {
          "output_type": "stream",
          "name": "stdout",
          "text": [
            "processing fold # 0\n",
            "processing fold # 1\n",
            "processing fold # 2\n",
            "processing fold # 3\n"
          ]
        }
      ]
    },
    {
      "cell_type": "code",
      "source": [
        "print(all_scores)\n",
        "print(np.mean(all_scores))\n",
        "#Running this with num_epochs = 100 yields the following results:"
      ],
      "metadata": {
        "colab": {
          "base_uri": "https://localhost:8080/"
        },
        "id": "R2I9152j-ZZK",
        "outputId": "583e3b71-eb25-4e7a-d6db-64db602b11c0"
      },
      "execution_count": 8,
      "outputs": [
        {
          "output_type": "stream",
          "name": "stdout",
          "text": [
            "[2.2484688758850098, 2.452547073364258, 2.4615559577941895, 2.6099464893341064]\n",
            "2.443129599094391\n"
          ]
        }
      ]
    },
    {
      "cell_type": "markdown",
      "source": [
        "**Saving the validation logs at each fold**"
      ],
      "metadata": {
        "id": "pvi6iU4o_ElP"
      }
    },
    {
      "cell_type": "code",
      "source": [
        "num_epochs = 500\n",
        "all_mae_histories = []\n",
        "for i in range(k):\n",
        "  print('processing fold #', i)\n",
        "\n",
        "  #Prepares the validation data: data from partition #k\n",
        "  val_data = train_data[i * num_val_samples: (i + 1) * num_val_samples]\n",
        "  val_targets = train_targets[i * num_val_samples: (i + 1) * num_val_samples]\n",
        "\n",
        "  # Prepares the training data: data from all other partitions\n",
        "  partial_train_data = np.concatenate(\n",
        "      [train_data[:i * num_val_samples],\n",
        "       train_data[(i + 1) * num_val_samples:]],\n",
        "      axis=0)\n",
        "  \n",
        "  partial_train_targets = np.concatenate(\n",
        "      [train_targets[:i * num_val_samples],\n",
        "      train_targets[(i + 1) * num_val_samples:]],\n",
        "      axis=0)\n",
        "  \n",
        "  # Builds the Keras model (already compiled)\n",
        "  model = build_model()\n",
        "\n",
        "  # Trains the model (in silent mode, verbose=0)\n",
        "  history = model.fit(partial_train_data, partial_train_targets,\n",
        "                      validation_data=(val_data, val_targets),\n",
        "                      epochs=num_epochs, batch_size=1, verbose=0)\n",
        "  print(history.history.keys())\n",
        "  mae_history = history.history['val_mae']\n",
        "  all_mae_histories.append(mae_history)"
      ],
      "metadata": {
        "colab": {
          "base_uri": "https://localhost:8080/"
        },
        "id": "OrN4Ss8D_O0K",
        "outputId": "375a5d1f-15c0-43d0-f109-47f9c5adf233"
      },
      "execution_count": 12,
      "outputs": [
        {
          "output_type": "stream",
          "name": "stdout",
          "text": [
            "processing fold # 0\n",
            "dict_keys(['loss', 'mae', 'val_loss', 'val_mae'])\n",
            "processing fold # 1\n",
            "dict_keys(['loss', 'mae', 'val_loss', 'val_mae'])\n",
            "processing fold # 2\n",
            "dict_keys(['loss', 'mae', 'val_loss', 'val_mae'])\n",
            "processing fold # 3\n",
            "dict_keys(['loss', 'mae', 'val_loss', 'val_mae'])\n"
          ]
        }
      ]
    },
    {
      "cell_type": "markdown",
      "source": [
        "**Building the history of successive mean K-fold validation scores**"
      ],
      "metadata": {
        "id": "AjWbfDsfBDF0"
      }
    },
    {
      "cell_type": "code",
      "source": [
        "average_mae_history = [\n",
        "np.mean([x[i] for x in all_mae_histories]) for i in range(num_epochs)]"
      ],
      "metadata": {
        "id": "fo3x0nRuBJVb"
      },
      "execution_count": 13,
      "outputs": []
    },
    {
      "cell_type": "markdown",
      "source": [
        "** Plotting validation scores**"
      ],
      "metadata": {
        "id": "wJp-miZfBNDy"
      }
    },
    {
      "cell_type": "code",
      "source": [
        "import matplotlib.pyplot as plt\n",
        "plt.plot(range(1, len(average_mae_history) + 1), average_mae_history)\n",
        "plt.xlabel('Epochs')\n",
        "plt.ylabel('Validation MAE')\n",
        "plt.show()"
      ],
      "metadata": {
        "colab": {
          "base_uri": "https://localhost:8080/",
          "height": 449
        },
        "id": "ftZAOlnsBS12",
        "outputId": "ca99ee19-fcae-42c3-b920-01d9a23f2b45"
      },
      "execution_count": 14,
      "outputs": [
        {
          "output_type": "display_data",
          "data": {
            "text/plain": [
              "<Figure size 640x480 with 1 Axes>"
            ],
            "image/png": "[encoded data removed]"
          },
          "metadata": {}
        }
      ]
    },
    {
      "cell_type": "markdown",
      "source": [
        "**Plotting validation scores, excluding the first 10 data points**"
      ],
      "metadata": {
        "id": "mDBwArYuDtQP"
      }
    },
    {
      "cell_type": "code",
      "source": [
        "def smooth_curve(points, factor=0.9):\n",
        "  smoothed_points = []\n",
        "  for point in points:\n",
        "    if smoothed_points:\n",
        "      previous = smoothed_points[-1]\n",
        "      smoothed_points.append(previous * factor + point * (1 - factor))\n",
        "    else:\n",
        "      smoothed_points.append(point)\n",
        "  return smoothed_points\n",
        "smooth_mae_history = smooth_curve(average_mae_history[10:])\n",
        "plt.plot(range(1, len(smooth_mae_history) + 1), smooth_mae_history)\n",
        "plt.xlabel('Epochs')\n",
        "plt.ylabel('Validation MAE')\n",
        "plt.show()"
      ],
      "metadata": {
        "colab": {
          "base_uri": "https://localhost:8080/",
          "height": 449
        },
        "id": "99cCNWL1DyYZ",
        "outputId": "79e4a241-0ea6-4e2e-cdd7-8fe18f86dc08"
      },
      "execution_count": 15,
      "outputs": [
        {
          "output_type": "display_data",
          "data": {
            "text/plain": [
              "<Figure size 640x480 with 1 Axes>"
            ],
            "image/png": "[encoded data removed]"
          },
          "metadata": {}
        }
      ]
    },
    {
      "cell_type": "markdown",
      "source": [
        "**Training the final model**"
      ],
      "metadata": {
        "id": "AYUx4nxJEQJy"
      }
    },
    {
      "cell_type": "code",
      "source": [
        "model = build_model()\n",
        "model.fit(train_data, train_targets,\n",
        "          epochs=80, batch_size=16, verbose=0)\n",
        "test_mse_score, test_mae_score = model.evaluate(test_data, test_targets)"
      ],
      "metadata": {
        "colab": {
          "base_uri": "https://localhost:8080/"
        },
        "id": "MiheR1nLEWVn",
        "outputId": "aefabf23-a27c-4573-a8b4-9f18422e1b66"
      },
      "execution_count": 16,
      "outputs": [
        {
          "output_type": "stream",
          "name": "stdout",
          "text": [
            "4/4 [==============================] - 0s 2ms/step - loss: 18.2363 - mae: 2.6947\n"
          ]
        }
      ]
    },
    {
      "cell_type": "code",
      "source": [
        "test_mae_score"
      ],
      "metadata": {
        "colab": {
          "base_uri": "https://localhost:8080/"
        },
        "id": "o3ct7qVOEeG5",
        "outputId": "4f14d0f4-5835-4cb2-a103-280780c5a243"
      },
      "execution_count": 17,
      "outputs": [
        {
          "output_type": "execute_result",
          "data": {
            "text/plain": [
              "2.694711685180664"
            ]
          },
          "metadata": {},
          "execution_count": 17
        }
      ]
    }
  ]
}