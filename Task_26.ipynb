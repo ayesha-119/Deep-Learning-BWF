{
  "nbformat": 4,
  "nbformat_minor": 0,
  "metadata": {
    "colab": {
      "provenance": [],
      "authorship_tag": "ABX9TyPJutgy5pg6DW8QqyGU8J6J",
      "include_colab_link": true
    },
    "kernelspec": {
      "name": "python3",
      "display_name": "Python 3"
    },
    "language_info": {
      "name": "python"
    }
  },
  "cells": [
    {
      "cell_type": "markdown",
      "metadata": {
        "id": "view-in-github",
        "colab_type": "text"
      },
      "source": [
        "<a href=\"https://colab.research.google.com/github/ayesha-119/Deep-Learning-BWF/blob/master/Task_26.ipynb\" target=\"_parent\"><img src=\"https://colab.research.google.com/assets/colab-badge.svg\" alt=\"Open In Colab\"/></a>"
      ]
    },
    {
      "cell_type": "markdown",
      "source": [
        "# **🔴 Task 26**\n",
        "\n",
        "**Topics: Understanding Optimizers, Last-layer Activations, Loss Functions and Evaluation Metrics**\n",
        "\n",
        "Resource: https://drive.google.com/file/d/1i9dPxM_1M4HYN5bYxFcuklC1vM0GrOCq/view?usp=share_link"
      ],
      "metadata": {
        "id": "uA1lMcXUL0aH"
      }
    },
    {
      "cell_type": "markdown",
      "source": [
        "# **Optimizers:**\n",
        "*   Optimizers are algorithms that adjust the weights and biases of a neural network during training to minimize the loss function.\n",
        "*   Different optimizers, such as Stochastic Gradient Descent (SGD), Adam, RMSprop, etc., have different update rules and convergence properties.\n",
        "*   Optimizers use gradients computed during backpropagation to update the model's parameters.\n",
        "*   Learning rate, momentum, and other hyperparameters can be tuned to improve optimizer performance.\n",
        "\n",
        "# **Last-layer Activations:**\n",
        "*   The activation function applied to the last layer of a neural network determines the output format and the type of problem the model can solve.\n",
        "*   For binary classification problems, sigmoid activation (e.g., sigmoid function) is commonly used to obtain a probability output between 0 and 1.\n",
        "\n",
        "*   For multi-class classification problems, softmax activation is used to obtain a probability distribution over multiple classes.\n",
        "*   For regression tasks, linear activation or a suitable activation function based on the output range can be used.\n",
        "# **Loss Functions:**\n",
        "*   Loss functions quantify the model's performance by measuring the difference between predicted outputs and the true labels.\n",
        "\n",
        "*   Different loss functions are used depending on the task at hand, such as    binary cross-entropy for binary classification, categorical cross-entropy for multi-class classification, mean squared error for regression, etc.\n",
        "*   The choice of loss function depends on the problem, output format, and activation function used in the last layer.\n",
        "# **Evaluation Metrics:**\n",
        "*   Evaluation metrics are used to assess the performance of a trained model on a validation or test dataset.\n",
        "\n",
        "*   Common evaluation metrics include accuracy, precision, recall, F1 score, mean squared error, etc.\n",
        "*   The choice of evaluation metric depends on the problem and the desired performance measure.\n",
        "\n",
        "*   It is important to consider the context and requirements of the specific task when selecting an evaluation metric.\n",
        "\n",
        "\n",
        "\n",
        "\n",
        "\n",
        "\n"
      ],
      "metadata": {
        "id": "f4kaUP8MPg2B"
      }
    }
  ]
}